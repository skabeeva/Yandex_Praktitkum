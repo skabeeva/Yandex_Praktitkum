{
 "cells": [
  {
   "cell_type": "markdown",
   "metadata": {},
   "source": [
    "# Проверка гипотез для увеличения выручки интернет-магазина"
   ]
  },
  {
   "cell_type": "markdown",
   "metadata": {},
   "source": [
    "## Описание данных"
   ]
  },
  {
   "cell_type": "markdown",
   "metadata": {},
   "source": [
    "Для работы нам доступно три датасета:\n",
    "1) Файл `/datasets/hypothesis.csv`\n",
    " - `Hypothesis` — краткое описание гипотезы;\n",
    " - `Reach` — охват пользователей по 10-балльной шкале;\n",
    " - `Impact` — влияние на пользователей по 10-балльной шкале;\n",
    " - `Confidence` — уверенность в гипотезе по 10-балльной шкале;\n",
    " - `Efforts` — затраты ресурсов на проверку гипотезы по 10-балльной шкале. Чем больше значение Efforts, тем дороже проверка гипотезы.\n",
    " \n",
    "Он содержит 9 гипотез по увеличению выручки интернет-магазина с вышеуказанными параметрами.\n",
    "Для приоритезации гипотез используем фреймворк `ICE`, а так же фреймворк `RICE`, и выясним причину отличия в результатах.\n",
    " \n",
    "2) Файл `/datasets/orders.csv`\n",
    " - `transactionId` — идентификатор заказа;\n",
    " - `visitorId` — идентификатор пользователя, совершившего заказ;\n",
    " - `date` — дата, когда был совершён заказ;\n",
    " - `revenue` — выручка заказа;\n",
    " - `group` — группа A/B-теста, в которую попал заказ.\n",
    "\n",
    "3) Файл `/datasets/visitors.csv`\n",
    " - `date` — дата;\n",
    " - `group` — группа A/B-теста;\n",
    " - `visitors` — количество пользователей в указанную дату в указанной группе A/B-теста.\n",
    " \n",
    " В данных файлах содержатся результаты проведенного ранее A/B-теста.\n",
    " \n",
    "Для анализа и принятие решения по результатам теста будет необходимо построить множество графиков, таких как:\n",
    " - График кумулятивной выручки и кумулятивного среднего чека по группам;\n",
    " - График относительного изменения кумулятивного среднего чека группы B к группе A;\n",
    " - График кумулятивного среднего количества заказов на посетителя по группам;\n",
    " - График относительного изменения кумулятивного среднего количества заказов на посетителя группы B к группе A;\n",
    " - Точечный график количества заказов по пользователям;\n",
    " - Точечный график стоимостей заказов.\n",
    " \n",
    "Так же будет произведен расчет 95-го и 99-го перцентилей количества заказов на пользователя и стоимости заказов.\n",
    "Завершит анализ просчет статистической значимости различий в среднем количестве заказов на посетителя и чеке заказа между группами по «сырым» данным, а затем те же самые показатели по \"очищенным данным\".\n",
    "\n",
    "На основе полученных выводов можно будет принять окончательное решение по результатам теста, например:\n",
    "- Остановить тест, зафиксировать победу одной из групп.\n",
    "- Остановить тест, зафиксировать отсутствие различий между группами.\n",
    "- Продолжить тест."
   ]
  },
  {
   "cell_type": "markdown",
   "metadata": {},
   "source": [
    "## Предобработка данных"
   ]
  },
  {
   "cell_type": "markdown",
   "metadata": {},
   "source": [
    "Перед началом работы загрузим необходимые для работы библиотеки:"
   ]
  },
  {
   "cell_type": "code",
   "execution_count": 1,
   "metadata": {},
   "outputs": [],
   "source": [
    "import pandas as pd\n",
    "import scipy.stats as stats\n",
    "import datetime as dt\n",
    "import numpy as np\n",
    "from matplotlib import pyplot as plt\n",
    "from pandas.plotting import register_matplotlib_converters\n",
    "import warnings\n",
    "register_matplotlib_converters()"
   ]
  },
  {
   "cell_type": "markdown",
   "metadata": {},
   "source": [
    "А так же загрузим данные из csv-файлов в датафреймы, сохраним в переменные hypothesis, orders, visitors и изучим первые 10 строк каждой таблицы:"
   ]
  },
  {
   "cell_type": "code",
   "execution_count": 2,
   "metadata": {},
   "outputs": [],
   "source": [
    "hypothesis, orders, visitors = ( #читаем csv-файлы и сохраняем в переменные с данными\n",
    "    pd.read_csv('/datasets/hypothesis.csv'),  #журнала гипотез\n",
    "    pd.read_csv('/datasets/orders.csv'),  #заказов\n",
    "    pd.read_csv('/datasets/visitors.csv'))   #пользователей"
   ]
  },
  {
   "cell_type": "code",
   "execution_count": 3,
   "metadata": {
    "scrolled": false
   },
   "outputs": [
    {
     "data": {
      "text/html": [
       "<div>\n",
       "<style scoped>\n",
       "    .dataframe tbody tr th:only-of-type {\n",
       "        vertical-align: middle;\n",
       "    }\n",
       "\n",
       "    .dataframe tbody tr th {\n",
       "        vertical-align: top;\n",
       "    }\n",
       "\n",
       "    .dataframe thead th {\n",
       "        text-align: right;\n",
       "    }\n",
       "</style>\n",
       "<table border=\"1\" class=\"dataframe\">\n",
       "  <thead>\n",
       "    <tr style=\"text-align: right;\">\n",
       "      <th></th>\n",
       "      <th>Hypothesis</th>\n",
       "      <th>Reach</th>\n",
       "      <th>Impact</th>\n",
       "      <th>Confidence</th>\n",
       "      <th>Efforts</th>\n",
       "    </tr>\n",
       "  </thead>\n",
       "  <tbody>\n",
       "    <tr>\n",
       "      <th>0</th>\n",
       "      <td>Добавить два новых канала привлечения трафика,...</td>\n",
       "      <td>3</td>\n",
       "      <td>10</td>\n",
       "      <td>8</td>\n",
       "      <td>6</td>\n",
       "    </tr>\n",
       "    <tr>\n",
       "      <th>1</th>\n",
       "      <td>Запустить собственную службу доставки, что сок...</td>\n",
       "      <td>2</td>\n",
       "      <td>5</td>\n",
       "      <td>4</td>\n",
       "      <td>10</td>\n",
       "    </tr>\n",
       "    <tr>\n",
       "      <th>2</th>\n",
       "      <td>Добавить блоки рекомендаций товаров на сайт ин...</td>\n",
       "      <td>8</td>\n",
       "      <td>3</td>\n",
       "      <td>7</td>\n",
       "      <td>3</td>\n",
       "    </tr>\n",
       "    <tr>\n",
       "      <th>3</th>\n",
       "      <td>Изменить структура категорий, что увеличит кон...</td>\n",
       "      <td>8</td>\n",
       "      <td>3</td>\n",
       "      <td>3</td>\n",
       "      <td>8</td>\n",
       "    </tr>\n",
       "    <tr>\n",
       "      <th>4</th>\n",
       "      <td>Изменить цвет фона главной страницы, чтобы уве...</td>\n",
       "      <td>3</td>\n",
       "      <td>1</td>\n",
       "      <td>1</td>\n",
       "      <td>1</td>\n",
       "    </tr>\n",
       "    <tr>\n",
       "      <th>5</th>\n",
       "      <td>Добавить страницу отзывов клиентов о магазине,...</td>\n",
       "      <td>3</td>\n",
       "      <td>2</td>\n",
       "      <td>2</td>\n",
       "      <td>3</td>\n",
       "    </tr>\n",
       "    <tr>\n",
       "      <th>6</th>\n",
       "      <td>Показать на главной странице баннеры с актуаль...</td>\n",
       "      <td>5</td>\n",
       "      <td>3</td>\n",
       "      <td>8</td>\n",
       "      <td>3</td>\n",
       "    </tr>\n",
       "    <tr>\n",
       "      <th>7</th>\n",
       "      <td>Добавить форму подписки на все основные страни...</td>\n",
       "      <td>10</td>\n",
       "      <td>7</td>\n",
       "      <td>8</td>\n",
       "      <td>5</td>\n",
       "    </tr>\n",
       "    <tr>\n",
       "      <th>8</th>\n",
       "      <td>Запустить акцию, дающую скидку на товар в день...</td>\n",
       "      <td>1</td>\n",
       "      <td>9</td>\n",
       "      <td>9</td>\n",
       "      <td>5</td>\n",
       "    </tr>\n",
       "  </tbody>\n",
       "</table>\n",
       "</div>"
      ],
      "text/plain": [
       "                                          Hypothesis  Reach  Impact  \\\n",
       "0  Добавить два новых канала привлечения трафика,...      3      10   \n",
       "1  Запустить собственную службу доставки, что сок...      2       5   \n",
       "2  Добавить блоки рекомендаций товаров на сайт ин...      8       3   \n",
       "3  Изменить структура категорий, что увеличит кон...      8       3   \n",
       "4  Изменить цвет фона главной страницы, чтобы уве...      3       1   \n",
       "5  Добавить страницу отзывов клиентов о магазине,...      3       2   \n",
       "6  Показать на главной странице баннеры с актуаль...      5       3   \n",
       "7  Добавить форму подписки на все основные страни...     10       7   \n",
       "8  Запустить акцию, дающую скидку на товар в день...      1       9   \n",
       "\n",
       "   Confidence  Efforts  \n",
       "0           8        6  \n",
       "1           4       10  \n",
       "2           7        3  \n",
       "3           3        8  \n",
       "4           1        1  \n",
       "5           2        3  \n",
       "6           8        3  \n",
       "7           8        5  \n",
       "8           9        5  "
      ]
     },
     "metadata": {},
     "output_type": "display_data"
    },
    {
     "data": {
      "text/html": [
       "<div>\n",
       "<style scoped>\n",
       "    .dataframe tbody tr th:only-of-type {\n",
       "        vertical-align: middle;\n",
       "    }\n",
       "\n",
       "    .dataframe tbody tr th {\n",
       "        vertical-align: top;\n",
       "    }\n",
       "\n",
       "    .dataframe thead th {\n",
       "        text-align: right;\n",
       "    }\n",
       "</style>\n",
       "<table border=\"1\" class=\"dataframe\">\n",
       "  <thead>\n",
       "    <tr style=\"text-align: right;\">\n",
       "      <th></th>\n",
       "      <th>transactionId</th>\n",
       "      <th>visitorId</th>\n",
       "      <th>date</th>\n",
       "      <th>revenue</th>\n",
       "      <th>group</th>\n",
       "    </tr>\n",
       "  </thead>\n",
       "  <tbody>\n",
       "    <tr>\n",
       "      <th>0</th>\n",
       "      <td>3667963787</td>\n",
       "      <td>3312258926</td>\n",
       "      <td>2019-08-15</td>\n",
       "      <td>1650</td>\n",
       "      <td>B</td>\n",
       "    </tr>\n",
       "    <tr>\n",
       "      <th>1</th>\n",
       "      <td>2804400009</td>\n",
       "      <td>3642806036</td>\n",
       "      <td>2019-08-15</td>\n",
       "      <td>730</td>\n",
       "      <td>B</td>\n",
       "    </tr>\n",
       "    <tr>\n",
       "      <th>2</th>\n",
       "      <td>2961555356</td>\n",
       "      <td>4069496402</td>\n",
       "      <td>2019-08-15</td>\n",
       "      <td>400</td>\n",
       "      <td>A</td>\n",
       "    </tr>\n",
       "    <tr>\n",
       "      <th>3</th>\n",
       "      <td>3797467345</td>\n",
       "      <td>1196621759</td>\n",
       "      <td>2019-08-15</td>\n",
       "      <td>9759</td>\n",
       "      <td>B</td>\n",
       "    </tr>\n",
       "    <tr>\n",
       "      <th>4</th>\n",
       "      <td>2282983706</td>\n",
       "      <td>2322279887</td>\n",
       "      <td>2019-08-15</td>\n",
       "      <td>2308</td>\n",
       "      <td>B</td>\n",
       "    </tr>\n",
       "    <tr>\n",
       "      <th>5</th>\n",
       "      <td>182168103</td>\n",
       "      <td>935554773</td>\n",
       "      <td>2019-08-15</td>\n",
       "      <td>2210</td>\n",
       "      <td>B</td>\n",
       "    </tr>\n",
       "    <tr>\n",
       "      <th>6</th>\n",
       "      <td>398296753</td>\n",
       "      <td>2900797465</td>\n",
       "      <td>2019-08-15</td>\n",
       "      <td>1860</td>\n",
       "      <td>B</td>\n",
       "    </tr>\n",
       "    <tr>\n",
       "      <th>7</th>\n",
       "      <td>2626614568</td>\n",
       "      <td>78758296</td>\n",
       "      <td>2019-08-15</td>\n",
       "      <td>1044</td>\n",
       "      <td>A</td>\n",
       "    </tr>\n",
       "    <tr>\n",
       "      <th>8</th>\n",
       "      <td>1576988021</td>\n",
       "      <td>295230930</td>\n",
       "      <td>2019-08-15</td>\n",
       "      <td>13710</td>\n",
       "      <td>A</td>\n",
       "    </tr>\n",
       "    <tr>\n",
       "      <th>9</th>\n",
       "      <td>1506739906</td>\n",
       "      <td>1882260405</td>\n",
       "      <td>2019-08-15</td>\n",
       "      <td>1855</td>\n",
       "      <td>B</td>\n",
       "    </tr>\n",
       "  </tbody>\n",
       "</table>\n",
       "</div>"
      ],
      "text/plain": [
       "   transactionId   visitorId        date  revenue group\n",
       "0     3667963787  3312258926  2019-08-15     1650     B\n",
       "1     2804400009  3642806036  2019-08-15      730     B\n",
       "2     2961555356  4069496402  2019-08-15      400     A\n",
       "3     3797467345  1196621759  2019-08-15     9759     B\n",
       "4     2282983706  2322279887  2019-08-15     2308     B\n",
       "5      182168103   935554773  2019-08-15     2210     B\n",
       "6      398296753  2900797465  2019-08-15     1860     B\n",
       "7     2626614568    78758296  2019-08-15     1044     A\n",
       "8     1576988021   295230930  2019-08-15    13710     A\n",
       "9     1506739906  1882260405  2019-08-15     1855     B"
      ]
     },
     "metadata": {},
     "output_type": "display_data"
    },
    {
     "data": {
      "text/html": [
       "<div>\n",
       "<style scoped>\n",
       "    .dataframe tbody tr th:only-of-type {\n",
       "        vertical-align: middle;\n",
       "    }\n",
       "\n",
       "    .dataframe tbody tr th {\n",
       "        vertical-align: top;\n",
       "    }\n",
       "\n",
       "    .dataframe thead th {\n",
       "        text-align: right;\n",
       "    }\n",
       "</style>\n",
       "<table border=\"1\" class=\"dataframe\">\n",
       "  <thead>\n",
       "    <tr style=\"text-align: right;\">\n",
       "      <th></th>\n",
       "      <th>date</th>\n",
       "      <th>group</th>\n",
       "      <th>visitors</th>\n",
       "    </tr>\n",
       "  </thead>\n",
       "  <tbody>\n",
       "    <tr>\n",
       "      <th>0</th>\n",
       "      <td>2019-08-01</td>\n",
       "      <td>A</td>\n",
       "      <td>719</td>\n",
       "    </tr>\n",
       "    <tr>\n",
       "      <th>1</th>\n",
       "      <td>2019-08-02</td>\n",
       "      <td>A</td>\n",
       "      <td>619</td>\n",
       "    </tr>\n",
       "    <tr>\n",
       "      <th>2</th>\n",
       "      <td>2019-08-03</td>\n",
       "      <td>A</td>\n",
       "      <td>507</td>\n",
       "    </tr>\n",
       "    <tr>\n",
       "      <th>3</th>\n",
       "      <td>2019-08-04</td>\n",
       "      <td>A</td>\n",
       "      <td>717</td>\n",
       "    </tr>\n",
       "    <tr>\n",
       "      <th>4</th>\n",
       "      <td>2019-08-05</td>\n",
       "      <td>A</td>\n",
       "      <td>756</td>\n",
       "    </tr>\n",
       "    <tr>\n",
       "      <th>5</th>\n",
       "      <td>2019-08-06</td>\n",
       "      <td>A</td>\n",
       "      <td>667</td>\n",
       "    </tr>\n",
       "    <tr>\n",
       "      <th>6</th>\n",
       "      <td>2019-08-07</td>\n",
       "      <td>A</td>\n",
       "      <td>644</td>\n",
       "    </tr>\n",
       "    <tr>\n",
       "      <th>7</th>\n",
       "      <td>2019-08-08</td>\n",
       "      <td>A</td>\n",
       "      <td>610</td>\n",
       "    </tr>\n",
       "    <tr>\n",
       "      <th>8</th>\n",
       "      <td>2019-08-09</td>\n",
       "      <td>A</td>\n",
       "      <td>617</td>\n",
       "    </tr>\n",
       "    <tr>\n",
       "      <th>9</th>\n",
       "      <td>2019-08-10</td>\n",
       "      <td>A</td>\n",
       "      <td>406</td>\n",
       "    </tr>\n",
       "  </tbody>\n",
       "</table>\n",
       "</div>"
      ],
      "text/plain": [
       "         date group  visitors\n",
       "0  2019-08-01     A       719\n",
       "1  2019-08-02     A       619\n",
       "2  2019-08-03     A       507\n",
       "3  2019-08-04     A       717\n",
       "4  2019-08-05     A       756\n",
       "5  2019-08-06     A       667\n",
       "6  2019-08-07     A       644\n",
       "7  2019-08-08     A       610\n",
       "8  2019-08-09     A       617\n",
       "9  2019-08-10     A       406"
      ]
     },
     "execution_count": 3,
     "metadata": {},
     "output_type": "execute_result"
    }
   ],
   "source": [
    "display(hypothesis.head(10))\n",
    "display(orders.head(10))\n",
    "visitors.head(10)\n",
    "#выведем первые 10 значений"
   ]
  },
  {
   "cell_type": "markdown",
   "metadata": {},
   "source": [
    "Видим, что название колонок первых двух датасетов заведены не соответсвующе змеиному регистру, исправим это:"
   ]
  },
  {
   "cell_type": "code",
   "execution_count": 4,
   "metadata": {},
   "outputs": [
    {
     "data": {
      "text/html": [
       "<div>\n",
       "<style scoped>\n",
       "    .dataframe tbody tr th:only-of-type {\n",
       "        vertical-align: middle;\n",
       "    }\n",
       "\n",
       "    .dataframe tbody tr th {\n",
       "        vertical-align: top;\n",
       "    }\n",
       "\n",
       "    .dataframe thead th {\n",
       "        text-align: right;\n",
       "    }\n",
       "</style>\n",
       "<table border=\"1\" class=\"dataframe\">\n",
       "  <thead>\n",
       "    <tr style=\"text-align: right;\">\n",
       "      <th></th>\n",
       "      <th>hypothesis</th>\n",
       "      <th>reach</th>\n",
       "      <th>impact</th>\n",
       "      <th>confidence</th>\n",
       "      <th>efforts</th>\n",
       "    </tr>\n",
       "  </thead>\n",
       "  <tbody>\n",
       "    <tr>\n",
       "      <th>0</th>\n",
       "      <td>Добавить два новых канала привлечения трафика,...</td>\n",
       "      <td>3</td>\n",
       "      <td>10</td>\n",
       "      <td>8</td>\n",
       "      <td>6</td>\n",
       "    </tr>\n",
       "    <tr>\n",
       "      <th>1</th>\n",
       "      <td>Запустить собственную службу доставки, что сок...</td>\n",
       "      <td>2</td>\n",
       "      <td>5</td>\n",
       "      <td>4</td>\n",
       "      <td>10</td>\n",
       "    </tr>\n",
       "    <tr>\n",
       "      <th>2</th>\n",
       "      <td>Добавить блоки рекомендаций товаров на сайт ин...</td>\n",
       "      <td>8</td>\n",
       "      <td>3</td>\n",
       "      <td>7</td>\n",
       "      <td>3</td>\n",
       "    </tr>\n",
       "    <tr>\n",
       "      <th>3</th>\n",
       "      <td>Изменить структура категорий, что увеличит кон...</td>\n",
       "      <td>8</td>\n",
       "      <td>3</td>\n",
       "      <td>3</td>\n",
       "      <td>8</td>\n",
       "    </tr>\n",
       "    <tr>\n",
       "      <th>4</th>\n",
       "      <td>Изменить цвет фона главной страницы, чтобы уве...</td>\n",
       "      <td>3</td>\n",
       "      <td>1</td>\n",
       "      <td>1</td>\n",
       "      <td>1</td>\n",
       "    </tr>\n",
       "    <tr>\n",
       "      <th>5</th>\n",
       "      <td>Добавить страницу отзывов клиентов о магазине,...</td>\n",
       "      <td>3</td>\n",
       "      <td>2</td>\n",
       "      <td>2</td>\n",
       "      <td>3</td>\n",
       "    </tr>\n",
       "    <tr>\n",
       "      <th>6</th>\n",
       "      <td>Показать на главной странице баннеры с актуаль...</td>\n",
       "      <td>5</td>\n",
       "      <td>3</td>\n",
       "      <td>8</td>\n",
       "      <td>3</td>\n",
       "    </tr>\n",
       "    <tr>\n",
       "      <th>7</th>\n",
       "      <td>Добавить форму подписки на все основные страни...</td>\n",
       "      <td>10</td>\n",
       "      <td>7</td>\n",
       "      <td>8</td>\n",
       "      <td>5</td>\n",
       "    </tr>\n",
       "    <tr>\n",
       "      <th>8</th>\n",
       "      <td>Запустить акцию, дающую скидку на товар в день...</td>\n",
       "      <td>1</td>\n",
       "      <td>9</td>\n",
       "      <td>9</td>\n",
       "      <td>5</td>\n",
       "    </tr>\n",
       "  </tbody>\n",
       "</table>\n",
       "</div>"
      ],
      "text/plain": [
       "                                          hypothesis  reach  impact  \\\n",
       "0  Добавить два новых канала привлечения трафика,...      3      10   \n",
       "1  Запустить собственную службу доставки, что сок...      2       5   \n",
       "2  Добавить блоки рекомендаций товаров на сайт ин...      8       3   \n",
       "3  Изменить структура категорий, что увеличит кон...      8       3   \n",
       "4  Изменить цвет фона главной страницы, чтобы уве...      3       1   \n",
       "5  Добавить страницу отзывов клиентов о магазине,...      3       2   \n",
       "6  Показать на главной странице баннеры с актуаль...      5       3   \n",
       "7  Добавить форму подписки на все основные страни...     10       7   \n",
       "8  Запустить акцию, дающую скидку на товар в день...      1       9   \n",
       "\n",
       "   confidence  efforts  \n",
       "0           8        6  \n",
       "1           4       10  \n",
       "2           7        3  \n",
       "3           3        8  \n",
       "4           1        1  \n",
       "5           2        3  \n",
       "6           8        3  \n",
       "7           8        5  \n",
       "8           9        5  "
      ]
     },
     "metadata": {},
     "output_type": "display_data"
    },
    {
     "data": {
      "text/html": [
       "<div>\n",
       "<style scoped>\n",
       "    .dataframe tbody tr th:only-of-type {\n",
       "        vertical-align: middle;\n",
       "    }\n",
       "\n",
       "    .dataframe tbody tr th {\n",
       "        vertical-align: top;\n",
       "    }\n",
       "\n",
       "    .dataframe thead th {\n",
       "        text-align: right;\n",
       "    }\n",
       "</style>\n",
       "<table border=\"1\" class=\"dataframe\">\n",
       "  <thead>\n",
       "    <tr style=\"text-align: right;\">\n",
       "      <th></th>\n",
       "      <th>transaction_id</th>\n",
       "      <th>visitor_id</th>\n",
       "      <th>date</th>\n",
       "      <th>revenue</th>\n",
       "      <th>group</th>\n",
       "    </tr>\n",
       "  </thead>\n",
       "  <tbody>\n",
       "    <tr>\n",
       "      <th>0</th>\n",
       "      <td>3667963787</td>\n",
       "      <td>3312258926</td>\n",
       "      <td>2019-08-15</td>\n",
       "      <td>1650</td>\n",
       "      <td>B</td>\n",
       "    </tr>\n",
       "    <tr>\n",
       "      <th>1</th>\n",
       "      <td>2804400009</td>\n",
       "      <td>3642806036</td>\n",
       "      <td>2019-08-15</td>\n",
       "      <td>730</td>\n",
       "      <td>B</td>\n",
       "    </tr>\n",
       "    <tr>\n",
       "      <th>2</th>\n",
       "      <td>2961555356</td>\n",
       "      <td>4069496402</td>\n",
       "      <td>2019-08-15</td>\n",
       "      <td>400</td>\n",
       "      <td>A</td>\n",
       "    </tr>\n",
       "    <tr>\n",
       "      <th>3</th>\n",
       "      <td>3797467345</td>\n",
       "      <td>1196621759</td>\n",
       "      <td>2019-08-15</td>\n",
       "      <td>9759</td>\n",
       "      <td>B</td>\n",
       "    </tr>\n",
       "    <tr>\n",
       "      <th>4</th>\n",
       "      <td>2282983706</td>\n",
       "      <td>2322279887</td>\n",
       "      <td>2019-08-15</td>\n",
       "      <td>2308</td>\n",
       "      <td>B</td>\n",
       "    </tr>\n",
       "    <tr>\n",
       "      <th>5</th>\n",
       "      <td>182168103</td>\n",
       "      <td>935554773</td>\n",
       "      <td>2019-08-15</td>\n",
       "      <td>2210</td>\n",
       "      <td>B</td>\n",
       "    </tr>\n",
       "    <tr>\n",
       "      <th>6</th>\n",
       "      <td>398296753</td>\n",
       "      <td>2900797465</td>\n",
       "      <td>2019-08-15</td>\n",
       "      <td>1860</td>\n",
       "      <td>B</td>\n",
       "    </tr>\n",
       "    <tr>\n",
       "      <th>7</th>\n",
       "      <td>2626614568</td>\n",
       "      <td>78758296</td>\n",
       "      <td>2019-08-15</td>\n",
       "      <td>1044</td>\n",
       "      <td>A</td>\n",
       "    </tr>\n",
       "    <tr>\n",
       "      <th>8</th>\n",
       "      <td>1576988021</td>\n",
       "      <td>295230930</td>\n",
       "      <td>2019-08-15</td>\n",
       "      <td>13710</td>\n",
       "      <td>A</td>\n",
       "    </tr>\n",
       "    <tr>\n",
       "      <th>9</th>\n",
       "      <td>1506739906</td>\n",
       "      <td>1882260405</td>\n",
       "      <td>2019-08-15</td>\n",
       "      <td>1855</td>\n",
       "      <td>B</td>\n",
       "    </tr>\n",
       "  </tbody>\n",
       "</table>\n",
       "</div>"
      ],
      "text/plain": [
       "   transaction_id  visitor_id        date  revenue group\n",
       "0      3667963787  3312258926  2019-08-15     1650     B\n",
       "1      2804400009  3642806036  2019-08-15      730     B\n",
       "2      2961555356  4069496402  2019-08-15      400     A\n",
       "3      3797467345  1196621759  2019-08-15     9759     B\n",
       "4      2282983706  2322279887  2019-08-15     2308     B\n",
       "5       182168103   935554773  2019-08-15     2210     B\n",
       "6       398296753  2900797465  2019-08-15     1860     B\n",
       "7      2626614568    78758296  2019-08-15     1044     A\n",
       "8      1576988021   295230930  2019-08-15    13710     A\n",
       "9      1506739906  1882260405  2019-08-15     1855     B"
      ]
     },
     "metadata": {},
     "output_type": "display_data"
    },
    {
     "data": {
      "text/html": [
       "<div>\n",
       "<style scoped>\n",
       "    .dataframe tbody tr th:only-of-type {\n",
       "        vertical-align: middle;\n",
       "    }\n",
       "\n",
       "    .dataframe tbody tr th {\n",
       "        vertical-align: top;\n",
       "    }\n",
       "\n",
       "    .dataframe thead th {\n",
       "        text-align: right;\n",
       "    }\n",
       "</style>\n",
       "<table border=\"1\" class=\"dataframe\">\n",
       "  <thead>\n",
       "    <tr style=\"text-align: right;\">\n",
       "      <th></th>\n",
       "      <th>date</th>\n",
       "      <th>group</th>\n",
       "      <th>visitors</th>\n",
       "    </tr>\n",
       "  </thead>\n",
       "  <tbody>\n",
       "    <tr>\n",
       "      <th>0</th>\n",
       "      <td>2019-08-01</td>\n",
       "      <td>A</td>\n",
       "      <td>719</td>\n",
       "    </tr>\n",
       "    <tr>\n",
       "      <th>1</th>\n",
       "      <td>2019-08-02</td>\n",
       "      <td>A</td>\n",
       "      <td>619</td>\n",
       "    </tr>\n",
       "    <tr>\n",
       "      <th>2</th>\n",
       "      <td>2019-08-03</td>\n",
       "      <td>A</td>\n",
       "      <td>507</td>\n",
       "    </tr>\n",
       "    <tr>\n",
       "      <th>3</th>\n",
       "      <td>2019-08-04</td>\n",
       "      <td>A</td>\n",
       "      <td>717</td>\n",
       "    </tr>\n",
       "    <tr>\n",
       "      <th>4</th>\n",
       "      <td>2019-08-05</td>\n",
       "      <td>A</td>\n",
       "      <td>756</td>\n",
       "    </tr>\n",
       "    <tr>\n",
       "      <th>5</th>\n",
       "      <td>2019-08-06</td>\n",
       "      <td>A</td>\n",
       "      <td>667</td>\n",
       "    </tr>\n",
       "    <tr>\n",
       "      <th>6</th>\n",
       "      <td>2019-08-07</td>\n",
       "      <td>A</td>\n",
       "      <td>644</td>\n",
       "    </tr>\n",
       "    <tr>\n",
       "      <th>7</th>\n",
       "      <td>2019-08-08</td>\n",
       "      <td>A</td>\n",
       "      <td>610</td>\n",
       "    </tr>\n",
       "    <tr>\n",
       "      <th>8</th>\n",
       "      <td>2019-08-09</td>\n",
       "      <td>A</td>\n",
       "      <td>617</td>\n",
       "    </tr>\n",
       "    <tr>\n",
       "      <th>9</th>\n",
       "      <td>2019-08-10</td>\n",
       "      <td>A</td>\n",
       "      <td>406</td>\n",
       "    </tr>\n",
       "  </tbody>\n",
       "</table>\n",
       "</div>"
      ],
      "text/plain": [
       "         date group  visitors\n",
       "0  2019-08-01     A       719\n",
       "1  2019-08-02     A       619\n",
       "2  2019-08-03     A       507\n",
       "3  2019-08-04     A       717\n",
       "4  2019-08-05     A       756\n",
       "5  2019-08-06     A       667\n",
       "6  2019-08-07     A       644\n",
       "7  2019-08-08     A       610\n",
       "8  2019-08-09     A       617\n",
       "9  2019-08-10     A       406"
      ]
     },
     "execution_count": 4,
     "metadata": {},
     "output_type": "execute_result"
    }
   ],
   "source": [
    "orders.columns = orders.columns.str.replace('I', '_i')\n",
    "#сначала перименуем столбцы с двумя словами в датафрейме orders\n",
    "hypothesis.columns = hypothesis.columns.str.lower()\n",
    "#затем приводим все столбцы в датафрейме hypothesis в нижний регистр\n",
    "display(hypothesis.head(10))\n",
    "display(orders.head(10))\n",
    "visitors.head(10)\n",
    "#проверим изменения"
   ]
  },
  {
   "cell_type": "markdown",
   "metadata": {},
   "source": [
    "Таблицы выглядят корректно и мы можем ознакомиться с основной информацией датафреймах:"
   ]
  },
  {
   "cell_type": "code",
   "execution_count": 5,
   "metadata": {},
   "outputs": [
    {
     "name": "stdout",
     "output_type": "stream",
     "text": [
      "<class 'pandas.core.frame.DataFrame'>\n",
      "RangeIndex: 9 entries, 0 to 8\n",
      "Data columns (total 5 columns):\n",
      " #   Column      Non-Null Count  Dtype \n",
      "---  ------      --------------  ----- \n",
      " 0   hypothesis  9 non-null      object\n",
      " 1   reach       9 non-null      int64 \n",
      " 2   impact      9 non-null      int64 \n",
      " 3   confidence  9 non-null      int64 \n",
      " 4   efforts     9 non-null      int64 \n",
      "dtypes: int64(4), object(1)\n",
      "memory usage: 488.0+ bytes\n",
      "<class 'pandas.core.frame.DataFrame'>\n",
      "RangeIndex: 1197 entries, 0 to 1196\n",
      "Data columns (total 5 columns):\n",
      " #   Column          Non-Null Count  Dtype \n",
      "---  ------          --------------  ----- \n",
      " 0   transaction_id  1197 non-null   int64 \n",
      " 1   visitor_id      1197 non-null   int64 \n",
      " 2   date            1197 non-null   object\n",
      " 3   revenue         1197 non-null   int64 \n",
      " 4   group           1197 non-null   object\n",
      "dtypes: int64(3), object(2)\n",
      "memory usage: 46.9+ KB\n",
      "<class 'pandas.core.frame.DataFrame'>\n",
      "RangeIndex: 62 entries, 0 to 61\n",
      "Data columns (total 3 columns):\n",
      " #   Column    Non-Null Count  Dtype \n",
      "---  ------    --------------  ----- \n",
      " 0   date      62 non-null     object\n",
      " 1   group     62 non-null     object\n",
      " 2   visitors  62 non-null     int64 \n",
      "dtypes: int64(1), object(2)\n",
      "memory usage: 1.6+ KB\n"
     ]
    }
   ],
   "source": [
    "hypothesis.info()\n",
    "orders.info()\n",
    "visitors.info()\n",
    "#выводим информацию о датафрейме"
   ]
  },
  {
   "cell_type": "markdown",
   "metadata": {},
   "source": [
    "На основе вышеуказанных данных можно сделать несколько выводов:\n",
    "1) Ни один из датафреймов не содержит пустых значений\n",
    "\n",
    "2) Требуется преобразовать данные о времени, остальные данные соответствуют типу"
   ]
  },
  {
   "cell_type": "code",
   "execution_count": 6,
   "metadata": {},
   "outputs": [
    {
     "name": "stdout",
     "output_type": "stream",
     "text": [
      "<class 'pandas.core.frame.DataFrame'>\n",
      "RangeIndex: 9 entries, 0 to 8\n",
      "Data columns (total 5 columns):\n",
      " #   Column      Non-Null Count  Dtype \n",
      "---  ------      --------------  ----- \n",
      " 0   hypothesis  9 non-null      object\n",
      " 1   reach       9 non-null      int64 \n",
      " 2   impact      9 non-null      int64 \n",
      " 3   confidence  9 non-null      int64 \n",
      " 4   efforts     9 non-null      int64 \n",
      "dtypes: int64(4), object(1)\n",
      "memory usage: 488.0+ bytes\n",
      "<class 'pandas.core.frame.DataFrame'>\n",
      "RangeIndex: 1197 entries, 0 to 1196\n",
      "Data columns (total 5 columns):\n",
      " #   Column          Non-Null Count  Dtype         \n",
      "---  ------          --------------  -----         \n",
      " 0   transaction_id  1197 non-null   int64         \n",
      " 1   visitor_id      1197 non-null   int64         \n",
      " 2   date            1197 non-null   datetime64[ns]\n",
      " 3   revenue         1197 non-null   int64         \n",
      " 4   group           1197 non-null   object        \n",
      "dtypes: datetime64[ns](1), int64(3), object(1)\n",
      "memory usage: 46.9+ KB\n",
      "<class 'pandas.core.frame.DataFrame'>\n",
      "RangeIndex: 62 entries, 0 to 61\n",
      "Data columns (total 3 columns):\n",
      " #   Column    Non-Null Count  Dtype         \n",
      "---  ------    --------------  -----         \n",
      " 0   date      62 non-null     datetime64[ns]\n",
      " 1   group     62 non-null     object        \n",
      " 2   visitors  62 non-null     int64         \n",
      "dtypes: datetime64[ns](1), int64(1), object(1)\n",
      "memory usage: 1.6+ KB\n"
     ]
    }
   ],
   "source": [
    "orders['date'] = orders['date'].map(lambda x: dt.datetime.strptime(x, '%Y-%m-%d'))\n",
    "visitors['date'] = visitors['date'].map(lambda x: dt.datetime.strptime(x, '%Y-%m-%d'))\n",
    "#преобразовали все столбцы с датами \n",
    "hypothesis.info()\n",
    "orders.info()\n",
    "visitors.info()\n",
    "#снова выводим данные для проверки"
   ]
  },
  {
   "cell_type": "markdown",
   "metadata": {},
   "source": [
    "Осталось проверить датафреймы на наличие явных дубликатов:"
   ]
  },
  {
   "cell_type": "code",
   "execution_count": 7,
   "metadata": {},
   "outputs": [
    {
     "data": {
      "text/plain": [
       "0"
      ]
     },
     "metadata": {},
     "output_type": "display_data"
    },
    {
     "data": {
      "text/plain": [
       "0"
      ]
     },
     "metadata": {},
     "output_type": "display_data"
    },
    {
     "data": {
      "text/plain": [
       "0"
      ]
     },
     "execution_count": 7,
     "metadata": {},
     "output_type": "execute_result"
    }
   ],
   "source": [
    "display(hypothesis.duplicated().sum())\n",
    "display(orders.duplicated().sum())\n",
    "visitors.duplicated().sum()\n",
    "#выводим подсчитанное количество дубликатов"
   ]
  },
  {
   "cell_type": "markdown",
   "metadata": {},
   "source": [
    "И неявных:"
   ]
  },
  {
   "cell_type": "code",
   "execution_count": 8,
   "metadata": {},
   "outputs": [
    {
     "data": {
      "text/plain": [
       "array(['A', 'B'], dtype=object)"
      ]
     },
     "metadata": {},
     "output_type": "display_data"
    },
    {
     "data": {
      "text/plain": [
       "array(['B', 'A'], dtype=object)"
      ]
     },
     "execution_count": 8,
     "metadata": {},
     "output_type": "execute_result"
    }
   ],
   "source": [
    "display(visitors['group'].unique())\n",
    "orders['group'].unique()\n",
    "#проверяем не отличаются ли уникальные значения в столбцах с типом object"
   ]
  },
  {
   "cell_type": "markdown",
   "metadata": {},
   "source": [
    "**Вывод:** В ходе предобработки данных названия столбцов датафрема были приведены в \"змеиный\" регистр, столбцы, содержащие дату, были приведены в соответствующий тип данных и так же была осуществлена проверка на дубликаты и пустые значения."
   ]
  },
  {
   "cell_type": "markdown",
   "metadata": {},
   "source": [
    "## Приоритизация гипотез"
   ]
  },
  {
   "cell_type": "markdown",
   "metadata": {},
   "source": [
    "### Фреймворк ICE"
   ]
  },
  {
   "cell_type": "markdown",
   "metadata": {},
   "source": [
    "После того, как мы убедились, что данные заполнены корректно можем приступить к приоритезации гипотез, т.к. проверка гипотез чаще всего стоит дорого, а ресурсов не хватает. Придётся выбрать, что будем тестировать, а чему скажем «нет». "
   ]
  },
  {
   "cell_type": "code",
   "execution_count": 9,
   "metadata": {},
   "outputs": [
    {
     "data": {
      "text/html": [
       "<div>\n",
       "<style scoped>\n",
       "    .dataframe tbody tr th:only-of-type {\n",
       "        vertical-align: middle;\n",
       "    }\n",
       "\n",
       "    .dataframe tbody tr th {\n",
       "        vertical-align: top;\n",
       "    }\n",
       "\n",
       "    .dataframe thead th {\n",
       "        text-align: right;\n",
       "    }\n",
       "</style>\n",
       "<table border=\"1\" class=\"dataframe\">\n",
       "  <thead>\n",
       "    <tr style=\"text-align: right;\">\n",
       "      <th></th>\n",
       "      <th>hypothesis</th>\n",
       "      <th>ice</th>\n",
       "    </tr>\n",
       "  </thead>\n",
       "  <tbody>\n",
       "    <tr>\n",
       "      <th>8</th>\n",
       "      <td>Запустить акцию, дающую скидку на товар в день...</td>\n",
       "      <td>16.2</td>\n",
       "    </tr>\n",
       "    <tr>\n",
       "      <th>0</th>\n",
       "      <td>Добавить два новых канала привлечения трафика,...</td>\n",
       "      <td>13.3</td>\n",
       "    </tr>\n",
       "    <tr>\n",
       "      <th>7</th>\n",
       "      <td>Добавить форму подписки на все основные страни...</td>\n",
       "      <td>11.2</td>\n",
       "    </tr>\n",
       "    <tr>\n",
       "      <th>6</th>\n",
       "      <td>Показать на главной странице баннеры с актуаль...</td>\n",
       "      <td>8.0</td>\n",
       "    </tr>\n",
       "    <tr>\n",
       "      <th>2</th>\n",
       "      <td>Добавить блоки рекомендаций товаров на сайт ин...</td>\n",
       "      <td>7.0</td>\n",
       "    </tr>\n",
       "    <tr>\n",
       "      <th>1</th>\n",
       "      <td>Запустить собственную службу доставки, что сок...</td>\n",
       "      <td>2.0</td>\n",
       "    </tr>\n",
       "    <tr>\n",
       "      <th>5</th>\n",
       "      <td>Добавить страницу отзывов клиентов о магазине,...</td>\n",
       "      <td>1.3</td>\n",
       "    </tr>\n",
       "    <tr>\n",
       "      <th>3</th>\n",
       "      <td>Изменить структура категорий, что увеличит кон...</td>\n",
       "      <td>1.1</td>\n",
       "    </tr>\n",
       "    <tr>\n",
       "      <th>4</th>\n",
       "      <td>Изменить цвет фона главной страницы, чтобы уве...</td>\n",
       "      <td>1.0</td>\n",
       "    </tr>\n",
       "  </tbody>\n",
       "</table>\n",
       "</div>"
      ],
      "text/plain": [
       "                                          hypothesis   ice\n",
       "8  Запустить акцию, дающую скидку на товар в день...  16.2\n",
       "0  Добавить два новых канала привлечения трафика,...  13.3\n",
       "7  Добавить форму подписки на все основные страни...  11.2\n",
       "6  Показать на главной странице баннеры с актуаль...   8.0\n",
       "2  Добавить блоки рекомендаций товаров на сайт ин...   7.0\n",
       "1  Запустить собственную службу доставки, что сок...   2.0\n",
       "5  Добавить страницу отзывов клиентов о магазине,...   1.3\n",
       "3  Изменить структура категорий, что увеличит кон...   1.1\n",
       "4  Изменить цвет фона главной страницы, чтобы уве...   1.0"
      ]
     },
     "metadata": {},
     "output_type": "display_data"
    },
    {
     "data": {
      "text/plain": [
       "array(['Запустить акцию, дающую скидку на товар в день рождения',\n",
       "       'Добавить два новых канала привлечения трафика, что позволит привлекать на 30% больше пользователей',\n",
       "       'Добавить форму подписки на все основные страницы, чтобы собрать базу клиентов для email-рассылок'],\n",
       "      dtype=object)"
      ]
     },
     "execution_count": 9,
     "metadata": {},
     "output_type": "execute_result"
    }
   ],
   "source": [
    "hypothesis['ice'] = round((hypothesis['impact'] * hypothesis['confidence'])/hypothesis['efforts'],1)\n",
    "#создаем дополнительный столбец с расчетом ice\n",
    "ice_hypothesis = hypothesis[['hypothesis','ice']].sort_values(by='ice', ascending=False)\n",
    "#создаем переменную, в которую войдут только гипотезы и новый столбец, затем сортируем по убывнию столбца ice\n",
    "display(ice_hypothesis)\n",
    "#вывдедем результат на экран\n",
    "top_ice_hypothesis = ice_hypothesis['hypothesis'].head(3).unique()\n",
    "top_ice_hypothesis\n",
    "#для прочтения полного текста первых 3-х гипотез выведем уникальные значения из столбца гипотез"
   ]
  },
  {
   "cell_type": "markdown",
   "metadata": {},
   "source": [
    "Наиболее перспективные гипотезы по ICE: \n",
    "9.Запустить акцию, дающую скидку на товар в день рождения;\n",
    "\n",
    "1.Добавить два новых канала привлечения трафика, что позволит привлекать на 30% больше пользователей;\n",
    "\n",
    "8.Добавить форму подписки на все основные страницы, чтобы собрать базу клиентов для email-рассылок. \n",
    "\n",
    "Проверим какой результат получится при использовании RICE:"
   ]
  },
  {
   "cell_type": "markdown",
   "metadata": {},
   "source": [
    "### Фреймворк RICE"
   ]
  },
  {
   "cell_type": "code",
   "execution_count": 10,
   "metadata": {},
   "outputs": [
    {
     "data": {
      "text/html": [
       "<div>\n",
       "<style scoped>\n",
       "    .dataframe tbody tr th:only-of-type {\n",
       "        vertical-align: middle;\n",
       "    }\n",
       "\n",
       "    .dataframe tbody tr th {\n",
       "        vertical-align: top;\n",
       "    }\n",
       "\n",
       "    .dataframe thead th {\n",
       "        text-align: right;\n",
       "    }\n",
       "</style>\n",
       "<table border=\"1\" class=\"dataframe\">\n",
       "  <thead>\n",
       "    <tr style=\"text-align: right;\">\n",
       "      <th></th>\n",
       "      <th>hypothesis</th>\n",
       "      <th>rice</th>\n",
       "    </tr>\n",
       "  </thead>\n",
       "  <tbody>\n",
       "    <tr>\n",
       "      <th>7</th>\n",
       "      <td>Добавить форму подписки на все основные страни...</td>\n",
       "      <td>112.0</td>\n",
       "    </tr>\n",
       "    <tr>\n",
       "      <th>2</th>\n",
       "      <td>Добавить блоки рекомендаций товаров на сайт ин...</td>\n",
       "      <td>56.0</td>\n",
       "    </tr>\n",
       "    <tr>\n",
       "      <th>0</th>\n",
       "      <td>Добавить два новых канала привлечения трафика,...</td>\n",
       "      <td>40.0</td>\n",
       "    </tr>\n",
       "    <tr>\n",
       "      <th>6</th>\n",
       "      <td>Показать на главной странице баннеры с актуаль...</td>\n",
       "      <td>40.0</td>\n",
       "    </tr>\n",
       "    <tr>\n",
       "      <th>8</th>\n",
       "      <td>Запустить акцию, дающую скидку на товар в день...</td>\n",
       "      <td>16.2</td>\n",
       "    </tr>\n",
       "    <tr>\n",
       "      <th>3</th>\n",
       "      <td>Изменить структура категорий, что увеличит кон...</td>\n",
       "      <td>9.0</td>\n",
       "    </tr>\n",
       "    <tr>\n",
       "      <th>1</th>\n",
       "      <td>Запустить собственную службу доставки, что сок...</td>\n",
       "      <td>4.0</td>\n",
       "    </tr>\n",
       "    <tr>\n",
       "      <th>5</th>\n",
       "      <td>Добавить страницу отзывов клиентов о магазине,...</td>\n",
       "      <td>4.0</td>\n",
       "    </tr>\n",
       "    <tr>\n",
       "      <th>4</th>\n",
       "      <td>Изменить цвет фона главной страницы, чтобы уве...</td>\n",
       "      <td>3.0</td>\n",
       "    </tr>\n",
       "  </tbody>\n",
       "</table>\n",
       "</div>"
      ],
      "text/plain": [
       "                                          hypothesis   rice\n",
       "7  Добавить форму подписки на все основные страни...  112.0\n",
       "2  Добавить блоки рекомендаций товаров на сайт ин...   56.0\n",
       "0  Добавить два новых канала привлечения трафика,...   40.0\n",
       "6  Показать на главной странице баннеры с актуаль...   40.0\n",
       "8  Запустить акцию, дающую скидку на товар в день...   16.2\n",
       "3  Изменить структура категорий, что увеличит кон...    9.0\n",
       "1  Запустить собственную службу доставки, что сок...    4.0\n",
       "5  Добавить страницу отзывов клиентов о магазине,...    4.0\n",
       "4  Изменить цвет фона главной страницы, чтобы уве...    3.0"
      ]
     },
     "metadata": {},
     "output_type": "display_data"
    },
    {
     "data": {
      "text/plain": [
       "array(['Добавить форму подписки на все основные страницы, чтобы собрать базу клиентов для email-рассылок',\n",
       "       'Добавить блоки рекомендаций товаров на сайт интернет магазина, чтобы повысить конверсию и средний чек заказа',\n",
       "       'Добавить два новых канала привлечения трафика, что позволит привлекать на 30% больше пользователей',\n",
       "       'Показать на главной странице баннеры с актуальными акциями и распродажами, чтобы увеличить конверсию'],\n",
       "      dtype=object)"
      ]
     },
     "execution_count": 10,
     "metadata": {},
     "output_type": "execute_result"
    }
   ],
   "source": [
    "hypothesis['rice'] = (hypothesis['reach'] * hypothesis['impact'] * hypothesis['confidence'])/hypothesis['efforts']\n",
    "#создаем дополнительный столбец с расчетом rice\n",
    "rice_hypothesis = hypothesis[['hypothesis','rice']].sort_values(by='rice', ascending=False)\n",
    "#создаем переменную, в которую войдут только гипотезы и новый столбец, затем сортируем по убывнию столбца rice\n",
    "display(rice_hypothesis)\n",
    "#вывдедем результат на экран\n",
    "top_rice_hypothesis = rice_hypothesis['hypothesis'].head(4).unique()\n",
    "top_rice_hypothesis\n",
    "#для прочтения полного текста первых 4-х гипотез выведем уникальные значения из столбца гипотез"
   ]
  },
  {
   "cell_type": "markdown",
   "metadata": {},
   "source": [
    "При использовании модели RICE абсолютным лидером стала 8 гипотеза(Добавить форму подписки на все основные страницы, чтобы собрать базу клиентов для email-рассылок), а так же в приоритете:\n",
    "\n",
    "  3.Добавить блоки рекомендаций товаров на сайт интернет магазина, чтобы повысить конверсию и средний чек заказа;\n",
    "\n",
    "  1.Добавить два новых канала привлечения трафика, что позволит привлекать на 30% больше пользователей;\n",
    "\n",
    "  7.Показать на главной странице баннеры с актуальными акциями и распродажами, чтобы увеличить конверсию."
   ]
  },
  {
   "cell_type": "markdown",
   "metadata": {},
   "source": [
    "**Вывод:** Такая разница в приоритезации гипотез вызвана тем, что добавление формы подписки на все основные страницы, чтобы собрать базу клиентов для email-рассылок охватывает гораздо большее количество пользователей, чем если запустить акцию, дающую скидку на товар в день рождения. Это связано с тем, что акция будет иметь ограничение временного характера, а значит будет предназначена для только для пользователей, которые вообще указали дату рождения (во многих сервисах это необязательное поле), и только для тех пользователей, у которых в месяц проведения акции будет день рождения. \n",
    "\n",
    "Выбор метрики зависит от того, важно ли нам, на какой охват пользователей повлияет та или иная гипотеза и есть ли возможность вообще этот охват оценить. Т.к. у нас такие данные имеются, предпочтительнее воспользоваться результатами приоритезации по модели RICE."
   ]
  },
  {
   "cell_type": "markdown",
   "metadata": {},
   "source": [
    "## Анализ A/B-теста"
   ]
  },
  {
   "cell_type": "markdown",
   "metadata": {},
   "source": [
    "### График кумулятивной выручки по группам"
   ]
  },
  {
   "cell_type": "markdown",
   "metadata": {},
   "source": [
    "Чтобы построить графики, нужно собрать кумулятивные данные в одну таблицу:"
   ]
  },
  {
   "cell_type": "code",
   "execution_count": 11,
   "metadata": {},
   "outputs": [
    {
     "data": {
      "text/html": [
       "<div>\n",
       "<style scoped>\n",
       "    .dataframe tbody tr th:only-of-type {\n",
       "        vertical-align: middle;\n",
       "    }\n",
       "\n",
       "    .dataframe tbody tr th {\n",
       "        vertical-align: top;\n",
       "    }\n",
       "\n",
       "    .dataframe thead th {\n",
       "        text-align: right;\n",
       "    }\n",
       "</style>\n",
       "<table border=\"1\" class=\"dataframe\">\n",
       "  <thead>\n",
       "    <tr style=\"text-align: right;\">\n",
       "      <th></th>\n",
       "      <th>date</th>\n",
       "      <th>group</th>\n",
       "      <th>orders</th>\n",
       "      <th>buyers</th>\n",
       "      <th>revenue</th>\n",
       "      <th>visitors</th>\n",
       "    </tr>\n",
       "  </thead>\n",
       "  <tbody>\n",
       "    <tr>\n",
       "      <th>0</th>\n",
       "      <td>2019-08-01</td>\n",
       "      <td>A</td>\n",
       "      <td>24</td>\n",
       "      <td>20</td>\n",
       "      <td>148579</td>\n",
       "      <td>719</td>\n",
       "    </tr>\n",
       "    <tr>\n",
       "      <th>1</th>\n",
       "      <td>2019-08-01</td>\n",
       "      <td>B</td>\n",
       "      <td>21</td>\n",
       "      <td>20</td>\n",
       "      <td>101217</td>\n",
       "      <td>713</td>\n",
       "    </tr>\n",
       "    <tr>\n",
       "      <th>2</th>\n",
       "      <td>2019-08-02</td>\n",
       "      <td>A</td>\n",
       "      <td>44</td>\n",
       "      <td>38</td>\n",
       "      <td>242401</td>\n",
       "      <td>1338</td>\n",
       "    </tr>\n",
       "    <tr>\n",
       "      <th>3</th>\n",
       "      <td>2019-08-02</td>\n",
       "      <td>B</td>\n",
       "      <td>45</td>\n",
       "      <td>43</td>\n",
       "      <td>266748</td>\n",
       "      <td>1294</td>\n",
       "    </tr>\n",
       "    <tr>\n",
       "      <th>4</th>\n",
       "      <td>2019-08-03</td>\n",
       "      <td>A</td>\n",
       "      <td>68</td>\n",
       "      <td>62</td>\n",
       "      <td>354874</td>\n",
       "      <td>1845</td>\n",
       "    </tr>\n",
       "  </tbody>\n",
       "</table>\n",
       "</div>"
      ],
      "text/plain": [
       "        date group  orders  buyers  revenue  visitors\n",
       "0 2019-08-01     A      24      20   148579       719\n",
       "1 2019-08-01     B      21      20   101217       713\n",
       "2 2019-08-02     A      44      38   242401      1338\n",
       "3 2019-08-02     B      45      43   266748      1294\n",
       "4 2019-08-03     A      68      62   354874      1845"
      ]
     },
     "execution_count": 11,
     "metadata": {},
     "output_type": "execute_result"
    }
   ],
   "source": [
    "dates_groups = orders[['date','group']].drop_duplicates()\n",
    "#создаем массив уникальных пар значений дат и групп теста\n",
    "\n",
    "orders_agg = dates_groups.apply( \n",
    "    #cоберем агрегированные кумулятивные по дням данные о заказах\n",
    "    lambda x: orders[\n",
    "        np.logical_and(\n",
    "            orders['date'] <= x['date'], orders['group'] == x['group']\n",
    "        ) #получим строки таблицы orders, дата которых меньше или равна дате элемента из dates_groups, \n",
    "        #а группа теста равна группе из dates_groups\n",
    "    ].agg(\n",
    "        {\n",
    "            'date': 'max', \n",
    "            'group': 'max', #вычислим максимальную дату и группу\n",
    "            'transaction_id': 'nunique', \n",
    "            'visitor_id': 'nunique', #число уникальных ID заказов и пользователей\n",
    "            'revenue': 'sum', #сумму средних чеков\n",
    "        }\n",
    "    ),\n",
    "    axis=1, #применим методы к каждой строке датафрейма\n",
    ").sort_values(by=['date', 'group']) #отсортируем результаты по столбцам\n",
    "\n",
    "\n",
    "visitors_agg = dates_groups.apply(\n",
    "    lambda x: visitors[\n",
    "        np.logical_and(\n",
    "            visitors['date'] <= x['date'], visitors['group'] == x['group']\n",
    "        )\n",
    "    ].agg({'date': 'max', 'group': 'max', 'visitors': 'sum'}),\n",
    "    axis=1,\n",
    ").sort_values(by=['date', 'group'])\n",
    "#аналогично получим агрегированные кумулятивные по дням данные о посетителях интернет-магазина \n",
    "\n",
    "\n",
    "cmltv_data = orders_agg.merge(\n",
    "    visitors_agg, left_on=['date', 'group'], right_on=['date', 'group']\n",
    ")\n",
    "#объединяем кумулятивные данные в одной таблице\n",
    "cmltv_data.columns = [\n",
    "    'date',\n",
    "    'group',\n",
    "    'orders',\n",
    "    'buyers',\n",
    "    'revenue',\n",
    "    'visitors',\n",
    "]\n",
    "#присваиваем ее столбцам понятные названия\n",
    "\n",
    "cmltv_data.head(5)\n",
    "#проверяем, что у нас получилось"
   ]
  },
  {
   "cell_type": "markdown",
   "metadata": {},
   "source": [
    "С помощью собранных данных построим графики кумулятивной выручки по дням и группам A/B-тестирования:"
   ]
  },
  {
   "cell_type": "code",
   "execution_count": 12,
   "metadata": {},
   "outputs": [
    {
     "data": {
      "image/png": "[encoded data removed]",
      "text/plain": [
       "<Figure size 1440x504 with 1 Axes>"
      ]
     },
     "metadata": {
      "needs_background": "light"
     },
     "output_type": "display_data"
    }
   ],
   "source": [
    "cmltv_rev_a = cmltv_data[cmltv_data['group']=='A'][['date','revenue', 'orders']]\n",
    "#создаем датафрейм с кумулятивным количеством заказов и кумулятивной выручкой по дням в группе А\n",
    "\n",
    "cmltv_rev_b = cmltv_data[cmltv_data['group']=='B'][['date','revenue', 'orders']]\n",
    "#и по группе B\n",
    "\n",
    "plt.rcParams['font.size'] = 16 \n",
    "#установим размер шрифта\n",
    "\n",
    "plt.figure(figsize=(20,7))\n",
    "#зададим размер графика\n",
    "\n",
    "plt.plot(cmltv_rev_a['date'], cmltv_rev_a['revenue'], label='A-группа', color = 'darkcyan')\n",
    "#строим график выручки группы А\n",
    "\n",
    "plt.plot(cmltv_rev_b['date'], cmltv_rev_b['revenue'], label='B-группа', color = 'salmon')\n",
    "#и группы B\n",
    "\n",
    "plt.legend()\n",
    "plt.xlabel('Дата')\n",
    "plt.ylabel ('Выручка')\n",
    "plt.title('Кумулятивная выручка по группам');\n",
    "#оформляем "
   ]
  },
  {
   "cell_type": "markdown",
   "metadata": {},
   "source": [
    "Можно заметить, что в промежутке между 17 и 21 августа произошел резкий рост кумулятивной выручки в группе B, проверим причины данного роста:"
   ]
  },
  {
   "cell_type": "code",
   "execution_count": 13,
   "metadata": {},
   "outputs": [
    {
     "data": {
      "text/html": [
       "<div>\n",
       "<style scoped>\n",
       "    .dataframe tbody tr th:only-of-type {\n",
       "        vertical-align: middle;\n",
       "    }\n",
       "\n",
       "    .dataframe tbody tr th {\n",
       "        vertical-align: top;\n",
       "    }\n",
       "\n",
       "    .dataframe thead th {\n",
       "        text-align: right;\n",
       "    }\n",
       "</style>\n",
       "<table border=\"1\" class=\"dataframe\">\n",
       "  <thead>\n",
       "    <tr style=\"text-align: right;\">\n",
       "      <th></th>\n",
       "      <th>date</th>\n",
       "      <th>revenue</th>\n",
       "      <th>orders</th>\n",
       "    </tr>\n",
       "  </thead>\n",
       "  <tbody>\n",
       "    <tr>\n",
       "      <th>33</th>\n",
       "      <td>2019-08-17</td>\n",
       "      <td>2620790</td>\n",
       "      <td>373</td>\n",
       "    </tr>\n",
       "    <tr>\n",
       "      <th>35</th>\n",
       "      <td>2019-08-18</td>\n",
       "      <td>2686621</td>\n",
       "      <td>382</td>\n",
       "    </tr>\n",
       "    <tr>\n",
       "      <th>37</th>\n",
       "      <td>2019-08-19</td>\n",
       "      <td>4116541</td>\n",
       "      <td>403</td>\n",
       "    </tr>\n",
       "    <tr>\n",
       "      <th>39</th>\n",
       "      <td>2019-08-20</td>\n",
       "      <td>4263815</td>\n",
       "      <td>423</td>\n",
       "    </tr>\n",
       "  </tbody>\n",
       "</table>\n",
       "</div>"
      ],
      "text/plain": [
       "         date  revenue  orders\n",
       "33 2019-08-17  2620790     373\n",
       "35 2019-08-18  2686621     382\n",
       "37 2019-08-19  4116541     403\n",
       "39 2019-08-20  4263815     423"
      ]
     },
     "metadata": {},
     "output_type": "display_data"
    }
   ],
   "source": [
    "display(cmltv_rev_b.query('date > \"2019-08-16\" and date < \"2019-08-21\"').sort_values(by='revenue'))\n",
    "#сделаем срез по дате резкого увеличения значений группы B"
   ]
  },
  {
   "cell_type": "markdown",
   "metadata": {},
   "source": [
    "**Вывод:** Выручка почти равномерно увеличивается в течение всего теста, однако графики выручки группы B в нескольких точках резко растет. Это может сигнализировать о всплесках числа заказов, либо о появлении очень дорогих заказов в выборке. После проверки методом среза, можно понять, что рост вызван резким увеличенем выручки заказов начиная с 19 августа 2019 года."
   ]
  },
  {
   "cell_type": "markdown",
   "metadata": {},
   "source": [
    "### График кумулятивного среднего чека по группам"
   ]
  },
  {
   "cell_type": "markdown",
   "metadata": {},
   "source": [
    "Теперь можем построить графики среднего чека по группам — разделим кумулятивную выручку на кумулятивное число заказов:"
   ]
  },
  {
   "cell_type": "code",
   "execution_count": 14,
   "metadata": {},
   "outputs": [
    {
     "data": {
      "image/png": "[encoded data removed]",
      "text/plain": [
       "<Figure size 1440x504 with 1 Axes>"
      ]
     },
     "metadata": {
      "needs_background": "light"
     },
     "output_type": "display_data"
    }
   ],
   "source": [
    "plt.figure(figsize=(20,7))\n",
    "#зададим размер графика\n",
    "\n",
    "plt.plot(cmltv_rev_a['date'], cmltv_rev_a['revenue']/cmltv_rev_a['orders'],\\\n",
    "         label='A-группа', color = 'darkcyan')\n",
    "#строим график среднего чека группы А\n",
    "\n",
    "plt.plot(cmltv_rev_b['date'], cmltv_rev_b['revenue']/cmltv_rev_b['orders'],\\\n",
    "         label='B-группа', color = 'salmon')\n",
    "#и группы B\n",
    "\n",
    "plt.legend()\n",
    "plt.xlabel('Дата')\n",
    "plt.ylabel ('Средний чек')\n",
    "plt.title('Кумулятивный средний чек по группам');\n",
    "#оформляем"
   ]
  },
  {
   "cell_type": "markdown",
   "metadata": {},
   "source": [
    "**Вывод:** Средний чек для группы A сначала показывал снижение, после 6 августа начал расти, и стал относительно стабилен после резкого роста в 13-х числах августа. Для группы B характерен постоянный рост, кроеме \"ямы\" 5 августа и постепенного снижения после \"пика\" 19 августа. По итогу лучшие результаты по среднему чеку показывает группа B, хотя и имеет тенденцию к снижению."
   ]
  },
  {
   "cell_type": "markdown",
   "metadata": {},
   "source": [
    "### График относительного изменения кумулятивного среднего чека группы B к группе A"
   ]
  },
  {
   "cell_type": "markdown",
   "metadata": {},
   "source": [
    "Для построения данного графика требуется объеденить кумулятивные данные по группам:"
   ]
  },
  {
   "cell_type": "code",
   "execution_count": 15,
   "metadata": {},
   "outputs": [
    {
     "data": {
      "image/png": "[encoded data removed]",
      "text/plain": [
       "<Figure size 1440x504 with 1 Axes>"
      ]
     },
     "metadata": {
      "needs_background": "light"
     },
     "output_type": "display_data"
    }
   ],
   "source": [
    "cmltv_rev = cmltv_rev_a.merge(cmltv_rev_b, left_on='date', right_on='date', how='left', suffixes=['_a', '_b'])\n",
    "#объединяем данные в одном датафрейме\n",
    "\n",
    "plt.figure(figsize=(20,7))\n",
    "#зададим размер графика\n",
    "\n",
    "plt.plot(cmltv_rev_a['date'],(cmltv_rev['revenue_b']/cmltv_rev['orders_b'])\\\n",
    "         /(cmltv_rev['revenue_a']/cmltv_rev['orders_a'])-1, color = 'lightgreen')\n",
    "#строим график\n",
    "\n",
    "plt.xlabel('Дата')\n",
    "plt.ylabel ('Отноешение среднего чека')\n",
    "plt.title('Относительное изменение кумулятивного среднего чека группы B к группе A')\n",
    "#оформляем\n",
    "\n",
    "plt.axhline(y=0, color='black', linestyle='--');\n",
    "#добавляем горизонтальную ось"
   ]
  },
  {
   "cell_type": "markdown",
   "metadata": {},
   "source": [
    "**Вывод:** 13 августа отношение среднего чека группы B к группе A единственый раз падает, не считая начала тестирования. В целом весь график имеет резкие скачки, а значит в данных присутствуют выбросы."
   ]
  },
  {
   "cell_type": "markdown",
   "metadata": {},
   "source": [
    "### График кумулятивного среднего количества заказов на посетителя по группам"
   ]
  },
  {
   "cell_type": "markdown",
   "metadata": {},
   "source": [
    "Для построение данного графика посчитаем конверсию:"
   ]
  },
  {
   "cell_type": "code",
   "execution_count": 16,
   "metadata": {},
   "outputs": [
    {
     "data": {
      "text/html": [
       "<div>\n",
       "<style scoped>\n",
       "    .dataframe tbody tr th:only-of-type {\n",
       "        vertical-align: middle;\n",
       "    }\n",
       "\n",
       "    .dataframe tbody tr th {\n",
       "        vertical-align: top;\n",
       "    }\n",
       "\n",
       "    .dataframe thead th {\n",
       "        text-align: right;\n",
       "    }\n",
       "</style>\n",
       "<table border=\"1\" class=\"dataframe\">\n",
       "  <thead>\n",
       "    <tr style=\"text-align: right;\">\n",
       "      <th></th>\n",
       "      <th>date</th>\n",
       "      <th>group</th>\n",
       "      <th>orders</th>\n",
       "      <th>buyers</th>\n",
       "      <th>revenue</th>\n",
       "      <th>visitors</th>\n",
       "      <th>conversion</th>\n",
       "    </tr>\n",
       "  </thead>\n",
       "  <tbody>\n",
       "    <tr>\n",
       "      <th>0</th>\n",
       "      <td>2019-08-01</td>\n",
       "      <td>A</td>\n",
       "      <td>24</td>\n",
       "      <td>20</td>\n",
       "      <td>148579</td>\n",
       "      <td>719</td>\n",
       "      <td>0.033380</td>\n",
       "    </tr>\n",
       "    <tr>\n",
       "      <th>2</th>\n",
       "      <td>2019-08-02</td>\n",
       "      <td>A</td>\n",
       "      <td>44</td>\n",
       "      <td>38</td>\n",
       "      <td>242401</td>\n",
       "      <td>1338</td>\n",
       "      <td>0.032885</td>\n",
       "    </tr>\n",
       "    <tr>\n",
       "      <th>4</th>\n",
       "      <td>2019-08-03</td>\n",
       "      <td>A</td>\n",
       "      <td>68</td>\n",
       "      <td>62</td>\n",
       "      <td>354874</td>\n",
       "      <td>1845</td>\n",
       "      <td>0.036856</td>\n",
       "    </tr>\n",
       "    <tr>\n",
       "      <th>6</th>\n",
       "      <td>2019-08-04</td>\n",
       "      <td>A</td>\n",
       "      <td>84</td>\n",
       "      <td>77</td>\n",
       "      <td>425699</td>\n",
       "      <td>2562</td>\n",
       "      <td>0.032787</td>\n",
       "    </tr>\n",
       "    <tr>\n",
       "      <th>8</th>\n",
       "      <td>2019-08-05</td>\n",
       "      <td>A</td>\n",
       "      <td>109</td>\n",
       "      <td>100</td>\n",
       "      <td>549917</td>\n",
       "      <td>3318</td>\n",
       "      <td>0.032851</td>\n",
       "    </tr>\n",
       "    <tr>\n",
       "      <th>10</th>\n",
       "      <td>2019-08-06</td>\n",
       "      <td>A</td>\n",
       "      <td>127</td>\n",
       "      <td>114</td>\n",
       "      <td>598401</td>\n",
       "      <td>3985</td>\n",
       "      <td>0.031870</td>\n",
       "    </tr>\n",
       "    <tr>\n",
       "      <th>12</th>\n",
       "      <td>2019-08-07</td>\n",
       "      <td>A</td>\n",
       "      <td>145</td>\n",
       "      <td>131</td>\n",
       "      <td>740818</td>\n",
       "      <td>4629</td>\n",
       "      <td>0.031324</td>\n",
       "    </tr>\n",
       "    <tr>\n",
       "      <th>14</th>\n",
       "      <td>2019-08-08</td>\n",
       "      <td>A</td>\n",
       "      <td>161</td>\n",
       "      <td>146</td>\n",
       "      <td>837097</td>\n",
       "      <td>5239</td>\n",
       "      <td>0.030731</td>\n",
       "    </tr>\n",
       "    <tr>\n",
       "      <th>16</th>\n",
       "      <td>2019-08-09</td>\n",
       "      <td>A</td>\n",
       "      <td>177</td>\n",
       "      <td>159</td>\n",
       "      <td>1025603</td>\n",
       "      <td>5856</td>\n",
       "      <td>0.030225</td>\n",
       "    </tr>\n",
       "    <tr>\n",
       "      <th>18</th>\n",
       "      <td>2019-08-10</td>\n",
       "      <td>A</td>\n",
       "      <td>193</td>\n",
       "      <td>175</td>\n",
       "      <td>1236098</td>\n",
       "      <td>6262</td>\n",
       "      <td>0.030821</td>\n",
       "    </tr>\n",
       "  </tbody>\n",
       "</table>\n",
       "</div>"
      ],
      "text/plain": [
       "         date group  orders  buyers  revenue  visitors  conversion\n",
       "0  2019-08-01     A      24      20   148579       719    0.033380\n",
       "2  2019-08-02     A      44      38   242401      1338    0.032885\n",
       "4  2019-08-03     A      68      62   354874      1845    0.036856\n",
       "6  2019-08-04     A      84      77   425699      2562    0.032787\n",
       "8  2019-08-05     A     109     100   549917      3318    0.032851\n",
       "10 2019-08-06     A     127     114   598401      3985    0.031870\n",
       "12 2019-08-07     A     145     131   740818      4629    0.031324\n",
       "14 2019-08-08     A     161     146   837097      5239    0.030731\n",
       "16 2019-08-09     A     177     159  1025603      5856    0.030225\n",
       "18 2019-08-10     A     193     175  1236098      6262    0.030821"
      ]
     },
     "metadata": {},
     "output_type": "display_data"
    },
    {
     "data": {
      "text/html": [
       "<div>\n",
       "<style scoped>\n",
       "    .dataframe tbody tr th:only-of-type {\n",
       "        vertical-align: middle;\n",
       "    }\n",
       "\n",
       "    .dataframe tbody tr th {\n",
       "        vertical-align: top;\n",
       "    }\n",
       "\n",
       "    .dataframe thead th {\n",
       "        text-align: right;\n",
       "    }\n",
       "</style>\n",
       "<table border=\"1\" class=\"dataframe\">\n",
       "  <thead>\n",
       "    <tr style=\"text-align: right;\">\n",
       "      <th></th>\n",
       "      <th>date</th>\n",
       "      <th>group</th>\n",
       "      <th>orders</th>\n",
       "      <th>buyers</th>\n",
       "      <th>revenue</th>\n",
       "      <th>visitors</th>\n",
       "      <th>conversion</th>\n",
       "    </tr>\n",
       "  </thead>\n",
       "  <tbody>\n",
       "    <tr>\n",
       "      <th>1</th>\n",
       "      <td>2019-08-01</td>\n",
       "      <td>B</td>\n",
       "      <td>21</td>\n",
       "      <td>20</td>\n",
       "      <td>101217</td>\n",
       "      <td>713</td>\n",
       "      <td>0.029453</td>\n",
       "    </tr>\n",
       "    <tr>\n",
       "      <th>3</th>\n",
       "      <td>2019-08-02</td>\n",
       "      <td>B</td>\n",
       "      <td>45</td>\n",
       "      <td>43</td>\n",
       "      <td>266748</td>\n",
       "      <td>1294</td>\n",
       "      <td>0.034776</td>\n",
       "    </tr>\n",
       "    <tr>\n",
       "      <th>5</th>\n",
       "      <td>2019-08-03</td>\n",
       "      <td>B</td>\n",
       "      <td>61</td>\n",
       "      <td>59</td>\n",
       "      <td>380996</td>\n",
       "      <td>1803</td>\n",
       "      <td>0.033833</td>\n",
       "    </tr>\n",
       "    <tr>\n",
       "      <th>7</th>\n",
       "      <td>2019-08-04</td>\n",
       "      <td>B</td>\n",
       "      <td>78</td>\n",
       "      <td>75</td>\n",
       "      <td>489567</td>\n",
       "      <td>2573</td>\n",
       "      <td>0.030315</td>\n",
       "    </tr>\n",
       "    <tr>\n",
       "      <th>9</th>\n",
       "      <td>2019-08-05</td>\n",
       "      <td>B</td>\n",
       "      <td>101</td>\n",
       "      <td>98</td>\n",
       "      <td>581995</td>\n",
       "      <td>3280</td>\n",
       "      <td>0.030793</td>\n",
       "    </tr>\n",
       "    <tr>\n",
       "      <th>11</th>\n",
       "      <td>2019-08-06</td>\n",
       "      <td>B</td>\n",
       "      <td>129</td>\n",
       "      <td>123</td>\n",
       "      <td>824337</td>\n",
       "      <td>3935</td>\n",
       "      <td>0.032783</td>\n",
       "    </tr>\n",
       "    <tr>\n",
       "      <th>13</th>\n",
       "      <td>2019-08-07</td>\n",
       "      <td>B</td>\n",
       "      <td>153</td>\n",
       "      <td>146</td>\n",
       "      <td>1049671</td>\n",
       "      <td>4644</td>\n",
       "      <td>0.032946</td>\n",
       "    </tr>\n",
       "    <tr>\n",
       "      <th>15</th>\n",
       "      <td>2019-08-08</td>\n",
       "      <td>B</td>\n",
       "      <td>180</td>\n",
       "      <td>171</td>\n",
       "      <td>1270589</td>\n",
       "      <td>5298</td>\n",
       "      <td>0.033975</td>\n",
       "    </tr>\n",
       "    <tr>\n",
       "      <th>17</th>\n",
       "      <td>2019-08-09</td>\n",
       "      <td>B</td>\n",
       "      <td>205</td>\n",
       "      <td>193</td>\n",
       "      <td>1431401</td>\n",
       "      <td>5908</td>\n",
       "      <td>0.034699</td>\n",
       "    </tr>\n",
       "    <tr>\n",
       "      <th>19</th>\n",
       "      <td>2019-08-10</td>\n",
       "      <td>B</td>\n",
       "      <td>228</td>\n",
       "      <td>215</td>\n",
       "      <td>1539203</td>\n",
       "      <td>6277</td>\n",
       "      <td>0.036323</td>\n",
       "    </tr>\n",
       "  </tbody>\n",
       "</table>\n",
       "</div>"
      ],
      "text/plain": [
       "         date group  orders  buyers  revenue  visitors  conversion\n",
       "1  2019-08-01     B      21      20   101217       713    0.029453\n",
       "3  2019-08-02     B      45      43   266748      1294    0.034776\n",
       "5  2019-08-03     B      61      59   380996      1803    0.033833\n",
       "7  2019-08-04     B      78      75   489567      2573    0.030315\n",
       "9  2019-08-05     B     101      98   581995      3280    0.030793\n",
       "11 2019-08-06     B     129     123   824337      3935    0.032783\n",
       "13 2019-08-07     B     153     146  1049671      4644    0.032946\n",
       "15 2019-08-08     B     180     171  1270589      5298    0.033975\n",
       "17 2019-08-09     B     205     193  1431401      5908    0.034699\n",
       "19 2019-08-10     B     228     215  1539203      6277    0.036323"
      ]
     },
     "execution_count": 16,
     "metadata": {},
     "output_type": "execute_result"
    }
   ],
   "source": [
    "cmltv_data['conversion'] = cmltv_data['orders']/cmltv_data['visitors']\n",
    "# считаем кумулятивную конверсию\n",
    "\n",
    "cmltv_data_a = cmltv_data[cmltv_data['group']== 'A']\n",
    "cmltv_data_b = cmltv_data[cmltv_data['group']== 'B']\n",
    "# отделяем данные по группам\n",
    "\n",
    "display(cmltv_data_a.head(10))\n",
    "cmltv_data_b.head(10)\n",
    "#выведем получившиеся данные"
   ]
  },
  {
   "cell_type": "code",
   "execution_count": 17,
   "metadata": {},
   "outputs": [
    {
     "data": {
      "image/png": "[encoded data removed]",
      "text/plain": [
       "<Figure size 1440x504 with 1 Axes>"
      ]
     },
     "metadata": {
      "needs_background": "light"
     },
     "output_type": "display_data"
    }
   ],
   "source": [
    "plt.figure(figsize=(20,7))\n",
    "#зададим размер графика\n",
    "\n",
    "plt.plot(cmltv_data_a['date'], cmltv_data_a['conversion'], label='A-группа', color = 'darkcyan')\n",
    "plt.plot(cmltv_data_b['date'], cmltv_data_b['conversion'], label='B-группа', color = 'salmon')\n",
    "#строим графики\n",
    "\n",
    "plt.xlabel('Дата')\n",
    "plt.ylabel ('Среднее количество заказов')\n",
    "plt.title('Кумулятивное среднее количества заказов на посетителя по группам')\n",
    "plt.legend();\n",
    "#оформляем"
   ]
  },
  {
   "cell_type": "markdown",
   "metadata": {},
   "source": [
    "**Вывод:** После 5 августа график становится практически симметричным, а ближе к концу августа даже более статичным. Несмотря на то, что в начале теста у группы A было самое большое значение конверсии за все время теста, в дальнейшем она продродолжала только снижаться. Конверсия у группы B после одного падения держится относительно стабильно."
   ]
  },
  {
   "cell_type": "markdown",
   "metadata": {},
   "source": [
    "### График относительного изменения кумулятивного среднего количества заказов на посетителя группы B к группе A"
   ]
  },
  {
   "cell_type": "markdown",
   "metadata": {},
   "source": [
    "Для построения данного графика требуется объеденить кумулятивные данные с конверсией по группам:"
   ]
  },
  {
   "cell_type": "code",
   "execution_count": 18,
   "metadata": {},
   "outputs": [
    {
     "data": {
      "image/png": "[encoded data removed]",
      "text/plain": [
       "<Figure size 1440x504 with 1 Axes>"
      ]
     },
     "metadata": {
      "needs_background": "light"
     },
     "output_type": "display_data"
    }
   ],
   "source": [
    "cmltv_conv = (cmltv_data_a[['date','conversion']]\n",
    "            .merge(cmltv_data_b[['date','conversion']],\\\n",
    "            left_on='date', right_on='date', how='left', suffixes=['_a', '_b']))\n",
    "#объединяем данные в одном датафрейме\n",
    "\n",
    "plt.figure(figsize=(20,7))\n",
    "#зададим размер графика\n",
    "\n",
    "plt.plot(cmltv_conv['date'], cmltv_conv['conversion_b']/cmltv_conv['conversion_a']-1, color = 'lightgreen')\n",
    "#строим график\n",
    "\n",
    "plt.xlabel('Дата')\n",
    "plt.ylabel ('Отноешение среднего количества заказов')\n",
    "plt.title('Относительное изменение кумулятивного среднего количества заказов группы B к группе A')\n",
    "#оформляем\n",
    "\n",
    "plt.axhline(y=0.21, color='grey', linestyle=':')\n",
    "plt.axhline(y=0.09, color='grey', linestyle=':')\n",
    "plt.axhline(y=0, color='black', linestyle='--');\n",
    "#добавляем горизонтальные оси"
   ]
  },
  {
   "cell_type": "markdown",
   "metadata": {},
   "source": [
    "**Вывод:** В начале теста группа B значительно проигрывала группе A, затем вырвалась вперёд. Потом её конверсия снова падала, но после первой недели теста стала постепенно расти и с того момента держится на уровне от 9% до 21%.\n",
    "В целом отношение конверсии ещё не установилось, и сейчас делать какие-либо выводы по тесту нельзя. Впрочем, сперва стоит проанализировать аномалии, возможно, они изменят картину. "
   ]
  },
  {
   "cell_type": "markdown",
   "metadata": {},
   "source": [
    "### Точечный график количества заказов по пользователям"
   ]
  },
  {
   "cell_type": "markdown",
   "metadata": {},
   "source": [
    "Пользователи, совершившие много заказов, влияют на числитель формулы конверсии. Скорее всего, их поведение отличается от нормального. Если речь не идет об интернет-магазине с регулярным спросом, «обычный» пользователь совершает не больше двух заказов за короткий срок. \n",
    "Подсчитаем количество заказов по пользователям и посмотрим на результат:"
   ]
  },
  {
   "cell_type": "code",
   "execution_count": 19,
   "metadata": {},
   "outputs": [
    {
     "data": {
      "text/html": [
       "<div>\n",
       "<style scoped>\n",
       "    .dataframe tbody tr th:only-of-type {\n",
       "        vertical-align: middle;\n",
       "    }\n",
       "\n",
       "    .dataframe tbody tr th {\n",
       "        vertical-align: top;\n",
       "    }\n",
       "\n",
       "    .dataframe thead th {\n",
       "        text-align: right;\n",
       "    }\n",
       "</style>\n",
       "<table border=\"1\" class=\"dataframe\">\n",
       "  <thead>\n",
       "    <tr style=\"text-align: right;\">\n",
       "      <th></th>\n",
       "      <th>user_id</th>\n",
       "      <th>orders</th>\n",
       "    </tr>\n",
       "  </thead>\n",
       "  <tbody>\n",
       "    <tr>\n",
       "      <th>1023</th>\n",
       "      <td>4256040402</td>\n",
       "      <td>11</td>\n",
       "    </tr>\n",
       "    <tr>\n",
       "      <th>591</th>\n",
       "      <td>2458001652</td>\n",
       "      <td>11</td>\n",
       "    </tr>\n",
       "    <tr>\n",
       "      <th>569</th>\n",
       "      <td>2378935119</td>\n",
       "      <td>9</td>\n",
       "    </tr>\n",
       "    <tr>\n",
       "      <th>487</th>\n",
       "      <td>2038680547</td>\n",
       "      <td>8</td>\n",
       "    </tr>\n",
       "    <tr>\n",
       "      <th>44</th>\n",
       "      <td>199603092</td>\n",
       "      <td>5</td>\n",
       "    </tr>\n",
       "    <tr>\n",
       "      <th>744</th>\n",
       "      <td>3062433592</td>\n",
       "      <td>5</td>\n",
       "    </tr>\n",
       "    <tr>\n",
       "      <th>55</th>\n",
       "      <td>237748145</td>\n",
       "      <td>5</td>\n",
       "    </tr>\n",
       "    <tr>\n",
       "      <th>917</th>\n",
       "      <td>3803269165</td>\n",
       "      <td>5</td>\n",
       "    </tr>\n",
       "    <tr>\n",
       "      <th>299</th>\n",
       "      <td>1230306981</td>\n",
       "      <td>5</td>\n",
       "    </tr>\n",
       "    <tr>\n",
       "      <th>897</th>\n",
       "      <td>3717692402</td>\n",
       "      <td>5</td>\n",
       "    </tr>\n",
       "  </tbody>\n",
       "</table>\n",
       "</div>"
      ],
      "text/plain": [
       "         user_id  orders\n",
       "1023  4256040402      11\n",
       "591   2458001652      11\n",
       "569   2378935119       9\n",
       "487   2038680547       8\n",
       "44     199603092       5\n",
       "744   3062433592       5\n",
       "55     237748145       5\n",
       "917   3803269165       5\n",
       "299   1230306981       5\n",
       "897   3717692402       5"
      ]
     },
     "execution_count": 19,
     "metadata": {},
     "output_type": "execute_result"
    }
   ],
   "source": [
    "users_orders = (\n",
    "    orders.groupby('visitor_id', as_index=False)\n",
    "    .agg({'transaction_id': 'nunique'})\n",
    ")\n",
    "#сгруппируем данные об уникальных заказах по пользователям \n",
    "\n",
    "users_orders.columns = ['user_id', 'orders']\n",
    "#переименуем столбцы\n",
    "\n",
    "users_orders.sort_values(by='orders', ascending=False).head(10)\n",
    "#сортируем "
   ]
  },
  {
   "cell_type": "markdown",
   "metadata": {},
   "source": [
    "Есть пользователи, которые совершали 5, 8, 9 и 11 заказов. Значительно больше, чем обычный пользователь за неделю. Построим точечный график количества заказов по пользователям:"
   ]
  },
  {
   "cell_type": "code",
   "execution_count": 20,
   "metadata": {},
   "outputs": [
    {
     "data": {
      "image/png": "[encoded data removed]",
      "text/plain": [
       "<Figure size 1440x504 with 1 Axes>"
      ]
     },
     "metadata": {
      "needs_background": "light"
     },
     "output_type": "display_data"
    }
   ],
   "source": [
    "x_values = pd.Series(range(0,len(users_orders)))\n",
    "#задаем значения оси x\n",
    "\n",
    "plt.figure(figsize=(20,7))\n",
    "#и размера графика\n",
    "\n",
    "plt.scatter(x_values, users_orders['orders'], c='lightblue', alpha=0.6, marker ='*', edgecolor = 'grey')\n",
    "#строим график\n",
    "\n",
    "plt.xlabel('Количество пользователей')\n",
    "plt.ylabel ('Количество заказов')\n",
    "plt.title('Точечный график количества заказов по пользователям');\n",
    "#оформляем"
   ]
  },
  {
   "cell_type": "markdown",
   "metadata": {},
   "source": [
    "**Вывод**: Много пользователей с 2-5 заказами. Их точная доля не ясна — непонятно, считать их аномалиями или нет.\n",
    "А вот заказы от 8 штук точно будут не учитываться в дальнейшем разборе."
   ]
  },
  {
   "cell_type": "markdown",
   "metadata": {},
   "source": [
    "### 95-й и 99-й перцентили количества заказов на пользователя"
   ]
  },
  {
   "cell_type": "markdown",
   "metadata": {},
   "source": [
    "Посчитаем выборочные перцентили количества заказов на одного пользователя:"
   ]
  },
  {
   "cell_type": "code",
   "execution_count": 21,
   "metadata": {},
   "outputs": [
    {
     "name": "stdout",
     "output_type": "stream",
     "text": [
      "[2. 4.]\n"
     ]
    }
   ],
   "source": [
    "print(np.percentile(users_orders['orders'], [95, 99]))\n",
    "#используем метод percentile()"
   ]
  },
  {
   "cell_type": "markdown",
   "metadata": {},
   "source": [
    "**Вывод**: Не более 5% пользователей оформляли больше чем 2 заказов, и не более 1% - 4. \n",
    "Разумно выбрать 3 заказа на одного пользователя за верхнюю границу числа заказов, и отсеять аномальных пользователей по ней. "
   ]
  },
  {
   "cell_type": "markdown",
   "metadata": {},
   "source": [
    "### Точечный график стоимостей заказов"
   ]
  },
  {
   "cell_type": "markdown",
   "metadata": {},
   "source": [
    "Так же как и слишком большое количество заказов, аномально дорогие заказы следует удалять из теста, для этого снова построим график:"
   ]
  },
  {
   "cell_type": "code",
   "execution_count": 22,
   "metadata": {},
   "outputs": [
    {
     "data": {
      "image/png": "[encoded data removed]",
      "text/plain": [
       "<Figure size 1440x504 with 1 Axes>"
      ]
     },
     "metadata": {
      "needs_background": "light"
     },
     "output_type": "display_data"
    }
   ],
   "source": [
    "plt.figure(figsize=(20,7))\n",
    "#зададим размер графика\n",
    "\n",
    "x_values = pd.Series(range(0,len(orders['revenue'])))\n",
    "#задаем значения оси x\n",
    "\n",
    "plt.scatter(x_values, orders['revenue'], c='grey', alpha=0.6, marker =\"*\")\n",
    "#строим график\n",
    "\n",
    "plt.xlabel('Количество заказов')\n",
    "plt.ylabel ('Стоимость заказа')\n",
    "plt.title('Точечный график стоимостей заказов');\n",
    "#оформляем"
   ]
  },
  {
   "cell_type": "markdown",
   "metadata": {},
   "source": [
    "Основной массив данных находится в диапазоне до 0,1 млн. рублей, график сильно искажен из-за максимального значения, превыщающее отметку в 1,2 млн. рублей. Сделаем срез для наглядности:"
   ]
  },
  {
   "cell_type": "code",
   "execution_count": 23,
   "metadata": {},
   "outputs": [
    {
     "data": {
      "image/png": "[encoded data removed]",
      "text/plain": [
       "<Figure size 1440x504 with 1 Axes>"
      ]
     },
     "metadata": {
      "needs_background": "light"
     },
     "output_type": "display_data"
    }
   ],
   "source": [
    "ord_q = orders.query('revenue < 100000')\n",
    "#делаем срез до 100 000\n",
    "\n",
    "plt.figure(figsize=(20,7))\n",
    "#зададим размер графика\n",
    "\n",
    "x_values = pd.Series(range(0,len(ord_q['revenue'])))\n",
    "#задаем значения оси x\n",
    "\n",
    "plt.scatter(x_values, ord_q['revenue'], c='grey', alpha=0.6, marker =\"*\")\n",
    "#строим график\n",
    "\n",
    "plt.xlabel('Количество заказов')\n",
    "plt.ylabel ('Стоимость заказа')\n",
    "plt.title('Точечный график стоимостей заказов');\n",
    "#оформляем"
   ]
  },
  {
   "cell_type": "markdown",
   "metadata": {},
   "source": [
    "**Вывод:** После среза данных до ста тысяч рублей, основной массив данных стал находиться в диапазоне до двадцати тысяч, но на основе графика не удается сделать вывод об аномальности значений, превыщающих это значение."
   ]
  },
  {
   "cell_type": "markdown",
   "metadata": {},
   "source": [
    "### 95-й и 99-й перцентили стоимости заказов"
   ]
  },
  {
   "cell_type": "markdown",
   "metadata": {},
   "source": [
    "Для выявления аномальных значений отсеим от 1% до 5% наблюдений с крайними значениями стоимости заказов:"
   ]
  },
  {
   "cell_type": "code",
   "execution_count": 24,
   "metadata": {},
   "outputs": [
    {
     "name": "stdout",
     "output_type": "stream",
     "text": [
      "[28000.  58233.2]\n"
     ]
    }
   ],
   "source": [
    "print(np.percentile(orders['revenue'], [95, 99]))\n",
    "#используем метод percentile()"
   ]
  },
  {
   "cell_type": "markdown",
   "metadata": {},
   "source": [
    "**Вывод:** Не более 5% пользователей оформляли заказ на сумму более чем 28 000 рублей, и не более 1% - в районе 58 000 рублей. \n",
    "Разумно выбрать 30 000 рублей за верхнюю границу стоимости заказов, и отсеять аномальных пользователей по ней. "
   ]
  },
  {
   "cell_type": "markdown",
   "metadata": {},
   "source": [
    "### Cтатистическая значимость различий в среднем количестве заказов на посетителя между группами по «сырым» данным"
   ]
  },
  {
   "cell_type": "markdown",
   "metadata": {},
   "source": [
    "После определения аномальных значений, мы можем оценить статистическую значимость различий в среднем количестве заказов на посетителя между группами по «сырым» данным и сравнить ее с \"очищенными\" данными. \n",
    "Для этого подготовим данные:"
   ]
  },
  {
   "cell_type": "code",
   "execution_count": 25,
   "metadata": {},
   "outputs": [
    {
     "data": {
      "text/html": [
       "<div>\n",
       "<style scoped>\n",
       "    .dataframe tbody tr th:only-of-type {\n",
       "        vertical-align: middle;\n",
       "    }\n",
       "\n",
       "    .dataframe tbody tr th {\n",
       "        vertical-align: top;\n",
       "    }\n",
       "\n",
       "    .dataframe thead th {\n",
       "        text-align: right;\n",
       "    }\n",
       "</style>\n",
       "<table border=\"1\" class=\"dataframe\">\n",
       "  <thead>\n",
       "    <tr style=\"text-align: right;\">\n",
       "      <th></th>\n",
       "      <th>user_id</th>\n",
       "      <th>orders</th>\n",
       "    </tr>\n",
       "  </thead>\n",
       "  <tbody>\n",
       "    <tr>\n",
       "      <th>0</th>\n",
       "      <td>8300375</td>\n",
       "      <td>1</td>\n",
       "    </tr>\n",
       "    <tr>\n",
       "      <th>1</th>\n",
       "      <td>11685486</td>\n",
       "      <td>1</td>\n",
       "    </tr>\n",
       "    <tr>\n",
       "      <th>2</th>\n",
       "      <td>54447517</td>\n",
       "      <td>1</td>\n",
       "    </tr>\n",
       "    <tr>\n",
       "      <th>3</th>\n",
       "      <td>66685450</td>\n",
       "      <td>1</td>\n",
       "    </tr>\n",
       "    <tr>\n",
       "      <th>4</th>\n",
       "      <td>78758296</td>\n",
       "      <td>1</td>\n",
       "    </tr>\n",
       "  </tbody>\n",
       "</table>\n",
       "</div>"
      ],
      "text/plain": [
       "    user_id  orders\n",
       "0   8300375       1\n",
       "1  11685486       1\n",
       "2  54447517       1\n",
       "3  66685450       1\n",
       "4  78758296       1"
      ]
     },
     "metadata": {},
     "output_type": "display_data"
    },
    {
     "data": {
      "text/html": [
       "<div>\n",
       "<style scoped>\n",
       "    .dataframe tbody tr th:only-of-type {\n",
       "        vertical-align: middle;\n",
       "    }\n",
       "\n",
       "    .dataframe tbody tr th {\n",
       "        vertical-align: top;\n",
       "    }\n",
       "\n",
       "    .dataframe thead th {\n",
       "        text-align: right;\n",
       "    }\n",
       "</style>\n",
       "<table border=\"1\" class=\"dataframe\">\n",
       "  <thead>\n",
       "    <tr style=\"text-align: right;\">\n",
       "      <th></th>\n",
       "      <th>user_id</th>\n",
       "      <th>orders</th>\n",
       "    </tr>\n",
       "  </thead>\n",
       "  <tbody>\n",
       "    <tr>\n",
       "      <th>0</th>\n",
       "      <td>5114589</td>\n",
       "      <td>1</td>\n",
       "    </tr>\n",
       "    <tr>\n",
       "      <th>1</th>\n",
       "      <td>6958315</td>\n",
       "      <td>1</td>\n",
       "    </tr>\n",
       "    <tr>\n",
       "      <th>2</th>\n",
       "      <td>8300375</td>\n",
       "      <td>1</td>\n",
       "    </tr>\n",
       "    <tr>\n",
       "      <th>3</th>\n",
       "      <td>39475350</td>\n",
       "      <td>1</td>\n",
       "    </tr>\n",
       "    <tr>\n",
       "      <th>4</th>\n",
       "      <td>47206413</td>\n",
       "      <td>1</td>\n",
       "    </tr>\n",
       "  </tbody>\n",
       "</table>\n",
       "</div>"
      ],
      "text/plain": [
       "    user_id  orders\n",
       "0   5114589       1\n",
       "1   6958315       1\n",
       "2   8300375       1\n",
       "3  39475350       1\n",
       "4  47206413       1"
      ]
     },
     "execution_count": 25,
     "metadata": {},
     "output_type": "execute_result"
    }
   ],
   "source": [
    "orders_users_a = (\n",
    "    orders[orders['group'] == 'A']\n",
    "    .groupby('visitor_id', as_index=False)\n",
    "    .agg({'transaction_id': pd.Series.nunique})\n",
    ")\n",
    "#создаем переменную, где укажем число совершённых заказов в группе A, \n",
    "#для пользователей, которые заказывали хотя бы 1 раз\n",
    "\n",
    "orders_users_a.columns = ['user_id', 'orders']\n",
    "#переименовываем столбцы\n",
    "\n",
    "orders_users_b = (\n",
    "    orders[orders['group'] == 'B']\n",
    "    .groupby('visitor_id', as_index=False)\n",
    "    .agg({'transaction_id': pd.Series.nunique})\n",
    ")\n",
    "#создаем переменную, где укажем число совершённых заказов в группе B\n",
    "#для пользователей, которые заказывали хотя бы 1 раз\n",
    "\n",
    "orders_users_b.columns = ['user_id', 'orders']\n",
    "#переименовываем столбцы\n",
    "\n",
    "display(orders_users_a.head(5))\n",
    "orders_users_b.head(5)\n",
    "#посмотрим, что получилось"
   ]
  },
  {
   "cell_type": "markdown",
   "metadata": {},
   "source": [
    "Теперь объявим переменные, в которых пользователям из разных групп будет соответствовать количество заказов. Тем, кто ничего не заказал, будут соответствовать нули. Это нужно, чтобы подготовить выборки к проверке критерием Манна-Уитни:"
   ]
  },
  {
   "cell_type": "code",
   "execution_count": 26,
   "metadata": {},
   "outputs": [],
   "source": [
    "visitors_a = visitors[visitors['group'] == 'A'][['date', 'visitors']]\n",
    "visitors_b = visitors[visitors['group'] == 'B'][['date', 'visitors']]\n",
    "#сооздадим переменные с количеством пользователей в выбранную дату по группам\n",
    "\n",
    "sample_a = pd.concat(\n",
    "    [\n",
    "        orders_users_a['orders'],\n",
    "        pd.Series(\n",
    "            0,\n",
    "            index=np.arange(\n",
    "                visitors_a['visitors'].sum() - len(orders_users_a['orders'])\n",
    "            ),\n",
    "            name='orders',\n",
    "        ),\n",
    "    ],\n",
    "    axis=0,\n",
    ")\n",
    "\n",
    "sample_b = pd.concat(\n",
    "    [\n",
    "        orders_users_b['orders'],\n",
    "        pd.Series(\n",
    "            0,\n",
    "            index=np.arange(\n",
    "                visitors_b['visitors'].sum() - len(orders_users_b['orders'])\n",
    "            ),\n",
    "            name='orders',\n",
    "        ),\n",
    "    ],\n",
    "    axis=0,\n",
    ")\n",
    "#создаем переменные, с количеством заказов по группам"
   ]
  },
  {
   "cell_type": "markdown",
   "metadata": {},
   "source": [
    "Все готово для просчета статистической значимости различий в среднем количестве заказов на посетителя.\n",
    "\n",
    "- Нулевая гипотеза: Статистически значимых различий в среднем числе заказов между группами нет\n",
    "- Альтернативная: Различия есть\n",
    "- Альфа-уровень проверки гипотезы возьмем равным 0.05"
   ]
  },
  {
   "cell_type": "code",
   "execution_count": 27,
   "metadata": {},
   "outputs": [
    {
     "name": "stdout",
     "output_type": "stream",
     "text": [
      "p-value = 0.017\n",
      "Отношение конверсии В к А: 0.138\n",
      "Статистически значимые различия в среднем числе заказов между группами существуют\n"
     ]
    }
   ],
   "source": [
    "alpha = 0.05\n",
    "#задаем значение альфа-уровня\n",
    "\n",
    "p_value = stats.mannwhitneyu(sample_a, sample_b)[1]\n",
    "#считаем значение p-value\n",
    "\n",
    "print('p-value = {0:.3f}'.format(p_value))\n",
    "#выводим значение p-value\n",
    "\n",
    "print('Отношение конверсии В к А: {0:.3f}'.format(sample_b.mean() / sample_a.mean() - 1))\n",
    "#выводим значение конверсии\n",
    "\n",
    "if p_value < alpha:\n",
    "    print('Статистически значимые различия в среднем числе заказов между группами существуют')\n",
    "else:\n",
    "    print('Статистически значимых различий в среднем числе заказов между группами нет')\n",
    "#делаем сравнение и выводим гипотезу"
   ]
  },
  {
   "cell_type": "markdown",
   "metadata": {},
   "source": [
    "**Вывод:** По «сырым» данным различия в среднем числе заказов групп A и B существуют. \n",
    "P-value = 0.017, а значит меньше 0.05 и нулевую гипотезу о том, что статистически значимых различий в среднем числе заказов между группами нет, отвергаем. Однако относительный выигрыш группы B равен 13.8%."
   ]
  },
  {
   "cell_type": "markdown",
   "metadata": {},
   "source": [
    "### Статистическая значимость различий в среднем чеке заказа между группами по «сырым» данным"
   ]
  },
  {
   "cell_type": "markdown",
   "metadata": {},
   "source": [
    "Теперь проверим статистическую значимость различий в среднем чеке между сегментами. \n",
    "\n",
    "- Нулевая гипотеза: Различий в среднем чеке между группами нет\n",
    "- Альтернативная гипотеза: Различия в среднем чеке между группами есть\n",
    "- Альфа-уровень проверки гипотезы возьмем равным 0.05"
   ]
  },
  {
   "cell_type": "code",
   "execution_count": 28,
   "metadata": {},
   "outputs": [
    {
     "name": "stdout",
     "output_type": "stream",
     "text": [
      "p-value = 0.729\n",
      "Отношение среднего чека группы B к группе A = 0.259\n",
      "Статистически значимых различий в среднем чеке заказа между группами нет\n"
     ]
    }
   ],
   "source": [
    "p_value = stats.mannwhitneyu(orders[orders['group']=='A']['revenue'], orders[orders['group']=='B']['revenue'])[1]\n",
    "#считаем значение p-value\n",
    "\n",
    "print('p-value = {0:.3f}'.format(p_value))\n",
    "#выводим значение p-value\n",
    "\n",
    "print('Отношение среднего чека группы B к группе A = {0:.3f}'.format(\n",
    "    orders[orders['group']=='B']['revenue'].mean()/orders[orders['group']=='A']['revenue'].mean()-1)\n",
    "     )\n",
    "#выводим значение отношения средних чеков\n",
    "\n",
    "if p_value < alpha:\n",
    "    print('Статистически значимые различия в среднем чеке заказа между группами существуют')\n",
    "else:\n",
    "    print('Статистически значимых различий в среднем чеке заказа между группами нет')\n",
    "#делаем сравнение и выводим гипотезу"
   ]
  },
  {
   "cell_type": "markdown",
   "metadata": {},
   "source": [
    "**Вывод:** P-value значительно больше 0.05. Значит, причин отвергать нулевую гипотезу и считать, что в среднем чеке есть различия, нет, а отношение среднего чека группы B к чеку группы A имеет такое большое различие из-за единичных выбросов."
   ]
  },
  {
   "cell_type": "markdown",
   "metadata": {},
   "source": [
    "### Cтатистическая значимость различий в среднем количестве заказов на посетителя между группами по «очищенным» данным"
   ]
  },
  {
   "cell_type": "markdown",
   "metadata": {},
   "source": [
    "Напомним, что найденные ранее 95-й и 99-й перцентили средних чеков равны 28 000 и 58 233,2 рублям. А 95-й и 99-й перцентили количества заказов на одного пользователя равны 2 и 4 заказа на пользователя.\n",
    "Примем за аномальных пользователей тех, кто совершил от 3 заказов или совершил заказ дороже 30 000 рублей. Так мы уберём 5% пользователей с наибольшим числом заказов и от 1% до 5% пользователей с дорогими заказами. \n",
    "\n",
    "Сделаем срезы пользователей с числом заказов больше 3 и пользователей, совершивших заказы дороже 30 000 и объединим их. Далее узнаем, сколько всего аномальных пользователей с помощью атрибута shape."
   ]
  },
  {
   "cell_type": "code",
   "execution_count": 29,
   "metadata": {
    "scrolled": true
   },
   "outputs": [
    {
     "name": "stdout",
     "output_type": "stream",
     "text": [
      "Количество аномальных пользователей составило 57 человек\n"
     ]
    },
    {
     "data": {
      "text/plain": [
       "1099    148427295\n",
       "18      199603092\n",
       "928     204675465\n",
       "23      237748145\n",
       "684     358944393\n",
       "dtype: int64"
      ]
     },
     "execution_count": 29,
     "metadata": {},
     "output_type": "execute_result"
    }
   ],
   "source": [
    "expensive_orders = orders[orders['revenue'] > 30000]['visitor_id']\n",
    "#делаем срез по аномальной стоимости заказа\n",
    "\n",
    "large_orders = pd.concat(\n",
    "    [\n",
    "        orders_users_a[orders_users_a['orders'] > 3]['user_id'],\n",
    "        orders_users_b[orders_users_b['orders'] > 3]['user_id'],\n",
    "    ],\n",
    "    axis=0,\n",
    ")\n",
    "#делаем срез по аномальному количеству заказов по группам \n",
    "\n",
    "anomaly_users = (\n",
    "    pd.concat([large_orders, expensive_orders], axis=0)\n",
    "    .drop_duplicates()\n",
    "    .sort_values()\n",
    ")\n",
    "#соединяем в один датафрейм\n",
    "\n",
    "print('Количество аномальных пользователей составило', anomaly_users.shape[0], 'человек')\n",
    "#выведем получившееся количество аномальных пользователей\n",
    "\n",
    "anomaly_users.head()\n",
    "#выводим первые 5 значений полученного датафрейма"
   ]
  },
  {
   "cell_type": "markdown",
   "metadata": {},
   "source": [
    "Всего 57 аномальных пользователей. Узнаем, как их действия повлияли на результаты теста. Посчитаем статистическую значимость различий в среднем количестве заказов между группами теста по очищенным данным. Сначала подготовим выборки количества заказов по пользователям по группам теста:"
   ]
  },
  {
   "cell_type": "code",
   "execution_count": 30,
   "metadata": {},
   "outputs": [],
   "source": [
    "sample_a = pd.concat(\n",
    "    [\n",
    "        orders_users_a[\n",
    "            np.logical_not(orders_users_a['user_id'].isin(anomaly_users))\n",
    "        ]['orders'],\n",
    "        pd.Series(\n",
    "            0,\n",
    "            index=np.arange(\n",
    "                visitors_a['visitors'].sum() - len(orders_users_a['orders'])\n",
    "            ),\n",
    "            name='orders',\n",
    "        ),\n",
    "    ],\n",
    "    axis=0,\n",
    ")\n",
    "\n",
    "sample_b = pd.concat(\n",
    "    [\n",
    "        orders_users_b[\n",
    "            np.logical_not(orders_users_b['user_id'].isin(anomaly_users))\n",
    "        ]['orders'],\n",
    "        pd.Series(\n",
    "            0,\n",
    "            index=np.arange(\n",
    "                visitors_b['visitors'].sum() - len(orders_users_b['orders'])\n",
    "            ),\n",
    "            name='orders',\n",
    "        ),\n",
    "    ],\n",
    "    axis=0,\n",
    ")\n",
    "#создаем переменные, с количеством заказов по группам, не включающие аномальных пользователей"
   ]
  },
  {
   "cell_type": "markdown",
   "metadata": {},
   "source": [
    "Все готово для просчета статистической значимости различий в среднем количестве заказов на посетителя.\n",
    "\n",
    "Вспомним, что:\n",
    "- Нулевая гипотеза: Статистически значимых различий в среднем числе заказов между группами нет\n",
    "- Альтернативная: Различия есть\n",
    "- Альфа-уровень проверки гипотезы возьмем равным 0.05"
   ]
  },
  {
   "cell_type": "code",
   "execution_count": 31,
   "metadata": {},
   "outputs": [
    {
     "name": "stdout",
     "output_type": "stream",
     "text": [
      "p-value = 0.018\n",
      "Отношение конверсии В к А: 0.148\n",
      "Статистически значимые различия в среднем числе заказов между группами существуют\n"
     ]
    }
   ],
   "source": [
    "p_value = stats.mannwhitneyu(sample_a, sample_b)[1]\n",
    "#считаем значение p-value\n",
    "\n",
    "print('p-value = {0:.3f}'.format(p_value))\n",
    "#выводим значение p-value\n",
    "\n",
    "print('Отношение конверсии В к А: {0:.3f}'.format(sample_b.mean() / sample_a.mean() - 1))\n",
    "#выводим значение конверсии\n",
    "\n",
    "if p_value < alpha:\n",
    "    print('Статистически значимые различия в среднем числе заказов между группами существуют')\n",
    "else:\n",
    "    print('Статистически значимых различий в среднем числе заказов между группами нет')\n",
    "#делаем сравнение и выводим гипотезу"
   ]
  },
  {
   "cell_type": "markdown",
   "metadata": {},
   "source": [
    "**Вывод:** По «очищенным» данным, так же как и по \"сырым\" различия в среднем числе заказов групп A и B существуют. \n",
    "P-value = 0.018, и т.к. он незначительно отличается от предыдущего значения, значение так же меньше 0.05 и нулевую гипотезу о том, что статистически значимых различий в среднем числе заказов между группами нет, отвергаем. Однако относительный выигрыш группы B равен уже 14.8%."
   ]
  },
  {
   "cell_type": "markdown",
   "metadata": {},
   "source": [
    "### Статистическая значимость различий в среднем чеке заказа между группами по «очищенным» данным"
   ]
  },
  {
   "cell_type": "code",
   "execution_count": 32,
   "metadata": {},
   "outputs": [
    {
     "name": "stdout",
     "output_type": "stream",
     "text": [
      "p-value = 0.958\n",
      "Отношение среднего чека группы B к группе A = -0.020\n",
      "Статистически значимых различий в среднем чеке заказа между группами нет\n"
     ]
    }
   ],
   "source": [
    "p_value = stats.mannwhitneyu(\n",
    "            orders[\n",
    "                np.logical_and(\n",
    "                    orders['group'] == 'A',\n",
    "                    np.logical_not(orders['visitor_id'].isin(anomaly_users)),\n",
    "                )\n",
    "            ]['revenue'],\n",
    "            orders[\n",
    "                np.logical_and(\n",
    "                    orders['group'] == 'B',\n",
    "                    np.logical_not(orders['visitor_id'].isin(anomaly_users)),\n",
    "                )\n",
    "            ]['revenue'],\n",
    "        )[1]\n",
    "#считаем значение p-value для \"очищенных\" данных\n",
    "\n",
    "print('p-value = {0:.3f}'.format(p_value))\n",
    "#выводим значение p-value\n",
    "\n",
    "print('Отношение среднего чека группы B к группе A = {0:.3f}'.format(\n",
    "    orders[\n",
    "            np.logical_and(\n",
    "                orders['group'] == 'B',\n",
    "                np.logical_not(orders['visitor_id'].isin(anomaly_users)),\n",
    "            )\n",
    "        ]['revenue'].mean()\n",
    "        / orders[\n",
    "            np.logical_and(\n",
    "                orders['group'] == 'A',\n",
    "                np.logical_not(orders['visitor_id'].isin(anomaly_users)),\n",
    "            )\n",
    "        ]['revenue'].mean()\n",
    "        - 1\n",
    "    )\n",
    ")\n",
    "#выводим значение отношения \"очищенных\" средних чеков\n",
    "\n",
    "if p_value < alpha:\n",
    "    print('Статистически значимые различия в среднем чеке заказа между группами существуют')\n",
    "else:\n",
    "    print('Статистически значимых различий в среднем чеке заказа между группами нет')\n",
    "#делаем сравнение и выводим гипотезу"
   ]
  },
  {
   "cell_type": "markdown",
   "metadata": {},
   "source": [
    "**Вывод:** P-value так же значительно больше 0.05. Значит, причин отвергать нулевую гипотезу и считать, что в среднем чеке есть различия, нет. Впрочем, средний чек группы B практически сравнялся со значением среднего чека группы A."
   ]
  },
  {
   "cell_type": "markdown",
   "metadata": {},
   "source": [
    "## Выводы"
   ]
  },
  {
   "cell_type": "markdown",
   "metadata": {},
   "source": [
    "1) Есть статистически значимое различие по среднему количеству заказов между группами как по «сырым», так и по данным после фильтрации аномалий\n",
    "\n",
    "2) Нет статистически значимого различия по среднему чеку между группами ни по «сырым», ни по данным после фильтрации аномалий\n",
    "\n",
    "3) График различия среднего количества заказов между группами сообщает, что результаты группы B лучше группы A и довольно стабильно удерживает свои позиции\n",
    "\n",
    "4) График различия среднего чека говорит о том, что результаты группы B 13 августа единственый раз ухудшаются по сравнению с группой A, исключая начало тестирования.\n",
    "\n",
    "Исходя из обнаруженных фактов, тест следует остановить и признать его успешным. Продолжать смысла нет, потому как вероятность, что при имеющихся данных сегмент A спустя время станет лучше сегмента B — практически нулевая."
   ]
  }
 ],
 "metadata": {
  "ExecuteTimeLog": [
   {
    "duration": 1214,
    "start_time": "2023-12-16T19:55:38.400Z"
   },
   {
    "duration": 251,
    "start_time": "2023-12-16T19:55:41.210Z"
   },
   {
    "duration": 22,
    "start_time": "2023-12-16T19:55:43.416Z"
   },
   {
    "duration": 88,
    "start_time": "2023-12-16T20:01:54.671Z"
   },
   {
    "duration": 20,
    "start_time": "2023-12-16T20:02:15.765Z"
   },
   {
    "duration": 54,
    "start_time": "2023-12-16T20:02:51.649Z"
   },
   {
    "duration": 22,
    "start_time": "2023-12-16T20:04:33.601Z"
   },
   {
    "duration": 49,
    "start_time": "2023-12-16T20:06:35.292Z"
   },
   {
    "duration": 211,
    "start_time": "2023-12-16T20:06:47.587Z"
   },
   {
    "duration": 222,
    "start_time": "2023-12-16T20:07:42.142Z"
   },
   {
    "duration": 13,
    "start_time": "2023-12-16T20:08:06.332Z"
   },
   {
    "duration": 558,
    "start_time": "2023-12-16T20:08:42.517Z"
   },
   {
    "duration": 1017,
    "start_time": "2023-12-16T20:09:20.819Z"
   },
   {
    "duration": 127,
    "start_time": "2023-12-16T20:09:21.838Z"
   },
   {
    "duration": 21,
    "start_time": "2023-12-16T20:09:21.966Z"
   },
   {
    "duration": 19,
    "start_time": "2023-12-16T20:09:21.988Z"
   },
   {
    "duration": 24,
    "start_time": "2023-12-16T20:09:22.009Z"
   },
   {
    "duration": 33,
    "start_time": "2023-12-16T20:09:22.034Z"
   },
   {
    "duration": 74,
    "start_time": "2023-12-16T20:09:57.500Z"
   },
   {
    "duration": 9,
    "start_time": "2023-12-16T20:11:05.739Z"
   },
   {
    "duration": 1040,
    "start_time": "2023-12-16T20:26:36.281Z"
   },
   {
    "duration": 122,
    "start_time": "2023-12-16T20:26:37.323Z"
   },
   {
    "duration": 21,
    "start_time": "2023-12-16T20:26:37.447Z"
   },
   {
    "duration": 17,
    "start_time": "2023-12-16T20:26:37.470Z"
   },
   {
    "duration": 23,
    "start_time": "2023-12-16T20:26:37.488Z"
   },
   {
    "duration": 41,
    "start_time": "2023-12-16T20:26:37.512Z"
   },
   {
    "duration": 9,
    "start_time": "2023-12-16T20:26:37.555Z"
   },
   {
    "duration": 1014,
    "start_time": "2023-12-16T20:27:00.141Z"
   },
   {
    "duration": 135,
    "start_time": "2023-12-16T20:27:01.158Z"
   },
   {
    "duration": 23,
    "start_time": "2023-12-16T20:27:01.295Z"
   },
   {
    "duration": 50,
    "start_time": "2023-12-16T20:27:01.320Z"
   },
   {
    "duration": 47,
    "start_time": "2023-12-16T20:27:01.373Z"
   },
   {
    "duration": 56,
    "start_time": "2023-12-16T20:27:01.422Z"
   },
   {
    "duration": 37,
    "start_time": "2023-12-16T20:27:01.480Z"
   },
   {
    "duration": 99,
    "start_time": "2023-12-16T20:29:02.948Z"
   },
   {
    "duration": 11,
    "start_time": "2023-12-16T20:29:12.317Z"
   },
   {
    "duration": 11,
    "start_time": "2023-12-16T20:30:29.466Z"
   },
   {
    "duration": 12,
    "start_time": "2023-12-16T20:34:53.588Z"
   },
   {
    "duration": 11,
    "start_time": "2023-12-16T20:35:04.801Z"
   },
   {
    "duration": 11,
    "start_time": "2023-12-16T20:48:20.197Z"
   },
   {
    "duration": 10,
    "start_time": "2023-12-16T20:48:32.951Z"
   },
   {
    "duration": 12,
    "start_time": "2023-12-16T20:48:45.121Z"
   },
   {
    "duration": 11,
    "start_time": "2023-12-16T20:49:18.722Z"
   },
   {
    "duration": 9,
    "start_time": "2023-12-16T20:50:13.377Z"
   },
   {
    "duration": 7,
    "start_time": "2023-12-16T20:50:27.352Z"
   },
   {
    "duration": 8,
    "start_time": "2023-12-16T20:50:38.601Z"
   },
   {
    "duration": 10,
    "start_time": "2023-12-16T20:50:50.037Z"
   },
   {
    "duration": 10,
    "start_time": "2023-12-16T20:50:58.996Z"
   },
   {
    "duration": 18,
    "start_time": "2023-12-16T20:51:10.432Z"
   },
   {
    "duration": 7,
    "start_time": "2023-12-16T20:51:18.968Z"
   },
   {
    "duration": 8,
    "start_time": "2023-12-16T20:51:34.064Z"
   },
   {
    "duration": 9,
    "start_time": "2023-12-16T20:51:58.438Z"
   },
   {
    "duration": 8,
    "start_time": "2023-12-16T20:52:32.156Z"
   },
   {
    "duration": 9,
    "start_time": "2023-12-16T20:52:46.940Z"
   },
   {
    "duration": 10,
    "start_time": "2023-12-16T20:53:49.901Z"
   },
   {
    "duration": 16,
    "start_time": "2023-12-16T20:53:58.291Z"
   },
   {
    "duration": 9,
    "start_time": "2023-12-16T20:54:07.014Z"
   },
   {
    "duration": 35,
    "start_time": "2023-12-16T20:55:59.528Z"
   },
   {
    "duration": 9,
    "start_time": "2023-12-16T20:56:17.916Z"
   },
   {
    "duration": 13,
    "start_time": "2023-12-16T20:56:42.609Z"
   },
   {
    "duration": 9,
    "start_time": "2023-12-16T20:57:14.971Z"
   },
   {
    "duration": 9,
    "start_time": "2023-12-16T20:57:22.957Z"
   },
   {
    "duration": 8,
    "start_time": "2023-12-16T20:58:30.643Z"
   },
   {
    "duration": 13,
    "start_time": "2023-12-16T20:58:39.317Z"
   },
   {
    "duration": 13,
    "start_time": "2023-12-16T21:02:43.233Z"
   },
   {
    "duration": 13,
    "start_time": "2023-12-16T21:02:52.017Z"
   },
   {
    "duration": 1175,
    "start_time": "2023-12-18T10:53:47.652Z"
   },
   {
    "duration": 250,
    "start_time": "2023-12-18T10:53:48.833Z"
   },
   {
    "duration": 20,
    "start_time": "2023-12-18T10:53:49.084Z"
   },
   {
    "duration": 17,
    "start_time": "2023-12-18T10:53:49.105Z"
   },
   {
    "duration": 22,
    "start_time": "2023-12-18T10:53:49.125Z"
   },
   {
    "duration": 30,
    "start_time": "2023-12-18T10:53:49.148Z"
   },
   {
    "duration": 36,
    "start_time": "2023-12-18T10:53:49.179Z"
   },
   {
    "duration": 88,
    "start_time": "2023-12-18T10:53:49.217Z"
   },
   {
    "duration": 0,
    "start_time": "2023-12-18T10:53:49.315Z"
   },
   {
    "duration": 0,
    "start_time": "2023-12-18T10:53:49.316Z"
   },
   {
    "duration": 6,
    "start_time": "2023-12-18T10:53:56.296Z"
   },
   {
    "duration": 5,
    "start_time": "2023-12-18T10:54:20.241Z"
   },
   {
    "duration": 8,
    "start_time": "2023-12-18T10:55:34.580Z"
   },
   {
    "duration": 6,
    "start_time": "2023-12-18T10:55:42.331Z"
   },
   {
    "duration": 9,
    "start_time": "2023-12-18T10:56:45.137Z"
   },
   {
    "duration": 8,
    "start_time": "2023-12-18T10:58:04.917Z"
   },
   {
    "duration": 4,
    "start_time": "2023-12-18T10:58:30.363Z"
   },
   {
    "duration": 4,
    "start_time": "2023-12-18T10:58:47.640Z"
   },
   {
    "duration": 8,
    "start_time": "2023-12-18T10:58:54.066Z"
   },
   {
    "duration": 5,
    "start_time": "2023-12-18T10:59:14.984Z"
   },
   {
    "duration": 5,
    "start_time": "2023-12-18T10:59:31.316Z"
   },
   {
    "duration": 7,
    "start_time": "2023-12-18T10:59:35.745Z"
   },
   {
    "duration": 5,
    "start_time": "2023-12-18T11:01:15.838Z"
   },
   {
    "duration": 5,
    "start_time": "2023-12-18T11:02:05.774Z"
   },
   {
    "duration": 4,
    "start_time": "2023-12-18T11:02:20.755Z"
   },
   {
    "duration": 4,
    "start_time": "2023-12-18T11:02:32.625Z"
   },
   {
    "duration": 4,
    "start_time": "2023-12-18T11:02:56.383Z"
   },
   {
    "duration": 3,
    "start_time": "2023-12-18T11:05:10.706Z"
   },
   {
    "duration": 12,
    "start_time": "2023-12-18T11:06:46.091Z"
   },
   {
    "duration": 5,
    "start_time": "2023-12-18T11:07:56.809Z"
   },
   {
    "duration": 4,
    "start_time": "2023-12-18T11:08:22.384Z"
   },
   {
    "duration": 4,
    "start_time": "2023-12-18T11:08:38.318Z"
   },
   {
    "duration": 4,
    "start_time": "2023-12-18T11:08:47.600Z"
   },
   {
    "duration": 4,
    "start_time": "2023-12-18T11:09:31.486Z"
   },
   {
    "duration": 5,
    "start_time": "2023-12-18T11:09:38.135Z"
   },
   {
    "duration": 5,
    "start_time": "2023-12-18T11:09:46.872Z"
   },
   {
    "duration": 4,
    "start_time": "2023-12-18T11:09:56.751Z"
   },
   {
    "duration": 4,
    "start_time": "2023-12-18T11:10:02.590Z"
   },
   {
    "duration": 4,
    "start_time": "2023-12-18T11:10:11.152Z"
   },
   {
    "duration": 4,
    "start_time": "2023-12-18T11:10:37.899Z"
   },
   {
    "duration": 9,
    "start_time": "2023-12-18T11:10:45.862Z"
   },
   {
    "duration": 9,
    "start_time": "2023-12-18T11:10:53.275Z"
   },
   {
    "duration": 8,
    "start_time": "2023-12-18T11:11:00.283Z"
   },
   {
    "duration": 5,
    "start_time": "2023-12-18T11:11:12.734Z"
   },
   {
    "duration": 4,
    "start_time": "2023-12-18T11:11:19.228Z"
   },
   {
    "duration": 5,
    "start_time": "2023-12-18T11:11:36.449Z"
   },
   {
    "duration": 6,
    "start_time": "2023-12-18T11:11:38.742Z"
   },
   {
    "duration": 1052,
    "start_time": "2023-12-18T11:15:18.598Z"
   },
   {
    "duration": 126,
    "start_time": "2023-12-18T11:15:19.654Z"
   },
   {
    "duration": 22,
    "start_time": "2023-12-18T11:15:19.782Z"
   },
   {
    "duration": 17,
    "start_time": "2023-12-18T11:15:19.806Z"
   },
   {
    "duration": 33,
    "start_time": "2023-12-18T11:15:19.825Z"
   },
   {
    "duration": 32,
    "start_time": "2023-12-18T11:15:19.860Z"
   },
   {
    "duration": 27,
    "start_time": "2023-12-18T11:15:19.894Z"
   },
   {
    "duration": 7,
    "start_time": "2023-12-18T11:15:19.923Z"
   },
   {
    "duration": 38,
    "start_time": "2023-12-18T11:15:19.932Z"
   },
   {
    "duration": 17,
    "start_time": "2023-12-18T11:15:19.972Z"
   },
   {
    "duration": 2,
    "start_time": "2023-12-18T11:16:04.699Z"
   },
   {
    "duration": 2,
    "start_time": "2023-12-18T11:16:30.390Z"
   },
   {
    "duration": 12,
    "start_time": "2023-12-18T11:25:53.025Z"
   },
   {
    "duration": 11,
    "start_time": "2023-12-18T11:26:38.359Z"
   },
   {
    "duration": 12,
    "start_time": "2023-12-18T11:26:45.940Z"
   },
   {
    "duration": 11,
    "start_time": "2023-12-18T11:27:31.319Z"
   },
   {
    "duration": 12,
    "start_time": "2023-12-18T11:27:34.791Z"
   },
   {
    "duration": 12,
    "start_time": "2023-12-18T11:27:46.131Z"
   },
   {
    "duration": 13,
    "start_time": "2023-12-18T11:27:56.989Z"
   },
   {
    "duration": 12,
    "start_time": "2023-12-18T11:29:08.330Z"
   },
   {
    "duration": 1042,
    "start_time": "2023-12-18T11:29:47.914Z"
   },
   {
    "duration": 122,
    "start_time": "2023-12-18T11:29:48.958Z"
   },
   {
    "duration": 20,
    "start_time": "2023-12-18T11:29:49.081Z"
   },
   {
    "duration": 18,
    "start_time": "2023-12-18T11:29:49.103Z"
   },
   {
    "duration": 21,
    "start_time": "2023-12-18T11:29:49.123Z"
   },
   {
    "duration": 44,
    "start_time": "2023-12-18T11:29:49.145Z"
   },
   {
    "duration": 14,
    "start_time": "2023-12-18T11:29:49.190Z"
   },
   {
    "duration": 14,
    "start_time": "2023-12-18T11:29:49.205Z"
   },
   {
    "duration": 13,
    "start_time": "2023-12-18T11:29:49.220Z"
   },
   {
    "duration": 13,
    "start_time": "2023-12-18T11:29:49.234Z"
   },
   {
    "duration": 9,
    "start_time": "2023-12-18T11:34:19.473Z"
   },
   {
    "duration": 1037,
    "start_time": "2023-12-18T12:07:04.576Z"
   },
   {
    "duration": 78,
    "start_time": "2023-12-18T12:07:05.615Z"
   },
   {
    "duration": 23,
    "start_time": "2023-12-18T12:07:05.694Z"
   },
   {
    "duration": 20,
    "start_time": "2023-12-18T12:07:05.720Z"
   },
   {
    "duration": 24,
    "start_time": "2023-12-18T12:07:05.742Z"
   },
   {
    "duration": 58,
    "start_time": "2023-12-18T12:07:05.767Z"
   },
   {
    "duration": 9,
    "start_time": "2023-12-18T12:07:05.826Z"
   },
   {
    "duration": 5,
    "start_time": "2023-12-18T12:07:05.837Z"
   },
   {
    "duration": 25,
    "start_time": "2023-12-18T12:07:05.843Z"
   },
   {
    "duration": 12,
    "start_time": "2023-12-18T12:07:05.870Z"
   },
   {
    "duration": 289,
    "start_time": "2023-12-18T12:07:05.883Z"
   },
   {
    "duration": 253,
    "start_time": "2023-12-18T12:14:54.430Z"
   },
   {
    "duration": 171,
    "start_time": "2023-12-18T12:15:02.097Z"
   },
   {
    "duration": 305,
    "start_time": "2023-12-18T12:15:36.750Z"
   },
   {
    "duration": 158,
    "start_time": "2023-12-18T12:15:47.524Z"
   },
   {
    "duration": 156,
    "start_time": "2023-12-18T12:16:01.440Z"
   },
   {
    "duration": 148,
    "start_time": "2023-12-18T12:16:07.293Z"
   },
   {
    "duration": 152,
    "start_time": "2023-12-18T12:16:14.113Z"
   },
   {
    "duration": 181,
    "start_time": "2023-12-18T12:16:48.605Z"
   },
   {
    "duration": 305,
    "start_time": "2023-12-18T12:18:54.416Z"
   },
   {
    "duration": 227,
    "start_time": "2023-12-18T12:19:07.215Z"
   },
   {
    "duration": 231,
    "start_time": "2023-12-18T12:21:51.773Z"
   },
   {
    "duration": 1104,
    "start_time": "2023-12-18T12:22:00.420Z"
   },
   {
    "duration": 79,
    "start_time": "2023-12-18T12:22:01.525Z"
   },
   {
    "duration": 20,
    "start_time": "2023-12-18T12:22:01.606Z"
   },
   {
    "duration": 77,
    "start_time": "2023-12-18T12:22:01.627Z"
   },
   {
    "duration": 164,
    "start_time": "2023-12-18T12:22:01.705Z"
   },
   {
    "duration": 139,
    "start_time": "2023-12-18T12:22:01.871Z"
   },
   {
    "duration": 189,
    "start_time": "2023-12-18T12:22:02.012Z"
   },
   {
    "duration": 68,
    "start_time": "2023-12-18T12:22:02.202Z"
   },
   {
    "duration": 104,
    "start_time": "2023-12-18T12:22:02.271Z"
   },
   {
    "duration": 87,
    "start_time": "2023-12-18T12:22:02.377Z"
   },
   {
    "duration": 314,
    "start_time": "2023-12-18T12:22:02.466Z"
   },
   {
    "duration": 317,
    "start_time": "2023-12-18T12:22:02.781Z"
   },
   {
    "duration": 233,
    "start_time": "2023-12-18T12:22:18.068Z"
   },
   {
    "duration": 228,
    "start_time": "2023-12-18T12:22:33.248Z"
   },
   {
    "duration": 248,
    "start_time": "2023-12-18T12:25:43.116Z"
   },
   {
    "duration": 251,
    "start_time": "2023-12-18T12:26:14.626Z"
   },
   {
    "duration": 236,
    "start_time": "2023-12-18T12:28:05.234Z"
   },
   {
    "duration": 276,
    "start_time": "2023-12-18T12:28:25.703Z"
   },
   {
    "duration": 11,
    "start_time": "2023-12-18T12:34:32.429Z"
   },
   {
    "duration": 8,
    "start_time": "2023-12-18T12:35:06.575Z"
   },
   {
    "duration": 8,
    "start_time": "2023-12-18T12:35:20.748Z"
   },
   {
    "duration": 45,
    "start_time": "2023-12-18T12:39:03.488Z"
   },
   {
    "duration": 100,
    "start_time": "2023-12-18T12:39:30.528Z"
   },
   {
    "duration": 10,
    "start_time": "2023-12-18T12:39:40.997Z"
   },
   {
    "duration": 11,
    "start_time": "2023-12-18T12:40:40.539Z"
   },
   {
    "duration": 11,
    "start_time": "2023-12-18T12:41:24.791Z"
   },
   {
    "duration": 11,
    "start_time": "2023-12-18T12:41:43.223Z"
   },
   {
    "duration": 9,
    "start_time": "2023-12-18T12:42:24.927Z"
   },
   {
    "duration": 4,
    "start_time": "2023-12-18T12:48:46.583Z"
   },
   {
    "duration": 18,
    "start_time": "2023-12-18T12:48:52.801Z"
   },
   {
    "duration": 18,
    "start_time": "2023-12-18T12:49:03.695Z"
   },
   {
    "duration": 10,
    "start_time": "2023-12-18T12:49:37.078Z"
   },
   {
    "duration": 3,
    "start_time": "2023-12-18T12:53:28.607Z"
   },
   {
    "duration": 1131,
    "start_time": "2023-12-18T14:03:47.797Z"
   },
   {
    "duration": 77,
    "start_time": "2023-12-18T14:03:48.930Z"
   },
   {
    "duration": 20,
    "start_time": "2023-12-18T14:03:49.009Z"
   },
   {
    "duration": 19,
    "start_time": "2023-12-18T14:03:49.030Z"
   },
   {
    "duration": 23,
    "start_time": "2023-12-18T14:03:49.052Z"
   },
   {
    "duration": 54,
    "start_time": "2023-12-18T14:03:49.077Z"
   },
   {
    "duration": 9,
    "start_time": "2023-12-18T14:03:49.132Z"
   },
   {
    "duration": 15,
    "start_time": "2023-12-18T14:03:49.142Z"
   },
   {
    "duration": 15,
    "start_time": "2023-12-18T14:03:49.158Z"
   },
   {
    "duration": 14,
    "start_time": "2023-12-18T14:03:49.174Z"
   },
   {
    "duration": 285,
    "start_time": "2023-12-18T14:03:49.214Z"
   },
   {
    "duration": 334,
    "start_time": "2023-12-18T14:03:49.501Z"
   },
   {
    "duration": 11,
    "start_time": "2023-12-18T14:03:49.836Z"
   },
   {
    "duration": 155,
    "start_time": "2023-12-18T14:03:49.849Z"
   },
   {
    "duration": 202,
    "start_time": "2023-12-18T14:04:10.549Z"
   },
   {
    "duration": 233,
    "start_time": "2023-12-18T14:05:51.219Z"
   },
   {
    "duration": 255,
    "start_time": "2023-12-18T14:06:58.091Z"
   },
   {
    "duration": 3,
    "start_time": "2023-12-18T16:37:23.782Z"
   },
   {
    "duration": 76,
    "start_time": "2023-12-18T16:50:32.307Z"
   },
   {
    "duration": 79,
    "start_time": "2023-12-18T16:50:47.354Z"
   },
   {
    "duration": 57,
    "start_time": "2023-12-18T16:50:56.174Z"
   },
   {
    "duration": 1482,
    "start_time": "2023-12-18T16:51:04.185Z"
   },
   {
    "duration": 189,
    "start_time": "2023-12-18T16:51:05.670Z"
   },
   {
    "duration": 24,
    "start_time": "2023-12-18T16:51:05.861Z"
   },
   {
    "duration": 30,
    "start_time": "2023-12-18T16:51:05.888Z"
   },
   {
    "duration": 38,
    "start_time": "2023-12-18T16:51:05.921Z"
   },
   {
    "duration": 34,
    "start_time": "2023-12-18T16:51:05.961Z"
   },
   {
    "duration": 21,
    "start_time": "2023-12-18T16:51:06.010Z"
   },
   {
    "duration": 7,
    "start_time": "2023-12-18T16:51:06.033Z"
   },
   {
    "duration": 17,
    "start_time": "2023-12-18T16:51:06.042Z"
   },
   {
    "duration": 14,
    "start_time": "2023-12-18T16:51:06.062Z"
   },
   {
    "duration": 364,
    "start_time": "2023-12-18T16:51:06.077Z"
   },
   {
    "duration": 360,
    "start_time": "2023-12-18T16:51:06.443Z"
   },
   {
    "duration": 20,
    "start_time": "2023-12-18T16:51:06.805Z"
   },
   {
    "duration": 303,
    "start_time": "2023-12-18T16:51:06.828Z"
   },
   {
    "duration": 119,
    "start_time": "2023-12-18T16:51:07.133Z"
   },
   {
    "duration": 417,
    "start_time": "2023-12-18T16:51:33.335Z"
   },
   {
    "duration": 321,
    "start_time": "2023-12-18T16:52:53.359Z"
   },
   {
    "duration": 358,
    "start_time": "2023-12-18T16:52:58.103Z"
   },
   {
    "duration": 401,
    "start_time": "2023-12-18T16:54:54.988Z"
   },
   {
    "duration": 1288,
    "start_time": "2023-12-18T20:02:57.910Z"
   },
   {
    "duration": 195,
    "start_time": "2023-12-18T20:02:59.201Z"
   },
   {
    "duration": 21,
    "start_time": "2023-12-18T20:02:59.398Z"
   },
   {
    "duration": 18,
    "start_time": "2023-12-18T20:02:59.421Z"
   },
   {
    "duration": 21,
    "start_time": "2023-12-18T20:02:59.441Z"
   },
   {
    "duration": 68,
    "start_time": "2023-12-18T20:02:59.463Z"
   },
   {
    "duration": 10,
    "start_time": "2023-12-18T20:02:59.534Z"
   },
   {
    "duration": 5,
    "start_time": "2023-12-18T20:02:59.546Z"
   },
   {
    "duration": 14,
    "start_time": "2023-12-18T20:02:59.553Z"
   },
   {
    "duration": 12,
    "start_time": "2023-12-18T20:02:59.568Z"
   },
   {
    "duration": 321,
    "start_time": "2023-12-18T20:02:59.582Z"
   },
   {
    "duration": 383,
    "start_time": "2023-12-18T20:02:59.904Z"
   },
   {
    "duration": 12,
    "start_time": "2023-12-18T20:03:00.289Z"
   },
   {
    "duration": 274,
    "start_time": "2023-12-18T20:03:00.314Z"
   },
   {
    "duration": 425,
    "start_time": "2023-12-18T20:03:00.589Z"
   },
   {
    "duration": 20,
    "start_time": "2023-12-18T20:03:01.016Z"
   },
   {
    "duration": 186,
    "start_time": "2023-12-18T20:04:38.705Z"
   },
   {
    "duration": 299,
    "start_time": "2023-12-18T20:07:12.477Z"
   },
   {
    "duration": 254,
    "start_time": "2023-12-18T20:07:20.838Z"
   },
   {
    "duration": 247,
    "start_time": "2023-12-18T20:10:53.562Z"
   },
   {
    "duration": 310,
    "start_time": "2023-12-18T20:15:12.568Z"
   },
   {
    "duration": 367,
    "start_time": "2023-12-18T20:15:20.592Z"
   },
   {
    "duration": 49,
    "start_time": "2023-12-18T20:24:55.323Z"
   },
   {
    "duration": 416,
    "start_time": "2023-12-18T20:25:17.429Z"
   },
   {
    "duration": 364,
    "start_time": "2023-12-18T20:26:39.801Z"
   },
   {
    "duration": 365,
    "start_time": "2023-12-18T20:27:35.602Z"
   },
   {
    "duration": 328,
    "start_time": "2023-12-18T20:28:41.041Z"
   },
   {
    "duration": 348,
    "start_time": "2023-12-18T20:28:56.724Z"
   },
   {
    "duration": 326,
    "start_time": "2023-12-18T20:29:10.633Z"
   },
   {
    "duration": 337,
    "start_time": "2023-12-18T20:29:38.417Z"
   },
   {
    "duration": 374,
    "start_time": "2023-12-18T20:29:50.503Z"
   },
   {
    "duration": 335,
    "start_time": "2023-12-18T20:30:03.240Z"
   },
   {
    "duration": 349,
    "start_time": "2023-12-18T20:31:25.495Z"
   },
   {
    "duration": 343,
    "start_time": "2023-12-18T20:31:49.215Z"
   },
   {
    "duration": 400,
    "start_time": "2023-12-18T20:32:18.076Z"
   },
   {
    "duration": 345,
    "start_time": "2023-12-18T20:32:52.416Z"
   },
   {
    "duration": 321,
    "start_time": "2023-12-18T20:33:04.542Z"
   },
   {
    "duration": 365,
    "start_time": "2023-12-18T20:37:35.795Z"
   },
   {
    "duration": 354,
    "start_time": "2023-12-18T20:37:42.395Z"
   },
   {
    "duration": 340,
    "start_time": "2023-12-18T20:38:11.721Z"
   },
   {
    "duration": 318,
    "start_time": "2023-12-18T20:38:19.150Z"
   },
   {
    "duration": 2,
    "start_time": "2023-12-18T20:39:47.265Z"
   },
   {
    "duration": 955,
    "start_time": "2023-12-18T20:45:01.280Z"
   },
   {
    "duration": 10,
    "start_time": "2023-12-18T20:45:18.666Z"
   },
   {
    "duration": 110,
    "start_time": "2023-12-18T20:46:36.144Z"
   },
   {
    "duration": 112,
    "start_time": "2023-12-18T20:46:59.139Z"
   },
   {
    "duration": 156,
    "start_time": "2023-12-18T20:47:12.156Z"
   },
   {
    "duration": 162,
    "start_time": "2023-12-18T20:47:28.511Z"
   },
   {
    "duration": 203,
    "start_time": "2023-12-18T20:48:32.601Z"
   },
   {
    "duration": 221,
    "start_time": "2023-12-18T20:51:57.081Z"
   },
   {
    "duration": 177,
    "start_time": "2023-12-18T20:53:19.983Z"
   },
   {
    "duration": 194,
    "start_time": "2023-12-18T20:54:31.922Z"
   },
   {
    "duration": 147,
    "start_time": "2023-12-18T20:54:41.905Z"
   },
   {
    "duration": 172,
    "start_time": "2023-12-18T20:55:26.077Z"
   },
   {
    "duration": 176,
    "start_time": "2023-12-18T20:55:40.280Z"
   },
   {
    "duration": 181,
    "start_time": "2023-12-18T20:55:46.840Z"
   },
   {
    "duration": 142,
    "start_time": "2023-12-18T20:55:57.850Z"
   },
   {
    "duration": 171,
    "start_time": "2023-12-18T20:56:06.422Z"
   },
   {
    "duration": 166,
    "start_time": "2023-12-18T20:56:15.151Z"
   },
   {
    "duration": 180,
    "start_time": "2023-12-18T20:56:21.267Z"
   },
   {
    "duration": 169,
    "start_time": "2023-12-18T20:56:28.470Z"
   },
   {
    "duration": 179,
    "start_time": "2023-12-18T20:56:45.682Z"
   },
   {
    "duration": 172,
    "start_time": "2023-12-18T20:56:49.346Z"
   },
   {
    "duration": 10,
    "start_time": "2023-12-18T21:00:10.672Z"
   },
   {
    "duration": 11,
    "start_time": "2023-12-18T21:00:27.185Z"
   },
   {
    "duration": 11,
    "start_time": "2023-12-18T21:02:47.384Z"
   },
   {
    "duration": 11,
    "start_time": "2023-12-18T21:02:57.458Z"
   },
   {
    "duration": 10,
    "start_time": "2023-12-18T21:03:04.049Z"
   },
   {
    "duration": 224,
    "start_time": "2023-12-18T21:06:37.483Z"
   },
   {
    "duration": 178,
    "start_time": "2023-12-18T21:07:54.899Z"
   },
   {
    "duration": 189,
    "start_time": "2023-12-18T21:09:09.255Z"
   },
   {
    "duration": 166,
    "start_time": "2023-12-18T21:09:15.303Z"
   },
   {
    "duration": 185,
    "start_time": "2023-12-18T21:09:48.696Z"
   },
   {
    "duration": 171,
    "start_time": "2023-12-18T21:09:59.415Z"
   },
   {
    "duration": 165,
    "start_time": "2023-12-18T21:10:10.428Z"
   },
   {
    "duration": 163,
    "start_time": "2023-12-18T21:11:04.408Z"
   },
   {
    "duration": 162,
    "start_time": "2023-12-18T21:11:22.028Z"
   },
   {
    "duration": 164,
    "start_time": "2023-12-18T21:11:27.721Z"
   },
   {
    "duration": 198,
    "start_time": "2023-12-18T21:12:01.367Z"
   },
   {
    "duration": 4,
    "start_time": "2023-12-18T21:16:10.470Z"
   },
   {
    "duration": 181,
    "start_time": "2023-12-18T21:22:00.883Z"
   },
   {
    "duration": 5,
    "start_time": "2023-12-18T21:26:33.061Z"
   },
   {
    "duration": 44,
    "start_time": "2023-12-18T21:29:27.739Z"
   },
   {
    "duration": 65,
    "start_time": "2023-12-18T21:30:02.523Z"
   },
   {
    "duration": 1063,
    "start_time": "2023-12-18T21:31:02.440Z"
   },
   {
    "duration": 76,
    "start_time": "2023-12-18T21:31:03.505Z"
   },
   {
    "duration": 22,
    "start_time": "2023-12-18T21:31:03.583Z"
   },
   {
    "duration": 20,
    "start_time": "2023-12-18T21:31:03.608Z"
   },
   {
    "duration": 22,
    "start_time": "2023-12-18T21:31:03.630Z"
   },
   {
    "duration": 31,
    "start_time": "2023-12-18T21:31:03.653Z"
   },
   {
    "duration": 36,
    "start_time": "2023-12-18T21:31:03.686Z"
   },
   {
    "duration": 9,
    "start_time": "2023-12-18T21:31:03.724Z"
   },
   {
    "duration": 38,
    "start_time": "2023-12-18T21:31:03.735Z"
   },
   {
    "duration": 13,
    "start_time": "2023-12-18T21:31:03.777Z"
   },
   {
    "duration": 296,
    "start_time": "2023-12-18T21:31:03.792Z"
   },
   {
    "duration": 348,
    "start_time": "2023-12-18T21:31:04.090Z"
   },
   {
    "duration": 10,
    "start_time": "2023-12-18T21:31:04.440Z"
   },
   {
    "duration": 245,
    "start_time": "2023-12-18T21:31:04.452Z"
   },
   {
    "duration": 373,
    "start_time": "2023-12-18T21:31:04.699Z"
   },
   {
    "duration": 19,
    "start_time": "2023-12-18T21:31:05.074Z"
   },
   {
    "duration": 302,
    "start_time": "2023-12-18T21:31:05.095Z"
   },
   {
    "duration": 391,
    "start_time": "2023-12-18T21:31:05.399Z"
   },
   {
    "duration": 13,
    "start_time": "2023-12-18T21:31:05.791Z"
   },
   {
    "duration": 227,
    "start_time": "2023-12-18T21:31:05.805Z"
   },
   {
    "duration": 5,
    "start_time": "2023-12-18T21:31:06.033Z"
   },
   {
    "duration": 214,
    "start_time": "2023-12-18T21:31:06.039Z"
   },
   {
    "duration": 1272,
    "start_time": "2023-12-19T10:21:01.497Z"
   },
   {
    "duration": 201,
    "start_time": "2023-12-19T10:21:02.770Z"
   },
   {
    "duration": 20,
    "start_time": "2023-12-19T10:21:02.973Z"
   },
   {
    "duration": 21,
    "start_time": "2023-12-19T10:21:02.994Z"
   },
   {
    "duration": 40,
    "start_time": "2023-12-19T10:21:03.016Z"
   },
   {
    "duration": 44,
    "start_time": "2023-12-19T10:21:03.057Z"
   },
   {
    "duration": 9,
    "start_time": "2023-12-19T10:21:03.103Z"
   },
   {
    "duration": 9,
    "start_time": "2023-12-19T10:21:03.113Z"
   },
   {
    "duration": 15,
    "start_time": "2023-12-19T10:21:03.123Z"
   },
   {
    "duration": 14,
    "start_time": "2023-12-19T10:21:03.140Z"
   },
   {
    "duration": 289,
    "start_time": "2023-12-19T10:21:03.155Z"
   },
   {
    "duration": 316,
    "start_time": "2023-12-19T10:21:03.446Z"
   },
   {
    "duration": 11,
    "start_time": "2023-12-19T10:21:03.763Z"
   },
   {
    "duration": 262,
    "start_time": "2023-12-19T10:21:03.775Z"
   },
   {
    "duration": 371,
    "start_time": "2023-12-19T10:21:04.038Z"
   },
   {
    "duration": 21,
    "start_time": "2023-12-19T10:21:04.410Z"
   },
   {
    "duration": 288,
    "start_time": "2023-12-19T10:21:04.433Z"
   },
   {
    "duration": 365,
    "start_time": "2023-12-19T10:21:04.722Z"
   },
   {
    "duration": 16,
    "start_time": "2023-12-19T10:21:05.089Z"
   },
   {
    "duration": 185,
    "start_time": "2023-12-19T10:21:05.115Z"
   },
   {
    "duration": 5,
    "start_time": "2023-12-19T10:21:05.302Z"
   },
   {
    "duration": 194,
    "start_time": "2023-12-19T10:21:05.316Z"
   },
   {
    "duration": 4,
    "start_time": "2023-12-19T10:21:05.512Z"
   },
   {
    "duration": 175,
    "start_time": "2023-12-19T10:24:53.877Z"
   },
   {
    "duration": 41,
    "start_time": "2023-12-19T19:49:28.451Z"
   },
   {
    "duration": 1152,
    "start_time": "2023-12-19T19:49:34.496Z"
   },
   {
    "duration": 178,
    "start_time": "2023-12-19T19:49:35.650Z"
   },
   {
    "duration": 19,
    "start_time": "2023-12-19T19:49:35.829Z"
   },
   {
    "duration": 14,
    "start_time": "2023-12-19T19:49:35.849Z"
   },
   {
    "duration": 18,
    "start_time": "2023-12-19T19:49:35.864Z"
   },
   {
    "duration": 26,
    "start_time": "2023-12-19T19:49:35.883Z"
   },
   {
    "duration": 7,
    "start_time": "2023-12-19T19:49:35.910Z"
   },
   {
    "duration": 6,
    "start_time": "2023-12-19T19:49:35.918Z"
   },
   {
    "duration": 17,
    "start_time": "2023-12-19T19:49:35.925Z"
   },
   {
    "duration": 9,
    "start_time": "2023-12-19T19:49:35.944Z"
   },
   {
    "duration": 245,
    "start_time": "2023-12-19T19:49:35.954Z"
   },
   {
    "duration": 271,
    "start_time": "2023-12-19T19:49:36.201Z"
   },
   {
    "duration": 8,
    "start_time": "2023-12-19T19:49:36.473Z"
   },
   {
    "duration": 211,
    "start_time": "2023-12-19T19:49:36.482Z"
   },
   {
    "duration": 369,
    "start_time": "2023-12-19T19:49:36.694Z"
   },
   {
    "duration": 15,
    "start_time": "2023-12-19T19:49:37.064Z"
   },
   {
    "duration": 252,
    "start_time": "2023-12-19T19:49:37.080Z"
   },
   {
    "duration": 288,
    "start_time": "2023-12-19T19:49:37.333Z"
   },
   {
    "duration": 9,
    "start_time": "2023-12-19T19:49:37.623Z"
   },
   {
    "duration": 163,
    "start_time": "2023-12-19T19:49:37.633Z"
   },
   {
    "duration": 6,
    "start_time": "2023-12-19T19:49:37.797Z"
   },
   {
    "duration": 165,
    "start_time": "2023-12-19T19:49:37.804Z"
   },
   {
    "duration": 173,
    "start_time": "2023-12-19T19:49:37.970Z"
   },
   {
    "duration": 3,
    "start_time": "2023-12-19T19:49:38.144Z"
   },
   {
    "duration": 139,
    "start_time": "2023-12-19T19:49:38.148Z"
   },
   {
    "duration": 131,
    "start_time": "2023-12-19T19:49:57.141Z"
   },
   {
    "duration": 88,
    "start_time": "2023-12-19T20:06:29.853Z"
   },
   {
    "duration": 7,
    "start_time": "2023-12-19T20:07:15.567Z"
   },
   {
    "duration": 6,
    "start_time": "2023-12-19T20:11:03.649Z"
   },
   {
    "duration": 18,
    "start_time": "2023-12-19T20:11:23.514Z"
   },
   {
    "duration": 17,
    "start_time": "2023-12-19T20:11:56.636Z"
   },
   {
    "duration": 17,
    "start_time": "2023-12-19T20:12:02.999Z"
   },
   {
    "duration": 18,
    "start_time": "2023-12-19T20:12:06.582Z"
   },
   {
    "duration": 18,
    "start_time": "2023-12-19T20:15:02.397Z"
   },
   {
    "duration": 3,
    "start_time": "2023-12-19T20:21:25.719Z"
   },
   {
    "duration": 72,
    "start_time": "2023-12-19T20:21:31.152Z"
   },
   {
    "duration": 18,
    "start_time": "2023-12-19T20:22:03.297Z"
   },
   {
    "duration": 22,
    "start_time": "2023-12-19T20:24:26.918Z"
   },
   {
    "duration": 2,
    "start_time": "2023-12-19T20:27:27.550Z"
   },
   {
    "duration": 63,
    "start_time": "2023-12-19T20:39:45.613Z"
   },
   {
    "duration": 9,
    "start_time": "2023-12-19T20:40:00.100Z"
   },
   {
    "duration": 1158,
    "start_time": "2023-12-19T20:56:34.920Z"
   },
   {
    "duration": 7,
    "start_time": "2023-12-19T20:56:57.955Z"
   },
   {
    "duration": 8,
    "start_time": "2023-12-19T20:57:05.814Z"
   },
   {
    "duration": 8,
    "start_time": "2023-12-19T20:57:13.039Z"
   },
   {
    "duration": 8,
    "start_time": "2023-12-19T20:57:33.678Z"
   },
   {
    "duration": 125,
    "start_time": "2023-12-19T20:58:11.433Z"
   },
   {
    "duration": 8,
    "start_time": "2023-12-19T20:58:17.822Z"
   },
   {
    "duration": 9,
    "start_time": "2023-12-19T20:58:33.219Z"
   },
   {
    "duration": 9,
    "start_time": "2023-12-19T20:58:36.239Z"
   },
   {
    "duration": 8,
    "start_time": "2023-12-19T20:58:44.095Z"
   },
   {
    "duration": 9,
    "start_time": "2023-12-19T20:58:57.911Z"
   },
   {
    "duration": 9,
    "start_time": "2023-12-19T20:59:01.055Z"
   },
   {
    "duration": 952,
    "start_time": "2023-12-19T21:10:35.353Z"
   },
   {
    "duration": 70,
    "start_time": "2023-12-19T21:10:36.307Z"
   },
   {
    "duration": 17,
    "start_time": "2023-12-19T21:10:36.378Z"
   },
   {
    "duration": 37,
    "start_time": "2023-12-19T21:10:36.397Z"
   },
   {
    "duration": 18,
    "start_time": "2023-12-19T21:10:36.436Z"
   },
   {
    "duration": 53,
    "start_time": "2023-12-19T21:10:36.455Z"
   },
   {
    "duration": 9,
    "start_time": "2023-12-19T21:10:36.509Z"
   },
   {
    "duration": 42,
    "start_time": "2023-12-19T21:10:36.519Z"
   },
   {
    "duration": 17,
    "start_time": "2023-12-19T21:10:36.562Z"
   },
   {
    "duration": 79,
    "start_time": "2023-12-19T21:10:36.581Z"
   },
   {
    "duration": 228,
    "start_time": "2023-12-19T21:10:36.661Z"
   },
   {
    "duration": 300,
    "start_time": "2023-12-19T21:10:36.890Z"
   },
   {
    "duration": 12,
    "start_time": "2023-12-19T21:10:37.191Z"
   },
   {
    "duration": 207,
    "start_time": "2023-12-19T21:10:37.204Z"
   },
   {
    "duration": 325,
    "start_time": "2023-12-19T21:10:37.412Z"
   },
   {
    "duration": 16,
    "start_time": "2023-12-19T21:10:37.739Z"
   },
   {
    "duration": 272,
    "start_time": "2023-12-19T21:10:37.756Z"
   },
   {
    "duration": 309,
    "start_time": "2023-12-19T21:10:38.030Z"
   },
   {
    "duration": 10,
    "start_time": "2023-12-19T21:10:38.341Z"
   },
   {
    "duration": 161,
    "start_time": "2023-12-19T21:10:38.352Z"
   },
   {
    "duration": 4,
    "start_time": "2023-12-19T21:10:38.514Z"
   },
   {
    "duration": 160,
    "start_time": "2023-12-19T21:10:38.519Z"
   },
   {
    "duration": 170,
    "start_time": "2023-12-19T21:10:38.680Z"
   },
   {
    "duration": 4,
    "start_time": "2023-12-19T21:10:38.851Z"
   },
   {
    "duration": 125,
    "start_time": "2023-12-19T21:10:38.856Z"
   },
   {
    "duration": 8,
    "start_time": "2023-12-19T21:10:38.982Z"
   },
   {
    "duration": 18,
    "start_time": "2023-12-19T21:10:39.001Z"
   },
   {
    "duration": 8,
    "start_time": "2023-12-19T21:10:39.021Z"
   },
   {
    "duration": 9,
    "start_time": "2023-12-19T21:10:39.030Z"
   },
   {
    "duration": 6,
    "start_time": "2023-12-19T21:10:39.040Z"
   },
   {
    "duration": 77,
    "start_time": "2023-12-19T21:11:42.327Z"
   },
   {
    "duration": 20,
    "start_time": "2023-12-19T21:12:21.049Z"
   },
   {
    "duration": 14,
    "start_time": "2023-12-19T21:27:20.415Z"
   },
   {
    "duration": 954,
    "start_time": "2023-12-19T21:40:30.447Z"
   },
   {
    "duration": 69,
    "start_time": "2023-12-19T21:40:31.403Z"
   },
   {
    "duration": 17,
    "start_time": "2023-12-19T21:40:31.473Z"
   },
   {
    "duration": 22,
    "start_time": "2023-12-19T21:40:31.491Z"
   },
   {
    "duration": 20,
    "start_time": "2023-12-19T21:40:31.514Z"
   },
   {
    "duration": 27,
    "start_time": "2023-12-19T21:40:31.535Z"
   },
   {
    "duration": 17,
    "start_time": "2023-12-19T21:40:31.563Z"
   },
   {
    "duration": 23,
    "start_time": "2023-12-19T21:40:31.581Z"
   },
   {
    "duration": 28,
    "start_time": "2023-12-19T21:40:31.605Z"
   },
   {
    "duration": 27,
    "start_time": "2023-12-19T21:40:31.636Z"
   },
   {
    "duration": 261,
    "start_time": "2023-12-19T21:40:31.665Z"
   },
   {
    "duration": 272,
    "start_time": "2023-12-19T21:40:31.927Z"
   },
   {
    "duration": 9,
    "start_time": "2023-12-19T21:40:32.201Z"
   },
   {
    "duration": 216,
    "start_time": "2023-12-19T21:40:32.211Z"
   },
   {
    "duration": 292,
    "start_time": "2023-12-19T21:40:32.429Z"
   },
   {
    "duration": 16,
    "start_time": "2023-12-19T21:40:32.723Z"
   },
   {
    "duration": 256,
    "start_time": "2023-12-19T21:40:32.740Z"
   },
   {
    "duration": 316,
    "start_time": "2023-12-19T21:40:32.998Z"
   },
   {
    "duration": 9,
    "start_time": "2023-12-19T21:40:33.316Z"
   },
   {
    "duration": 147,
    "start_time": "2023-12-19T21:40:33.326Z"
   },
   {
    "duration": 3,
    "start_time": "2023-12-19T21:40:33.474Z"
   },
   {
    "duration": 161,
    "start_time": "2023-12-19T21:40:33.478Z"
   },
   {
    "duration": 165,
    "start_time": "2023-12-19T21:40:33.640Z"
   },
   {
    "duration": 3,
    "start_time": "2023-12-19T21:40:33.806Z"
   },
   {
    "duration": 132,
    "start_time": "2023-12-19T21:40:33.811Z"
   },
   {
    "duration": 8,
    "start_time": "2023-12-19T21:40:33.944Z"
   },
   {
    "duration": 18,
    "start_time": "2023-12-19T21:40:33.953Z"
   },
   {
    "duration": 8,
    "start_time": "2023-12-19T21:40:33.973Z"
   },
   {
    "duration": 27,
    "start_time": "2023-12-19T21:40:33.982Z"
   },
   {
    "duration": 6,
    "start_time": "2023-12-19T21:40:34.011Z"
   },
   {
    "duration": 18,
    "start_time": "2023-12-19T21:40:34.018Z"
   },
   {
    "duration": 11,
    "start_time": "2023-12-19T21:40:34.037Z"
   },
   {
    "duration": 1208,
    "start_time": "2023-12-19T22:17:33.061Z"
   },
   {
    "duration": 80,
    "start_time": "2023-12-19T22:17:34.271Z"
   },
   {
    "duration": 22,
    "start_time": "2023-12-19T22:17:34.353Z"
   },
   {
    "duration": 21,
    "start_time": "2023-12-19T22:17:34.377Z"
   },
   {
    "duration": 49,
    "start_time": "2023-12-19T22:17:34.399Z"
   },
   {
    "duration": 40,
    "start_time": "2023-12-19T22:17:34.451Z"
   },
   {
    "duration": 15,
    "start_time": "2023-12-19T22:17:34.493Z"
   },
   {
    "duration": 33,
    "start_time": "2023-12-19T22:17:34.510Z"
   },
   {
    "duration": 23,
    "start_time": "2023-12-19T22:17:34.548Z"
   },
   {
    "duration": 19,
    "start_time": "2023-12-19T22:17:34.575Z"
   },
   {
    "duration": 355,
    "start_time": "2023-12-19T22:17:34.596Z"
   },
   {
    "duration": 368,
    "start_time": "2023-12-19T22:17:34.953Z"
   },
   {
    "duration": 15,
    "start_time": "2023-12-19T22:17:35.330Z"
   },
   {
    "duration": 292,
    "start_time": "2023-12-19T22:17:35.347Z"
   },
   {
    "duration": 381,
    "start_time": "2023-12-19T22:17:35.642Z"
   },
   {
    "duration": 33,
    "start_time": "2023-12-19T22:17:36.025Z"
   },
   {
    "duration": 329,
    "start_time": "2023-12-19T22:17:36.059Z"
   },
   {
    "duration": 378,
    "start_time": "2023-12-19T22:17:36.390Z"
   },
   {
    "duration": 14,
    "start_time": "2023-12-19T22:17:36.769Z"
   },
   {
    "duration": 193,
    "start_time": "2023-12-19T22:17:36.785Z"
   },
   {
    "duration": 4,
    "start_time": "2023-12-19T22:17:36.980Z"
   },
   {
    "duration": 216,
    "start_time": "2023-12-19T22:17:36.985Z"
   },
   {
    "duration": 236,
    "start_time": "2023-12-19T22:17:37.202Z"
   },
   {
    "duration": 17,
    "start_time": "2023-12-19T22:17:37.440Z"
   },
   {
    "duration": 179,
    "start_time": "2023-12-19T22:17:37.459Z"
   },
   {
    "duration": 13,
    "start_time": "2023-12-19T22:17:37.642Z"
   },
   {
    "duration": 30,
    "start_time": "2023-12-19T22:17:37.656Z"
   },
   {
    "duration": 12,
    "start_time": "2023-12-19T22:17:37.689Z"
   },
   {
    "duration": 41,
    "start_time": "2023-12-19T22:17:37.703Z"
   },
   {
    "duration": 11,
    "start_time": "2023-12-19T22:17:37.748Z"
   },
   {
    "duration": 28,
    "start_time": "2023-12-19T22:17:37.760Z"
   },
   {
    "duration": 18,
    "start_time": "2023-12-19T22:17:37.790Z"
   },
   {
    "duration": 1145,
    "start_time": "2023-12-20T10:59:53.988Z"
   },
   {
    "duration": 78,
    "start_time": "2023-12-20T10:59:55.135Z"
   },
   {
    "duration": 21,
    "start_time": "2023-12-20T10:59:55.215Z"
   },
   {
    "duration": 18,
    "start_time": "2023-12-20T10:59:55.238Z"
   },
   {
    "duration": 24,
    "start_time": "2023-12-20T10:59:55.258Z"
   },
   {
    "duration": 34,
    "start_time": "2023-12-20T10:59:55.314Z"
   },
   {
    "duration": 14,
    "start_time": "2023-12-20T10:59:55.350Z"
   },
   {
    "duration": 5,
    "start_time": "2023-12-20T10:59:55.366Z"
   },
   {
    "duration": 24,
    "start_time": "2023-12-20T10:59:55.372Z"
   },
   {
    "duration": 14,
    "start_time": "2023-12-20T10:59:55.414Z"
   },
   {
    "duration": 309,
    "start_time": "2023-12-20T10:59:55.429Z"
   },
   {
    "duration": 332,
    "start_time": "2023-12-20T10:59:55.739Z"
   },
   {
    "duration": 10,
    "start_time": "2023-12-20T10:59:56.072Z"
   },
   {
    "duration": 246,
    "start_time": "2023-12-20T10:59:56.084Z"
   },
   {
    "duration": 357,
    "start_time": "2023-12-20T10:59:56.332Z"
   },
   {
    "duration": 30,
    "start_time": "2023-12-20T10:59:56.691Z"
   },
   {
    "duration": 273,
    "start_time": "2023-12-20T10:59:56.723Z"
   },
   {
    "duration": 360,
    "start_time": "2023-12-20T10:59:56.998Z"
   },
   {
    "duration": 11,
    "start_time": "2023-12-20T10:59:57.360Z"
   },
   {
    "duration": 181,
    "start_time": "2023-12-20T10:59:57.373Z"
   },
   {
    "duration": 5,
    "start_time": "2023-12-20T10:59:57.555Z"
   },
   {
    "duration": 198,
    "start_time": "2023-12-20T10:59:57.561Z"
   },
   {
    "duration": 197,
    "start_time": "2023-12-20T10:59:57.761Z"
   },
   {
    "duration": 4,
    "start_time": "2023-12-20T10:59:57.959Z"
   },
   {
    "duration": 138,
    "start_time": "2023-12-20T10:59:57.964Z"
   },
   {
    "duration": 17,
    "start_time": "2023-12-20T10:59:58.104Z"
   },
   {
    "duration": 26,
    "start_time": "2023-12-20T10:59:58.123Z"
   },
   {
    "duration": 11,
    "start_time": "2023-12-20T10:59:58.152Z"
   },
   {
    "duration": 10,
    "start_time": "2023-12-20T10:59:58.165Z"
   },
   {
    "duration": 39,
    "start_time": "2023-12-20T10:59:58.176Z"
   },
   {
    "duration": 26,
    "start_time": "2023-12-20T10:59:58.216Z"
   },
   {
    "duration": 15,
    "start_time": "2023-12-20T10:59:58.243Z"
   },
   {
    "duration": 1063,
    "start_time": "2024-02-27T21:44:20.540Z"
   },
   {
    "duration": 185,
    "start_time": "2024-02-27T21:44:21.605Z"
   },
   {
    "duration": 21,
    "start_time": "2024-02-27T21:44:21.791Z"
   },
   {
    "duration": 18,
    "start_time": "2024-02-27T21:44:21.813Z"
   },
   {
    "duration": 20,
    "start_time": "2024-02-27T21:44:21.833Z"
   },
   {
    "duration": 62,
    "start_time": "2024-02-27T21:44:21.855Z"
   },
   {
    "duration": 8,
    "start_time": "2024-02-27T21:44:21.919Z"
   },
   {
    "duration": 22,
    "start_time": "2024-02-27T21:44:21.929Z"
   },
   {
    "duration": 17,
    "start_time": "2024-02-27T21:44:21.953Z"
   },
   {
    "duration": 13,
    "start_time": "2024-02-27T21:44:21.972Z"
   },
   {
    "duration": 269,
    "start_time": "2024-02-27T21:44:21.994Z"
   },
   {
    "duration": 321,
    "start_time": "2024-02-27T21:44:22.264Z"
   },
   {
    "duration": 14,
    "start_time": "2024-02-27T21:44:22.586Z"
   },
   {
    "duration": 243,
    "start_time": "2024-02-27T21:44:22.601Z"
   },
   {
    "duration": 316,
    "start_time": "2024-02-27T21:44:22.846Z"
   },
   {
    "duration": 19,
    "start_time": "2024-02-27T21:44:23.163Z"
   },
   {
    "duration": 274,
    "start_time": "2024-02-27T21:44:23.183Z"
   },
   {
    "duration": 377,
    "start_time": "2024-02-27T21:44:23.458Z"
   },
   {
    "duration": 12,
    "start_time": "2024-02-27T21:44:23.837Z"
   },
   {
    "duration": 186,
    "start_time": "2024-02-27T21:44:23.851Z"
   },
   {
    "duration": 4,
    "start_time": "2024-02-27T21:44:24.038Z"
   },
   {
    "duration": 248,
    "start_time": "2024-02-27T21:44:24.044Z"
   },
   {
    "duration": 183,
    "start_time": "2024-02-27T21:44:24.294Z"
   },
   {
    "duration": 3,
    "start_time": "2024-02-27T21:44:24.479Z"
   },
   {
    "duration": 151,
    "start_time": "2024-02-27T21:44:24.484Z"
   },
   {
    "duration": 8,
    "start_time": "2024-02-27T21:44:24.637Z"
   },
   {
    "duration": 37,
    "start_time": "2024-02-27T21:44:24.647Z"
   },
   {
    "duration": 14,
    "start_time": "2024-02-27T21:44:24.687Z"
   },
   {
    "duration": 15,
    "start_time": "2024-02-27T21:44:24.702Z"
   },
   {
    "duration": 19,
    "start_time": "2024-02-27T21:44:24.719Z"
   },
   {
    "duration": 27,
    "start_time": "2024-02-27T21:44:24.740Z"
   },
   {
    "duration": 14,
    "start_time": "2024-02-27T21:44:24.768Z"
   }
  ],
  "kernelspec": {
   "display_name": "Python 3 (ipykernel)",
   "language": "python",
   "name": "python3"
  },
  "language_info": {
   "codemirror_mode": {
    "name": "ipython",
    "version": 3
   },
   "file_extension": ".py",
   "mimetype": "text/x-python",
   "name": "python",
   "nbconvert_exporter": "python",
   "pygments_lexer": "ipython3",
   "version": "3.9.5"
  },
  "toc": {
   "base_numbering": 1,
   "nav_menu": {},
   "number_sections": true,
   "sideBar": true,
   "skip_h1_title": true,
   "title_cell": "Table of Contents",
   "title_sidebar": "Contents",
   "toc_cell": false,
   "toc_position": {},
   "toc_section_display": true,
   "toc_window_display": false
  }
 },
 "nbformat": 4,
 "nbformat_minor": 2
}
