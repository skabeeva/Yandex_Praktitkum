{
 "cells": [
  {
   "cell_type": "markdown",
   "id": "497ea7c0",
   "metadata": {},
   "source": [
    "# Построение дашбордов в Tableau"
   ]
  },
  {
   "cell_type": "markdown",
   "id": "69f6ae81",
   "metadata": {},
   "source": [
    "## Описание проекта\n",
    "TED (от англ. technology, education, design — «технологии, образование, дизайн») — некоммерческий фонд, который проводит популярные конференции. На них выступают специалисты из разных областей и читают лекции на актуальные социальные, культурные и научные темы. \n",
    "\n",
    "В разное время на TED-конференциях выступали математик Бенуа Мандельброт, теоретик искусственного интеллекта Марвин Минский, спортсменка Дана Ньяд и основатель Google Ларри Пейдж. В истории TED также были неоднозначные и даже скандальные выступления. Например, в 2010 году на конференции выступил Рэнди Пауэлл с рассказом о псевдонаучной «вихревой математике», а в 2014 году в конференции TEDMED участвовала Элизабет Холмс — основательница печально известного стартапа Theranos.\n",
    "\n",
    "Исследуем историю TED-конференций с помощью Tableau."
   ]
  },
  {
   "cell_type": "markdown",
   "id": "08989688",
   "metadata": {},
   "source": [
    "## Описание данных\n",
    "<p> &nbsp; </p>\n",
    "<div  style=\"border-radius: 5px; box-shadow: 2px 2px 2px; border: 1px solid; padding: 20px \">\n",
    "    \n",
    "Файлы `tableau_project_data_1.csv`, `tableau_project_data_2.csv`, `tableau_project_data_3.csv` хранят данные выступлений. У них одинаковая структура:\n",
    "    \n",
    "`talk_id` — идентификатор выступления;\n",
    "\n",
    "`url` — ссылка на запись выступления;\n",
    "\n",
    "`title` — название выступления;\n",
    "\n",
    "`description` — краткое описание;\n",
    "\n",
    "`film_date` — дата записи выступления;\n",
    "\n",
    "`duration` — длительность в секундах;\n",
    "\n",
    "`views` — количество просмотров;\n",
    "\n",
    "`main_tag` — основная категория, к которой относится выступление;\n",
    "\n",
    "`speaker_id` — уникальный идентификатор автора выступления;\n",
    "\n",
    "`laughter_count` — количество раз, когда аудитория смеялась в ходе выступления;\n",
    "\n",
    "`applause_count` — количество раз, когда аудитория аплодировала в ходе выступления;\n",
    "\n",
    "`language` — язык, на котором велось выступление;\n",
    "\n",
    "`event_id` — уникальный идентификатор конференции. </div>\n",
    "<p> &nbsp; </p>\n",
    "\n",
    "<div  style=\"border-radius: 5px; box-shadow: 2px 2px 2px; border: 1px solid; padding: 20px \">\n",
    "\n",
    "Файл `tableau_project_event_dict.csv` — справочник конференций. Описание таблицы:\n",
    "\n",
    "`conf_id` — уникальный идентификатор конференции;\n",
    "\n",
    "`event` — название конференции;\n",
    "\n",
    "`country` — страна проведения конференции. </div>\n",
    "<p> &nbsp; </p>\n",
    "\n",
    "<div  style=\"border-radius: 5px; box-shadow: 2px 2px 2px; border: 1px solid; padding: 20px \">\n",
    "\n",
    "Файл `tableau_project_speakers_dict.csv` — справочник авторов выступления. Описание таблицы:\n",
    "\n",
    "`author_id` — уникальный идентификатор автора выступления;\n",
    "\n",
    "`speaker_name` — имя автора;\n",
    "\n",
    "`speaker_occupation` — профессиональная область автора;\n",
    "\n",
    "`speaker_description` — описание профессиональной деятельности автора. </div>"
   ]
  },
  {
   "cell_type": "markdown",
   "id": "efce839e",
   "metadata": {},
   "source": [
    "## Дашборд и презентация проекта\n",
    "Ссылка на Tableau - https://public.tableau.com/views/_Tableau_17072548312150/sheet11?:language=en-US&publish=yes&:display_count=n&:origin=viz_share_link"
   ]
  }
 ],
 "metadata": {
  "ExecuteTimeLog": [
   {
    "duration": 3,
    "start_time": "2024-02-02T21:07:14.482Z"
   }
  ],
  "kernelspec": {
   "display_name": "Python 3 (ipykernel)",
   "language": "python",
   "name": "python3"
  },
  "language_info": {
   "codemirror_mode": {
    "name": "ipython",
    "version": 3
   },
   "file_extension": ".py",
   "mimetype": "text/x-python",
   "name": "python",
   "nbconvert_exporter": "python",
   "pygments_lexer": "ipython3",
   "version": "3.9.5"
  },
  "toc": {
   "base_numbering": 1,
   "nav_menu": {},
   "number_sections": true,
   "sideBar": true,
   "skip_h1_title": true,
   "title_cell": "Table of Contents",
   "title_sidebar": "Contents",
   "toc_cell": false,
   "toc_position": {},
   "toc_section_display": true,
   "toc_window_display": false
  }
 },
 "nbformat": 4,
 "nbformat_minor": 5
}
