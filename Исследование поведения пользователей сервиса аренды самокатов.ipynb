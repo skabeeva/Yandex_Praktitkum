{
 "cells": [
  {
   "cell_type": "markdown",
   "id": "dfd1ae55",
   "metadata": {},
   "source": [
    "# Проверка гипотез для сервиса аренды самокатов GoFast"
   ]
  },
  {
   "cell_type": "markdown",
   "id": "914ba288",
   "metadata": {},
   "source": [
    "В нашем распоряжении есть данные о некоторых пользователях из нескольких городов, а также об их поездках. Необходимо проанализировать данные и проверить некоторые гипотезы, которые могут помочь бизнесу вырасти."
   ]
  },
  {
   "cell_type": "markdown",
   "id": "b4760d1f",
   "metadata": {},
   "source": [
    "# Описание проекта"
   ]
  },
  {
   "cell_type": "markdown",
   "id": "fa9d8786",
   "metadata": {},
   "source": [
    "Чтобы совершать поездки по городу, пользователи сервиса GoFast пользуются мобильным приложением. Сервисом можно пользоваться:\n",
    "\n",
    "<ul>\n",
    "\t<li> без подписки\n",
    "\t\t<ul>\n",
    "\t\t\t<li>абонентская плата отсутствует;</li>\n",
    "\t\t\t<li>стоимость одной минуты поездки — 8 рублей;</li>\n",
    "\t\t\t<li>стоимость старта (начала поездки) — 50 рублей;</li>\n",
    "\t\t</ul>\n",
    "\t</li>\n",
    "\t<li> с подпиской Ultra\n",
    "\t\t<ul>\n",
    "\t\t\t<li>абонентская плата — 199 рублей в месяц;</li>\n",
    "\t\t\t<li>стоимость одной минуты поездки — 6 рублей;</li>\n",
    "            <li>стоимость старта — бесплатно.</li>\n",
    "\t\t</ul>\n",
    "\t</li>\n",
    "</ul>\n",
    " \n",
    "\n",
    "В основных данных есть информация о пользователях, их поездках и подписках.\n",
    "<p> &nbsp; </p>\n",
    "\n",
    "<div  style=\"border-radius: 10px; box-shadow: 2px 2px 2px; border: 1px solid; padding: 20px\">\n",
    "    \n",
    "**Пользователи** — `users_go.csv`\n",
    "\n",
    "`user_id` — уникальный идентификатор пользователя\n",
    "\n",
    "`name` — имя пользователя\n",
    "\n",
    "`age` — возраст\n",
    "\n",
    "`city` — город\n",
    "\n",
    "`subscription_type` — тип подписки (free, ultra)</div>\n",
    "<p> &nbsp; </p>\n",
    "\n",
    "<div style=\"border-radius: 10px; box-shadow: 2px 2px 2px; border: 1px solid; padding: 20px \">\n",
    "    \n",
    "**Поездки** — `rides_go.csv`\n",
    "\n",
    "`user_id` — уникальный идентификатор пользователя\n",
    "\n",
    "`distance` — расстояние, которое пользователь проехал в текущей сессии (в метрах)\n",
    "\n",
    "`duration` — продолжительность сессии (в минутах) — время с того момента, как пользователь нажал кнопку «Начать поездку» до момента, как он нажал кнопку «Завершить поездку»\n",
    "\n",
    "`date` — дата совершения поездки </div>\n",
    "<p> &nbsp; </p>\n",
    "\n",
    "<div  style=\"border-radius: 10px; box-shadow: 2px 2px 2px; border: 1px solid; padding: 20px \">\n",
    "    \n",
    "**Подписки** — `subscriptions_go.csv`\n",
    "\n",
    "`subscription_type` — тип подписки (free, ultra)\n",
    "\n",
    "`minute_price` — стоимость одной минуты поездки по данной подписке\n",
    "\n",
    "`start_ride_price` — стоимость начала поездки\n",
    "\n",
    "`subscription_fee` — стоимость ежемесячного платежа </div>\n",
    "<p> &nbsp; </p>\n",
    "\n",
    "Продакт-менеджеры сервиса хотят увеличить количество пользователей с подпиской. Для этого они будут проводить различные акции, но сначала нужно выяснить несколько важных моментов:\n",
    "\n",
    "* Важно понять, тратят ли пользователи с подпиской больше времени на поездки? Если да, то пользователи с подпиской могут быть «выгоднее» для компании.\n",
    "* Расстояние одной поездки в 3130 метров — оптимальное с точки зрения износа самоката. Можно ли сказать, что среднее расстояние, которое проезжают пользователи с подпиской за одну поездку, не превышает 3130 метров?\n",
    "* Проверить гипотезу о том, будет ли помесячная выручка от пользователей с подпиской по месяцам выше, чем выручка от пользователей без подписки.\n",
    "* Какой тест понадобился бы для проверки гипотезы о том, что количество обращений в техподдержку значимо снизилось после обновления сервера?"
   ]
  },
  {
   "cell_type": "markdown",
   "id": "55a151c3",
   "metadata": {},
   "source": [
    "До начала исследования импортируем необходимые для вышеуказанных задач библиотеки:"
   ]
  },
  {
   "cell_type": "code",
   "execution_count": 1,
   "id": "0a9b1406",
   "metadata": {},
   "outputs": [],
   "source": [
    "import pandas as pd\n",
    "import matplotlib.pyplot as plt\n",
    "import scipy.stats as st\n",
    "import numpy as np\n",
    "import seaborn as sb"
   ]
  },
  {
   "cell_type": "markdown",
   "id": "c42cbe00",
   "metadata": {},
   "source": [
    "### Загрузка данных"
   ]
  },
  {
   "cell_type": "markdown",
   "id": "f6932a86",
   "metadata": {},
   "source": [
    "Загрузим данные о **Пользователях** — `users_go.csv`"
   ]
  },
  {
   "cell_type": "code",
   "execution_count": 2,
   "id": "eff9f206",
   "metadata": {},
   "outputs": [
    {
     "data": {
      "text/html": [
       "<div>\n",
       "<style scoped>\n",
       "    .dataframe tbody tr th:only-of-type {\n",
       "        vertical-align: middle;\n",
       "    }\n",
       "\n",
       "    .dataframe tbody tr th {\n",
       "        vertical-align: top;\n",
       "    }\n",
       "\n",
       "    .dataframe thead th {\n",
       "        text-align: right;\n",
       "    }\n",
       "</style>\n",
       "<table border=\"1\" class=\"dataframe\">\n",
       "  <thead>\n",
       "    <tr style=\"text-align: right;\">\n",
       "      <th></th>\n",
       "      <th>user_id</th>\n",
       "      <th>name</th>\n",
       "      <th>age</th>\n",
       "      <th>city</th>\n",
       "      <th>subscription_type</th>\n",
       "    </tr>\n",
       "  </thead>\n",
       "  <tbody>\n",
       "    <tr>\n",
       "      <th>0</th>\n",
       "      <td>1</td>\n",
       "      <td>Кира</td>\n",
       "      <td>22</td>\n",
       "      <td>Тюмень</td>\n",
       "      <td>ultra</td>\n",
       "    </tr>\n",
       "    <tr>\n",
       "      <th>1</th>\n",
       "      <td>2</td>\n",
       "      <td>Станислав</td>\n",
       "      <td>31</td>\n",
       "      <td>Омск</td>\n",
       "      <td>ultra</td>\n",
       "    </tr>\n",
       "    <tr>\n",
       "      <th>2</th>\n",
       "      <td>3</td>\n",
       "      <td>Алексей</td>\n",
       "      <td>20</td>\n",
       "      <td>Москва</td>\n",
       "      <td>ultra</td>\n",
       "    </tr>\n",
       "    <tr>\n",
       "      <th>3</th>\n",
       "      <td>4</td>\n",
       "      <td>Константин</td>\n",
       "      <td>26</td>\n",
       "      <td>Ростов-на-Дону</td>\n",
       "      <td>ultra</td>\n",
       "    </tr>\n",
       "    <tr>\n",
       "      <th>4</th>\n",
       "      <td>5</td>\n",
       "      <td>Адель</td>\n",
       "      <td>28</td>\n",
       "      <td>Омск</td>\n",
       "      <td>ultra</td>\n",
       "    </tr>\n",
       "  </tbody>\n",
       "</table>\n",
       "</div>"
      ],
      "text/plain": [
       "   user_id        name  age            city subscription_type\n",
       "0        1        Кира   22          Тюмень             ultra\n",
       "1        2   Станислав   31            Омск             ultra\n",
       "2        3     Алексей   20          Москва             ultra\n",
       "3        4  Константин   26  Ростов-на-Дону             ultra\n",
       "4        5       Адель   28            Омск             ultra"
      ]
     },
     "execution_count": 2,
     "metadata": {},
     "output_type": "execute_result"
    }
   ],
   "source": [
    "users = pd.read_csv('/datasets/users_go.csv') #читаем csv-файл и сохраняем в переменную users\n",
    "users.head() #выведем первые 5 значений"
   ]
  },
  {
   "cell_type": "markdown",
   "id": "751cc4dc",
   "metadata": {},
   "source": [
    "Загрузим данные о **Поездках** — `rides_go.csv`\n"
   ]
  },
  {
   "cell_type": "code",
   "execution_count": 3,
   "id": "176c6e2d",
   "metadata": {},
   "outputs": [
    {
     "data": {
      "text/html": [
       "<div>\n",
       "<style scoped>\n",
       "    .dataframe tbody tr th:only-of-type {\n",
       "        vertical-align: middle;\n",
       "    }\n",
       "\n",
       "    .dataframe tbody tr th {\n",
       "        vertical-align: top;\n",
       "    }\n",
       "\n",
       "    .dataframe thead th {\n",
       "        text-align: right;\n",
       "    }\n",
       "</style>\n",
       "<table border=\"1\" class=\"dataframe\">\n",
       "  <thead>\n",
       "    <tr style=\"text-align: right;\">\n",
       "      <th></th>\n",
       "      <th>user_id</th>\n",
       "      <th>distance</th>\n",
       "      <th>duration</th>\n",
       "      <th>date</th>\n",
       "    </tr>\n",
       "  </thead>\n",
       "  <tbody>\n",
       "    <tr>\n",
       "      <th>0</th>\n",
       "      <td>1</td>\n",
       "      <td>4409.919140</td>\n",
       "      <td>25.599769</td>\n",
       "      <td>2021-01-01</td>\n",
       "    </tr>\n",
       "    <tr>\n",
       "      <th>1</th>\n",
       "      <td>1</td>\n",
       "      <td>2617.592153</td>\n",
       "      <td>15.816871</td>\n",
       "      <td>2021-01-18</td>\n",
       "    </tr>\n",
       "    <tr>\n",
       "      <th>2</th>\n",
       "      <td>1</td>\n",
       "      <td>754.159807</td>\n",
       "      <td>6.232113</td>\n",
       "      <td>2021-04-20</td>\n",
       "    </tr>\n",
       "    <tr>\n",
       "      <th>3</th>\n",
       "      <td>1</td>\n",
       "      <td>2694.783254</td>\n",
       "      <td>18.511000</td>\n",
       "      <td>2021-08-11</td>\n",
       "    </tr>\n",
       "    <tr>\n",
       "      <th>4</th>\n",
       "      <td>1</td>\n",
       "      <td>4028.687306</td>\n",
       "      <td>26.265803</td>\n",
       "      <td>2021-08-28</td>\n",
       "    </tr>\n",
       "  </tbody>\n",
       "</table>\n",
       "</div>"
      ],
      "text/plain": [
       "   user_id     distance   duration        date\n",
       "0        1  4409.919140  25.599769  2021-01-01\n",
       "1        1  2617.592153  15.816871  2021-01-18\n",
       "2        1   754.159807   6.232113  2021-04-20\n",
       "3        1  2694.783254  18.511000  2021-08-11\n",
       "4        1  4028.687306  26.265803  2021-08-28"
      ]
     },
     "execution_count": 3,
     "metadata": {},
     "output_type": "execute_result"
    }
   ],
   "source": [
    "rides = pd.read_csv('/datasets/rides_go.csv') #читаем csv-файл и сохраняем в переменную rides\n",
    "rides.head() #выведем первые 5 значений"
   ]
  },
  {
   "cell_type": "markdown",
   "id": "9715de62",
   "metadata": {},
   "source": [
    "Загрузим данные о **Подписках** — `subscriptions_go.csv`"
   ]
  },
  {
   "cell_type": "code",
   "execution_count": 4,
   "id": "0ab46ed7",
   "metadata": {},
   "outputs": [
    {
     "data": {
      "text/html": [
       "<div>\n",
       "<style scoped>\n",
       "    .dataframe tbody tr th:only-of-type {\n",
       "        vertical-align: middle;\n",
       "    }\n",
       "\n",
       "    .dataframe tbody tr th {\n",
       "        vertical-align: top;\n",
       "    }\n",
       "\n",
       "    .dataframe thead th {\n",
       "        text-align: right;\n",
       "    }\n",
       "</style>\n",
       "<table border=\"1\" class=\"dataframe\">\n",
       "  <thead>\n",
       "    <tr style=\"text-align: right;\">\n",
       "      <th></th>\n",
       "      <th>subscription_type</th>\n",
       "      <th>minute_price</th>\n",
       "      <th>start_ride_price</th>\n",
       "      <th>subscription_fee</th>\n",
       "    </tr>\n",
       "  </thead>\n",
       "  <tbody>\n",
       "    <tr>\n",
       "      <th>0</th>\n",
       "      <td>free</td>\n",
       "      <td>8</td>\n",
       "      <td>50</td>\n",
       "      <td>0</td>\n",
       "    </tr>\n",
       "    <tr>\n",
       "      <th>1</th>\n",
       "      <td>ultra</td>\n",
       "      <td>6</td>\n",
       "      <td>0</td>\n",
       "      <td>199</td>\n",
       "    </tr>\n",
       "  </tbody>\n",
       "</table>\n",
       "</div>"
      ],
      "text/plain": [
       "  subscription_type  minute_price  start_ride_price  subscription_fee\n",
       "0              free             8                50                 0\n",
       "1             ultra             6                 0               199"
      ]
     },
     "execution_count": 4,
     "metadata": {},
     "output_type": "execute_result"
    }
   ],
   "source": [
    "sub = pd.read_csv('/datasets/subscriptions_go.csv') #читаем csv-файл и сохраняем в переменную sub\n",
    "sub.head() #выведем первые 5 значений"
   ]
  },
  {
   "cell_type": "markdown",
   "id": "93084c31",
   "metadata": {},
   "source": [
    "**Итог:** Все три таблицы соответствуют вышеуказанным ранее схемам."
   ]
  },
  {
   "cell_type": "markdown",
   "id": "e95ebca7",
   "metadata": {},
   "source": [
    "### Предобработка данных"
   ]
  },
  {
   "cell_type": "markdown",
   "id": "e1964180",
   "metadata": {},
   "source": [
    "Теперь мы можем ознакомиться с основной информацией датафреймов:"
   ]
  },
  {
   "cell_type": "code",
   "execution_count": 5,
   "id": "af6d202c",
   "metadata": {},
   "outputs": [
    {
     "name": "stdout",
     "output_type": "stream",
     "text": [
      "<class 'pandas.core.frame.DataFrame'>\n",
      "RangeIndex: 1565 entries, 0 to 1564\n",
      "Data columns (total 5 columns):\n",
      " #   Column             Non-Null Count  Dtype \n",
      "---  ------             --------------  ----- \n",
      " 0   user_id            1565 non-null   int64 \n",
      " 1   name               1565 non-null   object\n",
      " 2   age                1565 non-null   int64 \n",
      " 3   city               1565 non-null   object\n",
      " 4   subscription_type  1565 non-null   object\n",
      "dtypes: int64(2), object(3)\n",
      "memory usage: 61.3+ KB\n",
      "<class 'pandas.core.frame.DataFrame'>\n",
      "RangeIndex: 18068 entries, 0 to 18067\n",
      "Data columns (total 4 columns):\n",
      " #   Column    Non-Null Count  Dtype  \n",
      "---  ------    --------------  -----  \n",
      " 0   user_id   18068 non-null  int64  \n",
      " 1   distance  18068 non-null  float64\n",
      " 2   duration  18068 non-null  float64\n",
      " 3   date      18068 non-null  object \n",
      "dtypes: float64(2), int64(1), object(1)\n",
      "memory usage: 564.8+ KB\n",
      "<class 'pandas.core.frame.DataFrame'>\n",
      "RangeIndex: 2 entries, 0 to 1\n",
      "Data columns (total 4 columns):\n",
      " #   Column             Non-Null Count  Dtype \n",
      "---  ------             --------------  ----- \n",
      " 0   subscription_type  2 non-null      object\n",
      " 1   minute_price       2 non-null      int64 \n",
      " 2   start_ride_price   2 non-null      int64 \n",
      " 3   subscription_fee   2 non-null      int64 \n",
      "dtypes: int64(3), object(1)\n",
      "memory usage: 192.0+ bytes\n"
     ]
    }
   ],
   "source": [
    "users.info()\n",
    "rides.info()\n",
    "sub.info()\n",
    "#выводим основную информацию о датафреймах"
   ]
  },
  {
   "cell_type": "markdown",
   "id": "8a1e0780",
   "metadata": {},
   "source": [
    "Можем обратить внимание, что датафреймы не содержат пустых значений.\n",
    "Так же данная информация нам дает понимание, что все столбцы, кроме одного, содержат соответствующий логике тип данных.\n",
    "Преобразуем столбец `date` датафрейма `rides` в формат даты:"
   ]
  },
  {
   "cell_type": "code",
   "execution_count": 6,
   "id": "99a9ab50",
   "metadata": {},
   "outputs": [
    {
     "name": "stdout",
     "output_type": "stream",
     "text": [
      "<class 'pandas.core.frame.DataFrame'>\n",
      "RangeIndex: 18068 entries, 0 to 18067\n",
      "Data columns (total 4 columns):\n",
      " #   Column    Non-Null Count  Dtype         \n",
      "---  ------    --------------  -----         \n",
      " 0   user_id   18068 non-null  int64         \n",
      " 1   distance  18068 non-null  float64       \n",
      " 2   duration  18068 non-null  float64       \n",
      " 3   date      18068 non-null  datetime64[ns]\n",
      "dtypes: datetime64[ns](1), float64(2), int64(1)\n",
      "memory usage: 564.8 KB\n"
     ]
    }
   ],
   "source": [
    "rides = pd.read_csv('/datasets/rides_go.csv', parse_dates=['date'], dayfirst=True)\n",
    "#поворно загрузим данные, но в этот раз укажем, чтобы столбец date сразу считывался в формате даты \n",
    "rides.info() #проверяем, изменился ли тип"
   ]
  },
  {
   "cell_type": "markdown",
   "id": "83edef79",
   "metadata": {},
   "source": [
    "Проверим наличие явных дубликатов в каждом из датафреймов:"
   ]
  },
  {
   "cell_type": "code",
   "execution_count": 7,
   "id": "8f083a01",
   "metadata": {},
   "outputs": [
    {
     "name": "stdout",
     "output_type": "stream",
     "text": [
      "Количество дубликатов в датафрейме \"Пользователи\" - 31\n",
      "Количество дубликатов в датафрейме \"Поездки\" - 0\n",
      "Количество дубликатов в датафрейме \"Подписки\" - 0\n"
     ]
    }
   ],
   "source": [
    "print('Количество дубликатов в датафрейме \"Пользователи\" -', users.duplicated().sum())\n",
    "print('Количество дубликатов в датафрейме \"Поездки\" -', rides.duplicated().sum())\n",
    "print('Количество дубликатов в датафрейме \"Подписки\" -', sub.duplicated().sum())\n",
    "#выводим текстовые поля и сумму дубликатов"
   ]
  },
  {
   "cell_type": "markdown",
   "id": "e8b044bd",
   "metadata": {},
   "source": [
    "Удалим явные дубликаты:"
   ]
  },
  {
   "cell_type": "code",
   "execution_count": 8,
   "id": "223cecd3",
   "metadata": {},
   "outputs": [
    {
     "name": "stdout",
     "output_type": "stream",
     "text": [
      "Количество дубликатов в датафрейме \"Пользователи\" - 0\n"
     ]
    }
   ],
   "source": [
    "users = users.drop_duplicates().reset_index(drop=True)\n",
    "print('Количество дубликатов в датафрейме \"Пользователи\" -', users.duplicated().sum())"
   ]
  },
  {
   "cell_type": "markdown",
   "id": "5e080a90",
   "metadata": {},
   "source": [
    "Создадим в датафрейме \"Поездки\" дополнительный столбец, обозначающий месяц совершения поездки:"
   ]
  },
  {
   "cell_type": "code",
   "execution_count": 9,
   "id": "e1eb73af",
   "metadata": {},
   "outputs": [
    {
     "data": {
      "text/plain": [
       "array(['Август', 'Апрель', 'Декабрь', 'Июль', 'Июнь', 'Май', 'Март',\n",
       "       'Ноябрь', 'Октябрь', 'Сентябрь', 'Февраль', 'Январь'], dtype=object)"
      ]
     },
     "execution_count": 9,
     "metadata": {},
     "output_type": "execute_result"
    }
   ],
   "source": [
    "rides['month'] = rides['date'].dt.month\n",
    "#создаем новый столбец и переводим все даты в значения месяца в цифрах\n",
    "for x, y in (1,'Январь'), (2,'Февраль'), (3,'Март'), (4,'Апрель'), (5,'Май'), (6,'Июнь'),\\\n",
    "            (7,'Июль'), (8,'Август'), (9,'Сентябрь'), (10,'Октябрь'), (11,'Ноябрь'), (12,'Декабрь'):\n",
    "     #создаем цикл, который перебирет значения\n",
    "    rides['month'] = rides['month'].replace(x, y) # и заменяет на текст'''\n",
    "month = rides['month'].unique() #выводим уникальные значения для проверки\n",
    "month.sort() #отсортируем \n",
    "month #и выведем"
   ]
  },
  {
   "cell_type": "markdown",
   "id": "f5180cba",
   "metadata": {},
   "source": [
    "**Итог:** В ходе предобработки данных были обнаружены и удалены явные дубликаты в датафрейме Пользователи, а в Поездках был проебразован тип данных для столбца, в котором хранилась дата совершения поездки.\n",
    "\n",
    "Для дальнейших расчетов был добавлен дополнительный столбец, обозначающий месяц совершения поездки."
   ]
  },
  {
   "cell_type": "markdown",
   "id": "212593c7",
   "metadata": {},
   "source": [
    "### Исследовательский анализ данных"
   ]
  },
  {
   "cell_type": "markdown",
   "id": "81a0d13c",
   "metadata": {},
   "source": [
    "Опишем и визуализируем общую информацию о пользователях и поездках:"
   ]
  },
  {
   "cell_type": "markdown",
   "id": "72c4bfc2",
   "metadata": {},
   "source": [
    "#### Частота встречаемости городов "
   ]
  },
  {
   "cell_type": "code",
   "execution_count": 10,
   "id": "e3a4274c",
   "metadata": {},
   "outputs": [
    {
     "data": {
      "text/html": [
       "<div>\n",
       "<style scoped>\n",
       "    .dataframe tbody tr th:only-of-type {\n",
       "        vertical-align: middle;\n",
       "    }\n",
       "\n",
       "    .dataframe tbody tr th {\n",
       "        vertical-align: top;\n",
       "    }\n",
       "\n",
       "    .dataframe thead th {\n",
       "        text-align: right;\n",
       "    }\n",
       "</style>\n",
       "<table border=\"1\" class=\"dataframe\">\n",
       "  <thead>\n",
       "    <tr style=\"text-align: right;\">\n",
       "      <th></th>\n",
       "      <th>Город</th>\n",
       "      <th>Количество пользователей</th>\n",
       "      <th>Доля</th>\n",
       "    </tr>\n",
       "  </thead>\n",
       "  <tbody>\n",
       "    <tr>\n",
       "      <th>0</th>\n",
       "      <td>Пятигорск</td>\n",
       "      <td>219</td>\n",
       "      <td>14.28</td>\n",
       "    </tr>\n",
       "    <tr>\n",
       "      <th>1</th>\n",
       "      <td>Екатеринбург</td>\n",
       "      <td>204</td>\n",
       "      <td>13.30</td>\n",
       "    </tr>\n",
       "    <tr>\n",
       "      <th>2</th>\n",
       "      <td>Ростов-на-Дону</td>\n",
       "      <td>198</td>\n",
       "      <td>12.91</td>\n",
       "    </tr>\n",
       "    <tr>\n",
       "      <th>3</th>\n",
       "      <td>Краснодар</td>\n",
       "      <td>193</td>\n",
       "      <td>12.58</td>\n",
       "    </tr>\n",
       "    <tr>\n",
       "      <th>4</th>\n",
       "      <td>Сочи</td>\n",
       "      <td>189</td>\n",
       "      <td>12.32</td>\n",
       "    </tr>\n",
       "    <tr>\n",
       "      <th>5</th>\n",
       "      <td>Омск</td>\n",
       "      <td>183</td>\n",
       "      <td>11.93</td>\n",
       "    </tr>\n",
       "    <tr>\n",
       "      <th>6</th>\n",
       "      <td>Тюмень</td>\n",
       "      <td>180</td>\n",
       "      <td>11.73</td>\n",
       "    </tr>\n",
       "    <tr>\n",
       "      <th>7</th>\n",
       "      <td>Москва</td>\n",
       "      <td>168</td>\n",
       "      <td>10.95</td>\n",
       "    </tr>\n",
       "  </tbody>\n",
       "</table>\n",
       "</div>"
      ],
      "text/plain": [
       "            Город  Количество пользователей   Доля\n",
       "0       Пятигорск                       219  14.28\n",
       "1    Екатеринбург                       204  13.30\n",
       "2  Ростов-на-Дону                       198  12.91\n",
       "3       Краснодар                       193  12.58\n",
       "4            Сочи                       189  12.32\n",
       "5            Омск                       183  11.93\n",
       "6          Тюмень                       180  11.73\n",
       "7          Москва                       168  10.95"
      ]
     },
     "execution_count": 10,
     "metadata": {},
     "output_type": "execute_result"
    },
    {
     "data": {
      "image/png": "[encoded data removed]",
      "text/plain": [
       "<Figure size 432x288 with 1 Axes>"
      ]
     },
     "metadata": {
      "needs_background": "light"
     },
     "output_type": "display_data"
    }
   ],
   "source": [
    "city_pivot = users.pivot_table(index=['city'], values='user_id', aggfunc = 'count')\n",
    "city_pivot = city_pivot.rename_axis(None, axis=1).sort_values(by='user_id',ascending=False).reset_index()\n",
    "hist = sb.barplot(data=city_pivot, x='user_id', y='city')\n",
    "hist.set_title('Частота встречаемости городов') #присваиваем название\n",
    "hist.set(xlabel='Количество', ylabel='Город') #присваиваем название осей\n",
    "city_pivot.columns = ['Город', 'Количество пользователей']\n",
    "city_pivot['Доля'] = round(city_pivot['Количество пользователей']/city_pivot['Количество пользователей'].sum()*100,2)\n",
    "city_pivot"
   ]
  },
  {
   "cell_type": "code",
   "execution_count": 11,
   "id": "3f43d518",
   "metadata": {},
   "outputs": [
    {
     "data": {
      "text/plain": [
       "count          1534\n",
       "unique            8\n",
       "top       Пятигорск\n",
       "freq            219\n",
       "Name: city, dtype: object"
      ]
     },
     "execution_count": 11,
     "metadata": {},
     "output_type": "execute_result"
    }
   ],
   "source": [
    "users['city'].describe() #выводим описательную статистику"
   ]
  },
  {
   "cell_type": "markdown",
   "id": "1388f995",
   "metadata": {},
   "source": [
    "**Вывод:** На основе диаграммы и статистики можно сделать вывод, что все 8 городов распределены достаточно равномерно, но чаще всего встречается Пятигорск, а реже всего - Москва."
   ]
  },
  {
   "cell_type": "markdown",
   "id": "1290cfa1",
   "metadata": {},
   "source": [
    "#### Соотношение пользователей с подпиской и без подписки"
   ]
  },
  {
   "cell_type": "code",
   "execution_count": 12,
   "id": "be683ed9",
   "metadata": {},
   "outputs": [
    {
     "data": {
      "text/plain": [
       "count     1534\n",
       "unique       2\n",
       "top       free\n",
       "freq       835\n",
       "Name: subscription_type, dtype: object"
      ]
     },
     "execution_count": 12,
     "metadata": {},
     "output_type": "execute_result"
    },
    {
     "data": {
      "image/png": "[encoded data removed]",
      "text/plain": [
       "<Figure size 504x504 with 1 Axes>"
      ]
     },
     "metadata": {},
     "output_type": "display_data"
    }
   ],
   "source": [
    "users['subscription_type'].value_counts().plot(kind ='pie', y ='city', grid=True, \\\n",
    "           figsize=(7, 7), autopct = '%1.0f%%', title='Частота встречаемости городов')\n",
    "#строим гистограмму в виде пирога\n",
    "plt.rcParams['font.size'] = 13.0\n",
    "plt.ylabel('Тип подписки') #задаем название оси игрик и выводим \n",
    "users['subscription_type'].describe() #выводим описательную статистику"
   ]
  },
  {
   "cell_type": "markdown",
   "id": "395cf36d",
   "metadata": {},
   "source": [
    "**Вывод:** На основе диаграммы и статистики можно сделать вывод, что самым распостраненным видом подписки является `free`, хотя доля ее пользователей не сильно превышает долю пользователей подписки `ultra`."
   ]
  },
  {
   "cell_type": "markdown",
   "id": "8ac52d27",
   "metadata": {},
   "source": [
    "#### Возраст пользователей"
   ]
  },
  {
   "cell_type": "code",
   "execution_count": 13,
   "id": "b8bf57c4",
   "metadata": {},
   "outputs": [
    {
     "data": {
      "text/plain": [
       "count    1534.000000\n",
       "mean       24.903520\n",
       "std         4.572367\n",
       "min        12.000000\n",
       "25%        22.000000\n",
       "50%        25.000000\n",
       "75%        28.000000\n",
       "max        43.000000\n",
       "Name: age, dtype: float64"
      ]
     },
     "execution_count": 13,
     "metadata": {},
     "output_type": "execute_result"
    },
    {
     "data": {
      "image/png": "[encoded data removed]",
      "text/plain": [
       "<Figure size 432x288 with 1 Axes>"
      ]
     },
     "metadata": {
      "needs_background": "light"
     },
     "output_type": "display_data"
    }
   ],
   "source": [
    "users.plot(kind='hist', y='age', bins=100, grid=True,\\\n",
    "           legend=False, title='Возраст пользователей') #строим гистограмму\n",
    "plt.xlabel('Количество лет') #задаем название оси икс \n",
    "plt.ylabel('Частота') #задаем название оси игрик и выводим \n",
    "users['age'].describe() #выводим описательную статистику"
   ]
  },
  {
   "cell_type": "markdown",
   "id": "28f4ac77",
   "metadata": {},
   "source": [
    "**Вывод:** На основе гистограммы и статистики можно сделать вывод, что средний возраст пользователя сервиса составляет 25 лет,  и т.к. имеет нормальное распределение, основная доля пользователей находится в диапазоне от 20 до 30 лет.\n",
    "Минимальное значение - 14 лет, а максимальное 43 года. На счет первого значения нужно обратить внимание, т.к. по правилам регистрация пользователей доступна только с 18 лет. "
   ]
  },
  {
   "cell_type": "markdown",
   "id": "21399b36",
   "metadata": {},
   "source": [
    "#### Расстояние, которое пользователь преодолел за одну поездку"
   ]
  },
  {
   "cell_type": "code",
   "execution_count": 14,
   "id": "cb1560a8",
   "metadata": {},
   "outputs": [
    {
     "data": {
      "text/plain": [
       "count    18068.000000\n",
       "mean      3070.659976\n",
       "std       1116.831209\n",
       "min          0.855683\n",
       "25%       2543.226360\n",
       "50%       3133.609994\n",
       "75%       3776.222735\n",
       "max       7211.007745\n",
       "Name: distance, dtype: float64"
      ]
     },
     "execution_count": 14,
     "metadata": {},
     "output_type": "execute_result"
    },
    {
     "data": {
      "image/png": "[encoded data removed]",
      "text/plain": [
       "<Figure size 432x288 with 1 Axes>"
      ]
     },
     "metadata": {
      "needs_background": "light"
     },
     "output_type": "display_data"
    }
   ],
   "source": [
    "rides['distance'].plot(kind='hist', y ='distance', bins=100, grid=True, \\\n",
    "           legend=False, title='Расстояние, которое пользователь преодолел за одну поездку') #строим гистограмму\n",
    "plt.xlabel('Метры') #задаем название оси икс \n",
    "plt.ylabel('Частота') #задаем название оси игрик и выводим \n",
    "rides['distance'].describe() #выводим описательную статистику"
   ]
  },
  {
   "cell_type": "code",
   "execution_count": 15,
   "id": "87a5c3ee",
   "metadata": {},
   "outputs": [
    {
     "data": {
      "text/plain": [
       "Text(0.5, 0, 'Расстояние, которое пользователь преодолел за одну поездку')"
      ]
     },
     "execution_count": 15,
     "metadata": {},
     "output_type": "execute_result"
    },
    {
     "data": {
      "image/png": "[encoded data removed]",
      "text/plain": [
       "<Figure size 504x504 with 1 Axes>"
      ]
     },
     "metadata": {
      "needs_background": "light"
     },
     "output_type": "display_data"
    }
   ],
   "source": [
    "rides.boxplot(column=['distance'], figsize=(7,7), grid=True) #строим ящик с усами\n",
    "plt.xlabel('Расстояние, которое пользователь преодолел за одну поездку') #задаем название оси икс и выводим"
   ]
  },
  {
   "cell_type": "markdown",
   "id": "5b26c7f7",
   "metadata": {},
   "source": [
    "Видим, что основные значения находятся в диапазоне от 1600 метров и сделаем срез:"
   ]
  },
  {
   "cell_type": "code",
   "execution_count": 16,
   "id": "f4c804a6",
   "metadata": {},
   "outputs": [
    {
     "data": {
      "text/plain": [
       "Text(0, 0.5, 'Частота')"
      ]
     },
     "execution_count": 16,
     "metadata": {},
     "output_type": "execute_result"
    },
    {
     "data": {
      "image/png": "[encoded data removed]",
      "text/plain": [
       "<Figure size 504x504 with 1 Axes>"
      ]
     },
     "metadata": {
      "needs_background": "light"
     },
     "output_type": "display_data"
    }
   ],
   "source": [
    "query = rides.query('distance >= 1600') #создаем переменную и делаем срез по вышеуказанным условиям\n",
    "query.plot(kind='hist', y ='distance', bins=100, grid=True, \\\n",
    "           legend=False, figsize=(7, 7), title='Расстояние, которое пользователь преодолел за одну поездку')\n",
    "#строим гистограмму с сеткой, без легенды и прописываем название \n",
    "plt.xlabel('Метры') #задаем название оси икс \n",
    "plt.ylabel('Частота') #задаем название оси игрик и выводим "
   ]
  },
  {
   "cell_type": "markdown",
   "id": "41344f7a",
   "metadata": {},
   "source": [
    "**Вывод:** На основе гистограммы можно сделать вывод, что есть небольшое отклонение от нормированного графика - это количество недалеких поездок (от 0 до 1,5 км), но в основном пользователи проезжают расстояние от 2,5 до 4 км на одну поездку.\n",
    "Максимальная дальность поездки в датафрейме - 7 км, минимальная - 85 см."
   ]
  },
  {
   "cell_type": "markdown",
   "id": "0fa94e20",
   "metadata": {},
   "source": [
    "#### Продолжительность поездок"
   ]
  },
  {
   "cell_type": "code",
   "execution_count": 17,
   "id": "85cf5e9e",
   "metadata": {},
   "outputs": [
    {
     "data": {
      "text/plain": [
       "count    18068.000000\n",
       "mean        17.805011\n",
       "std          6.091051\n",
       "min          0.500000\n",
       "25%         13.597563\n",
       "50%         17.678395\n",
       "75%         21.724800\n",
       "max         40.823963\n",
       "Name: duration, dtype: float64"
      ]
     },
     "execution_count": 17,
     "metadata": {},
     "output_type": "execute_result"
    },
    {
     "data": {
      "image/png": "[encoded data removed]",
      "text/plain": [
       "<Figure size 432x288 with 1 Axes>"
      ]
     },
     "metadata": {
      "needs_background": "light"
     },
     "output_type": "display_data"
    }
   ],
   "source": [
    "rides['duration'].plot(kind='hist', y ='duration', bins=100, grid=True, \\\n",
    "           legend=False, title='Продолжительность поездок') #строим гистограмму\n",
    "plt.xlabel('Минуты') #задаем название оси икс \n",
    "plt.ylabel('Частота') #задаем название оси игрик и выводим \n",
    "rides['duration'].describe() #выводим описательную статистику"
   ]
  },
  {
   "cell_type": "code",
   "execution_count": 18,
   "id": "5a74e8d4",
   "metadata": {},
   "outputs": [
    {
     "data": {
      "text/plain": [
       "Text(0.5, 0, 'Продолжительность поездок')"
      ]
     },
     "execution_count": 18,
     "metadata": {},
     "output_type": "execute_result"
    },
    {
     "data": {
      "image/png": "[encoded data removed]",
      "text/plain": [
       "<Figure size 504x504 with 1 Axes>"
      ]
     },
     "metadata": {
      "needs_background": "light"
     },
     "output_type": "display_data"
    }
   ],
   "source": [
    "rides.boxplot(column=['duration'], figsize=(7,7), grid=True) #строим ящик с усами\n",
    "plt.xlabel('Продолжительность поездок') #задаем название оси икс и выводим"
   ]
  },
  {
   "cell_type": "markdown",
   "id": "56791db6",
   "metadata": {},
   "source": [
    "Отсечем выбивающиеся минимальные значения и сделаем срез:"
   ]
  },
  {
   "cell_type": "code",
   "execution_count": 19,
   "id": "4ceb558f",
   "metadata": {},
   "outputs": [
    {
     "data": {
      "text/plain": [
       "Text(0, 0.5, 'Частота')"
      ]
     },
     "execution_count": 19,
     "metadata": {},
     "output_type": "execute_result"
    },
    {
     "data": {
      "image/png": "[encoded data removed]",
      "text/plain": [
       "<Figure size 504x504 with 1 Axes>"
      ]
     },
     "metadata": {
      "needs_background": "light"
     },
     "output_type": "display_data"
    }
   ],
   "source": [
    "query = rides.query('duration > 3') #создаем переменную и делаем срез по вышеуказанным условиям\n",
    "query.plot(kind='hist', y ='duration', bins=100, grid=True, \\\n",
    "           legend=False, figsize=(7, 7), title='Продолжительность поездок')\n",
    "#строим гистограмму с сеткой, без легенды и прописываем название \n",
    "plt.xlabel('Минуты') #задаем название оси икс \n",
    "plt.ylabel('Частота') #задаем название оси игрик и выводим "
   ]
  },
  {
   "cell_type": "markdown",
   "id": "4ace3261",
   "metadata": {},
   "source": [
    "**Вывод:** На основе гистограммы можно сделать вывод, что есть достаточно весомый выброс в значениях около нуля. В остальном она имеет нормальное распределение и среднее время поездки занимает примерно от 10 до 25 минут. Максимальная длительность поездки - 41 минута, минимальная - 50 секунд. "
   ]
  },
  {
   "cell_type": "markdown",
   "id": "69343030",
   "metadata": {},
   "source": [
    "**Итог:**\n",
    "* Все 8 городов, в которых находится сервис, распределены достаточно равномерно, но чаще всего встречается Пятигорск, а реже всего - Москва.\n",
    "* Самым распостраненным видом подписки является `free`, хотя доля ее пользователей не сильно превышает долю пользователей подписки `ultra`.\n",
    "* Средний возраст пользователя сервиса составляет 25 лет, и т.к. имеет нормальное распределение, основная доля пользователей находится в диапазоне от 20 до 30 лет. Минимальное значение - 14 лет, а максимальное 43 года. На счет первого значения нужно обратить внимание, т.к. по правилам регистрация пользователей доступна только с 18 лет.\n",
    "* В данных о расстоянии есть небольшое отклонение от нормированного графика - это количество недалеких поездок (от 0 до 1,5 км), но в основном пользователи проезжают расстояние от 2,5 до 4 км на одну поездку. Максимальная дальность поездки в датафрейме - 7 км, минимальная - 85 см.\n",
    "* В данных о длительности поездки есть достаточно весомый выброс в значениях около нуля. В остальном она имеет нормальное распределение и среднее время поездки занимает примерно от 10 до 25 минут. Максимальная длительность поездки - 41 минута, минимальная - 50 секунд.\n",
    "\n",
    "Портрет типичного пользователя сервиса - это житель Пятигорска 25-лет, проезжающий около 3 км за одну поездку и потративший на это примерно 15-20 минут."
   ]
  },
  {
   "cell_type": "markdown",
   "id": "4ef51331",
   "metadata": {},
   "source": [
    "### Объединение данных"
   ]
  },
  {
   "cell_type": "markdown",
   "id": "7f8d15f2",
   "metadata": {},
   "source": [
    "Объединим данные о пользователях, поездках и подписках в один датафрейм:"
   ]
  },
  {
   "cell_type": "code",
   "execution_count": 20,
   "id": "6bf288b5",
   "metadata": {},
   "outputs": [
    {
     "name": "stdout",
     "output_type": "stream",
     "text": [
      "<class 'pandas.core.frame.DataFrame'>\n",
      "Int64Index: 18068 entries, 0 to 18067\n",
      "Data columns (total 12 columns):\n",
      " #   Column             Non-Null Count  Dtype         \n",
      "---  ------             --------------  -----         \n",
      " 0   user_id            18068 non-null  int64         \n",
      " 1   name               18068 non-null  object        \n",
      " 2   age                18068 non-null  int64         \n",
      " 3   city               18068 non-null  object        \n",
      " 4   subscription_type  18068 non-null  object        \n",
      " 5   distance           18068 non-null  float64       \n",
      " 6   duration           18068 non-null  float64       \n",
      " 7   date               18068 non-null  datetime64[ns]\n",
      " 8   month              18068 non-null  object        \n",
      " 9   minute_price       18068 non-null  int64         \n",
      " 10  start_ride_price   18068 non-null  int64         \n",
      " 11  subscription_fee   18068 non-null  int64         \n",
      "dtypes: datetime64[ns](1), float64(2), int64(5), object(4)\n",
      "memory usage: 1.8+ MB\n"
     ]
    },
    {
     "data": {
      "text/html": [
       "<div>\n",
       "<style scoped>\n",
       "    .dataframe tbody tr th:only-of-type {\n",
       "        vertical-align: middle;\n",
       "    }\n",
       "\n",
       "    .dataframe tbody tr th {\n",
       "        vertical-align: top;\n",
       "    }\n",
       "\n",
       "    .dataframe thead th {\n",
       "        text-align: right;\n",
       "    }\n",
       "</style>\n",
       "<table border=\"1\" class=\"dataframe\">\n",
       "  <thead>\n",
       "    <tr style=\"text-align: right;\">\n",
       "      <th></th>\n",
       "      <th>user_id</th>\n",
       "      <th>name</th>\n",
       "      <th>age</th>\n",
       "      <th>city</th>\n",
       "      <th>subscription_type</th>\n",
       "      <th>distance</th>\n",
       "      <th>duration</th>\n",
       "      <th>date</th>\n",
       "      <th>month</th>\n",
       "      <th>minute_price</th>\n",
       "      <th>start_ride_price</th>\n",
       "      <th>subscription_fee</th>\n",
       "    </tr>\n",
       "  </thead>\n",
       "  <tbody>\n",
       "    <tr>\n",
       "      <th>0</th>\n",
       "      <td>1</td>\n",
       "      <td>Кира</td>\n",
       "      <td>22</td>\n",
       "      <td>Тюмень</td>\n",
       "      <td>ultra</td>\n",
       "      <td>4409.919140</td>\n",
       "      <td>25.599769</td>\n",
       "      <td>2021-01-01</td>\n",
       "      <td>Январь</td>\n",
       "      <td>6</td>\n",
       "      <td>0</td>\n",
       "      <td>199</td>\n",
       "    </tr>\n",
       "    <tr>\n",
       "      <th>1</th>\n",
       "      <td>1</td>\n",
       "      <td>Кира</td>\n",
       "      <td>22</td>\n",
       "      <td>Тюмень</td>\n",
       "      <td>ultra</td>\n",
       "      <td>2617.592153</td>\n",
       "      <td>15.816871</td>\n",
       "      <td>2021-01-18</td>\n",
       "      <td>Январь</td>\n",
       "      <td>6</td>\n",
       "      <td>0</td>\n",
       "      <td>199</td>\n",
       "    </tr>\n",
       "    <tr>\n",
       "      <th>2</th>\n",
       "      <td>1</td>\n",
       "      <td>Кира</td>\n",
       "      <td>22</td>\n",
       "      <td>Тюмень</td>\n",
       "      <td>ultra</td>\n",
       "      <td>754.159807</td>\n",
       "      <td>6.232113</td>\n",
       "      <td>2021-04-20</td>\n",
       "      <td>Апрель</td>\n",
       "      <td>6</td>\n",
       "      <td>0</td>\n",
       "      <td>199</td>\n",
       "    </tr>\n",
       "    <tr>\n",
       "      <th>3</th>\n",
       "      <td>1</td>\n",
       "      <td>Кира</td>\n",
       "      <td>22</td>\n",
       "      <td>Тюмень</td>\n",
       "      <td>ultra</td>\n",
       "      <td>2694.783254</td>\n",
       "      <td>18.511000</td>\n",
       "      <td>2021-08-11</td>\n",
       "      <td>Август</td>\n",
       "      <td>6</td>\n",
       "      <td>0</td>\n",
       "      <td>199</td>\n",
       "    </tr>\n",
       "    <tr>\n",
       "      <th>4</th>\n",
       "      <td>1</td>\n",
       "      <td>Кира</td>\n",
       "      <td>22</td>\n",
       "      <td>Тюмень</td>\n",
       "      <td>ultra</td>\n",
       "      <td>4028.687306</td>\n",
       "      <td>26.265803</td>\n",
       "      <td>2021-08-28</td>\n",
       "      <td>Август</td>\n",
       "      <td>6</td>\n",
       "      <td>0</td>\n",
       "      <td>199</td>\n",
       "    </tr>\n",
       "    <tr>\n",
       "      <th>5</th>\n",
       "      <td>1</td>\n",
       "      <td>Кира</td>\n",
       "      <td>22</td>\n",
       "      <td>Тюмень</td>\n",
       "      <td>ultra</td>\n",
       "      <td>2770.890808</td>\n",
       "      <td>16.650138</td>\n",
       "      <td>2021-10-09</td>\n",
       "      <td>Октябрь</td>\n",
       "      <td>6</td>\n",
       "      <td>0</td>\n",
       "      <td>199</td>\n",
       "    </tr>\n",
       "    <tr>\n",
       "      <th>6</th>\n",
       "      <td>1</td>\n",
       "      <td>Кира</td>\n",
       "      <td>22</td>\n",
       "      <td>Тюмень</td>\n",
       "      <td>ultra</td>\n",
       "      <td>3039.020292</td>\n",
       "      <td>14.927879</td>\n",
       "      <td>2021-10-19</td>\n",
       "      <td>Октябрь</td>\n",
       "      <td>6</td>\n",
       "      <td>0</td>\n",
       "      <td>199</td>\n",
       "    </tr>\n",
       "    <tr>\n",
       "      <th>7</th>\n",
       "      <td>1</td>\n",
       "      <td>Кира</td>\n",
       "      <td>22</td>\n",
       "      <td>Тюмень</td>\n",
       "      <td>ultra</td>\n",
       "      <td>2842.118050</td>\n",
       "      <td>23.117468</td>\n",
       "      <td>2021-11-06</td>\n",
       "      <td>Ноябрь</td>\n",
       "      <td>6</td>\n",
       "      <td>0</td>\n",
       "      <td>199</td>\n",
       "    </tr>\n",
       "    <tr>\n",
       "      <th>8</th>\n",
       "      <td>1</td>\n",
       "      <td>Кира</td>\n",
       "      <td>22</td>\n",
       "      <td>Тюмень</td>\n",
       "      <td>ultra</td>\n",
       "      <td>3412.690668</td>\n",
       "      <td>15.238072</td>\n",
       "      <td>2021-11-14</td>\n",
       "      <td>Ноябрь</td>\n",
       "      <td>6</td>\n",
       "      <td>0</td>\n",
       "      <td>199</td>\n",
       "    </tr>\n",
       "    <tr>\n",
       "      <th>9</th>\n",
       "      <td>1</td>\n",
       "      <td>Кира</td>\n",
       "      <td>22</td>\n",
       "      <td>Тюмень</td>\n",
       "      <td>ultra</td>\n",
       "      <td>748.690645</td>\n",
       "      <td>15.041884</td>\n",
       "      <td>2021-11-22</td>\n",
       "      <td>Ноябрь</td>\n",
       "      <td>6</td>\n",
       "      <td>0</td>\n",
       "      <td>199</td>\n",
       "    </tr>\n",
       "    <tr>\n",
       "      <th>10</th>\n",
       "      <td>1</td>\n",
       "      <td>Кира</td>\n",
       "      <td>22</td>\n",
       "      <td>Тюмень</td>\n",
       "      <td>ultra</td>\n",
       "      <td>4031.020195</td>\n",
       "      <td>17.674448</td>\n",
       "      <td>2021-12-14</td>\n",
       "      <td>Декабрь</td>\n",
       "      <td>6</td>\n",
       "      <td>0</td>\n",
       "      <td>199</td>\n",
       "    </tr>\n",
       "    <tr>\n",
       "      <th>11</th>\n",
       "      <td>1</td>\n",
       "      <td>Кира</td>\n",
       "      <td>22</td>\n",
       "      <td>Тюмень</td>\n",
       "      <td>ultra</td>\n",
       "      <td>2720.609748</td>\n",
       "      <td>9.529463</td>\n",
       "      <td>2021-12-22</td>\n",
       "      <td>Декабрь</td>\n",
       "      <td>6</td>\n",
       "      <td>0</td>\n",
       "      <td>199</td>\n",
       "    </tr>\n",
       "    <tr>\n",
       "      <th>12</th>\n",
       "      <td>2</td>\n",
       "      <td>Станислав</td>\n",
       "      <td>31</td>\n",
       "      <td>Омск</td>\n",
       "      <td>ultra</td>\n",
       "      <td>3105.086678</td>\n",
       "      <td>24.307514</td>\n",
       "      <td>2021-03-15</td>\n",
       "      <td>Март</td>\n",
       "      <td>6</td>\n",
       "      <td>0</td>\n",
       "      <td>199</td>\n",
       "    </tr>\n",
       "    <tr>\n",
       "      <th>13</th>\n",
       "      <td>2</td>\n",
       "      <td>Станислав</td>\n",
       "      <td>31</td>\n",
       "      <td>Омск</td>\n",
       "      <td>ultra</td>\n",
       "      <td>3053.519401</td>\n",
       "      <td>11.543256</td>\n",
       "      <td>2021-03-18</td>\n",
       "      <td>Март</td>\n",
       "      <td>6</td>\n",
       "      <td>0</td>\n",
       "      <td>199</td>\n",
       "    </tr>\n",
       "    <tr>\n",
       "      <th>14</th>\n",
       "      <td>2</td>\n",
       "      <td>Станислав</td>\n",
       "      <td>31</td>\n",
       "      <td>Омск</td>\n",
       "      <td>ultra</td>\n",
       "      <td>4029.116927</td>\n",
       "      <td>25.109188</td>\n",
       "      <td>2021-03-23</td>\n",
       "      <td>Март</td>\n",
       "      <td>6</td>\n",
       "      <td>0</td>\n",
       "      <td>199</td>\n",
       "    </tr>\n",
       "    <tr>\n",
       "      <th>15</th>\n",
       "      <td>2</td>\n",
       "      <td>Станислав</td>\n",
       "      <td>31</td>\n",
       "      <td>Омск</td>\n",
       "      <td>ultra</td>\n",
       "      <td>2805.786329</td>\n",
       "      <td>20.652145</td>\n",
       "      <td>2021-04-08</td>\n",
       "      <td>Апрель</td>\n",
       "      <td>6</td>\n",
       "      <td>0</td>\n",
       "      <td>199</td>\n",
       "    </tr>\n",
       "    <tr>\n",
       "      <th>16</th>\n",
       "      <td>2</td>\n",
       "      <td>Станислав</td>\n",
       "      <td>31</td>\n",
       "      <td>Омск</td>\n",
       "      <td>ultra</td>\n",
       "      <td>3358.595495</td>\n",
       "      <td>18.396489</td>\n",
       "      <td>2021-04-13</td>\n",
       "      <td>Апрель</td>\n",
       "      <td>6</td>\n",
       "      <td>0</td>\n",
       "      <td>199</td>\n",
       "    </tr>\n",
       "    <tr>\n",
       "      <th>17</th>\n",
       "      <td>2</td>\n",
       "      <td>Станислав</td>\n",
       "      <td>31</td>\n",
       "      <td>Омск</td>\n",
       "      <td>ultra</td>\n",
       "      <td>3255.338202</td>\n",
       "      <td>13.851127</td>\n",
       "      <td>2021-06-20</td>\n",
       "      <td>Июнь</td>\n",
       "      <td>6</td>\n",
       "      <td>0</td>\n",
       "      <td>199</td>\n",
       "    </tr>\n",
       "    <tr>\n",
       "      <th>18</th>\n",
       "      <td>2</td>\n",
       "      <td>Станислав</td>\n",
       "      <td>31</td>\n",
       "      <td>Омск</td>\n",
       "      <td>ultra</td>\n",
       "      <td>3942.817648</td>\n",
       "      <td>20.142725</td>\n",
       "      <td>2021-07-02</td>\n",
       "      <td>Июль</td>\n",
       "      <td>6</td>\n",
       "      <td>0</td>\n",
       "      <td>199</td>\n",
       "    </tr>\n",
       "    <tr>\n",
       "      <th>19</th>\n",
       "      <td>2</td>\n",
       "      <td>Станислав</td>\n",
       "      <td>31</td>\n",
       "      <td>Омск</td>\n",
       "      <td>ultra</td>\n",
       "      <td>2837.905316</td>\n",
       "      <td>26.027432</td>\n",
       "      <td>2021-07-18</td>\n",
       "      <td>Июль</td>\n",
       "      <td>6</td>\n",
       "      <td>0</td>\n",
       "      <td>199</td>\n",
       "    </tr>\n",
       "  </tbody>\n",
       "</table>\n",
       "</div>"
      ],
      "text/plain": [
       "    user_id       name  age    city subscription_type     distance   duration  \\\n",
       "0         1       Кира   22  Тюмень             ultra  4409.919140  25.599769   \n",
       "1         1       Кира   22  Тюмень             ultra  2617.592153  15.816871   \n",
       "2         1       Кира   22  Тюмень             ultra   754.159807   6.232113   \n",
       "3         1       Кира   22  Тюмень             ultra  2694.783254  18.511000   \n",
       "4         1       Кира   22  Тюмень             ultra  4028.687306  26.265803   \n",
       "5         1       Кира   22  Тюмень             ultra  2770.890808  16.650138   \n",
       "6         1       Кира   22  Тюмень             ultra  3039.020292  14.927879   \n",
       "7         1       Кира   22  Тюмень             ultra  2842.118050  23.117468   \n",
       "8         1       Кира   22  Тюмень             ultra  3412.690668  15.238072   \n",
       "9         1       Кира   22  Тюмень             ultra   748.690645  15.041884   \n",
       "10        1       Кира   22  Тюмень             ultra  4031.020195  17.674448   \n",
       "11        1       Кира   22  Тюмень             ultra  2720.609748   9.529463   \n",
       "12        2  Станислав   31    Омск             ultra  3105.086678  24.307514   \n",
       "13        2  Станислав   31    Омск             ultra  3053.519401  11.543256   \n",
       "14        2  Станислав   31    Омск             ultra  4029.116927  25.109188   \n",
       "15        2  Станислав   31    Омск             ultra  2805.786329  20.652145   \n",
       "16        2  Станислав   31    Омск             ultra  3358.595495  18.396489   \n",
       "17        2  Станислав   31    Омск             ultra  3255.338202  13.851127   \n",
       "18        2  Станислав   31    Омск             ultra  3942.817648  20.142725   \n",
       "19        2  Станислав   31    Омск             ultra  2837.905316  26.027432   \n",
       "\n",
       "         date    month  minute_price  start_ride_price  subscription_fee  \n",
       "0  2021-01-01   Январь             6                 0               199  \n",
       "1  2021-01-18   Январь             6                 0               199  \n",
       "2  2021-04-20   Апрель             6                 0               199  \n",
       "3  2021-08-11   Август             6                 0               199  \n",
       "4  2021-08-28   Август             6                 0               199  \n",
       "5  2021-10-09  Октябрь             6                 0               199  \n",
       "6  2021-10-19  Октябрь             6                 0               199  \n",
       "7  2021-11-06   Ноябрь             6                 0               199  \n",
       "8  2021-11-14   Ноябрь             6                 0               199  \n",
       "9  2021-11-22   Ноябрь             6                 0               199  \n",
       "10 2021-12-14  Декабрь             6                 0               199  \n",
       "11 2021-12-22  Декабрь             6                 0               199  \n",
       "12 2021-03-15     Март             6                 0               199  \n",
       "13 2021-03-18     Март             6                 0               199  \n",
       "14 2021-03-23     Март             6                 0               199  \n",
       "15 2021-04-08   Апрель             6                 0               199  \n",
       "16 2021-04-13   Апрель             6                 0               199  \n",
       "17 2021-06-20     Июнь             6                 0               199  \n",
       "18 2021-07-02     Июль             6                 0               199  \n",
       "19 2021-07-18     Июль             6                 0               199  "
      ]
     },
     "execution_count": 20,
     "metadata": {},
     "output_type": "execute_result"
    }
   ],
   "source": [
    "merger = users.merge(rides, on = 'user_id') #объеденим два датафрейма по колонке user_id\n",
    "merger = merger.merge(sub, on = 'subscription_type') #добавим оставшийся по колонке subscription_type\n",
    "merger.info() #выводим инфо для проверки соразмерности датафрейма\n",
    "merger.head(20) #выводим на экран для проверки первые 20"
   ]
  },
  {
   "cell_type": "markdown",
   "id": "974458a4",
   "metadata": {},
   "source": [
    "Создадим ещё два:\n",
    "* c данными о пользователях без подписки;\n",
    "* с данными о пользователях с подпиской."
   ]
  },
  {
   "cell_type": "code",
   "execution_count": 21,
   "id": "63bd9dd3",
   "metadata": {},
   "outputs": [
    {
     "name": "stdout",
     "output_type": "stream",
     "text": [
      "<class 'pandas.core.frame.DataFrame'>\n",
      "Int64Index: 11568 entries, 6500 to 18067\n",
      "Data columns (total 12 columns):\n",
      " #   Column             Non-Null Count  Dtype         \n",
      "---  ------             --------------  -----         \n",
      " 0   user_id            11568 non-null  int64         \n",
      " 1   name               11568 non-null  object        \n",
      " 2   age                11568 non-null  int64         \n",
      " 3   city               11568 non-null  object        \n",
      " 4   subscription_type  11568 non-null  object        \n",
      " 5   distance           11568 non-null  float64       \n",
      " 6   duration           11568 non-null  float64       \n",
      " 7   date               11568 non-null  datetime64[ns]\n",
      " 8   month              11568 non-null  object        \n",
      " 9   minute_price       11568 non-null  int64         \n",
      " 10  start_ride_price   11568 non-null  int64         \n",
      " 11  subscription_fee   11568 non-null  int64         \n",
      "dtypes: datetime64[ns](1), float64(2), int64(5), object(4)\n",
      "memory usage: 1.1+ MB\n",
      "None\n",
      "<class 'pandas.core.frame.DataFrame'>\n",
      "Int64Index: 6500 entries, 0 to 6499\n",
      "Data columns (total 12 columns):\n",
      " #   Column             Non-Null Count  Dtype         \n",
      "---  ------             --------------  -----         \n",
      " 0   user_id            6500 non-null   int64         \n",
      " 1   name               6500 non-null   object        \n",
      " 2   age                6500 non-null   int64         \n",
      " 3   city               6500 non-null   object        \n",
      " 4   subscription_type  6500 non-null   object        \n",
      " 5   distance           6500 non-null   float64       \n",
      " 6   duration           6500 non-null   float64       \n",
      " 7   date               6500 non-null   datetime64[ns]\n",
      " 8   month              6500 non-null   object        \n",
      " 9   minute_price       6500 non-null   int64         \n",
      " 10  start_ride_price   6500 non-null   int64         \n",
      " 11  subscription_fee   6500 non-null   int64         \n",
      "dtypes: datetime64[ns](1), float64(2), int64(5), object(4)\n",
      "memory usage: 660.2+ KB\n"
     ]
    }
   ],
   "source": [
    "without_sub = merger[merger['subscription_type'] == 'free'] #без подписки\n",
    "with_sub = merger[merger['subscription_type'] == 'ultra'] #с подпиской\n",
    "print(without_sub.info()) \n",
    "with_sub.info()\n",
    "#выведем инфо об обоих датафреймах"
   ]
  },
  {
   "cell_type": "markdown",
   "id": "0bcd65f4",
   "metadata": {},
   "source": [
    "Суммарно строки датафрема составляют размерность датафрейма `merge` - 18 068 строк, значит разделение прошло успешно."
   ]
  },
  {
   "cell_type": "markdown",
   "id": "3aa64b48",
   "metadata": {},
   "source": [
    " Визуализируем информацию о расстоянии и времени поездок для пользователей обеих категорий:"
   ]
  },
  {
   "cell_type": "code",
   "execution_count": 22,
   "id": "6c0d0501",
   "metadata": {},
   "outputs": [
    {
     "data": {
      "text/plain": [
       "count    11568.000000\n",
       "mean        17.390909\n",
       "std          6.326803\n",
       "min          0.500000\n",
       "25%         12.958437\n",
       "50%         17.326890\n",
       "75%         21.594071\n",
       "max         34.948498\n",
       "Name: duration, dtype: float64"
      ]
     },
     "execution_count": 22,
     "metadata": {},
     "output_type": "execute_result"
    },
    {
     "data": {
      "image/png": "[encoded data removed]",
      "text/plain": [
       "<Figure size 432x288 with 1 Axes>"
      ]
     },
     "metadata": {
      "needs_background": "light"
     },
     "output_type": "display_data"
    }
   ],
   "source": [
    "without_sub.plot(kind='hist', y='duration', bins=100, grid=True,\\\n",
    "           legend=False, title='Продолжительность поездки для пользователей без подписки') #строим гистограмму\n",
    "plt.xlabel('Минуты') #задаем название оси икс \n",
    "plt.ylabel('Частота') #задаем название оси игрик и выводим \n",
    "without_sub['duration'].describe() #выводим описательную статистику "
   ]
  },
  {
   "cell_type": "code",
   "execution_count": 23,
   "id": "8105e5ff",
   "metadata": {},
   "outputs": [
    {
     "data": {
      "text/plain": [
       "count    11568.000000\n",
       "mean      3045.495282\n",
       "std       1246.173806\n",
       "min          0.855683\n",
       "25%       2366.562689\n",
       "50%       3114.648465\n",
       "75%       3905.697894\n",
       "max       7211.007745\n",
       "Name: distance, dtype: float64"
      ]
     },
     "execution_count": 23,
     "metadata": {},
     "output_type": "execute_result"
    },
    {
     "data": {
      "image/png": "[encoded data removed]",
      "text/plain": [
       "<Figure size 432x288 with 1 Axes>"
      ]
     },
     "metadata": {
      "needs_background": "light"
     },
     "output_type": "display_data"
    }
   ],
   "source": [
    "without_sub.plot(kind='hist', y='distance', bins=100, grid=True,\\\n",
    "           legend=False, title='Расстояние поездки для пользователей без подписки') #строим гистограмму\n",
    "plt.xlabel('Метры') #задаем название оси икс \n",
    "plt.ylabel('Частота') #задаем название оси игрик и выводим \n",
    "without_sub['distance'].describe() #выводим описательную статистику "
   ]
  },
  {
   "cell_type": "markdown",
   "id": "d8811dae",
   "metadata": {},
   "source": [
    "**Вывод:** Есть большой выброс в 50 секундных поездках, вероятно это отмененные поездки. Причины могут быть разнообразными - рядом оказался более дешевый самокат, более заряженный, самокат оказался сломан и не поехал, или поездка вовсе отменилась. Без этого в среднем длительность поездки пользователя без подписки длится 10-25 минут. Что касаемо расстояния - в среднем пользователи без подписки  проезжают около 2-4,5 км, но так же есть небольшая совокупность коротких поездок (от 0 до 1,5 км)."
   ]
  },
  {
   "cell_type": "code",
   "execution_count": 24,
   "id": "b22627c6",
   "metadata": {},
   "outputs": [
    {
     "data": {
      "text/plain": [
       "count    6500.000000\n",
       "mean       18.541985\n",
       "std         5.572048\n",
       "min         3.760353\n",
       "25%        14.524654\n",
       "50%        18.178153\n",
       "75%        21.884129\n",
       "max        40.823963\n",
       "Name: duration, dtype: float64"
      ]
     },
     "execution_count": 24,
     "metadata": {},
     "output_type": "execute_result"
    },
    {
     "data": {
      "image/png": "[encoded data removed]",
      "text/plain": [
       "<Figure size 432x288 with 1 Axes>"
      ]
     },
     "metadata": {
      "needs_background": "light"
     },
     "output_type": "display_data"
    }
   ],
   "source": [
    "with_sub.plot(kind='hist', y='duration', bins=100, grid=True,\\\n",
    "           legend=False, title='Продолжительность поездки (мин.) для пользователей с подпиской') #строим гистограмму\n",
    "plt.xlabel('Минуты') #задаем название оси икс\n",
    "plt.ylabel('Частота') #задаем название оси игрик и выводим \n",
    "with_sub['duration'].describe() #выводим описательную статистику"
   ]
  },
  {
   "cell_type": "code",
   "execution_count": 25,
   "id": "2def9c0c",
   "metadata": {},
   "outputs": [
    {
     "data": {
      "text/plain": [
       "count    6500.000000\n",
       "mean     3115.445388\n",
       "std       836.895330\n",
       "min       244.210438\n",
       "25%      2785.444017\n",
       "50%      3148.637229\n",
       "75%      3560.574425\n",
       "max      5699.769662\n",
       "Name: distance, dtype: float64"
      ]
     },
     "execution_count": 25,
     "metadata": {},
     "output_type": "execute_result"
    },
    {
     "data": {
      "image/png": "[encoded data removed]",
      "text/plain": [
       "<Figure size 432x288 with 1 Axes>"
      ]
     },
     "metadata": {
      "needs_background": "light"
     },
     "output_type": "display_data"
    }
   ],
   "source": [
    "with_sub.plot(kind='hist', y='distance', bins=100, grid=True,\\\n",
    "           legend=False, title='Расстояние поездки (м) для пользователей с подпиской') #строим гистограмму\n",
    "plt.xlabel('Метры') #задаем название оси икс \n",
    "plt.ylabel('Частота') #задаем название оси игрик и выводим \n",
    "with_sub['distance'].describe() #выводим описательную статистику "
   ]
  },
  {
   "cell_type": "markdown",
   "id": "4abf69ff",
   "metadata": {},
   "source": [
    "**Вывод:** В среднем длительность поездки пользователя с подпиской длится 10-25 минут. Что касаемо расстояния - в среднем пользователи с подпиской проезжают около 2,5-4,0 км, но так же есть небольшая совокупность коротких поездок (от 0 до 1,5 км).\n",
    "\n",
    "**Итог:** В целом распределение пользователей с разными подписками отличаются несущественно, в основном количеством непродолжительных поездок."
   ]
  },
  {
   "cell_type": "markdown",
   "id": "402d620f",
   "metadata": {},
   "source": [
    "### Подсчёт выручки"
   ]
  },
  {
   "cell_type": "markdown",
   "id": "60565329",
   "metadata": {},
   "source": [
    "Создадим датафрейм с агрегированными данными о поездках на основе датафрейма с объединёнными данными (`merger`) и найдем суммарное расстояние, количество поездок и суммарное время для каждого пользователя за каждый месяц:"
   ]
  },
  {
   "cell_type": "code",
   "execution_count": 26,
   "id": "53049e0a",
   "metadata": {},
   "outputs": [
    {
     "data": {
      "text/html": [
       "<div>\n",
       "<style scoped>\n",
       "    .dataframe tbody tr th:only-of-type {\n",
       "        vertical-align: middle;\n",
       "    }\n",
       "\n",
       "    .dataframe tbody tr th {\n",
       "        vertical-align: top;\n",
       "    }\n",
       "\n",
       "    .dataframe thead th {\n",
       "        text-align: right;\n",
       "    }\n",
       "</style>\n",
       "<table border=\"1\" class=\"dataframe\">\n",
       "  <thead>\n",
       "    <tr style=\"text-align: right;\">\n",
       "      <th></th>\n",
       "      <th>user_id</th>\n",
       "      <th>subscription_type</th>\n",
       "      <th>month</th>\n",
       "      <th>minute_price</th>\n",
       "      <th>start_ride_price</th>\n",
       "      <th>subscription_fee</th>\n",
       "      <th>count</th>\n",
       "      <th>sum_distance</th>\n",
       "      <th>sum_duration</th>\n",
       "    </tr>\n",
       "  </thead>\n",
       "  <tbody>\n",
       "    <tr>\n",
       "      <th>0</th>\n",
       "      <td>1</td>\n",
       "      <td>ultra</td>\n",
       "      <td>Август</td>\n",
       "      <td>6</td>\n",
       "      <td>0</td>\n",
       "      <td>199</td>\n",
       "      <td>2</td>\n",
       "      <td>6723.47</td>\n",
       "      <td>46</td>\n",
       "    </tr>\n",
       "    <tr>\n",
       "      <th>1</th>\n",
       "      <td>1</td>\n",
       "      <td>ultra</td>\n",
       "      <td>Апрель</td>\n",
       "      <td>6</td>\n",
       "      <td>0</td>\n",
       "      <td>199</td>\n",
       "      <td>1</td>\n",
       "      <td>754.16</td>\n",
       "      <td>7</td>\n",
       "    </tr>\n",
       "    <tr>\n",
       "      <th>2</th>\n",
       "      <td>1</td>\n",
       "      <td>ultra</td>\n",
       "      <td>Декабрь</td>\n",
       "      <td>6</td>\n",
       "      <td>0</td>\n",
       "      <td>199</td>\n",
       "      <td>2</td>\n",
       "      <td>6751.63</td>\n",
       "      <td>28</td>\n",
       "    </tr>\n",
       "    <tr>\n",
       "      <th>3</th>\n",
       "      <td>1</td>\n",
       "      <td>ultra</td>\n",
       "      <td>Ноябрь</td>\n",
       "      <td>6</td>\n",
       "      <td>0</td>\n",
       "      <td>199</td>\n",
       "      <td>3</td>\n",
       "      <td>7003.50</td>\n",
       "      <td>56</td>\n",
       "    </tr>\n",
       "    <tr>\n",
       "      <th>4</th>\n",
       "      <td>1</td>\n",
       "      <td>ultra</td>\n",
       "      <td>Октябрь</td>\n",
       "      <td>6</td>\n",
       "      <td>0</td>\n",
       "      <td>199</td>\n",
       "      <td>2</td>\n",
       "      <td>5809.91</td>\n",
       "      <td>32</td>\n",
       "    </tr>\n",
       "    <tr>\n",
       "      <th>...</th>\n",
       "      <td>...</td>\n",
       "      <td>...</td>\n",
       "      <td>...</td>\n",
       "      <td>...</td>\n",
       "      <td>...</td>\n",
       "      <td>...</td>\n",
       "      <td>...</td>\n",
       "      <td>...</td>\n",
       "      <td>...</td>\n",
       "    </tr>\n",
       "    <tr>\n",
       "      <th>11326</th>\n",
       "      <td>1534</td>\n",
       "      <td>free</td>\n",
       "      <td>Июнь</td>\n",
       "      <td>8</td>\n",
       "      <td>50</td>\n",
       "      <td>0</td>\n",
       "      <td>2</td>\n",
       "      <td>3409.47</td>\n",
       "      <td>26</td>\n",
       "    </tr>\n",
       "    <tr>\n",
       "      <th>11327</th>\n",
       "      <td>1534</td>\n",
       "      <td>free</td>\n",
       "      <td>Ноябрь</td>\n",
       "      <td>8</td>\n",
       "      <td>50</td>\n",
       "      <td>0</td>\n",
       "      <td>4</td>\n",
       "      <td>13350.02</td>\n",
       "      <td>78</td>\n",
       "    </tr>\n",
       "    <tr>\n",
       "      <th>11328</th>\n",
       "      <td>1534</td>\n",
       "      <td>free</td>\n",
       "      <td>Сентябрь</td>\n",
       "      <td>8</td>\n",
       "      <td>50</td>\n",
       "      <td>0</td>\n",
       "      <td>1</td>\n",
       "      <td>4928.17</td>\n",
       "      <td>23</td>\n",
       "    </tr>\n",
       "    <tr>\n",
       "      <th>11329</th>\n",
       "      <td>1534</td>\n",
       "      <td>free</td>\n",
       "      <td>Февраль</td>\n",
       "      <td>8</td>\n",
       "      <td>50</td>\n",
       "      <td>0</td>\n",
       "      <td>1</td>\n",
       "      <td>2103.91</td>\n",
       "      <td>14</td>\n",
       "    </tr>\n",
       "    <tr>\n",
       "      <th>11330</th>\n",
       "      <td>1534</td>\n",
       "      <td>free</td>\n",
       "      <td>Январь</td>\n",
       "      <td>8</td>\n",
       "      <td>50</td>\n",
       "      <td>0</td>\n",
       "      <td>1</td>\n",
       "      <td>4678.42</td>\n",
       "      <td>16</td>\n",
       "    </tr>\n",
       "  </tbody>\n",
       "</table>\n",
       "<p>11331 rows × 9 columns</p>\n",
       "</div>"
      ],
      "text/plain": [
       "       user_id subscription_type     month  minute_price  start_ride_price  \\\n",
       "0            1             ultra    Август             6                 0   \n",
       "1            1             ultra    Апрель             6                 0   \n",
       "2            1             ultra   Декабрь             6                 0   \n",
       "3            1             ultra    Ноябрь             6                 0   \n",
       "4            1             ultra   Октябрь             6                 0   \n",
       "...        ...               ...       ...           ...               ...   \n",
       "11326     1534              free      Июнь             8                50   \n",
       "11327     1534              free    Ноябрь             8                50   \n",
       "11328     1534              free  Сентябрь             8                50   \n",
       "11329     1534              free   Февраль             8                50   \n",
       "11330     1534              free    Январь             8                50   \n",
       "\n",
       "       subscription_fee  count  sum_distance  sum_duration  \n",
       "0                   199      2       6723.47            46  \n",
       "1                   199      1        754.16             7  \n",
       "2                   199      2       6751.63            28  \n",
       "3                   199      3       7003.50            56  \n",
       "4                   199      2       5809.91            32  \n",
       "...                 ...    ...           ...           ...  \n",
       "11326                 0      2       3409.47            26  \n",
       "11327                 0      4      13350.02            78  \n",
       "11328                 0      1       4928.17            23  \n",
       "11329                 0      1       2103.91            14  \n",
       "11330                 0      1       4678.42            16  \n",
       "\n",
       "[11331 rows x 9 columns]"
      ]
     },
     "execution_count": 26,
     "metadata": {},
     "output_type": "execute_result"
    }
   ],
   "source": [
    "merger['duration'] = np.ceil(merger['duration']).astype(int) \n",
    "#округлим значения до агреграции в большую сторону и переведем в тип целого числа\n",
    "agg_df = merger.pivot_table(index=['user_id', 'subscription_type', 'month', 'minute_price',\\\n",
    "                            'start_ride_price','subscription_fee'], values=['duration', 'distance'],\\\n",
    "                            aggfunc= ['count','sum']) #создаем сводную таблицу\n",
    "agg_df = agg_df.droplevel(1, axis=1).rename_axis(None, axis=1).reset_index() #убираем мультииндексы\n",
    "agg_df.columns=['user_id', 'subscription_type', 'month', 'minute_price',\n",
    "                'start_ride_price', 'subscription_fee','count', 'count2',\\\n",
    "                'sum_distance', 'sum_duration'] #переименуем столбцы        \n",
    "agg_df.drop('count2', axis=1, inplace=True) #удалим один повторяющийся\n",
    "agg_df['sum_distance'] = round(agg_df['sum_distance'],2) \n",
    "#округлим расстояние до 2 цифр после запятой\n",
    "agg_df #выведем датафрейм для проверки"
   ]
  },
  {
   "cell_type": "markdown",
   "id": "f92ec17b",
   "metadata": {},
   "source": [
    "Добавим столбец с помесячной выручкой, которую принёс каждый пользователь:"
   ]
  },
  {
   "cell_type": "code",
   "execution_count": 27,
   "id": "40f6ee4c",
   "metadata": {
    "scrolled": true
   },
   "outputs": [
    {
     "data": {
      "text/html": [
       "<div>\n",
       "<style scoped>\n",
       "    .dataframe tbody tr th:only-of-type {\n",
       "        vertical-align: middle;\n",
       "    }\n",
       "\n",
       "    .dataframe tbody tr th {\n",
       "        vertical-align: top;\n",
       "    }\n",
       "\n",
       "    .dataframe thead th {\n",
       "        text-align: right;\n",
       "    }\n",
       "</style>\n",
       "<table border=\"1\" class=\"dataframe\">\n",
       "  <thead>\n",
       "    <tr style=\"text-align: right;\">\n",
       "      <th></th>\n",
       "      <th>Идентификатор пользователя</th>\n",
       "      <th>Тип подписки</th>\n",
       "      <th>Месяц</th>\n",
       "      <th>Стоимость одной минуты поездки</th>\n",
       "      <th>Cтоимость начала поездки</th>\n",
       "      <th>Стоимость ежемесячного платежа</th>\n",
       "      <th>Количество поездок</th>\n",
       "      <th>Суммарное расстояние поездки</th>\n",
       "      <th>Суммарная продолжительность поездки</th>\n",
       "      <th>Месячная выручка</th>\n",
       "    </tr>\n",
       "  </thead>\n",
       "  <tbody>\n",
       "    <tr>\n",
       "      <th>10799</th>\n",
       "      <td>1471</td>\n",
       "      <td>free</td>\n",
       "      <td>Январь</td>\n",
       "      <td>8</td>\n",
       "      <td>50</td>\n",
       "      <td>0</td>\n",
       "      <td>6</td>\n",
       "      <td>23098.19</td>\n",
       "      <td>143</td>\n",
       "      <td>1444</td>\n",
       "    </tr>\n",
       "    <tr>\n",
       "      <th>7620</th>\n",
       "      <td>1083</td>\n",
       "      <td>free</td>\n",
       "      <td>Май</td>\n",
       "      <td>8</td>\n",
       "      <td>50</td>\n",
       "      <td>0</td>\n",
       "      <td>7</td>\n",
       "      <td>23429.49</td>\n",
       "      <td>129</td>\n",
       "      <td>1382</td>\n",
       "    </tr>\n",
       "    <tr>\n",
       "      <th>4657</th>\n",
       "      <td>715</td>\n",
       "      <td>free</td>\n",
       "      <td>Декабрь</td>\n",
       "      <td>8</td>\n",
       "      <td>50</td>\n",
       "      <td>0</td>\n",
       "      <td>6</td>\n",
       "      <td>22712.45</td>\n",
       "      <td>131</td>\n",
       "      <td>1348</td>\n",
       "    </tr>\n",
       "    <tr>\n",
       "      <th>10412</th>\n",
       "      <td>1424</td>\n",
       "      <td>free</td>\n",
       "      <td>Апрель</td>\n",
       "      <td>8</td>\n",
       "      <td>50</td>\n",
       "      <td>0</td>\n",
       "      <td>7</td>\n",
       "      <td>21527.85</td>\n",
       "      <td>124</td>\n",
       "      <td>1342</td>\n",
       "    </tr>\n",
       "    <tr>\n",
       "      <th>10080</th>\n",
       "      <td>1383</td>\n",
       "      <td>free</td>\n",
       "      <td>Январь</td>\n",
       "      <td>8</td>\n",
       "      <td>50</td>\n",
       "      <td>0</td>\n",
       "      <td>6</td>\n",
       "      <td>20653.33</td>\n",
       "      <td>123</td>\n",
       "      <td>1284</td>\n",
       "    </tr>\n",
       "    <tr>\n",
       "      <th>8541</th>\n",
       "      <td>1196</td>\n",
       "      <td>free</td>\n",
       "      <td>Март</td>\n",
       "      <td>8</td>\n",
       "      <td>50</td>\n",
       "      <td>0</td>\n",
       "      <td>6</td>\n",
       "      <td>17991.78</td>\n",
       "      <td>121</td>\n",
       "      <td>1268</td>\n",
       "    </tr>\n",
       "    <tr>\n",
       "      <th>6421</th>\n",
       "      <td>938</td>\n",
       "      <td>free</td>\n",
       "      <td>Май</td>\n",
       "      <td>8</td>\n",
       "      <td>50</td>\n",
       "      <td>0</td>\n",
       "      <td>6</td>\n",
       "      <td>19061.40</td>\n",
       "      <td>111</td>\n",
       "      <td>1188</td>\n",
       "    </tr>\n",
       "    <tr>\n",
       "      <th>8155</th>\n",
       "      <td>1149</td>\n",
       "      <td>free</td>\n",
       "      <td>Декабрь</td>\n",
       "      <td>8</td>\n",
       "      <td>50</td>\n",
       "      <td>0</td>\n",
       "      <td>5</td>\n",
       "      <td>18449.38</td>\n",
       "      <td>116</td>\n",
       "      <td>1178</td>\n",
       "    </tr>\n",
       "    <tr>\n",
       "      <th>6867</th>\n",
       "      <td>991</td>\n",
       "      <td>free</td>\n",
       "      <td>Март</td>\n",
       "      <td>8</td>\n",
       "      <td>50</td>\n",
       "      <td>0</td>\n",
       "      <td>5</td>\n",
       "      <td>18244.39</td>\n",
       "      <td>113</td>\n",
       "      <td>1154</td>\n",
       "    </tr>\n",
       "    <tr>\n",
       "      <th>8974</th>\n",
       "      <td>1246</td>\n",
       "      <td>free</td>\n",
       "      <td>Сентябрь</td>\n",
       "      <td>8</td>\n",
       "      <td>50</td>\n",
       "      <td>0</td>\n",
       "      <td>6</td>\n",
       "      <td>17670.40</td>\n",
       "      <td>106</td>\n",
       "      <td>1148</td>\n",
       "    </tr>\n",
       "  </tbody>\n",
       "</table>\n",
       "</div>"
      ],
      "text/plain": [
       "       Идентификатор пользователя Тип подписки     Месяц  \\\n",
       "10799                        1471         free    Январь   \n",
       "7620                         1083         free       Май   \n",
       "4657                          715         free   Декабрь   \n",
       "10412                        1424         free    Апрель   \n",
       "10080                        1383         free    Январь   \n",
       "8541                         1196         free      Март   \n",
       "6421                          938         free       Май   \n",
       "8155                         1149         free   Декабрь   \n",
       "6867                          991         free      Март   \n",
       "8974                         1246         free  Сентябрь   \n",
       "\n",
       "       Стоимость одной минуты поездки  Cтоимость начала поездки  \\\n",
       "10799                               8                        50   \n",
       "7620                                8                        50   \n",
       "4657                                8                        50   \n",
       "10412                               8                        50   \n",
       "10080                               8                        50   \n",
       "8541                                8                        50   \n",
       "6421                                8                        50   \n",
       "8155                                8                        50   \n",
       "6867                                8                        50   \n",
       "8974                                8                        50   \n",
       "\n",
       "       Стоимость ежемесячного платежа  Количество поездок  \\\n",
       "10799                               0                   6   \n",
       "7620                                0                   7   \n",
       "4657                                0                   6   \n",
       "10412                               0                   7   \n",
       "10080                               0                   6   \n",
       "8541                                0                   6   \n",
       "6421                                0                   6   \n",
       "8155                                0                   5   \n",
       "6867                                0                   5   \n",
       "8974                                0                   6   \n",
       "\n",
       "       Суммарное расстояние поездки  Суммарная продолжительность поездки  \\\n",
       "10799                      23098.19                                  143   \n",
       "7620                       23429.49                                  129   \n",
       "4657                       22712.45                                  131   \n",
       "10412                      21527.85                                  124   \n",
       "10080                      20653.33                                  123   \n",
       "8541                       17991.78                                  121   \n",
       "6421                       19061.40                                  111   \n",
       "8155                       18449.38                                  116   \n",
       "6867                       18244.39                                  113   \n",
       "8974                       17670.40                                  106   \n",
       "\n",
       "       Месячная выручка  \n",
       "10799              1444  \n",
       "7620               1382  \n",
       "4657               1348  \n",
       "10412              1342  \n",
       "10080              1284  \n",
       "8541               1268  \n",
       "6421               1188  \n",
       "8155               1178  \n",
       "6867               1154  \n",
       "8974               1148  "
      ]
     },
     "execution_count": 27,
     "metadata": {},
     "output_type": "execute_result"
    }
   ],
   "source": [
    "agg_df['month_revenue'] = (agg_df['minute_price'] * agg_df['sum_duration']) + \\\n",
    "(agg_df['count'] * agg_df['start_ride_price']) + agg_df['subscription_fee']\n",
    "#умножаем построчно количество минут и стоимость минуты, количество поездок и стоимость старта и добавляем стоимость подписки\n",
    "agg_df_rus = agg_df.copy() #создадим копию, чтобы был такой же датафрйем, но с понятными столбцами\n",
    "agg_df_rus.columns=['Идентификатор пользователя', 'Тип подписки', 'Месяц', 'Стоимость одной минуты поездки',\n",
    "                'Cтоимость начала поездки', 'Стоимость ежемесячного платежа','Количество поездок',\\\n",
    "                'Суммарное расстояние поездки', 'Суммарная продолжительность поездки', 'Месячная выручка']\n",
    "#переименуем столбцы для наглядности\n",
    "agg_df_rus.sort_values(by='Месячная выручка', ascending=False).head(10) #выведем для проверки топ 10 по сумме месячной выручки"
   ]
  },
  {
   "cell_type": "code",
   "execution_count": 28,
   "id": "c01ac5b3",
   "metadata": {},
   "outputs": [
    {
     "data": {
      "text/html": [
       "<div>\n",
       "<style scoped>\n",
       "    .dataframe tbody tr th:only-of-type {\n",
       "        vertical-align: middle;\n",
       "    }\n",
       "\n",
       "    .dataframe tbody tr th {\n",
       "        vertical-align: top;\n",
       "    }\n",
       "\n",
       "    .dataframe thead th {\n",
       "        text-align: right;\n",
       "    }\n",
       "</style>\n",
       "<table border=\"1\" class=\"dataframe\">\n",
       "  <thead>\n",
       "    <tr style=\"text-align: right;\">\n",
       "      <th></th>\n",
       "      <th>Идентификатор пользователя</th>\n",
       "      <th>Тип подписки</th>\n",
       "      <th>Месяц</th>\n",
       "      <th>Стоимость одной минуты поездки</th>\n",
       "      <th>Cтоимость начала поездки</th>\n",
       "      <th>Стоимость ежемесячного платежа</th>\n",
       "      <th>Количество поездок</th>\n",
       "      <th>Суммарное расстояние поездки</th>\n",
       "      <th>Суммарная продолжительность поездки</th>\n",
       "      <th>Месячная выручка</th>\n",
       "    </tr>\n",
       "  </thead>\n",
       "  <tbody>\n",
       "    <tr>\n",
       "      <th>0</th>\n",
       "      <td>1</td>\n",
       "      <td>ultra</td>\n",
       "      <td>Август</td>\n",
       "      <td>6</td>\n",
       "      <td>0</td>\n",
       "      <td>199</td>\n",
       "      <td>2</td>\n",
       "      <td>6723.47</td>\n",
       "      <td>46</td>\n",
       "      <td>475</td>\n",
       "    </tr>\n",
       "    <tr>\n",
       "      <th>1</th>\n",
       "      <td>1</td>\n",
       "      <td>ultra</td>\n",
       "      <td>Апрель</td>\n",
       "      <td>6</td>\n",
       "      <td>0</td>\n",
       "      <td>199</td>\n",
       "      <td>1</td>\n",
       "      <td>754.16</td>\n",
       "      <td>7</td>\n",
       "      <td>241</td>\n",
       "    </tr>\n",
       "    <tr>\n",
       "      <th>2</th>\n",
       "      <td>1</td>\n",
       "      <td>ultra</td>\n",
       "      <td>Декабрь</td>\n",
       "      <td>6</td>\n",
       "      <td>0</td>\n",
       "      <td>199</td>\n",
       "      <td>2</td>\n",
       "      <td>6751.63</td>\n",
       "      <td>28</td>\n",
       "      <td>367</td>\n",
       "    </tr>\n",
       "    <tr>\n",
       "      <th>3</th>\n",
       "      <td>1</td>\n",
       "      <td>ultra</td>\n",
       "      <td>Ноябрь</td>\n",
       "      <td>6</td>\n",
       "      <td>0</td>\n",
       "      <td>199</td>\n",
       "      <td>3</td>\n",
       "      <td>7003.50</td>\n",
       "      <td>56</td>\n",
       "      <td>535</td>\n",
       "    </tr>\n",
       "    <tr>\n",
       "      <th>4</th>\n",
       "      <td>1</td>\n",
       "      <td>ultra</td>\n",
       "      <td>Октябрь</td>\n",
       "      <td>6</td>\n",
       "      <td>0</td>\n",
       "      <td>199</td>\n",
       "      <td>2</td>\n",
       "      <td>5809.91</td>\n",
       "      <td>32</td>\n",
       "      <td>391</td>\n",
       "    </tr>\n",
       "    <tr>\n",
       "      <th>...</th>\n",
       "      <td>...</td>\n",
       "      <td>...</td>\n",
       "      <td>...</td>\n",
       "      <td>...</td>\n",
       "      <td>...</td>\n",
       "      <td>...</td>\n",
       "      <td>...</td>\n",
       "      <td>...</td>\n",
       "      <td>...</td>\n",
       "      <td>...</td>\n",
       "    </tr>\n",
       "    <tr>\n",
       "      <th>11326</th>\n",
       "      <td>1534</td>\n",
       "      <td>free</td>\n",
       "      <td>Июнь</td>\n",
       "      <td>8</td>\n",
       "      <td>50</td>\n",
       "      <td>0</td>\n",
       "      <td>2</td>\n",
       "      <td>3409.47</td>\n",
       "      <td>26</td>\n",
       "      <td>308</td>\n",
       "    </tr>\n",
       "    <tr>\n",
       "      <th>11327</th>\n",
       "      <td>1534</td>\n",
       "      <td>free</td>\n",
       "      <td>Ноябрь</td>\n",
       "      <td>8</td>\n",
       "      <td>50</td>\n",
       "      <td>0</td>\n",
       "      <td>4</td>\n",
       "      <td>13350.02</td>\n",
       "      <td>78</td>\n",
       "      <td>824</td>\n",
       "    </tr>\n",
       "    <tr>\n",
       "      <th>11328</th>\n",
       "      <td>1534</td>\n",
       "      <td>free</td>\n",
       "      <td>Сентябрь</td>\n",
       "      <td>8</td>\n",
       "      <td>50</td>\n",
       "      <td>0</td>\n",
       "      <td>1</td>\n",
       "      <td>4928.17</td>\n",
       "      <td>23</td>\n",
       "      <td>234</td>\n",
       "    </tr>\n",
       "    <tr>\n",
       "      <th>11329</th>\n",
       "      <td>1534</td>\n",
       "      <td>free</td>\n",
       "      <td>Февраль</td>\n",
       "      <td>8</td>\n",
       "      <td>50</td>\n",
       "      <td>0</td>\n",
       "      <td>1</td>\n",
       "      <td>2103.91</td>\n",
       "      <td>14</td>\n",
       "      <td>162</td>\n",
       "    </tr>\n",
       "    <tr>\n",
       "      <th>11330</th>\n",
       "      <td>1534</td>\n",
       "      <td>free</td>\n",
       "      <td>Январь</td>\n",
       "      <td>8</td>\n",
       "      <td>50</td>\n",
       "      <td>0</td>\n",
       "      <td>1</td>\n",
       "      <td>4678.42</td>\n",
       "      <td>16</td>\n",
       "      <td>178</td>\n",
       "    </tr>\n",
       "  </tbody>\n",
       "</table>\n",
       "<p>11331 rows × 10 columns</p>\n",
       "</div>"
      ],
      "text/plain": [
       "       Идентификатор пользователя Тип подписки     Месяц  \\\n",
       "0                               1        ultra    Август   \n",
       "1                               1        ultra    Апрель   \n",
       "2                               1        ultra   Декабрь   \n",
       "3                               1        ultra    Ноябрь   \n",
       "4                               1        ultra   Октябрь   \n",
       "...                           ...          ...       ...   \n",
       "11326                        1534         free      Июнь   \n",
       "11327                        1534         free    Ноябрь   \n",
       "11328                        1534         free  Сентябрь   \n",
       "11329                        1534         free   Февраль   \n",
       "11330                        1534         free    Январь   \n",
       "\n",
       "       Стоимость одной минуты поездки  Cтоимость начала поездки  \\\n",
       "0                                   6                         0   \n",
       "1                                   6                         0   \n",
       "2                                   6                         0   \n",
       "3                                   6                         0   \n",
       "4                                   6                         0   \n",
       "...                               ...                       ...   \n",
       "11326                               8                        50   \n",
       "11327                               8                        50   \n",
       "11328                               8                        50   \n",
       "11329                               8                        50   \n",
       "11330                               8                        50   \n",
       "\n",
       "       Стоимость ежемесячного платежа  Количество поездок  \\\n",
       "0                                 199                   2   \n",
       "1                                 199                   1   \n",
       "2                                 199                   2   \n",
       "3                                 199                   3   \n",
       "4                                 199                   2   \n",
       "...                               ...                 ...   \n",
       "11326                               0                   2   \n",
       "11327                               0                   4   \n",
       "11328                               0                   1   \n",
       "11329                               0                   1   \n",
       "11330                               0                   1   \n",
       "\n",
       "       Суммарное расстояние поездки  Суммарная продолжительность поездки  \\\n",
       "0                           6723.47                                   46   \n",
       "1                            754.16                                    7   \n",
       "2                           6751.63                                   28   \n",
       "3                           7003.50                                   56   \n",
       "4                           5809.91                                   32   \n",
       "...                             ...                                  ...   \n",
       "11326                       3409.47                                   26   \n",
       "11327                      13350.02                                   78   \n",
       "11328                       4928.17                                   23   \n",
       "11329                       2103.91                                   14   \n",
       "11330                       4678.42                                   16   \n",
       "\n",
       "       Месячная выручка  \n",
       "0                   475  \n",
       "1                   241  \n",
       "2                   367  \n",
       "3                   535  \n",
       "4                   391  \n",
       "...                 ...  \n",
       "11326               308  \n",
       "11327               824  \n",
       "11328               234  \n",
       "11329               162  \n",
       "11330               178  \n",
       "\n",
       "[11331 rows x 10 columns]"
      ]
     },
     "execution_count": 28,
     "metadata": {},
     "output_type": "execute_result"
    }
   ],
   "source": [
    "agg_df_rus #вывод всей таблицы"
   ]
  },
  {
   "cell_type": "markdown",
   "id": "3a35f0e3",
   "metadata": {},
   "source": [
    "**Итог:** На основе полученных данных рано делать какие-то выводы, однако можно обратить внимание, что самая большая помесячная выручка в основном получается от пользователей без подписки. "
   ]
  },
  {
   "cell_type": "markdown",
   "id": "41545ac0",
   "metadata": {},
   "source": [
    "### Проверка гипотез"
   ]
  },
  {
   "cell_type": "markdown",
   "id": "877c0c17",
   "metadata": {},
   "source": [
    "Для увеличения количества пользователей с подпиской нужно выяснить несколько важных моментов:"
   ]
  },
  {
   "cell_type": "markdown",
   "id": "ee8b1d22",
   "metadata": {},
   "source": [
    "#### Тратят ли пользователи с подпиской больше времени на поездки?"
   ]
  },
  {
   "cell_type": "markdown",
   "id": "5ba075f3",
   "metadata": {},
   "source": [
    "Есть специальный метод для проверки гипотезы о равенстве среднего двух генеральных совокупностей по взятым из них выборкам: `scipy.stats.ttest_ind(array1, array2, equal_var, alternative).`\n",
    "\n",
    "- $H_{0}$ гипотеза будет гласить, что пользователи с подпиской тратят столько же времени, сколько и без подписки\n",
    "- $H_{1}$ гипотеза будет гласить, что пользователи с подпиской тратят больше времени на поездки"
   ]
  },
  {
   "cell_type": "code",
   "execution_count": 29,
   "id": "1d9d3410",
   "metadata": {},
   "outputs": [
    {
     "name": "stdout",
     "output_type": "stream",
     "text": [
      "P-value = 1.2804098316645618e-34\n",
      "Отвергаем нулевую гипотезу: Пользователи с подпиской тратят больше времени на поездки\n"
     ]
    }
   ],
   "source": [
    "ultra = with_sub['duration'] #первая совокупность\n",
    "free = without_sub['duration'] #вторая совокупность\n",
    "\n",
    "alpha = 0.05 #уровень статистической значимости\n",
    "\n",
    "results = st.ttest_ind(ultra, free, alternative = 'greater') #используем правостороннюю альтернативную гипотезу\n",
    "\n",
    "print('P-value =', results.pvalue) #расчет p-value\n",
    "\n",
    "if alpha > results.pvalue: #условие для проверки гипотезы\n",
    "    print('Отвергаем нулевую гипотезу: Пользователи с подпиской тратят больше времени на поездки')\n",
    "else:\n",
    "    print ('Отвергаем альтернативную гипотезу')"
   ]
  },
  {
   "cell_type": "code",
   "execution_count": 30,
   "id": "e9ed1c6f",
   "metadata": {},
   "outputs": [
    {
     "data": {
      "text/plain": [
       "[Text(0.5, 0, 'Тип подписки'), Text(0, 0.5, 'Продолжительность поездок')]"
      ]
     },
     "execution_count": 30,
     "metadata": {},
     "output_type": "execute_result"
    },
    {
     "data": {
      "image/png": "[encoded data removed]",
      "text/plain": [
       "<Figure size 432x288 with 1 Axes>"
      ]
     },
     "metadata": {
      "needs_background": "light"
     },
     "output_type": "display_data"
    }
   ],
   "source": [
    "hist = sb.barplot(x = 'subscription_type', y = 'duration', data = merger)\n",
    "#строим гистограмму\n",
    "hist.set_title('Распределение продолжительности поездок по видам подписок') #присваиваем название\n",
    "hist.set(xlabel='Тип подписки', ylabel='Продолжительность поездок') #присваиваем название осей"
   ]
  },
  {
   "cell_type": "markdown",
   "id": "de6251b2",
   "metadata": {},
   "source": [
    "**Итог:** Гипотеза подтвердилась - пользователи с подпиской тратят больше времени на поездки."
   ]
  },
  {
   "cell_type": "markdown",
   "id": "556f06ce",
   "metadata": {},
   "source": [
    "#### Среднее расстояние, которое проезжают пользователи с подпиской за одну поездку, не превышает 3130 метров? "
   ]
  },
  {
   "cell_type": "markdown",
   "id": "528e500d",
   "metadata": {},
   "source": [
    "Есть специальный метод для проверки двустороенней гипотезы о равенстве среднего генеральной совокупности некоторому значению: `scipy.stats.ttest_1samp(a, popmean, alternative)`.\n",
    "\n",
    "- $H_{0}$ гипотеза будет гласить, что пользователи с подпиской проезжают 3130 метров\n",
    "- $H_{1}$ гипотеза будет гласить, что пользователи с подпиской проезжают больше 3130 метров"
   ]
  },
  {
   "cell_type": "code",
   "execution_count": 31,
   "id": "110403cc",
   "metadata": {},
   "outputs": [
    {
     "name": "stdout",
     "output_type": "stream",
     "text": [
      "P-value = 0.9195368847849785\n",
      "Отвергаем альтернативную гипотезу\n"
     ]
    }
   ],
   "source": [
    "ultra_distance = with_sub['distance']  #единственная совокупность\n",
    "\n",
    "value = 3130 #значение, с которым нужно сравнить\n",
    "\n",
    "alpha = 0.05 #уровень статистической значимости\n",
    "\n",
    "results = st.ttest_1samp(ultra_distance, value, alternative = 'greater') #используем левостороннюю альтернативную гипотезу\n",
    "\n",
    "print('P-value =', results.pvalue) #расчет p-value\n",
    "\n",
    "if alpha > results.pvalue: #условие для проверки гипотезы\n",
    "    print('Отвергаем нулевую гипотезу: Пользователи с подпиской проезжают больше 3130 метров')\n",
    "else:\n",
    "    print ('Отвергаем альтернативную гипотезу')"
   ]
  },
  {
   "cell_type": "markdown",
   "id": "415ce184",
   "metadata": {},
   "source": [
    "**Итог:** Гипотеза подтвердилась - пользователи с подпиской проезжают в среднем не больше 3130 метров."
   ]
  },
  {
   "cell_type": "markdown",
   "id": "aa07c473",
   "metadata": {},
   "source": [
    "#### Будет ли помесячная выручка от пользователей с подпиской по месяцам выше, чем выручка от пользователей без подписки?"
   ]
  },
  {
   "cell_type": "markdown",
   "id": "70fd2127",
   "metadata": {},
   "source": [
    "Повторно используем метод `scipy.stats.ttest_ind(array1, array2, equal_var, alternative).`\n",
    "\n",
    "- $H_{0}$ гипотеза будет гласить, что пользователи с подпиской приносят столько же выручки в месяц, сколько и без подписки\n",
    "- $H_{1}$ гипотеза будет гласить, что пользователи с подпиской приносят больше выручки в месяц, чем пользователи без подписки"
   ]
  },
  {
   "cell_type": "code",
   "execution_count": 32,
   "id": "92d03f2b",
   "metadata": {},
   "outputs": [
    {
     "name": "stdout",
     "output_type": "stream",
     "text": [
      "P-value = 1.8850394384715216e-31\n",
      "Отвергаем нулевую гипотезу: Пользователи с подпиской приносят больше выручки в месяц, чем пользователи без подписки\n"
     ]
    }
   ],
   "source": [
    "ultra = agg_df.loc[agg_df['subscription_type'] == 'ultra','month_revenue'] #первая совокупность\n",
    "free = agg_df.loc[agg_df['subscription_type'] == 'free','month_revenue'] #вторая совокупность\n",
    "\n",
    "alpha = 0.05 #уровень статистической значимости\n",
    "\n",
    "results = st.ttest_ind(ultra, free, alternative = 'greater') #используем левостороннюю альтернативную гипотезу\n",
    "\n",
    "print('P-value =', results.pvalue) #расчет p-value\n",
    "\n",
    "if alpha > results.pvalue: #условие для проверки гипотезы\n",
    "    print('Отвергаем нулевую гипотезу: Пользователи с подпиской приносят больше выручки в месяц, чем пользователи без подписки')\n",
    "else:\n",
    "    print ('Отвергаем альтернативную гипотезу')"
   ]
  },
  {
   "cell_type": "code",
   "execution_count": 33,
   "id": "18f5d753",
   "metadata": {},
   "outputs": [
    {
     "data": {
      "text/plain": [
       "0       475\n",
       "1       241\n",
       "2       367\n",
       "3       535\n",
       "4       391\n",
       "       ... \n",
       "4528    355\n",
       "4529    301\n",
       "4530    319\n",
       "4531    295\n",
       "4532    385\n",
       "Name: month_revenue, Length: 4533, dtype: int64"
      ]
     },
     "execution_count": 33,
     "metadata": {},
     "output_type": "execute_result"
    }
   ],
   "source": [
    "ultra"
   ]
  },
  {
   "cell_type": "code",
   "execution_count": 34,
   "id": "6bd1c7e7",
   "metadata": {},
   "outputs": [
    {
     "data": {
      "image/png": "[encoded data removed]",
      "text/plain": [
       "<Figure size 432x288 with 1 Axes>"
      ]
     },
     "metadata": {
      "needs_background": "light"
     },
     "output_type": "display_data"
    }
   ],
   "source": [
    "hist = sb.barplot(x = 'subscription_type',\n",
    "            y = 'month_revenue',\n",
    "            data = agg_df)\n",
    "hist.set_title('Распределение выручки по месяцам по видам подписок')\n",
    "hist.set(xlabel='Тип подписки', ylabel='Продолжительность поездок');"
   ]
  },
  {
   "cell_type": "markdown",
   "id": "0be05ae4",
   "metadata": {},
   "source": [
    "**Итог:** Гипотеза подтвердилась - пользователи с подпиской приносят больше выручки в месяц, чем пользователи без подписки, хотя ранее мы выясняли, что самые большие траты по месяцам у людей без подписки. "
   ]
  },
  {
   "cell_type": "markdown",
   "id": "20533801",
   "metadata": {},
   "source": [
    "####  Какой тест понадобился бы для проверки гипотезы о том, что количество обращений в техподдержку значимо снизилось после обновления сервера?"
   ]
  },
  {
   "cell_type": "markdown",
   "id": "d156d2ba",
   "metadata": {},
   "source": [
    "Если вы анализируете одну генеральную совокупность, с которой произошли некоторые изменения, как в случае, указанном в вопросе,\n",
    "то это две зависимые (парные) выборки. Для них вы будете проверять, равны ли средние совокупности до и после этого изменения.\n",
    "Это можно сделать с помощью метода `scipy.stats.ttest_rel`, аргументы в котором наборы данных — парные выборки до и после изменения.\n",
    "Так же необходимо указать аргумент `alternative='greater'`, тогда проверится правосторонняя альтернативная гипотеза о том, что истинное среднее генеральной совокупности до изменения больше, чем истинное среднее генеральной совокупности после изменения."
   ]
  },
  {
   "cell_type": "markdown",
   "id": "2ebfeb45",
   "metadata": {},
   "source": [
    "**Итог:** На основе данных ответов, можно сделать вывод, что раз пользователи с подпиской тратят больше времени на поездки и приносят больше выручки в месяц, то идея маркетолого увеличить количество пользователей с подпиской увенчается успехом. Так же можно добавить акцию, которая поощрала бы проезд в 3130 м и менее для пользователей, что уменьшало бы износы самокатов."
   ]
  },
  {
   "cell_type": "markdown",
   "id": "61213c5e",
   "metadata": {},
   "source": [
    "### Распределения (необязательные)"
   ]
  },
  {
   "cell_type": "markdown",
   "id": "91e8540d",
   "metadata": {},
   "source": [
    "#### Задача распределения № 2"
   ]
  },
  {
   "cell_type": "markdown",
   "id": "b49549cb",
   "metadata": {},
   "source": [
    "Отдел маркетинга рассылает клиентам push-уведомления в мобильном приложении. Клиенты могут открыть его или не открывать. Известно, что уведомления открывают около \n",
    "40% получивших клиентов. Отдел планирует разослать 1 млн уведомлений. С помощью аппроксимации постройте примерный график распределения и оцените вероятность того, что уведомление откроют не более 399,5 тыс. пользователей."
   ]
  },
  {
   "cell_type": "code",
   "execution_count": 36,
   "id": "1eb7e82c",
   "metadata": {},
   "outputs": [
    {
     "data": {
      "image/png": "[encoded data removed]",
      "text/plain": [
       "<Figure size 432x288 with 1 Axes>"
      ]
     },
     "metadata": {
      "needs_background": "light"
     },
     "output_type": "display_data"
    },
    {
     "name": "stdout",
     "output_type": "stream",
     "text": [
      "15 %\n"
     ]
    }
   ],
   "source": [
    "from math import sqrt\n",
    "from scipy.stats import norm\n",
    "\n",
    "n = 1000000\n",
    "p = 0.4\n",
    "# задаём параметры биномиального распределения\n",
    "\n",
    "mu = n * p\n",
    "sigma = sqrt(n * p * (1 - p))\n",
    "# зададим параметры нормального распределения равными\n",
    "# мат.ожиданию и дисперсии биномиального распределения\n",
    "\n",
    "distr = st.norm(mu, sigma)\n",
    "# задаём нормальное распределение\n",
    "\n",
    "result = distr.cdf(399500)\n",
    "# считаем вероятность\n",
    "\n",
    "plt.figure() #строим фигуру \n",
    "x = np.linspace(mu - 4 * sigma, mu + 4 * sigma, 1000) \n",
    "#генерируем последовательности чисел в линейном пространстве с одинаковым размером шага\n",
    "pdf = distr.pdf(x)\n",
    "\n",
    "x_fill = np.linspace(mu - 4 * sigma, 399500, 1000) #меняем шаг на интересующий\n",
    "pdf_fill = distr.pdf(x_fill)\n",
    "plt.fill_between(x_fill, pdf_fill, color = 'purple', alpha = 0.5) #закрашиваем полученную область\n",
    "\n",
    "plt.plot(x, pdf, 'r-', lw = 3, alpha = 0.3) #строим график\n",
    "plt.xlabel('Пользователи') #задаем название оси икс\n",
    "plt.ylabel ('Плотность вероятности') #задаем название оси игрек\n",
    "plt.title ('Плотность вероятности нормального распределения') #задаем название графику\n",
    "plt.show() #и выводим\n",
    "\n",
    "print(round(result*100),'%') #умножаем на 100,округляем и выводим"
   ]
  },
  {
   "cell_type": "markdown",
   "id": "72b60c51",
   "metadata": {},
   "source": [
    "**Вывод:** Вероятность 15% - на 399,5 тыс. пользователей можно рассчитывать."
   ]
  },
  {
   "cell_type": "markdown",
   "id": "167ac7cb",
   "metadata": {},
   "source": [
    "# Общие выводы"
   ]
  },
  {
   "cell_type": "markdown",
   "id": "496fa271",
   "metadata": {},
   "source": [
    "Изначальная цель проекта - узнать, можно ли увеличить количество пользователей с подпиской и как это повлияет на сервис. \n",
    "\n",
    "Для этого мы загрузили и изучили данные из трех датафреймов, которые содержали в себе информацию о Пользователях, Поездках и Подписках.\n",
    "\n",
    "В ходе предобработки данных были обнаружены и удалены явные дубликаты в датафрейме Пользователи, а в Поездках был проебразован тип данных для столбца, в котором хранилась дата совершения поездки.\n",
    "\n",
    "Для дальнейших расчетов был добавлен дополнительный столбец, обозначающий месяц совершения поездки.\n",
    "\n",
    "После исследовательского анализа данных, пришли к следующим выводам:\n",
    "* Все 8 городов, в которых находится сервис, распределены достаточно равномерно, но чаще всего встречается Пятигорск, а реже всего - Москва.\n",
    "* Самым распостраненным видом подписки является `free`, хотя доля ее пользователей не сильно превышает долю пользователей подписки `ultra`.\n",
    "* Средний возраст пользователя сервиса составляет 25 лет, и т.к. имеет нормальное распределение, основная доля пользователей находится в диапазоне от 20 до 30 лет. Минимальное значение - 14 лет, а максимальное 43 года. На счет первого значения нужно обратить внимание, т.к. по правилам регистрация пользователей доступна только с 18 лет.\n",
    "* В данных о расстоянии есть небольшое отклонение от нормированного графика - это количество недалеких поездок (от 0 до 1,5 км), но в основном пользователи проезжают расстояние от 2,5 до 4 км на одну поездку. Максимальная дальность поездки в датафрейме - 7 км, минимальная - 85 см.\n",
    "* В данных о длительности поездки есть достаточно весомый выброс в значениях около нуля. В остальном она имеет нормальное распределение и среднее время поездки занимает примерно от 10 до 25 минут. Максимальная длительность поездки - 41 минута, минимальная - 50 секунд.\n",
    "\n",
    "Далее, для более точного анализа, мы объеденили данные из 3-х датафреймов в один. И из него создали два отдельных под разные виды подписок и сравнили информацию о расстоянии и времени поездок для пользователей обеих категорий.\n",
    "Выяснилось, что для пользователей без подписки характерен большой выброс в 50 секундных поездках, вероятно это отмененные поездки. Причины могут быть разнообразными - рядом оказался более дешевый самокат, более заряженный, самокат оказался сломан и не поехал, или поездка вовсе отменилась. Без этого в среднем длительность поездки пользователя без подписки длится 10-25 минут. Что касаемо расстояния - в среднем пользователи без подписки  проезжают около 2-4,5 км, но так же есть небольшая совокупность коротких поездок (от 0 до 1,5 км).\n",
    "\n",
    "В среднем длительность поездки пользователя с подпиской длится 10-25 минут. Что касаемо расстояния - в среднем пользователи с подпиской проезжают около 2,5-4,0 км, но так же есть небольшая совокупность коротких поездок (от 0 до 1,5 км).\n",
    "\n",
    "В целом распределение пользователей с разными подписками отличаются несущественно, в основном количеством непродолжительных поездок.\n",
    "\n",
    "Затем мы вычислили и добавили столбец с помесячной выручкой, которую принёс каждый пользователь. На основе полученных данных не удалось сделать какие-то выводы, однако можно обратить внимание, что самая большая помесячная выручка в основном получается от пользователей без подписки.\n",
    "\n",
    "Осталось только ответить на вопросы:\n",
    "\n",
    ">Важно понять, тратят ли пользователи с подпиской больше времени на поездки? Если да, то пользователи с подпиской могут быть «выгоднее» для компании.\n",
    "\n",
    "Гипотеза подтвердилась - пользователи с подпиской тратят больше времени на поездки.\n",
    ">Расстояние одной поездки в 3130 метров — оптимальное с точки зрения износа самоката. Можно ли сказать, что среднее расстояние, которое проезжают пользователи с подпиской за одну поездку, не превышает 3130 метров?\n",
    "\n",
    "Гипотеза подтвердилась - пользователи с подпиской проезжают в среднем не больше 3130 метров.\n",
    ">Проверить гипотезу о том, будет ли помесячная выручка от пользователей с подпиской по месяцам выше, чем выручка от пользователей без подписки.\n",
    "\n",
    "Гипотеза подтвердилась - пользователи с подпиской приносят больше выручки в месяц, чем пользователи без подписки, хотя ранее мы выясняли, что самые большие траты по месяцам у людей без подписки. \n",
    ">Какой тест понадобился бы для проверки гипотезы о том, что количество обращений в техподдержку значимо снизилось после обновления сервера?\n",
    "\n",
    "Если вы анализируете одну генеральную совокупность, с которой произошли некоторые изменения, как в случае, указанном в вопросе,\n",
    "то это две зависимые (парные) выборки. Для них вы будете проверять, равны ли средние совокупности до и после этого изменения.\n",
    "Это можно сделать с помощью метода `scipy.stats.ttest_rel`, аргументы в котором наборы данных — парные выборки до и после изменения.\n",
    "Так же необходимо указать аргумент `alternative='greater'`, тогда проверится правосторонняя альтернативная гипотеза о том, что истинное среднее генеральной совокупности до изменения больше, чем истинное среднее генеральной совокупности после изменения.\n",
    "\n",
    "На основе данных ответов, можно сделать вывод, что раз пользователи с подпиской тратят больше времени на поездки и приносят больше выручки в месяц, то идея маркетолого увеличить количество пользователей с подпиской увенчается успехом. Так же можно добавить акцию, которая поощрала бы проезд в 3130 м и менее для пользователей, что уменьшало бы износы самокатов."
   ]
  }
 ],
 "metadata": {
  "ExecuteTimeLog": [
   {
    "duration": 1458,
    "start_time": "2023-10-14T21:08:55.621Z"
   },
   {
    "duration": 88,
    "start_time": "2023-10-14T21:08:57.668Z"
   },
   {
    "duration": 34,
    "start_time": "2023-10-14T21:09:22.174Z"
   },
   {
    "duration": 34,
    "start_time": "2023-10-14T21:09:27.371Z"
   },
   {
    "duration": 91,
    "start_time": "2023-10-14T21:12:02.349Z"
   },
   {
    "duration": 68,
    "start_time": "2023-10-14T21:12:57.175Z"
   },
   {
    "duration": 14,
    "start_time": "2023-10-14T21:17:28.091Z"
   },
   {
    "duration": 18,
    "start_time": "2023-10-14T21:17:44.651Z"
   },
   {
    "duration": 19,
    "start_time": "2023-10-14T21:17:54.712Z"
   },
   {
    "duration": 18,
    "start_time": "2023-10-14T21:17:57.523Z"
   },
   {
    "duration": 68,
    "start_time": "2023-10-14T21:18:05.169Z"
   },
   {
    "duration": 33,
    "start_time": "2023-10-14T21:18:12.772Z"
   },
   {
    "duration": 25,
    "start_time": "2023-10-14T21:18:46.950Z"
   },
   {
    "duration": 79,
    "start_time": "2023-10-14T21:21:07.347Z"
   },
   {
    "duration": 7,
    "start_time": "2023-10-14T21:23:16.096Z"
   },
   {
    "duration": 7,
    "start_time": "2023-10-14T21:23:21.047Z"
   },
   {
    "duration": 6,
    "start_time": "2023-10-14T21:23:26.157Z"
   },
   {
    "duration": 8,
    "start_time": "2023-10-14T21:27:52.184Z"
   },
   {
    "duration": 20,
    "start_time": "2023-10-14T21:28:17.670Z"
   },
   {
    "duration": 30,
    "start_time": "2023-10-14T21:28:20.858Z"
   },
   {
    "duration": 50,
    "start_time": "2023-10-14T21:30:41.238Z"
   },
   {
    "duration": 1137,
    "start_time": "2023-10-14T21:30:48.396Z"
   },
   {
    "duration": 39,
    "start_time": "2023-10-14T21:30:49.536Z"
   },
   {
    "duration": 35,
    "start_time": "2023-10-14T21:30:49.577Z"
   },
   {
    "duration": 20,
    "start_time": "2023-10-14T21:30:49.614Z"
   },
   {
    "duration": 26,
    "start_time": "2023-10-14T21:30:49.636Z"
   },
   {
    "duration": 31,
    "start_time": "2023-10-14T21:30:49.664Z"
   },
   {
    "duration": 53,
    "start_time": "2023-10-14T21:31:32.854Z"
   },
   {
    "duration": 51,
    "start_time": "2023-10-14T21:32:04.172Z"
   },
   {
    "duration": 56,
    "start_time": "2023-10-14T21:32:13.277Z"
   },
   {
    "duration": 51,
    "start_time": "2023-10-14T21:34:31.488Z"
   },
   {
    "duration": 10,
    "start_time": "2023-10-14T21:36:38.483Z"
   },
   {
    "duration": 71,
    "start_time": "2023-10-14T21:37:13.810Z"
   },
   {
    "duration": 12,
    "start_time": "2023-10-14T21:37:22.604Z"
   },
   {
    "duration": 12,
    "start_time": "2023-10-14T21:37:29.159Z"
   },
   {
    "duration": 11,
    "start_time": "2023-10-14T21:38:26.745Z"
   },
   {
    "duration": 11,
    "start_time": "2023-10-14T21:38:46.638Z"
   },
   {
    "duration": 11,
    "start_time": "2023-10-14T21:39:01.582Z"
   },
   {
    "duration": 7,
    "start_time": "2023-10-14T21:51:01.400Z"
   },
   {
    "duration": 9,
    "start_time": "2023-10-14T21:51:13.140Z"
   },
   {
    "duration": 8,
    "start_time": "2023-10-14T21:54:47.750Z"
   },
   {
    "duration": 101,
    "start_time": "2023-10-14T21:54:57.598Z"
   },
   {
    "duration": 5,
    "start_time": "2023-10-14T21:55:03.330Z"
   },
   {
    "duration": 6,
    "start_time": "2023-10-14T21:55:05.937Z"
   },
   {
    "duration": 9,
    "start_time": "2023-10-14T21:55:16.538Z"
   },
   {
    "duration": 9,
    "start_time": "2023-10-14T21:55:30.446Z"
   },
   {
    "duration": 12,
    "start_time": "2023-10-14T21:57:05.959Z"
   },
   {
    "duration": 8,
    "start_time": "2023-10-14T21:57:11.048Z"
   },
   {
    "duration": 92,
    "start_time": "2023-10-14T21:58:15.581Z"
   },
   {
    "duration": 8,
    "start_time": "2023-10-14T21:58:34.323Z"
   },
   {
    "duration": 22,
    "start_time": "2023-10-14T21:58:49.294Z"
   },
   {
    "duration": 8,
    "start_time": "2023-10-14T21:59:49.043Z"
   },
   {
    "duration": 12,
    "start_time": "2023-10-14T22:04:07.039Z"
   },
   {
    "duration": 1184,
    "start_time": "2023-10-14T22:05:35.846Z"
   },
   {
    "duration": 40,
    "start_time": "2023-10-14T22:05:37.032Z"
   },
   {
    "duration": 37,
    "start_time": "2023-10-14T22:05:37.074Z"
   },
   {
    "duration": 21,
    "start_time": "2023-10-14T22:05:37.114Z"
   },
   {
    "duration": 27,
    "start_time": "2023-10-14T22:05:37.136Z"
   },
   {
    "duration": 30,
    "start_time": "2023-10-14T22:05:37.165Z"
   },
   {
    "duration": 10,
    "start_time": "2023-10-14T22:05:37.197Z"
   },
   {
    "duration": 10,
    "start_time": "2023-10-14T22:05:37.209Z"
   },
   {
    "duration": 32,
    "start_time": "2023-10-14T22:05:37.221Z"
   },
   {
    "duration": 99,
    "start_time": "2023-10-14T22:13:33.185Z"
   },
   {
    "duration": 117,
    "start_time": "2023-10-14T22:16:44.972Z"
   },
   {
    "duration": 180,
    "start_time": "2023-10-14T22:18:37.497Z"
   },
   {
    "duration": 188,
    "start_time": "2023-10-14T22:19:00.986Z"
   },
   {
    "duration": 177,
    "start_time": "2023-10-14T22:19:23.715Z"
   },
   {
    "duration": 144,
    "start_time": "2023-10-14T22:20:38.843Z"
   },
   {
    "duration": 5,
    "start_time": "2023-10-14T22:21:45.165Z"
   },
   {
    "duration": 137,
    "start_time": "2023-10-14T22:21:47.727Z"
   },
   {
    "duration": 146,
    "start_time": "2023-10-14T22:21:59.064Z"
   },
   {
    "duration": 144,
    "start_time": "2023-10-14T22:22:10.881Z"
   },
   {
    "duration": 160,
    "start_time": "2023-10-14T22:22:52.785Z"
   },
   {
    "duration": 163,
    "start_time": "2023-10-14T22:23:28.911Z"
   },
   {
    "duration": 106,
    "start_time": "2023-10-14T22:24:12.741Z"
   },
   {
    "duration": 245,
    "start_time": "2023-10-14T22:24:15.934Z"
   },
   {
    "duration": 1271,
    "start_time": "2023-10-14T22:27:50.164Z"
   },
   {
    "duration": 41,
    "start_time": "2023-10-14T22:27:51.437Z"
   },
   {
    "duration": 36,
    "start_time": "2023-10-14T22:27:51.479Z"
   },
   {
    "duration": 20,
    "start_time": "2023-10-14T22:27:51.517Z"
   },
   {
    "duration": 25,
    "start_time": "2023-10-14T22:27:51.539Z"
   },
   {
    "duration": 30,
    "start_time": "2023-10-14T22:27:51.566Z"
   },
   {
    "duration": 11,
    "start_time": "2023-10-14T22:27:51.598Z"
   },
   {
    "duration": 37,
    "start_time": "2023-10-14T22:27:51.610Z"
   },
   {
    "duration": 13,
    "start_time": "2023-10-14T22:27:51.649Z"
   },
   {
    "duration": 266,
    "start_time": "2023-10-14T22:27:51.664Z"
   },
   {
    "duration": 162,
    "start_time": "2023-10-14T22:28:46.257Z"
   },
   {
    "duration": 10,
    "start_time": "2023-10-14T22:30:46.375Z"
   },
   {
    "duration": 8,
    "start_time": "2023-10-14T22:30:57.782Z"
   },
   {
    "duration": 9,
    "start_time": "2023-10-14T22:31:03.415Z"
   },
   {
    "duration": 165,
    "start_time": "2023-10-14T22:34:34.418Z"
   },
   {
    "duration": 165,
    "start_time": "2023-10-14T22:34:41.855Z"
   },
   {
    "duration": 163,
    "start_time": "2023-10-14T22:34:47.392Z"
   },
   {
    "duration": 156,
    "start_time": "2023-10-14T22:36:09.271Z"
   },
   {
    "duration": 185,
    "start_time": "2023-10-14T22:36:13.940Z"
   },
   {
    "duration": 204,
    "start_time": "2023-10-14T22:36:22.541Z"
   },
   {
    "duration": 258,
    "start_time": "2023-10-14T22:36:30.011Z"
   },
   {
    "duration": 162,
    "start_time": "2023-10-14T22:36:36.957Z"
   },
   {
    "duration": 163,
    "start_time": "2023-10-14T22:36:42.203Z"
   },
   {
    "duration": 162,
    "start_time": "2023-10-14T22:36:47.835Z"
   },
   {
    "duration": 159,
    "start_time": "2023-10-14T22:36:53.306Z"
   },
   {
    "duration": 154,
    "start_time": "2023-10-14T22:36:58.287Z"
   },
   {
    "duration": 153,
    "start_time": "2023-10-14T22:37:01.702Z"
   },
   {
    "duration": 169,
    "start_time": "2023-10-14T22:37:08.748Z"
   },
   {
    "duration": 161,
    "start_time": "2023-10-14T22:37:14.125Z"
   },
   {
    "duration": 163,
    "start_time": "2023-10-14T22:37:18.538Z"
   },
   {
    "duration": 161,
    "start_time": "2023-10-14T22:37:21.799Z"
   },
   {
    "duration": 244,
    "start_time": "2023-10-14T22:37:25.307Z"
   },
   {
    "duration": 158,
    "start_time": "2023-10-14T22:37:44.716Z"
   },
   {
    "duration": 160,
    "start_time": "2023-10-14T22:37:57.399Z"
   },
   {
    "duration": 172,
    "start_time": "2023-10-14T22:38:03.040Z"
   },
   {
    "duration": 5,
    "start_time": "2023-10-14T22:38:07.334Z"
   },
   {
    "duration": 166,
    "start_time": "2023-10-14T22:38:10.328Z"
   },
   {
    "duration": 154,
    "start_time": "2023-10-14T22:38:52.235Z"
   },
   {
    "duration": 159,
    "start_time": "2023-10-14T22:39:06.336Z"
   },
   {
    "duration": 156,
    "start_time": "2023-10-14T22:40:23.352Z"
   },
   {
    "duration": 126,
    "start_time": "2023-10-14T22:40:31.661Z"
   },
   {
    "duration": 102,
    "start_time": "2023-10-14T22:40:34.895Z"
   },
   {
    "duration": 3,
    "start_time": "2023-10-14T22:40:42.231Z"
   },
   {
    "duration": 128,
    "start_time": "2023-10-14T22:40:45.156Z"
   },
   {
    "duration": 194,
    "start_time": "2023-10-14T22:41:38.145Z"
   },
   {
    "duration": 100,
    "start_time": "2023-10-14T22:42:18.332Z"
   },
   {
    "duration": 108,
    "start_time": "2023-10-14T22:42:38.023Z"
   },
   {
    "duration": 56,
    "start_time": "2023-10-15T09:25:39.916Z"
   },
   {
    "duration": 1475,
    "start_time": "2023-10-15T09:25:46.012Z"
   },
   {
    "duration": 123,
    "start_time": "2023-10-15T09:25:47.489Z"
   },
   {
    "duration": 101,
    "start_time": "2023-10-15T09:25:47.614Z"
   },
   {
    "duration": 81,
    "start_time": "2023-10-15T09:25:47.717Z"
   },
   {
    "duration": 24,
    "start_time": "2023-10-15T09:25:47.800Z"
   },
   {
    "duration": 39,
    "start_time": "2023-10-15T09:25:47.826Z"
   },
   {
    "duration": 13,
    "start_time": "2023-10-15T09:25:47.866Z"
   },
   {
    "duration": 8,
    "start_time": "2023-10-15T09:25:47.881Z"
   },
   {
    "duration": 15,
    "start_time": "2023-10-15T09:25:47.890Z"
   },
   {
    "duration": 210,
    "start_time": "2023-10-15T09:25:47.908Z"
   },
   {
    "duration": 107,
    "start_time": "2023-10-15T09:25:48.120Z"
   },
   {
    "duration": 155,
    "start_time": "2023-10-15T09:25:48.228Z"
   },
   {
    "duration": 110,
    "start_time": "2023-10-15T09:27:22.484Z"
   },
   {
    "duration": 262,
    "start_time": "2023-10-15T09:28:08.479Z"
   },
   {
    "duration": 267,
    "start_time": "2023-10-15T09:28:22.221Z"
   },
   {
    "duration": 404,
    "start_time": "2023-10-15T09:28:34.526Z"
   },
   {
    "duration": 356,
    "start_time": "2023-10-15T09:30:15.748Z"
   },
   {
    "duration": 105,
    "start_time": "2023-10-15T09:30:40.446Z"
   },
   {
    "duration": 268,
    "start_time": "2023-10-15T09:33:59.304Z"
   },
   {
    "duration": 31,
    "start_time": "2023-10-15T09:39:13.952Z"
   },
   {
    "duration": 20,
    "start_time": "2023-10-15T09:39:17.558Z"
   },
   {
    "duration": 45,
    "start_time": "2023-10-15T09:39:27.026Z"
   },
   {
    "duration": 44,
    "start_time": "2023-10-15T09:39:57.623Z"
   },
   {
    "duration": 25,
    "start_time": "2023-10-15T09:40:19.834Z"
   },
   {
    "duration": 30,
    "start_time": "2023-10-15T09:40:26.673Z"
   },
   {
    "duration": 164,
    "start_time": "2023-10-15T09:40:47.438Z"
   },
   {
    "duration": 36,
    "start_time": "2023-10-15T09:40:50.329Z"
   },
   {
    "duration": 35,
    "start_time": "2023-10-15T09:41:15.032Z"
   },
   {
    "duration": 27,
    "start_time": "2023-10-15T09:41:52.876Z"
   },
   {
    "duration": 34,
    "start_time": "2023-10-15T09:41:59.226Z"
   },
   {
    "duration": 30,
    "start_time": "2023-10-15T09:42:19.578Z"
   },
   {
    "duration": 32,
    "start_time": "2023-10-15T09:42:29.586Z"
   },
   {
    "duration": 34,
    "start_time": "2023-10-15T09:42:43.444Z"
   },
   {
    "duration": 30,
    "start_time": "2023-10-15T09:42:47.673Z"
   },
   {
    "duration": 47,
    "start_time": "2023-10-15T09:43:58.940Z"
   },
   {
    "duration": 24,
    "start_time": "2023-10-15T09:44:19.168Z"
   },
   {
    "duration": 20,
    "start_time": "2023-10-15T09:45:35.810Z"
   },
   {
    "duration": 16,
    "start_time": "2023-10-15T09:45:50.067Z"
   },
   {
    "duration": 20,
    "start_time": "2023-10-15T09:46:46.591Z"
   },
   {
    "duration": 15,
    "start_time": "2023-10-15T09:46:57.507Z"
   },
   {
    "duration": 14,
    "start_time": "2023-10-15T09:48:51.639Z"
   },
   {
    "duration": 17,
    "start_time": "2023-10-15T09:48:57.474Z"
   },
   {
    "duration": 17,
    "start_time": "2023-10-15T09:51:29.694Z"
   },
   {
    "duration": 21,
    "start_time": "2023-10-15T09:51:45.530Z"
   },
   {
    "duration": 18,
    "start_time": "2023-10-15T09:52:55.835Z"
   },
   {
    "duration": 20,
    "start_time": "2023-10-15T09:53:00.814Z"
   },
   {
    "duration": 21,
    "start_time": "2023-10-15T09:54:52.992Z"
   },
   {
    "duration": 200,
    "start_time": "2023-10-15T09:57:50.091Z"
   },
   {
    "duration": 285,
    "start_time": "2023-10-15T10:00:22.227Z"
   },
   {
    "duration": 181,
    "start_time": "2023-10-15T10:05:55.850Z"
   },
   {
    "duration": 199,
    "start_time": "2023-10-15T10:06:14.719Z"
   },
   {
    "duration": 222,
    "start_time": "2023-10-15T10:06:23.236Z"
   },
   {
    "duration": 200,
    "start_time": "2023-10-15T10:09:22.659Z"
   },
   {
    "duration": 197,
    "start_time": "2023-10-15T10:09:48.701Z"
   },
   {
    "duration": 289,
    "start_time": "2023-10-15T10:10:03.201Z"
   },
   {
    "duration": 201,
    "start_time": "2023-10-15T10:15:07.759Z"
   },
   {
    "duration": 1444,
    "start_time": "2023-10-15T10:18:29.640Z"
   },
   {
    "duration": 17,
    "start_time": "2023-10-15T10:18:46.920Z"
   },
   {
    "duration": 188,
    "start_time": "2023-10-15T10:19:42.720Z"
   },
   {
    "duration": 5,
    "start_time": "2023-10-15T10:25:25.880Z"
   },
   {
    "duration": 6,
    "start_time": "2023-10-15T10:25:45.931Z"
   },
   {
    "duration": 6,
    "start_time": "2023-10-15T10:28:09.873Z"
   },
   {
    "duration": 181,
    "start_time": "2023-10-15T10:28:54.089Z"
   },
   {
    "duration": 4,
    "start_time": "2023-10-15T10:29:07.160Z"
   },
   {
    "duration": 4,
    "start_time": "2023-10-15T10:30:25.630Z"
   },
   {
    "duration": 4,
    "start_time": "2023-10-15T10:30:44.293Z"
   },
   {
    "duration": 22,
    "start_time": "2023-10-15T10:39:13.521Z"
   },
   {
    "duration": 40,
    "start_time": "2023-10-15T10:40:14.439Z"
   },
   {
    "duration": 24,
    "start_time": "2023-10-15T10:43:15.513Z"
   },
   {
    "duration": 27,
    "start_time": "2023-10-15T10:44:26.829Z"
   },
   {
    "duration": 10,
    "start_time": "2023-10-15T10:47:58.328Z"
   },
   {
    "duration": 1228,
    "start_time": "2023-10-15T10:48:27.401Z"
   },
   {
    "duration": 40,
    "start_time": "2023-10-15T10:48:28.631Z"
   },
   {
    "duration": 35,
    "start_time": "2023-10-15T10:48:28.672Z"
   },
   {
    "duration": 20,
    "start_time": "2023-10-15T10:48:28.709Z"
   },
   {
    "duration": 27,
    "start_time": "2023-10-15T10:48:28.730Z"
   },
   {
    "duration": 38,
    "start_time": "2023-10-15T10:48:28.759Z"
   },
   {
    "duration": 10,
    "start_time": "2023-10-15T10:48:28.798Z"
   },
   {
    "duration": 22,
    "start_time": "2023-10-15T10:48:28.810Z"
   },
   {
    "duration": 36,
    "start_time": "2023-10-15T10:48:28.834Z"
   },
   {
    "duration": 163,
    "start_time": "2023-10-15T10:48:28.872Z"
   },
   {
    "duration": 116,
    "start_time": "2023-10-15T10:48:29.037Z"
   },
   {
    "duration": 263,
    "start_time": "2023-10-15T10:48:29.155Z"
   },
   {
    "duration": 28,
    "start_time": "2023-10-15T10:48:29.420Z"
   },
   {
    "duration": 234,
    "start_time": "2023-10-15T10:48:29.449Z"
   },
   {
    "duration": 5,
    "start_time": "2023-10-15T10:48:29.685Z"
   },
   {
    "duration": 50,
    "start_time": "2023-10-15T10:48:29.693Z"
   },
   {
    "duration": 233,
    "start_time": "2023-10-15T10:48:29.745Z"
   },
   {
    "duration": 4,
    "start_time": "2023-10-15T10:48:29.980Z"
   },
   {
    "duration": 98,
    "start_time": "2023-10-15T10:48:29.986Z"
   },
   {
    "duration": 201,
    "start_time": "2023-10-15T10:48:30.085Z"
   },
   {
    "duration": 8,
    "start_time": "2023-10-15T10:49:12.829Z"
   },
   {
    "duration": 8,
    "start_time": "2023-10-15T10:49:17.599Z"
   },
   {
    "duration": 10,
    "start_time": "2023-10-15T10:49:35.476Z"
   },
   {
    "duration": 23,
    "start_time": "2023-10-15T10:49:50.096Z"
   },
   {
    "duration": 8,
    "start_time": "2023-10-15T10:51:02.379Z"
   },
   {
    "duration": 1135,
    "start_time": "2023-10-15T10:51:09.112Z"
   },
   {
    "duration": 39,
    "start_time": "2023-10-15T10:51:10.249Z"
   },
   {
    "duration": 35,
    "start_time": "2023-10-15T10:51:10.289Z"
   },
   {
    "duration": 20,
    "start_time": "2023-10-15T10:51:10.325Z"
   },
   {
    "duration": 24,
    "start_time": "2023-10-15T10:51:10.347Z"
   },
   {
    "duration": 30,
    "start_time": "2023-10-15T10:51:10.372Z"
   },
   {
    "duration": 14,
    "start_time": "2023-10-15T10:51:10.403Z"
   },
   {
    "duration": 8,
    "start_time": "2023-10-15T10:51:10.443Z"
   },
   {
    "duration": 19,
    "start_time": "2023-10-15T10:51:10.453Z"
   },
   {
    "duration": 173,
    "start_time": "2023-10-15T10:51:10.474Z"
   },
   {
    "duration": 115,
    "start_time": "2023-10-15T10:51:10.649Z"
   },
   {
    "duration": 263,
    "start_time": "2023-10-15T10:51:10.765Z"
   },
   {
    "duration": 22,
    "start_time": "2023-10-15T10:51:11.030Z"
   },
   {
    "duration": 224,
    "start_time": "2023-10-15T10:51:11.055Z"
   },
   {
    "duration": 5,
    "start_time": "2023-10-15T10:51:11.281Z"
   },
   {
    "duration": 44,
    "start_time": "2023-10-15T10:51:11.288Z"
   },
   {
    "duration": 199,
    "start_time": "2023-10-15T10:51:11.334Z"
   },
   {
    "duration": 10,
    "start_time": "2023-10-15T10:51:11.535Z"
   },
   {
    "duration": 104,
    "start_time": "2023-10-15T10:51:11.547Z"
   },
   {
    "duration": 9,
    "start_time": "2023-10-15T10:51:11.652Z"
   },
   {
    "duration": 281,
    "start_time": "2023-10-15T10:56:22.941Z"
   },
   {
    "duration": 342,
    "start_time": "2023-10-15T10:56:28.704Z"
   },
   {
    "duration": 246,
    "start_time": "2023-10-15T10:56:47.282Z"
   },
   {
    "duration": 251,
    "start_time": "2023-10-15T10:57:38.448Z"
   },
   {
    "duration": 238,
    "start_time": "2023-10-15T10:57:42.819Z"
   },
   {
    "duration": 280,
    "start_time": "2023-10-15T10:58:57.149Z"
   },
   {
    "duration": 267,
    "start_time": "2023-10-15T10:59:33.958Z"
   },
   {
    "duration": 351,
    "start_time": "2023-10-15T11:00:58.128Z"
   },
   {
    "duration": 281,
    "start_time": "2023-10-15T11:01:54.255Z"
   },
   {
    "duration": 245,
    "start_time": "2023-10-15T11:03:15.393Z"
   },
   {
    "duration": 258,
    "start_time": "2023-10-15T12:56:57.882Z"
   },
   {
    "duration": 271,
    "start_time": "2023-10-15T12:57:03.899Z"
   },
   {
    "duration": 361,
    "start_time": "2023-10-15T12:57:33.251Z"
   },
   {
    "duration": 270,
    "start_time": "2023-10-15T13:03:33.076Z"
   },
   {
    "duration": 263,
    "start_time": "2023-10-15T13:03:36.410Z"
   },
   {
    "duration": 27,
    "start_time": "2023-10-15T13:13:18.549Z"
   },
   {
    "duration": 59,
    "start_time": "2023-10-15T13:13:24.554Z"
   },
   {
    "duration": 116,
    "start_time": "2023-10-15T13:13:54.131Z"
   },
   {
    "duration": 49,
    "start_time": "2023-10-15T13:14:17.228Z"
   },
   {
    "duration": 42,
    "start_time": "2023-10-15T13:16:26.974Z"
   },
   {
    "duration": 411,
    "start_time": "2023-10-15T13:20:42.626Z"
   },
   {
    "duration": 397,
    "start_time": "2023-10-15T13:20:58.637Z"
   },
   {
    "duration": 85,
    "start_time": "2023-10-15T13:21:13.049Z"
   },
   {
    "duration": 43,
    "start_time": "2023-10-15T13:21:23.022Z"
   },
   {
    "duration": 414,
    "start_time": "2023-10-15T13:21:48.413Z"
   },
   {
    "duration": 31,
    "start_time": "2023-10-15T13:22:05.999Z"
   },
   {
    "duration": 35,
    "start_time": "2023-10-15T13:22:09.425Z"
   },
   {
    "duration": 41,
    "start_time": "2023-10-15T13:22:20.990Z"
   },
   {
    "duration": 37,
    "start_time": "2023-10-15T13:22:50.536Z"
   },
   {
    "duration": 40,
    "start_time": "2023-10-15T13:23:04.967Z"
   },
   {
    "duration": 42,
    "start_time": "2023-10-15T13:23:18.131Z"
   },
   {
    "duration": 41,
    "start_time": "2023-10-15T13:23:27.901Z"
   },
   {
    "duration": 47,
    "start_time": "2023-10-15T13:25:37.824Z"
   },
   {
    "duration": 38,
    "start_time": "2023-10-15T13:25:47.976Z"
   },
   {
    "duration": 49,
    "start_time": "2023-10-15T13:25:53.134Z"
   },
   {
    "duration": 58,
    "start_time": "2023-10-15T13:26:26.226Z"
   },
   {
    "duration": 45,
    "start_time": "2023-10-15T13:26:45.483Z"
   },
   {
    "duration": 56,
    "start_time": "2023-10-15T13:26:53.726Z"
   },
   {
    "duration": 43,
    "start_time": "2023-10-15T13:27:01.303Z"
   },
   {
    "duration": 44,
    "start_time": "2023-10-15T13:27:05.271Z"
   },
   {
    "duration": 1286,
    "start_time": "2023-10-15T13:27:14.353Z"
   },
   {
    "duration": 40,
    "start_time": "2023-10-15T13:27:15.641Z"
   },
   {
    "duration": 34,
    "start_time": "2023-10-15T13:27:15.683Z"
   },
   {
    "duration": 22,
    "start_time": "2023-10-15T13:27:15.719Z"
   },
   {
    "duration": 25,
    "start_time": "2023-10-15T13:27:15.743Z"
   },
   {
    "duration": 35,
    "start_time": "2023-10-15T13:27:15.771Z"
   },
   {
    "duration": 36,
    "start_time": "2023-10-15T13:27:15.808Z"
   },
   {
    "duration": 8,
    "start_time": "2023-10-15T13:27:15.846Z"
   },
   {
    "duration": 17,
    "start_time": "2023-10-15T13:27:15.855Z"
   },
   {
    "duration": 193,
    "start_time": "2023-10-15T13:27:15.874Z"
   },
   {
    "duration": 125,
    "start_time": "2023-10-15T13:27:16.070Z"
   },
   {
    "duration": 284,
    "start_time": "2023-10-15T13:27:16.197Z"
   },
   {
    "duration": 22,
    "start_time": "2023-10-15T13:27:16.483Z"
   },
   {
    "duration": 233,
    "start_time": "2023-10-15T13:27:16.510Z"
   },
   {
    "duration": 6,
    "start_time": "2023-10-15T13:27:16.745Z"
   },
   {
    "duration": 43,
    "start_time": "2023-10-15T13:27:16.753Z"
   },
   {
    "duration": 222,
    "start_time": "2023-10-15T13:27:16.797Z"
   },
   {
    "duration": 7,
    "start_time": "2023-10-15T13:27:17.021Z"
   },
   {
    "duration": 62,
    "start_time": "2023-10-15T13:27:17.030Z"
   },
   {
    "duration": 13,
    "start_time": "2023-10-15T13:27:17.094Z"
   },
   {
    "duration": 292,
    "start_time": "2023-10-15T13:27:17.109Z"
   },
   {
    "duration": 364,
    "start_time": "2023-10-15T13:27:17.403Z"
   },
   {
    "duration": 268,
    "start_time": "2023-10-15T13:27:17.768Z"
   },
   {
    "duration": 276,
    "start_time": "2023-10-15T13:27:18.038Z"
   },
   {
    "duration": 58,
    "start_time": "2023-10-15T13:27:18.316Z"
   },
   {
    "duration": 44,
    "start_time": "2023-10-15T13:27:26.538Z"
   },
   {
    "duration": 168,
    "start_time": "2023-10-15T13:27:30.861Z"
   },
   {
    "duration": 51,
    "start_time": "2023-10-15T13:27:42.315Z"
   },
   {
    "duration": 51,
    "start_time": "2023-10-15T13:27:48.146Z"
   },
   {
    "duration": 43,
    "start_time": "2023-10-15T13:27:56.966Z"
   },
   {
    "duration": 40,
    "start_time": "2023-10-15T13:28:07.160Z"
   },
   {
    "duration": 49,
    "start_time": "2023-10-15T13:28:15.139Z"
   },
   {
    "duration": 1142,
    "start_time": "2023-10-15T13:29:10.014Z"
   },
   {
    "duration": 41,
    "start_time": "2023-10-15T13:29:11.159Z"
   },
   {
    "duration": 36,
    "start_time": "2023-10-15T13:29:11.202Z"
   },
   {
    "duration": 26,
    "start_time": "2023-10-15T13:29:11.240Z"
   },
   {
    "duration": 22,
    "start_time": "2023-10-15T13:29:11.268Z"
   },
   {
    "duration": 31,
    "start_time": "2023-10-15T13:29:11.292Z"
   },
   {
    "duration": 9,
    "start_time": "2023-10-15T13:29:11.325Z"
   },
   {
    "duration": 13,
    "start_time": "2023-10-15T13:29:11.345Z"
   },
   {
    "duration": 13,
    "start_time": "2023-10-15T13:29:11.361Z"
   },
   {
    "duration": 176,
    "start_time": "2023-10-15T13:29:11.377Z"
   },
   {
    "duration": 121,
    "start_time": "2023-10-15T13:29:11.555Z"
   },
   {
    "duration": 284,
    "start_time": "2023-10-15T13:29:11.677Z"
   },
   {
    "duration": 18,
    "start_time": "2023-10-15T13:29:11.963Z"
   },
   {
    "duration": 244,
    "start_time": "2023-10-15T13:29:11.983Z"
   },
   {
    "duration": 6,
    "start_time": "2023-10-15T13:29:12.229Z"
   },
   {
    "duration": 50,
    "start_time": "2023-10-15T13:29:12.236Z"
   },
   {
    "duration": 210,
    "start_time": "2023-10-15T13:29:12.288Z"
   },
   {
    "duration": 6,
    "start_time": "2023-10-15T13:29:12.500Z"
   },
   {
    "duration": 52,
    "start_time": "2023-10-15T13:29:12.508Z"
   },
   {
    "duration": 10,
    "start_time": "2023-10-15T13:29:12.562Z"
   },
   {
    "duration": 298,
    "start_time": "2023-10-15T13:29:12.574Z"
   },
   {
    "duration": 388,
    "start_time": "2023-10-15T13:29:12.874Z"
   },
   {
    "duration": 267,
    "start_time": "2023-10-15T13:29:13.264Z"
   },
   {
    "duration": 331,
    "start_time": "2023-10-15T13:29:13.532Z"
   },
   {
    "duration": 54,
    "start_time": "2023-10-15T13:29:13.865Z"
   },
   {
    "duration": 49,
    "start_time": "2023-10-15T13:30:58.479Z"
   },
   {
    "duration": 43,
    "start_time": "2023-10-15T13:31:16.674Z"
   },
   {
    "duration": 471,
    "start_time": "2023-10-15T13:31:21.840Z"
   },
   {
    "duration": 43,
    "start_time": "2023-10-15T13:31:47.081Z"
   },
   {
    "duration": 42,
    "start_time": "2023-10-15T13:31:52.114Z"
   },
   {
    "duration": 1077,
    "start_time": "2023-10-15T13:32:14.834Z"
   },
   {
    "duration": 40,
    "start_time": "2023-10-15T13:32:15.912Z"
   },
   {
    "duration": 35,
    "start_time": "2023-10-15T13:32:15.954Z"
   },
   {
    "duration": 20,
    "start_time": "2023-10-15T13:32:15.991Z"
   },
   {
    "duration": 47,
    "start_time": "2023-10-15T13:32:16.012Z"
   },
   {
    "duration": 34,
    "start_time": "2023-10-15T13:32:16.061Z"
   },
   {
    "duration": 10,
    "start_time": "2023-10-15T13:32:16.097Z"
   },
   {
    "duration": 46,
    "start_time": "2023-10-15T13:32:16.108Z"
   },
   {
    "duration": 24,
    "start_time": "2023-10-15T13:32:16.156Z"
   },
   {
    "duration": 180,
    "start_time": "2023-10-15T13:32:16.183Z"
   },
   {
    "duration": 113,
    "start_time": "2023-10-15T13:32:16.365Z"
   },
   {
    "duration": 256,
    "start_time": "2023-10-15T13:32:16.479Z"
   },
   {
    "duration": 22,
    "start_time": "2023-10-15T13:32:16.736Z"
   },
   {
    "duration": 244,
    "start_time": "2023-10-15T13:32:16.759Z"
   },
   {
    "duration": 6,
    "start_time": "2023-10-15T13:32:17.005Z"
   },
   {
    "duration": 48,
    "start_time": "2023-10-15T13:32:17.014Z"
   },
   {
    "duration": 207,
    "start_time": "2023-10-15T13:32:17.064Z"
   },
   {
    "duration": 5,
    "start_time": "2023-10-15T13:32:17.273Z"
   },
   {
    "duration": 32,
    "start_time": "2023-10-15T13:32:17.280Z"
   },
   {
    "duration": 10,
    "start_time": "2023-10-15T13:32:17.314Z"
   },
   {
    "duration": 302,
    "start_time": "2023-10-15T13:32:17.325Z"
   },
   {
    "duration": 377,
    "start_time": "2023-10-15T13:32:17.629Z"
   },
   {
    "duration": 275,
    "start_time": "2023-10-15T13:32:18.008Z"
   },
   {
    "duration": 271,
    "start_time": "2023-10-15T13:32:18.284Z"
   },
   {
    "duration": 45,
    "start_time": "2023-10-15T13:32:18.556Z"
   },
   {
    "duration": 43,
    "start_time": "2023-10-15T13:33:07.413Z"
   },
   {
    "duration": 42,
    "start_time": "2023-10-15T13:33:14.177Z"
   },
   {
    "duration": 39,
    "start_time": "2023-10-15T13:37:09.668Z"
   },
   {
    "duration": 52,
    "start_time": "2023-10-15T13:37:14.651Z"
   },
   {
    "duration": 46,
    "start_time": "2023-10-15T13:37:38.497Z"
   },
   {
    "duration": 1087,
    "start_time": "2023-10-15T13:54:38.915Z"
   },
   {
    "duration": 43,
    "start_time": "2023-10-15T13:54:40.004Z"
   },
   {
    "duration": 35,
    "start_time": "2023-10-15T13:54:40.056Z"
   },
   {
    "duration": 19,
    "start_time": "2023-10-15T13:54:40.093Z"
   },
   {
    "duration": 44,
    "start_time": "2023-10-15T13:54:40.114Z"
   },
   {
    "duration": 26,
    "start_time": "2023-10-15T13:54:40.160Z"
   },
   {
    "duration": 42,
    "start_time": "2023-10-15T13:54:40.188Z"
   },
   {
    "duration": 8,
    "start_time": "2023-10-15T13:54:40.231Z"
   },
   {
    "duration": 36,
    "start_time": "2023-10-15T13:54:40.241Z"
   },
   {
    "duration": 183,
    "start_time": "2023-10-15T13:54:40.278Z"
   },
   {
    "duration": 109,
    "start_time": "2023-10-15T13:54:40.462Z"
   },
   {
    "duration": 276,
    "start_time": "2023-10-15T13:54:40.573Z"
   },
   {
    "duration": 18,
    "start_time": "2023-10-15T13:54:40.856Z"
   },
   {
    "duration": 226,
    "start_time": "2023-10-15T13:54:40.877Z"
   },
   {
    "duration": 4,
    "start_time": "2023-10-15T13:54:41.105Z"
   },
   {
    "duration": 43,
    "start_time": "2023-10-15T13:54:41.110Z"
   },
   {
    "duration": 208,
    "start_time": "2023-10-15T13:54:41.159Z"
   },
   {
    "duration": 4,
    "start_time": "2023-10-15T13:54:41.369Z"
   },
   {
    "duration": 32,
    "start_time": "2023-10-15T13:54:41.374Z"
   },
   {
    "duration": 8,
    "start_time": "2023-10-15T13:54:41.408Z"
   },
   {
    "duration": 289,
    "start_time": "2023-10-15T13:54:41.418Z"
   },
   {
    "duration": 362,
    "start_time": "2023-10-15T13:54:41.709Z"
   },
   {
    "duration": 263,
    "start_time": "2023-10-15T13:54:42.073Z"
   },
   {
    "duration": 272,
    "start_time": "2023-10-15T13:54:42.338Z"
   },
   {
    "duration": 66,
    "start_time": "2023-10-15T13:54:42.611Z"
   },
   {
    "duration": 87,
    "start_time": "2023-10-15T13:54:42.680Z"
   },
   {
    "duration": 1156,
    "start_time": "2023-10-15T13:56:55.044Z"
   },
   {
    "duration": 40,
    "start_time": "2023-10-15T13:56:56.202Z"
   },
   {
    "duration": 35,
    "start_time": "2023-10-15T13:56:56.243Z"
   },
   {
    "duration": 20,
    "start_time": "2023-10-15T13:56:56.280Z"
   },
   {
    "duration": 30,
    "start_time": "2023-10-15T13:56:56.302Z"
   },
   {
    "duration": 31,
    "start_time": "2023-10-15T13:56:56.334Z"
   },
   {
    "duration": 11,
    "start_time": "2023-10-15T13:56:56.367Z"
   },
   {
    "duration": 30,
    "start_time": "2023-10-15T13:56:56.380Z"
   },
   {
    "duration": 26,
    "start_time": "2023-10-15T13:56:56.412Z"
   },
   {
    "duration": 185,
    "start_time": "2023-10-15T13:56:56.439Z"
   },
   {
    "duration": 102,
    "start_time": "2023-10-15T13:56:56.626Z"
   },
   {
    "duration": 266,
    "start_time": "2023-10-15T13:56:56.730Z"
   },
   {
    "duration": 17,
    "start_time": "2023-10-15T13:56:56.998Z"
   },
   {
    "duration": 225,
    "start_time": "2023-10-15T13:56:57.018Z"
   },
   {
    "duration": 5,
    "start_time": "2023-10-15T13:56:57.245Z"
   },
   {
    "duration": 39,
    "start_time": "2023-10-15T13:56:57.251Z"
   },
   {
    "duration": 191,
    "start_time": "2023-10-15T13:56:57.292Z"
   },
   {
    "duration": 5,
    "start_time": "2023-10-15T13:56:57.485Z"
   },
   {
    "duration": 38,
    "start_time": "2023-10-15T13:56:57.492Z"
   },
   {
    "duration": 17,
    "start_time": "2023-10-15T13:56:57.532Z"
   },
   {
    "duration": 270,
    "start_time": "2023-10-15T13:56:57.551Z"
   },
   {
    "duration": 335,
    "start_time": "2023-10-15T13:56:57.823Z"
   },
   {
    "duration": 262,
    "start_time": "2023-10-15T13:56:58.159Z"
   },
   {
    "duration": 274,
    "start_time": "2023-10-15T13:56:58.423Z"
   },
   {
    "duration": 56,
    "start_time": "2023-10-15T13:56:58.699Z"
   },
   {
    "duration": 131,
    "start_time": "2023-10-15T13:56:58.757Z"
   },
   {
    "duration": 57,
    "start_time": "2023-10-15T14:02:51.702Z"
   },
   {
    "duration": 49,
    "start_time": "2023-10-15T14:04:03.467Z"
   },
   {
    "duration": 64,
    "start_time": "2023-10-15T14:04:35.327Z"
   },
   {
    "duration": 5,
    "start_time": "2023-10-15T14:08:37.135Z"
   },
   {
    "duration": 9,
    "start_time": "2023-10-15T14:08:46.466Z"
   },
   {
    "duration": 20,
    "start_time": "2023-10-15T14:09:39.830Z"
   },
   {
    "duration": 612,
    "start_time": "2023-10-15T14:11:41.088Z"
   },
   {
    "duration": 6,
    "start_time": "2023-10-15T14:11:52.366Z"
   },
   {
    "duration": 2605,
    "start_time": "2023-10-15T14:11:57.553Z"
   },
   {
    "duration": 1165,
    "start_time": "2023-10-15T14:12:20.248Z"
   },
   {
    "duration": 47,
    "start_time": "2023-10-15T14:12:21.415Z"
   },
   {
    "duration": 37,
    "start_time": "2023-10-15T14:12:21.464Z"
   },
   {
    "duration": 20,
    "start_time": "2023-10-15T14:12:21.503Z"
   },
   {
    "duration": 29,
    "start_time": "2023-10-15T14:12:21.526Z"
   },
   {
    "duration": 36,
    "start_time": "2023-10-15T14:12:21.559Z"
   },
   {
    "duration": 11,
    "start_time": "2023-10-15T14:12:21.596Z"
   },
   {
    "duration": 25,
    "start_time": "2023-10-15T14:12:21.608Z"
   },
   {
    "duration": 30,
    "start_time": "2023-10-15T14:12:21.635Z"
   },
   {
    "duration": 205,
    "start_time": "2023-10-15T14:12:21.667Z"
   },
   {
    "duration": 123,
    "start_time": "2023-10-15T14:12:21.874Z"
   },
   {
    "duration": 294,
    "start_time": "2023-10-15T14:12:21.998Z"
   },
   {
    "duration": 19,
    "start_time": "2023-10-15T14:12:22.294Z"
   },
   {
    "duration": 278,
    "start_time": "2023-10-15T14:12:22.317Z"
   },
   {
    "duration": 5,
    "start_time": "2023-10-15T14:12:22.597Z"
   },
   {
    "duration": 54,
    "start_time": "2023-10-15T14:12:22.604Z"
   },
   {
    "duration": 437,
    "start_time": "2023-10-15T14:12:22.663Z"
   },
   {
    "duration": 6,
    "start_time": "2023-10-15T14:12:23.102Z"
   },
   {
    "duration": 83,
    "start_time": "2023-10-15T14:12:23.110Z"
   },
   {
    "duration": 70,
    "start_time": "2023-10-15T14:12:23.194Z"
   },
   {
    "duration": 311,
    "start_time": "2023-10-15T14:12:23.266Z"
   },
   {
    "duration": 425,
    "start_time": "2023-10-15T14:12:23.578Z"
   },
   {
    "duration": 302,
    "start_time": "2023-10-15T14:12:24.005Z"
   },
   {
    "duration": 372,
    "start_time": "2023-10-15T14:12:24.308Z"
   },
   {
    "duration": 93,
    "start_time": "2023-10-15T14:12:24.682Z"
   },
   {
    "duration": 22,
    "start_time": "2023-10-15T14:12:24.777Z"
   },
   {
    "duration": 1525,
    "start_time": "2023-10-15T14:13:12.944Z"
   },
   {
    "duration": 1258,
    "start_time": "2023-10-15T14:13:22.750Z"
   },
   {
    "duration": 40,
    "start_time": "2023-10-15T14:13:24.010Z"
   },
   {
    "duration": 33,
    "start_time": "2023-10-15T14:13:24.053Z"
   },
   {
    "duration": 23,
    "start_time": "2023-10-15T14:13:24.089Z"
   },
   {
    "duration": 36,
    "start_time": "2023-10-15T14:13:24.113Z"
   },
   {
    "duration": 42,
    "start_time": "2023-10-15T14:13:24.151Z"
   },
   {
    "duration": 11,
    "start_time": "2023-10-15T14:13:24.196Z"
   },
   {
    "duration": 37,
    "start_time": "2023-10-15T14:13:24.209Z"
   },
   {
    "duration": 9,
    "start_time": "2023-10-15T14:13:24.248Z"
   },
   {
    "duration": 216,
    "start_time": "2023-10-15T14:13:24.259Z"
   },
   {
    "duration": 151,
    "start_time": "2023-10-15T14:13:24.478Z"
   },
   {
    "duration": 305,
    "start_time": "2023-10-15T14:13:24.631Z"
   },
   {
    "duration": 23,
    "start_time": "2023-10-15T14:13:24.938Z"
   },
   {
    "duration": 248,
    "start_time": "2023-10-15T14:13:24.963Z"
   },
   {
    "duration": 6,
    "start_time": "2023-10-15T14:13:25.213Z"
   },
   {
    "duration": 61,
    "start_time": "2023-10-15T14:13:25.221Z"
   },
   {
    "duration": 235,
    "start_time": "2023-10-15T14:13:25.283Z"
   },
   {
    "duration": 6,
    "start_time": "2023-10-15T14:13:25.519Z"
   },
   {
    "duration": 83,
    "start_time": "2023-10-15T14:13:25.526Z"
   },
   {
    "duration": 10,
    "start_time": "2023-10-15T14:13:25.611Z"
   },
   {
    "duration": 288,
    "start_time": "2023-10-15T14:13:25.623Z"
   },
   {
    "duration": 353,
    "start_time": "2023-10-15T14:13:25.913Z"
   },
   {
    "duration": 275,
    "start_time": "2023-10-15T14:13:26.268Z"
   },
   {
    "duration": 302,
    "start_time": "2023-10-15T14:13:26.545Z"
   },
   {
    "duration": 53,
    "start_time": "2023-10-15T14:13:26.848Z"
   },
   {
    "duration": 16,
    "start_time": "2023-10-15T14:13:26.902Z"
   },
   {
    "duration": 1571,
    "start_time": "2023-10-15T14:16:23.624Z"
   },
   {
    "duration": 1170,
    "start_time": "2023-10-15T14:17:02.955Z"
   },
   {
    "duration": 55,
    "start_time": "2023-10-15T14:17:04.129Z"
   },
   {
    "duration": 37,
    "start_time": "2023-10-15T14:17:04.186Z"
   },
   {
    "duration": 22,
    "start_time": "2023-10-15T14:17:04.226Z"
   },
   {
    "duration": 46,
    "start_time": "2023-10-15T14:17:04.250Z"
   },
   {
    "duration": 31,
    "start_time": "2023-10-15T14:17:04.298Z"
   },
   {
    "duration": 21,
    "start_time": "2023-10-15T14:17:04.331Z"
   },
   {
    "duration": 33,
    "start_time": "2023-10-15T14:17:04.354Z"
   },
   {
    "duration": 19,
    "start_time": "2023-10-15T14:17:04.389Z"
   },
   {
    "duration": 267,
    "start_time": "2023-10-15T14:17:04.413Z"
   },
   {
    "duration": 148,
    "start_time": "2023-10-15T14:17:04.683Z"
   },
   {
    "duration": 312,
    "start_time": "2023-10-15T14:17:04.834Z"
   },
   {
    "duration": 23,
    "start_time": "2023-10-15T14:17:05.149Z"
   },
   {
    "duration": 477,
    "start_time": "2023-10-15T14:17:05.174Z"
   },
   {
    "duration": 6,
    "start_time": "2023-10-15T14:17:05.653Z"
   },
   {
    "duration": 53,
    "start_time": "2023-10-15T14:17:05.660Z"
   },
   {
    "duration": 217,
    "start_time": "2023-10-15T14:17:05.714Z"
   },
   {
    "duration": 14,
    "start_time": "2023-10-15T14:17:05.933Z"
   },
   {
    "duration": 89,
    "start_time": "2023-10-15T14:17:05.949Z"
   },
   {
    "duration": 13,
    "start_time": "2023-10-15T14:17:06.041Z"
   },
   {
    "duration": 303,
    "start_time": "2023-10-15T14:17:06.056Z"
   },
   {
    "duration": 367,
    "start_time": "2023-10-15T14:17:06.361Z"
   },
   {
    "duration": 266,
    "start_time": "2023-10-15T14:17:06.730Z"
   },
   {
    "duration": 390,
    "start_time": "2023-10-15T14:17:06.998Z"
   },
   {
    "duration": 57,
    "start_time": "2023-10-15T14:17:07.390Z"
   },
   {
    "duration": 22,
    "start_time": "2023-10-15T14:17:07.449Z"
   },
   {
    "duration": 1579,
    "start_time": "2023-10-15T14:17:19.787Z"
   },
   {
    "duration": 1178,
    "start_time": "2023-10-15T14:17:46.734Z"
   },
   {
    "duration": 40,
    "start_time": "2023-10-15T14:17:47.913Z"
   },
   {
    "duration": 35,
    "start_time": "2023-10-15T14:17:47.955Z"
   },
   {
    "duration": 22,
    "start_time": "2023-10-15T14:17:47.992Z"
   },
   {
    "duration": 27,
    "start_time": "2023-10-15T14:17:48.015Z"
   },
   {
    "duration": 46,
    "start_time": "2023-10-15T14:17:48.044Z"
   },
   {
    "duration": 23,
    "start_time": "2023-10-15T14:17:48.091Z"
   },
   {
    "duration": 18,
    "start_time": "2023-10-15T14:17:48.115Z"
   },
   {
    "duration": 16,
    "start_time": "2023-10-15T14:17:48.135Z"
   },
   {
    "duration": 174,
    "start_time": "2023-10-15T14:17:48.154Z"
   },
   {
    "duration": 104,
    "start_time": "2023-10-15T14:17:48.330Z"
   },
   {
    "duration": 294,
    "start_time": "2023-10-15T14:17:48.444Z"
   },
   {
    "duration": 26,
    "start_time": "2023-10-15T14:17:48.740Z"
   },
   {
    "duration": 251,
    "start_time": "2023-10-15T14:17:48.769Z"
   },
   {
    "duration": 7,
    "start_time": "2023-10-15T14:17:49.023Z"
   },
   {
    "duration": 31,
    "start_time": "2023-10-15T14:17:49.033Z"
   },
   {
    "duration": 206,
    "start_time": "2023-10-15T14:17:49.066Z"
   },
   {
    "duration": 6,
    "start_time": "2023-10-15T14:17:49.274Z"
   },
   {
    "duration": 37,
    "start_time": "2023-10-15T14:17:49.282Z"
   },
   {
    "duration": 23,
    "start_time": "2023-10-15T14:17:49.321Z"
   },
   {
    "duration": 319,
    "start_time": "2023-10-15T14:17:49.346Z"
   },
   {
    "duration": 377,
    "start_time": "2023-10-15T14:17:49.667Z"
   },
   {
    "duration": 277,
    "start_time": "2023-10-15T14:17:50.046Z"
   },
   {
    "duration": 287,
    "start_time": "2023-10-15T14:17:50.325Z"
   },
   {
    "duration": 73,
    "start_time": "2023-10-15T14:17:50.613Z"
   },
   {
    "duration": 21,
    "start_time": "2023-10-15T14:17:50.687Z"
   },
   {
    "duration": 1229,
    "start_time": "2023-10-15T14:18:48.686Z"
   },
   {
    "duration": 41,
    "start_time": "2023-10-15T14:18:49.917Z"
   },
   {
    "duration": 53,
    "start_time": "2023-10-15T14:18:49.961Z"
   },
   {
    "duration": 22,
    "start_time": "2023-10-15T14:18:50.017Z"
   },
   {
    "duration": 67,
    "start_time": "2023-10-15T14:18:50.041Z"
   },
   {
    "duration": 42,
    "start_time": "2023-10-15T14:18:50.110Z"
   },
   {
    "duration": 12,
    "start_time": "2023-10-15T14:18:50.154Z"
   },
   {
    "duration": 43,
    "start_time": "2023-10-15T14:18:50.168Z"
   },
   {
    "duration": 33,
    "start_time": "2023-10-15T14:18:50.213Z"
   },
   {
    "duration": 209,
    "start_time": "2023-10-15T14:18:50.253Z"
   },
   {
    "duration": 124,
    "start_time": "2023-10-15T14:18:50.465Z"
   },
   {
    "duration": 397,
    "start_time": "2023-10-15T14:18:50.592Z"
   },
   {
    "duration": 19,
    "start_time": "2023-10-15T14:18:50.991Z"
   },
   {
    "duration": 285,
    "start_time": "2023-10-15T14:18:51.011Z"
   },
   {
    "duration": 7,
    "start_time": "2023-10-15T14:18:51.299Z"
   },
   {
    "duration": 48,
    "start_time": "2023-10-15T14:18:51.308Z"
   },
   {
    "duration": 273,
    "start_time": "2023-10-15T14:18:51.359Z"
   },
   {
    "duration": 9,
    "start_time": "2023-10-15T14:18:51.634Z"
   },
   {
    "duration": 74,
    "start_time": "2023-10-15T14:18:51.645Z"
   },
   {
    "duration": 20,
    "start_time": "2023-10-15T14:18:51.721Z"
   },
   {
    "duration": 308,
    "start_time": "2023-10-15T14:18:51.744Z"
   },
   {
    "duration": 384,
    "start_time": "2023-10-15T14:18:52.054Z"
   },
   {
    "duration": 308,
    "start_time": "2023-10-15T14:18:52.443Z"
   },
   {
    "duration": 310,
    "start_time": "2023-10-15T14:18:52.753Z"
   },
   {
    "duration": 59,
    "start_time": "2023-10-15T14:18:53.065Z"
   },
   {
    "duration": 22,
    "start_time": "2023-10-15T14:18:53.125Z"
   },
   {
    "duration": 127,
    "start_time": "2023-10-15T14:19:12.047Z"
   },
   {
    "duration": 6,
    "start_time": "2023-10-15T14:22:06.713Z"
   },
   {
    "duration": 1654,
    "start_time": "2023-10-15T14:22:23.614Z"
   },
   {
    "duration": 1094,
    "start_time": "2023-10-15T14:22:31.303Z"
   },
   {
    "duration": 43,
    "start_time": "2023-10-15T14:22:32.398Z"
   },
   {
    "duration": 36,
    "start_time": "2023-10-15T14:22:32.443Z"
   },
   {
    "duration": 20,
    "start_time": "2023-10-15T14:22:32.482Z"
   },
   {
    "duration": 29,
    "start_time": "2023-10-15T14:22:32.504Z"
   },
   {
    "duration": 32,
    "start_time": "2023-10-15T14:22:32.535Z"
   },
   {
    "duration": 21,
    "start_time": "2023-10-15T14:22:32.569Z"
   },
   {
    "duration": 31,
    "start_time": "2023-10-15T14:22:32.592Z"
   },
   {
    "duration": 27,
    "start_time": "2023-10-15T14:22:32.625Z"
   },
   {
    "duration": 161,
    "start_time": "2023-10-15T14:22:32.656Z"
   },
   {
    "duration": 98,
    "start_time": "2023-10-15T14:22:32.819Z"
   },
   {
    "duration": 265,
    "start_time": "2023-10-15T14:22:32.919Z"
   },
   {
    "duration": 17,
    "start_time": "2023-10-15T14:22:33.185Z"
   },
   {
    "duration": 212,
    "start_time": "2023-10-15T14:22:33.203Z"
   },
   {
    "duration": 4,
    "start_time": "2023-10-15T14:22:33.417Z"
   },
   {
    "duration": 41,
    "start_time": "2023-10-15T14:22:33.423Z"
   },
   {
    "duration": 200,
    "start_time": "2023-10-15T14:22:33.466Z"
   },
   {
    "duration": 5,
    "start_time": "2023-10-15T14:22:33.668Z"
   },
   {
    "duration": 36,
    "start_time": "2023-10-15T14:22:33.675Z"
   },
   {
    "duration": 13,
    "start_time": "2023-10-15T14:22:33.713Z"
   },
   {
    "duration": 293,
    "start_time": "2023-10-15T14:22:33.743Z"
   },
   {
    "duration": 329,
    "start_time": "2023-10-15T14:22:34.043Z"
   },
   {
    "duration": 333,
    "start_time": "2023-10-15T14:22:34.373Z"
   },
   {
    "duration": 267,
    "start_time": "2023-10-15T14:22:34.708Z"
   },
   {
    "duration": 56,
    "start_time": "2023-10-15T14:22:34.977Z"
   },
   {
    "duration": 63,
    "start_time": "2023-10-15T14:22:35.043Z"
   },
   {
    "duration": 15,
    "start_time": "2023-10-15T14:22:51.994Z"
   },
   {
    "duration": 16,
    "start_time": "2023-10-15T14:23:30.119Z"
   },
   {
    "duration": 5,
    "start_time": "2023-10-15T14:25:25.858Z"
   },
   {
    "duration": 19,
    "start_time": "2023-10-15T14:25:30.868Z"
   },
   {
    "duration": 107,
    "start_time": "2023-10-15T14:46:57.267Z"
   },
   {
    "duration": 1177,
    "start_time": "2023-10-15T14:47:10.064Z"
   },
   {
    "duration": 56,
    "start_time": "2023-10-15T14:47:11.243Z"
   },
   {
    "duration": 36,
    "start_time": "2023-10-15T14:47:11.301Z"
   },
   {
    "duration": 41,
    "start_time": "2023-10-15T14:47:11.340Z"
   },
   {
    "duration": 25,
    "start_time": "2023-10-15T14:47:11.383Z"
   },
   {
    "duration": 46,
    "start_time": "2023-10-15T14:47:11.409Z"
   },
   {
    "duration": 12,
    "start_time": "2023-10-15T14:47:11.457Z"
   },
   {
    "duration": 15,
    "start_time": "2023-10-15T14:47:11.471Z"
   },
   {
    "duration": 18,
    "start_time": "2023-10-15T14:47:11.488Z"
   },
   {
    "duration": 221,
    "start_time": "2023-10-15T14:47:11.508Z"
   },
   {
    "duration": 122,
    "start_time": "2023-10-15T14:47:11.731Z"
   },
   {
    "duration": 297,
    "start_time": "2023-10-15T14:47:11.856Z"
   },
   {
    "duration": 25,
    "start_time": "2023-10-15T14:47:12.155Z"
   },
   {
    "duration": 250,
    "start_time": "2023-10-15T14:47:12.181Z"
   },
   {
    "duration": 6,
    "start_time": "2023-10-15T14:47:12.433Z"
   },
   {
    "duration": 48,
    "start_time": "2023-10-15T14:47:12.441Z"
   },
   {
    "duration": 245,
    "start_time": "2023-10-15T14:47:12.492Z"
   },
   {
    "duration": 6,
    "start_time": "2023-10-15T14:47:12.740Z"
   },
   {
    "duration": 55,
    "start_time": "2023-10-15T14:47:12.748Z"
   },
   {
    "duration": 9,
    "start_time": "2023-10-15T14:47:12.805Z"
   },
   {
    "duration": 354,
    "start_time": "2023-10-15T14:47:12.815Z"
   },
   {
    "duration": 403,
    "start_time": "2023-10-15T14:47:13.171Z"
   },
   {
    "duration": 311,
    "start_time": "2023-10-15T14:47:13.576Z"
   },
   {
    "duration": 278,
    "start_time": "2023-10-15T14:47:13.889Z"
   },
   {
    "duration": 57,
    "start_time": "2023-10-15T14:47:14.169Z"
   },
   {
    "duration": 39,
    "start_time": "2023-10-15T14:47:14.228Z"
   },
   {
    "duration": 143,
    "start_time": "2023-10-15T14:47:14.269Z"
   },
   {
    "duration": 16,
    "start_time": "2023-10-15T14:47:27.234Z"
   },
   {
    "duration": 14,
    "start_time": "2023-10-15T14:47:46.331Z"
   },
   {
    "duration": 17,
    "start_time": "2023-10-15T14:48:00.864Z"
   },
   {
    "duration": 21,
    "start_time": "2023-10-15T14:48:11.033Z"
   },
   {
    "duration": 14,
    "start_time": "2023-10-15T14:48:36.727Z"
   },
   {
    "duration": 13,
    "start_time": "2023-10-15T14:57:53.626Z"
   },
   {
    "duration": 5,
    "start_time": "2023-10-15T14:58:19.692Z"
   },
   {
    "duration": 6,
    "start_time": "2023-10-15T14:59:59.278Z"
   },
   {
    "duration": 5,
    "start_time": "2023-10-15T15:00:59.887Z"
   },
   {
    "duration": 7,
    "start_time": "2023-10-15T15:07:14.606Z"
   },
   {
    "duration": 11,
    "start_time": "2023-10-15T15:09:50.039Z"
   },
   {
    "duration": 11,
    "start_time": "2023-10-15T15:26:12.978Z"
   },
   {
    "duration": 184,
    "start_time": "2023-10-15T15:26:34.141Z"
   },
   {
    "duration": 10,
    "start_time": "2023-10-15T15:26:47.968Z"
   },
   {
    "duration": 89,
    "start_time": "2023-10-15T15:29:55.501Z"
   },
   {
    "duration": 4,
    "start_time": "2023-10-15T15:30:02.193Z"
   },
   {
    "duration": 199,
    "start_time": "2023-10-15T15:30:05.064Z"
   },
   {
    "duration": 228,
    "start_time": "2023-10-15T15:30:24.609Z"
   },
   {
    "duration": 11,
    "start_time": "2023-10-15T15:31:55.331Z"
   },
   {
    "duration": 9,
    "start_time": "2023-10-15T15:32:00.664Z"
   },
   {
    "duration": 198,
    "start_time": "2023-10-15T15:32:10.905Z"
   },
   {
    "duration": 26,
    "start_time": "2023-10-15T15:33:07.801Z"
   },
   {
    "duration": 2083,
    "start_time": "2023-10-15T15:33:41.319Z"
   },
   {
    "duration": 287,
    "start_time": "2023-10-15T15:33:54.514Z"
   },
   {
    "duration": 15,
    "start_time": "2023-10-15T15:35:00.049Z"
   },
   {
    "duration": 10,
    "start_time": "2023-10-15T15:35:37.456Z"
   },
   {
    "duration": 1181,
    "start_time": "2023-10-15T15:35:41.894Z"
   },
   {
    "duration": 40,
    "start_time": "2023-10-15T15:35:43.077Z"
   },
   {
    "duration": 35,
    "start_time": "2023-10-15T15:35:43.119Z"
   },
   {
    "duration": 86,
    "start_time": "2023-10-15T15:35:43.157Z"
   },
   {
    "duration": 30,
    "start_time": "2023-10-15T15:35:43.245Z"
   },
   {
    "duration": 39,
    "start_time": "2023-10-15T15:35:43.276Z"
   },
   {
    "duration": 32,
    "start_time": "2023-10-15T15:35:43.317Z"
   },
   {
    "duration": 11,
    "start_time": "2023-10-15T15:35:43.351Z"
   },
   {
    "duration": 16,
    "start_time": "2023-10-15T15:35:43.363Z"
   },
   {
    "duration": 178,
    "start_time": "2023-10-15T15:35:43.382Z"
   },
   {
    "duration": 104,
    "start_time": "2023-10-15T15:35:43.562Z"
   },
   {
    "duration": 316,
    "start_time": "2023-10-15T15:35:43.668Z"
   },
   {
    "duration": 18,
    "start_time": "2023-10-15T15:35:43.986Z"
   },
   {
    "duration": 253,
    "start_time": "2023-10-15T15:35:44.005Z"
   },
   {
    "duration": 7,
    "start_time": "2023-10-15T15:35:44.260Z"
   },
   {
    "duration": 25,
    "start_time": "2023-10-15T15:35:44.269Z"
   },
   {
    "duration": 225,
    "start_time": "2023-10-15T15:35:44.296Z"
   },
   {
    "duration": 6,
    "start_time": "2023-10-15T15:35:44.523Z"
   },
   {
    "duration": 51,
    "start_time": "2023-10-15T15:35:44.530Z"
   },
   {
    "duration": 12,
    "start_time": "2023-10-15T15:35:44.583Z"
   },
   {
    "duration": 362,
    "start_time": "2023-10-15T15:35:44.597Z"
   },
   {
    "duration": 373,
    "start_time": "2023-10-15T15:35:44.960Z"
   },
   {
    "duration": 325,
    "start_time": "2023-10-15T15:35:45.335Z"
   },
   {
    "duration": 277,
    "start_time": "2023-10-15T15:35:45.663Z"
   },
   {
    "duration": 64,
    "start_time": "2023-10-15T15:35:45.944Z"
   },
   {
    "duration": 16,
    "start_time": "2023-10-15T15:35:46.010Z"
   },
   {
    "duration": 9,
    "start_time": "2023-10-15T15:35:46.044Z"
   },
   {
    "duration": 868,
    "start_time": "2023-10-15T15:35:46.060Z"
   },
   {
    "duration": 226,
    "start_time": "2023-10-15T15:36:43.391Z"
   },
   {
    "duration": 257,
    "start_time": "2023-10-15T15:37:33.160Z"
   },
   {
    "duration": 308,
    "start_time": "2023-10-15T15:37:43.537Z"
   },
   {
    "duration": 378,
    "start_time": "2023-10-15T15:37:54.641Z"
   },
   {
    "duration": 253,
    "start_time": "2023-10-15T15:38:05.132Z"
   },
   {
    "duration": 271,
    "start_time": "2023-10-15T15:48:29.236Z"
   },
   {
    "duration": 7,
    "start_time": "2023-10-15T15:51:40.857Z"
   },
   {
    "duration": 6,
    "start_time": "2023-10-15T15:58:53.631Z"
   },
   {
    "duration": 6,
    "start_time": "2023-10-15T15:58:59.327Z"
   },
   {
    "duration": 6,
    "start_time": "2023-10-15T15:59:05.025Z"
   },
   {
    "duration": 118,
    "start_time": "2023-10-15T16:01:38.639Z"
   },
   {
    "duration": 13,
    "start_time": "2023-10-15T16:01:55.262Z"
   },
   {
    "duration": 12,
    "start_time": "2023-10-15T16:01:59.330Z"
   },
   {
    "duration": 16,
    "start_time": "2023-10-15T16:03:08.837Z"
   },
   {
    "duration": 239,
    "start_time": "2023-10-15T16:13:21.866Z"
   },
   {
    "duration": 259,
    "start_time": "2023-10-15T16:14:23.783Z"
   },
   {
    "duration": 11,
    "start_time": "2023-10-15T16:54:43.244Z"
   },
   {
    "duration": 109,
    "start_time": "2023-10-15T16:55:10.736Z"
   },
   {
    "duration": 119,
    "start_time": "2023-10-15T16:56:00.110Z"
   },
   {
    "duration": 127,
    "start_time": "2023-10-15T16:56:53.191Z"
   },
   {
    "duration": 6,
    "start_time": "2023-10-15T16:58:11.609Z"
   },
   {
    "duration": 81,
    "start_time": "2023-10-15T16:59:48.252Z"
   },
   {
    "duration": 6,
    "start_time": "2023-10-15T17:01:01.902Z"
   },
   {
    "duration": 5,
    "start_time": "2023-10-15T17:02:00.364Z"
   },
   {
    "duration": 5,
    "start_time": "2023-10-15T17:02:12.830Z"
   },
   {
    "duration": 6,
    "start_time": "2023-10-15T17:02:27.647Z"
   },
   {
    "duration": 5,
    "start_time": "2023-10-15T17:03:34.742Z"
   },
   {
    "duration": 6,
    "start_time": "2023-10-15T17:03:50.544Z"
   },
   {
    "duration": 5,
    "start_time": "2023-10-15T17:03:55.151Z"
   },
   {
    "duration": 71,
    "start_time": "2023-10-15T17:03:58.414Z"
   },
   {
    "duration": 98,
    "start_time": "2023-10-15T17:04:17.838Z"
   },
   {
    "duration": 83,
    "start_time": "2023-10-15T17:04:28.392Z"
   },
   {
    "duration": 95,
    "start_time": "2023-10-15T17:04:38.164Z"
   },
   {
    "duration": 6,
    "start_time": "2023-10-15T17:04:42.162Z"
   },
   {
    "duration": 3,
    "start_time": "2023-10-15T17:05:12.460Z"
   },
   {
    "duration": 1250,
    "start_time": "2023-10-15T17:33:31.955Z"
   },
   {
    "duration": 39,
    "start_time": "2023-10-15T17:33:33.207Z"
   },
   {
    "duration": 35,
    "start_time": "2023-10-15T17:33:33.247Z"
   },
   {
    "duration": 19,
    "start_time": "2023-10-15T17:33:33.284Z"
   },
   {
    "duration": 24,
    "start_time": "2023-10-15T17:33:33.305Z"
   },
   {
    "duration": 37,
    "start_time": "2023-10-15T17:33:33.331Z"
   },
   {
    "duration": 9,
    "start_time": "2023-10-15T17:33:33.370Z"
   },
   {
    "duration": 12,
    "start_time": "2023-10-15T17:33:33.381Z"
   },
   {
    "duration": 8,
    "start_time": "2023-10-15T17:33:33.395Z"
   },
   {
    "duration": 190,
    "start_time": "2023-10-15T17:33:33.405Z"
   },
   {
    "duration": 108,
    "start_time": "2023-10-15T17:33:33.596Z"
   },
   {
    "duration": 299,
    "start_time": "2023-10-15T17:33:33.705Z"
   },
   {
    "duration": 17,
    "start_time": "2023-10-15T17:33:34.006Z"
   },
   {
    "duration": 226,
    "start_time": "2023-10-15T17:33:34.025Z"
   },
   {
    "duration": 4,
    "start_time": "2023-10-15T17:33:34.253Z"
   },
   {
    "duration": 23,
    "start_time": "2023-10-15T17:33:34.259Z"
   },
   {
    "duration": 196,
    "start_time": "2023-10-15T17:33:34.284Z"
   },
   {
    "duration": 6,
    "start_time": "2023-10-15T17:33:34.484Z"
   },
   {
    "duration": 48,
    "start_time": "2023-10-15T17:33:34.492Z"
   },
   {
    "duration": 14,
    "start_time": "2023-10-15T17:33:34.542Z"
   },
   {
    "duration": 317,
    "start_time": "2023-10-15T17:33:34.559Z"
   },
   {
    "duration": 354,
    "start_time": "2023-10-15T17:33:34.878Z"
   },
   {
    "duration": 269,
    "start_time": "2023-10-15T17:33:35.234Z"
   },
   {
    "duration": 276,
    "start_time": "2023-10-15T17:33:35.505Z"
   },
   {
    "duration": 61,
    "start_time": "2023-10-15T17:33:35.783Z"
   },
   {
    "duration": 17,
    "start_time": "2023-10-15T17:33:35.846Z"
   },
   {
    "duration": 57,
    "start_time": "2023-10-15T17:33:35.864Z"
   },
   {
    "duration": 295,
    "start_time": "2023-10-15T17:33:35.924Z"
   },
   {
    "duration": 5,
    "start_time": "2023-10-15T17:33:36.221Z"
   },
   {
    "duration": 24,
    "start_time": "2023-10-15T17:33:36.228Z"
   },
   {
    "duration": 240,
    "start_time": "2023-10-15T17:33:36.253Z"
   },
   {
    "duration": 3,
    "start_time": "2023-10-15T17:33:36.495Z"
   },
   {
    "duration": 24,
    "start_time": "2023-10-15T17:33:36.499Z"
   },
   {
    "duration": 1418,
    "start_time": "2023-10-15T17:45:50.539Z"
   },
   {
    "duration": 39,
    "start_time": "2023-10-15T17:45:51.959Z"
   },
   {
    "duration": 39,
    "start_time": "2023-10-15T17:45:51.999Z"
   },
   {
    "duration": 21,
    "start_time": "2023-10-15T17:45:52.040Z"
   },
   {
    "duration": 24,
    "start_time": "2023-10-15T17:45:52.062Z"
   },
   {
    "duration": 34,
    "start_time": "2023-10-15T17:45:52.087Z"
   },
   {
    "duration": 10,
    "start_time": "2023-10-15T17:45:52.123Z"
   },
   {
    "duration": 18,
    "start_time": "2023-10-15T17:45:52.134Z"
   },
   {
    "duration": 17,
    "start_time": "2023-10-15T17:45:52.154Z"
   },
   {
    "duration": 180,
    "start_time": "2023-10-15T17:45:52.174Z"
   },
   {
    "duration": 106,
    "start_time": "2023-10-15T17:45:52.357Z"
   },
   {
    "duration": 276,
    "start_time": "2023-10-15T17:45:52.464Z"
   },
   {
    "duration": 18,
    "start_time": "2023-10-15T17:45:52.741Z"
   },
   {
    "duration": 214,
    "start_time": "2023-10-15T17:45:52.761Z"
   },
   {
    "duration": 4,
    "start_time": "2023-10-15T17:45:52.977Z"
   },
   {
    "duration": 22,
    "start_time": "2023-10-15T17:45:52.983Z"
   },
   {
    "duration": 205,
    "start_time": "2023-10-15T17:45:53.007Z"
   },
   {
    "duration": 6,
    "start_time": "2023-10-15T17:45:53.214Z"
   },
   {
    "duration": 47,
    "start_time": "2023-10-15T17:45:53.222Z"
   },
   {
    "duration": 10,
    "start_time": "2023-10-15T17:45:53.271Z"
   },
   {
    "duration": 319,
    "start_time": "2023-10-15T17:45:53.282Z"
   },
   {
    "duration": 388,
    "start_time": "2023-10-15T17:45:53.603Z"
   },
   {
    "duration": 268,
    "start_time": "2023-10-15T17:45:53.993Z"
   },
   {
    "duration": 314,
    "start_time": "2023-10-15T17:45:54.262Z"
   },
   {
    "duration": 82,
    "start_time": "2023-10-15T17:45:54.578Z"
   },
   {
    "duration": 29,
    "start_time": "2023-10-15T17:45:54.662Z"
   },
   {
    "duration": 8,
    "start_time": "2023-10-15T17:45:54.693Z"
   },
   {
    "duration": 295,
    "start_time": "2023-10-15T17:45:54.704Z"
   },
   {
    "duration": 6,
    "start_time": "2023-10-15T17:45:55.000Z"
   },
   {
    "duration": 19,
    "start_time": "2023-10-15T17:45:55.007Z"
   },
   {
    "duration": 227,
    "start_time": "2023-10-15T17:45:55.028Z"
   },
   {
    "duration": 2,
    "start_time": "2023-10-15T17:45:55.257Z"
   },
   {
    "duration": 1238,
    "start_time": "2023-10-15T17:47:14.925Z"
   },
   {
    "duration": 40,
    "start_time": "2023-10-15T17:47:16.165Z"
   },
   {
    "duration": 36,
    "start_time": "2023-10-15T17:47:16.207Z"
   },
   {
    "duration": 22,
    "start_time": "2023-10-15T17:47:16.247Z"
   },
   {
    "duration": 26,
    "start_time": "2023-10-15T17:47:16.271Z"
   },
   {
    "duration": 46,
    "start_time": "2023-10-15T17:47:16.298Z"
   },
   {
    "duration": 10,
    "start_time": "2023-10-15T17:47:16.346Z"
   },
   {
    "duration": 16,
    "start_time": "2023-10-15T17:47:16.358Z"
   },
   {
    "duration": 11,
    "start_time": "2023-10-15T17:47:16.375Z"
   },
   {
    "duration": 191,
    "start_time": "2023-10-15T17:47:16.388Z"
   },
   {
    "duration": 115,
    "start_time": "2023-10-15T17:47:16.581Z"
   },
   {
    "duration": 272,
    "start_time": "2023-10-15T17:47:16.697Z"
   },
   {
    "duration": 19,
    "start_time": "2023-10-15T17:47:16.971Z"
   },
   {
    "duration": 251,
    "start_time": "2023-10-15T17:47:16.992Z"
   },
   {
    "duration": 5,
    "start_time": "2023-10-15T17:47:17.245Z"
   },
   {
    "duration": 38,
    "start_time": "2023-10-15T17:47:17.251Z"
   },
   {
    "duration": 234,
    "start_time": "2023-10-15T17:47:17.291Z"
   },
   {
    "duration": 5,
    "start_time": "2023-10-15T17:47:17.526Z"
   },
   {
    "duration": 51,
    "start_time": "2023-10-15T17:47:17.532Z"
   },
   {
    "duration": 10,
    "start_time": "2023-10-15T17:47:17.585Z"
   },
   {
    "duration": 318,
    "start_time": "2023-10-15T17:47:17.597Z"
   },
   {
    "duration": 380,
    "start_time": "2023-10-15T17:47:17.917Z"
   },
   {
    "duration": 288,
    "start_time": "2023-10-15T17:47:18.299Z"
   },
   {
    "duration": 276,
    "start_time": "2023-10-15T17:47:18.589Z"
   },
   {
    "duration": 53,
    "start_time": "2023-10-15T17:47:18.867Z"
   },
   {
    "duration": 32,
    "start_time": "2023-10-15T17:47:18.922Z"
   },
   {
    "duration": 45,
    "start_time": "2023-10-15T17:47:18.956Z"
   },
   {
    "duration": 294,
    "start_time": "2023-10-15T17:47:19.004Z"
   },
   {
    "duration": 6,
    "start_time": "2023-10-15T17:47:19.300Z"
   },
   {
    "duration": 14,
    "start_time": "2023-10-15T17:47:19.308Z"
   },
   {
    "duration": 265,
    "start_time": "2023-10-15T17:47:19.325Z"
   },
   {
    "duration": 4,
    "start_time": "2023-10-15T17:47:19.593Z"
   },
   {
    "duration": 12,
    "start_time": "2023-10-15T17:47:19.600Z"
   },
   {
    "duration": 102,
    "start_time": "2023-10-15T18:28:15.150Z"
   },
   {
    "duration": 1227,
    "start_time": "2023-10-15T18:30:20.824Z"
   },
   {
    "duration": 39,
    "start_time": "2023-10-15T18:30:22.053Z"
   },
   {
    "duration": 45,
    "start_time": "2023-10-15T18:30:22.094Z"
   },
   {
    "duration": 25,
    "start_time": "2023-10-15T18:30:22.141Z"
   },
   {
    "duration": 26,
    "start_time": "2023-10-15T18:30:22.168Z"
   },
   {
    "duration": 52,
    "start_time": "2023-10-15T18:30:22.195Z"
   },
   {
    "duration": 11,
    "start_time": "2023-10-15T18:30:22.249Z"
   },
   {
    "duration": 35,
    "start_time": "2023-10-15T18:30:22.262Z"
   },
   {
    "duration": 20,
    "start_time": "2023-10-15T18:30:22.299Z"
   },
   {
    "duration": 169,
    "start_time": "2023-10-15T18:30:22.320Z"
   },
   {
    "duration": 115,
    "start_time": "2023-10-15T18:30:22.491Z"
   },
   {
    "duration": 276,
    "start_time": "2023-10-15T18:30:22.608Z"
   },
   {
    "duration": 19,
    "start_time": "2023-10-15T18:30:22.886Z"
   },
   {
    "duration": 234,
    "start_time": "2023-10-15T18:30:22.909Z"
   },
   {
    "duration": 5,
    "start_time": "2023-10-15T18:30:23.145Z"
   },
   {
    "duration": 32,
    "start_time": "2023-10-15T18:30:23.152Z"
   },
   {
    "duration": 215,
    "start_time": "2023-10-15T18:30:23.185Z"
   },
   {
    "duration": 5,
    "start_time": "2023-10-15T18:30:23.401Z"
   },
   {
    "duration": 46,
    "start_time": "2023-10-15T18:30:23.407Z"
   },
   {
    "duration": 10,
    "start_time": "2023-10-15T18:30:23.455Z"
   },
   {
    "duration": 307,
    "start_time": "2023-10-15T18:30:23.467Z"
   },
   {
    "duration": 370,
    "start_time": "2023-10-15T18:30:23.776Z"
   },
   {
    "duration": 301,
    "start_time": "2023-10-15T18:30:24.148Z"
   },
   {
    "duration": 309,
    "start_time": "2023-10-15T18:30:24.451Z"
   },
   {
    "duration": 57,
    "start_time": "2023-10-15T18:30:24.763Z"
   },
   {
    "duration": 31,
    "start_time": "2023-10-15T18:30:24.822Z"
   },
   {
    "duration": 14,
    "start_time": "2023-10-15T18:30:24.855Z"
   },
   {
    "duration": 295,
    "start_time": "2023-10-15T18:30:24.870Z"
   },
   {
    "duration": 7,
    "start_time": "2023-10-15T18:30:25.167Z"
   },
   {
    "duration": 10,
    "start_time": "2023-10-15T18:30:25.175Z"
   },
   {
    "duration": 224,
    "start_time": "2023-10-15T18:30:25.187Z"
   },
   {
    "duration": 3,
    "start_time": "2023-10-15T18:30:25.413Z"
   },
   {
    "duration": 24,
    "start_time": "2023-10-15T18:30:25.417Z"
   },
   {
    "duration": 29,
    "start_time": "2023-10-15T18:41:20.656Z"
   },
   {
    "duration": 1212,
    "start_time": "2023-10-15T18:41:42.422Z"
   },
   {
    "duration": 40,
    "start_time": "2023-10-15T18:41:43.636Z"
   },
   {
    "duration": 36,
    "start_time": "2023-10-15T18:41:43.677Z"
   },
   {
    "duration": 24,
    "start_time": "2023-10-15T18:41:43.716Z"
   },
   {
    "duration": 51,
    "start_time": "2023-10-15T18:41:43.741Z"
   },
   {
    "duration": 41,
    "start_time": "2023-10-15T18:41:43.796Z"
   },
   {
    "duration": 35,
    "start_time": "2023-10-15T18:41:43.839Z"
   },
   {
    "duration": 24,
    "start_time": "2023-10-15T18:41:43.875Z"
   },
   {
    "duration": 34,
    "start_time": "2023-10-15T18:41:43.900Z"
   },
   {
    "duration": 169,
    "start_time": "2023-10-15T18:41:43.937Z"
   },
   {
    "duration": 109,
    "start_time": "2023-10-15T18:41:44.108Z"
   },
   {
    "duration": 341,
    "start_time": "2023-10-15T18:41:44.218Z"
   },
   {
    "duration": 25,
    "start_time": "2023-10-15T18:41:44.561Z"
   },
   {
    "duration": 249,
    "start_time": "2023-10-15T18:41:44.588Z"
   },
   {
    "duration": 6,
    "start_time": "2023-10-15T18:41:44.843Z"
   },
   {
    "duration": 34,
    "start_time": "2023-10-15T18:41:44.850Z"
   },
   {
    "duration": 208,
    "start_time": "2023-10-15T18:41:44.886Z"
   },
   {
    "duration": 6,
    "start_time": "2023-10-15T18:41:45.095Z"
   },
   {
    "duration": 78,
    "start_time": "2023-10-15T18:41:45.102Z"
   },
   {
    "duration": 10,
    "start_time": "2023-10-15T18:41:45.181Z"
   },
   {
    "duration": 284,
    "start_time": "2023-10-15T18:41:45.192Z"
   },
   {
    "duration": 349,
    "start_time": "2023-10-15T18:41:45.477Z"
   },
   {
    "duration": 269,
    "start_time": "2023-10-15T18:41:45.827Z"
   },
   {
    "duration": 266,
    "start_time": "2023-10-15T18:41:46.097Z"
   },
   {
    "duration": 61,
    "start_time": "2023-10-15T18:41:46.365Z"
   },
   {
    "duration": 30,
    "start_time": "2023-10-15T18:41:46.428Z"
   },
   {
    "duration": 12,
    "start_time": "2023-10-15T18:41:46.460Z"
   },
   {
    "duration": 249,
    "start_time": "2023-10-15T18:41:46.475Z"
   },
   {
    "duration": 6,
    "start_time": "2023-10-15T18:41:46.725Z"
   },
   {
    "duration": 16,
    "start_time": "2023-10-15T18:41:46.744Z"
   },
   {
    "duration": 214,
    "start_time": "2023-10-15T18:41:46.761Z"
   },
   {
    "duration": 3,
    "start_time": "2023-10-15T18:41:46.976Z"
   },
   {
    "duration": 28,
    "start_time": "2023-10-15T18:41:46.981Z"
   },
   {
    "duration": 102,
    "start_time": "2023-10-15T19:06:51.472Z"
   },
   {
    "duration": 6,
    "start_time": "2023-10-15T19:09:22.771Z"
   },
   {
    "duration": 7,
    "start_time": "2023-10-15T19:11:09.624Z"
   },
   {
    "duration": 6,
    "start_time": "2023-10-15T19:13:09.836Z"
   },
   {
    "duration": 7,
    "start_time": "2023-10-15T19:13:15.799Z"
   },
   {
    "duration": 7,
    "start_time": "2023-10-15T19:14:59.260Z"
   },
   {
    "duration": 6,
    "start_time": "2023-10-15T19:15:21.349Z"
   },
   {
    "duration": 1207,
    "start_time": "2023-10-15T19:15:55.978Z"
   },
   {
    "duration": 39,
    "start_time": "2023-10-15T19:15:57.187Z"
   },
   {
    "duration": 34,
    "start_time": "2023-10-15T19:15:57.228Z"
   },
   {
    "duration": 20,
    "start_time": "2023-10-15T19:15:57.264Z"
   },
   {
    "duration": 25,
    "start_time": "2023-10-15T19:15:57.286Z"
   },
   {
    "duration": 34,
    "start_time": "2023-10-15T19:15:57.313Z"
   },
   {
    "duration": 12,
    "start_time": "2023-10-15T19:15:57.348Z"
   },
   {
    "duration": 17,
    "start_time": "2023-10-15T19:15:57.361Z"
   },
   {
    "duration": 28,
    "start_time": "2023-10-15T19:15:57.380Z"
   },
   {
    "duration": 168,
    "start_time": "2023-10-15T19:15:57.410Z"
   },
   {
    "duration": 116,
    "start_time": "2023-10-15T19:15:57.580Z"
   },
   {
    "duration": 267,
    "start_time": "2023-10-15T19:15:57.697Z"
   },
   {
    "duration": 17,
    "start_time": "2023-10-15T19:15:57.966Z"
   },
   {
    "duration": 242,
    "start_time": "2023-10-15T19:15:57.985Z"
   },
   {
    "duration": 5,
    "start_time": "2023-10-15T19:15:58.229Z"
   },
   {
    "duration": 38,
    "start_time": "2023-10-15T19:15:58.236Z"
   },
   {
    "duration": 192,
    "start_time": "2023-10-15T19:15:58.275Z"
   },
   {
    "duration": 5,
    "start_time": "2023-10-15T19:15:58.469Z"
   },
   {
    "duration": 64,
    "start_time": "2023-10-15T19:15:58.476Z"
   },
   {
    "duration": 9,
    "start_time": "2023-10-15T19:15:58.541Z"
   },
   {
    "duration": 280,
    "start_time": "2023-10-15T19:15:58.552Z"
   },
   {
    "duration": 356,
    "start_time": "2023-10-15T19:15:58.844Z"
   },
   {
    "duration": 275,
    "start_time": "2023-10-15T19:15:59.202Z"
   },
   {
    "duration": 287,
    "start_time": "2023-10-15T19:15:59.479Z"
   },
   {
    "duration": 62,
    "start_time": "2023-10-15T19:15:59.767Z"
   },
   {
    "duration": 17,
    "start_time": "2023-10-15T19:15:59.843Z"
   },
   {
    "duration": 39,
    "start_time": "2023-10-15T19:15:59.862Z"
   },
   {
    "duration": 273,
    "start_time": "2023-10-15T19:15:59.904Z"
   },
   {
    "duration": 4,
    "start_time": "2023-10-15T19:16:00.179Z"
   },
   {
    "duration": 41,
    "start_time": "2023-10-15T19:16:00.185Z"
   },
   {
    "duration": 263,
    "start_time": "2023-10-15T19:16:00.228Z"
   },
   {
    "duration": 6,
    "start_time": "2023-10-15T19:16:00.493Z"
   },
   {
    "duration": 35,
    "start_time": "2023-10-15T19:16:00.501Z"
   },
   {
    "duration": 5,
    "start_time": "2023-10-15T19:28:51.753Z"
   },
   {
    "duration": 6,
    "start_time": "2023-10-15T19:29:42.680Z"
   },
   {
    "duration": 6,
    "start_time": "2023-10-15T19:29:53.494Z"
   },
   {
    "duration": 6,
    "start_time": "2023-10-15T19:34:02.084Z"
   },
   {
    "duration": 1220,
    "start_time": "2023-10-15T19:35:40.978Z"
   },
   {
    "duration": 39,
    "start_time": "2023-10-15T19:35:42.200Z"
   },
   {
    "duration": 36,
    "start_time": "2023-10-15T19:35:42.240Z"
   },
   {
    "duration": 20,
    "start_time": "2023-10-15T19:35:42.278Z"
   },
   {
    "duration": 50,
    "start_time": "2023-10-15T19:35:42.299Z"
   },
   {
    "duration": 34,
    "start_time": "2023-10-15T19:35:42.351Z"
   },
   {
    "duration": 12,
    "start_time": "2023-10-15T19:35:42.387Z"
   },
   {
    "duration": 11,
    "start_time": "2023-10-15T19:35:42.400Z"
   },
   {
    "duration": 39,
    "start_time": "2023-10-15T19:35:42.413Z"
   },
   {
    "duration": 161,
    "start_time": "2023-10-15T19:35:42.454Z"
   },
   {
    "duration": 103,
    "start_time": "2023-10-15T19:35:42.616Z"
   },
   {
    "duration": 273,
    "start_time": "2023-10-15T19:35:42.720Z"
   },
   {
    "duration": 18,
    "start_time": "2023-10-15T19:35:42.994Z"
   },
   {
    "duration": 226,
    "start_time": "2023-10-15T19:35:43.013Z"
   },
   {
    "duration": 5,
    "start_time": "2023-10-15T19:35:43.241Z"
   },
   {
    "duration": 25,
    "start_time": "2023-10-15T19:35:43.247Z"
   },
   {
    "duration": 192,
    "start_time": "2023-10-15T19:35:43.274Z"
   },
   {
    "duration": 5,
    "start_time": "2023-10-15T19:35:43.467Z"
   },
   {
    "duration": 50,
    "start_time": "2023-10-15T19:35:43.473Z"
   },
   {
    "duration": 9,
    "start_time": "2023-10-15T19:35:43.524Z"
   },
   {
    "duration": 298,
    "start_time": "2023-10-15T19:35:43.535Z"
   },
   {
    "duration": 353,
    "start_time": "2023-10-15T19:35:43.835Z"
   },
   {
    "duration": 306,
    "start_time": "2023-10-15T19:35:44.190Z"
   },
   {
    "duration": 333,
    "start_time": "2023-10-15T19:35:44.499Z"
   },
   {
    "duration": 65,
    "start_time": "2023-10-15T19:35:44.834Z"
   },
   {
    "duration": 17,
    "start_time": "2023-10-15T19:35:44.901Z"
   },
   {
    "duration": 27,
    "start_time": "2023-10-15T19:35:44.920Z"
   },
   {
    "duration": 280,
    "start_time": "2023-10-15T19:35:44.950Z"
   },
   {
    "duration": 11,
    "start_time": "2023-10-15T19:35:45.232Z"
   },
   {
    "duration": 40,
    "start_time": "2023-10-15T19:35:45.245Z"
   },
   {
    "duration": 254,
    "start_time": "2023-10-15T19:35:45.286Z"
   },
   {
    "duration": 6,
    "start_time": "2023-10-15T19:35:45.543Z"
   },
   {
    "duration": 8,
    "start_time": "2023-10-15T19:35:45.551Z"
   },
   {
    "duration": 100,
    "start_time": "2023-10-15T20:02:26.210Z"
   },
   {
    "duration": 91,
    "start_time": "2023-10-15T20:02:30.769Z"
   },
   {
    "duration": 98,
    "start_time": "2023-10-15T20:02:37.063Z"
   },
   {
    "duration": 114,
    "start_time": "2023-10-15T20:02:45.898Z"
   },
   {
    "duration": 129,
    "start_time": "2023-10-15T20:02:59.957Z"
   },
   {
    "duration": 144,
    "start_time": "2023-10-15T20:03:14.283Z"
   },
   {
    "duration": 216,
    "start_time": "2023-10-15T20:03:47.859Z"
   },
   {
    "duration": 141,
    "start_time": "2023-10-15T20:04:44.671Z"
   },
   {
    "duration": 131,
    "start_time": "2023-10-15T20:04:57.093Z"
   },
   {
    "duration": 149,
    "start_time": "2023-10-15T20:05:57.400Z"
   },
   {
    "duration": 29,
    "start_time": "2023-10-15T20:11:31.897Z"
   },
   {
    "duration": 36,
    "start_time": "2023-10-15T20:12:17.135Z"
   },
   {
    "duration": 44,
    "start_time": "2023-10-15T20:12:33.874Z"
   },
   {
    "duration": 250,
    "start_time": "2023-10-15T20:20:42.090Z"
   },
   {
    "duration": 12,
    "start_time": "2023-10-15T20:22:10.991Z"
   },
   {
    "duration": 252,
    "start_time": "2023-10-15T20:22:17.103Z"
   },
   {
    "duration": 272,
    "start_time": "2023-10-15T20:22:23.294Z"
   },
   {
    "duration": 350,
    "start_time": "2023-10-15T20:22:57.922Z"
   },
   {
    "duration": 251,
    "start_time": "2023-10-15T20:23:11.252Z"
   },
   {
    "duration": 259,
    "start_time": "2023-10-15T20:24:07.782Z"
   },
   {
    "duration": 268,
    "start_time": "2023-10-15T20:24:28.896Z"
   },
   {
    "duration": 232,
    "start_time": "2023-10-15T20:26:00.080Z"
   },
   {
    "duration": 258,
    "start_time": "2023-10-15T20:26:07.156Z"
   },
   {
    "duration": 367,
    "start_time": "2023-10-15T20:26:12.034Z"
   },
   {
    "duration": 244,
    "start_time": "2023-10-15T20:26:17.590Z"
   },
   {
    "duration": 266,
    "start_time": "2023-10-15T20:26:58.195Z"
   },
   {
    "duration": 139,
    "start_time": "2023-10-15T20:32:53.089Z"
   },
   {
    "duration": 1710,
    "start_time": "2023-10-15T20:37:27.012Z"
   },
   {
    "duration": 16,
    "start_time": "2023-10-15T20:38:14.013Z"
   },
   {
    "duration": 13,
    "start_time": "2023-10-15T20:39:34.635Z"
   },
   {
    "duration": 6,
    "start_time": "2023-10-15T20:39:50.878Z"
   },
   {
    "duration": 8,
    "start_time": "2023-10-15T20:40:16.305Z"
   },
   {
    "duration": 5,
    "start_time": "2023-10-15T20:48:12.466Z"
   },
   {
    "duration": 5,
    "start_time": "2023-10-15T20:49:17.194Z"
   },
   {
    "duration": 7,
    "start_time": "2023-10-15T20:51:22.035Z"
   },
   {
    "duration": 7,
    "start_time": "2023-10-15T20:51:31.319Z"
   },
   {
    "duration": 8,
    "start_time": "2023-10-15T20:51:35.208Z"
   },
   {
    "duration": 6,
    "start_time": "2023-10-15T20:51:39.691Z"
   },
   {
    "duration": 6,
    "start_time": "2023-10-15T20:51:44.270Z"
   },
   {
    "duration": 7,
    "start_time": "2023-10-15T20:51:49.563Z"
   },
   {
    "duration": 270,
    "start_time": "2023-10-15T20:52:58.249Z"
   },
   {
    "duration": 228,
    "start_time": "2023-10-15T20:53:21.661Z"
   },
   {
    "duration": 414,
    "start_time": "2023-10-15T20:53:30.025Z"
   },
   {
    "duration": 1202,
    "start_time": "2023-10-15T20:53:38.269Z"
   },
   {
    "duration": 40,
    "start_time": "2023-10-15T20:53:39.473Z"
   },
   {
    "duration": 35,
    "start_time": "2023-10-15T20:53:39.515Z"
   },
   {
    "duration": 21,
    "start_time": "2023-10-15T20:53:39.552Z"
   },
   {
    "duration": 29,
    "start_time": "2023-10-15T20:53:39.574Z"
   },
   {
    "duration": 50,
    "start_time": "2023-10-15T20:53:39.605Z"
   },
   {
    "duration": 26,
    "start_time": "2023-10-15T20:53:39.656Z"
   },
   {
    "duration": 12,
    "start_time": "2023-10-15T20:53:39.683Z"
   },
   {
    "duration": 50,
    "start_time": "2023-10-15T20:53:39.696Z"
   },
   {
    "duration": 252,
    "start_time": "2023-10-15T20:53:39.749Z"
   },
   {
    "duration": 113,
    "start_time": "2023-10-15T20:53:40.003Z"
   },
   {
    "duration": 279,
    "start_time": "2023-10-15T20:53:40.117Z"
   },
   {
    "duration": 18,
    "start_time": "2023-10-15T20:53:40.398Z"
   },
   {
    "duration": 241,
    "start_time": "2023-10-15T20:53:40.418Z"
   },
   {
    "duration": 6,
    "start_time": "2023-10-15T20:53:40.662Z"
   },
   {
    "duration": 60,
    "start_time": "2023-10-15T20:53:40.670Z"
   },
   {
    "duration": 190,
    "start_time": "2023-10-15T20:53:40.732Z"
   },
   {
    "duration": 5,
    "start_time": "2023-10-15T20:53:40.924Z"
   },
   {
    "duration": 62,
    "start_time": "2023-10-15T20:53:40.944Z"
   },
   {
    "duration": 14,
    "start_time": "2023-10-15T20:53:41.008Z"
   },
   {
    "duration": 321,
    "start_time": "2023-10-15T20:53:41.024Z"
   },
   {
    "duration": 363,
    "start_time": "2023-10-15T20:53:41.347Z"
   },
   {
    "duration": 270,
    "start_time": "2023-10-15T20:53:41.712Z"
   },
   {
    "duration": 296,
    "start_time": "2023-10-15T20:53:41.984Z"
   },
   {
    "duration": 71,
    "start_time": "2023-10-15T20:53:42.282Z"
   },
   {
    "duration": 17,
    "start_time": "2023-10-15T20:53:42.355Z"
   },
   {
    "duration": 22,
    "start_time": "2023-10-15T20:53:42.374Z"
   },
   {
    "duration": 272,
    "start_time": "2023-10-15T20:53:42.400Z"
   },
   {
    "duration": 6,
    "start_time": "2023-10-15T20:53:42.675Z"
   },
   {
    "duration": 26,
    "start_time": "2023-10-15T20:53:42.683Z"
   },
   {
    "duration": 234,
    "start_time": "2023-10-15T20:53:42.711Z"
   },
   {
    "duration": 324,
    "start_time": "2023-10-15T20:53:42.949Z"
   },
   {
    "duration": 0,
    "start_time": "2023-10-15T20:53:43.275Z"
   },
   {
    "duration": 256,
    "start_time": "2023-10-15T20:53:57.430Z"
   },
   {
    "duration": 309,
    "start_time": "2023-10-15T20:54:12.038Z"
   },
   {
    "duration": 256,
    "start_time": "2023-10-15T20:54:18.239Z"
   },
   {
    "duration": 229,
    "start_time": "2023-10-15T20:54:22.172Z"
   },
   {
    "duration": 209,
    "start_time": "2023-10-15T20:54:25.719Z"
   },
   {
    "duration": 209,
    "start_time": "2023-10-15T20:54:29.262Z"
   },
   {
    "duration": 318,
    "start_time": "2023-10-15T20:55:03.838Z"
   },
   {
    "duration": 206,
    "start_time": "2023-10-15T20:55:06.518Z"
   },
   {
    "duration": 257,
    "start_time": "2023-10-15T20:55:09.392Z"
   },
   {
    "duration": 241,
    "start_time": "2023-10-15T20:55:13.064Z"
   },
   {
    "duration": 311,
    "start_time": "2023-10-15T20:55:23.528Z"
   },
   {
    "duration": 1808,
    "start_time": "2023-10-15T20:56:23.231Z"
   },
   {
    "duration": 133,
    "start_time": "2023-10-15T20:59:42.574Z"
   },
   {
    "duration": 79,
    "start_time": "2023-10-15T20:59:58.734Z"
   },
   {
    "duration": 7361,
    "start_time": "2023-10-15T21:00:10.180Z"
   },
   {
    "duration": 81,
    "start_time": "2023-10-15T21:02:05.441Z"
   },
   {
    "duration": 1713,
    "start_time": "2023-10-15T21:02:31.979Z"
   },
   {
    "duration": 171,
    "start_time": "2023-10-15T21:05:24.424Z"
   },
   {
    "duration": 1156,
    "start_time": "2023-10-15T21:09:46.598Z"
   },
   {
    "duration": 40,
    "start_time": "2023-10-15T21:09:47.756Z"
   },
   {
    "duration": 39,
    "start_time": "2023-10-15T21:09:47.798Z"
   },
   {
    "duration": 21,
    "start_time": "2023-10-15T21:09:47.840Z"
   },
   {
    "duration": 25,
    "start_time": "2023-10-15T21:09:47.863Z"
   },
   {
    "duration": 28,
    "start_time": "2023-10-15T21:09:47.890Z"
   },
   {
    "duration": 29,
    "start_time": "2023-10-15T21:09:47.920Z"
   },
   {
    "duration": 8,
    "start_time": "2023-10-15T21:09:47.951Z"
   },
   {
    "duration": 23,
    "start_time": "2023-10-15T21:09:47.961Z"
   },
   {
    "duration": 201,
    "start_time": "2023-10-15T21:09:47.988Z"
   },
   {
    "duration": 107,
    "start_time": "2023-10-15T21:09:48.191Z"
   },
   {
    "duration": 326,
    "start_time": "2023-10-15T21:09:48.300Z"
   },
   {
    "duration": 31,
    "start_time": "2023-10-15T21:09:48.628Z"
   },
   {
    "duration": 294,
    "start_time": "2023-10-15T21:09:48.661Z"
   },
   {
    "duration": 5,
    "start_time": "2023-10-15T21:09:48.957Z"
   },
   {
    "duration": 19,
    "start_time": "2023-10-15T21:09:48.964Z"
   },
   {
    "duration": 217,
    "start_time": "2023-10-15T21:09:48.984Z"
   },
   {
    "duration": 5,
    "start_time": "2023-10-15T21:09:49.203Z"
   },
   {
    "duration": 62,
    "start_time": "2023-10-15T21:09:49.209Z"
   },
   {
    "duration": 9,
    "start_time": "2023-10-15T21:09:49.273Z"
   },
   {
    "duration": 299,
    "start_time": "2023-10-15T21:09:49.284Z"
   },
   {
    "duration": 366,
    "start_time": "2023-10-15T21:09:49.584Z"
   },
   {
    "duration": 277,
    "start_time": "2023-10-15T21:09:49.952Z"
   },
   {
    "duration": 283,
    "start_time": "2023-10-15T21:09:50.230Z"
   },
   {
    "duration": 72,
    "start_time": "2023-10-15T21:09:50.515Z"
   },
   {
    "duration": 17,
    "start_time": "2023-10-15T21:09:50.589Z"
   },
   {
    "duration": 8,
    "start_time": "2023-10-15T21:09:50.608Z"
   },
   {
    "duration": 277,
    "start_time": "2023-10-15T21:09:50.619Z"
   },
   {
    "duration": 6,
    "start_time": "2023-10-15T21:09:50.898Z"
   },
   {
    "duration": 22,
    "start_time": "2023-10-15T21:09:50.906Z"
   },
   {
    "duration": 238,
    "start_time": "2023-10-15T21:09:50.930Z"
   },
   {
    "duration": 2,
    "start_time": "2023-10-15T21:09:51.170Z"
   },
   {
    "duration": 142,
    "start_time": "2023-10-15T21:09:51.174Z"
   },
   {
    "duration": 1392,
    "start_time": "2023-10-16T06:29:37.186Z"
   },
   {
    "duration": 109,
    "start_time": "2023-10-16T06:29:38.580Z"
   },
   {
    "duration": 160,
    "start_time": "2023-10-16T06:29:38.690Z"
   },
   {
    "duration": 62,
    "start_time": "2023-10-16T06:29:38.852Z"
   },
   {
    "duration": 48,
    "start_time": "2023-10-16T06:29:38.916Z"
   },
   {
    "duration": 85,
    "start_time": "2023-10-16T06:29:38.966Z"
   },
   {
    "duration": 11,
    "start_time": "2023-10-16T06:29:39.053Z"
   },
   {
    "duration": 25,
    "start_time": "2023-10-16T06:29:39.065Z"
   },
   {
    "duration": 69,
    "start_time": "2023-10-16T06:29:39.091Z"
   },
   {
    "duration": 326,
    "start_time": "2023-10-16T06:29:39.162Z"
   },
   {
    "duration": 116,
    "start_time": "2023-10-16T06:29:39.490Z"
   },
   {
    "duration": 750,
    "start_time": "2023-10-16T06:29:39.607Z"
   },
   {
    "duration": 24,
    "start_time": "2023-10-16T06:29:40.359Z"
   },
   {
    "duration": 461,
    "start_time": "2023-10-16T06:29:40.384Z"
   },
   {
    "duration": 4,
    "start_time": "2023-10-16T06:29:40.847Z"
   },
   {
    "duration": 39,
    "start_time": "2023-10-16T06:29:40.853Z"
   },
   {
    "duration": 418,
    "start_time": "2023-10-16T06:29:40.945Z"
   },
   {
    "duration": 5,
    "start_time": "2023-10-16T06:29:41.364Z"
   },
   {
    "duration": 110,
    "start_time": "2023-10-16T06:29:41.371Z"
   },
   {
    "duration": 66,
    "start_time": "2023-10-16T06:29:41.482Z"
   },
   {
    "duration": 694,
    "start_time": "2023-10-16T06:29:41.550Z"
   },
   {
    "duration": 563,
    "start_time": "2023-10-16T06:29:42.246Z"
   },
   {
    "duration": 543,
    "start_time": "2023-10-16T06:29:42.811Z"
   },
   {
    "duration": 550,
    "start_time": "2023-10-16T06:29:43.356Z"
   },
   {
    "duration": 115,
    "start_time": "2023-10-16T06:29:43.945Z"
   },
   {
    "duration": 26,
    "start_time": "2023-10-16T06:29:44.061Z"
   },
   {
    "duration": 8,
    "start_time": "2023-10-16T06:29:44.092Z"
   },
   {
    "duration": 642,
    "start_time": "2023-10-16T06:29:44.147Z"
   },
   {
    "duration": 5,
    "start_time": "2023-10-16T06:29:44.845Z"
   },
   {
    "duration": 43,
    "start_time": "2023-10-16T06:29:44.852Z"
   },
   {
    "duration": 467,
    "start_time": "2023-10-16T06:29:44.898Z"
   },
   {
    "duration": 2,
    "start_time": "2023-10-16T06:29:45.367Z"
   },
   {
    "duration": 283,
    "start_time": "2023-10-16T06:29:45.371Z"
   },
   {
    "duration": 20,
    "start_time": "2023-10-16T06:43:31.806Z"
   },
   {
    "duration": 19,
    "start_time": "2023-10-16T06:43:35.819Z"
   },
   {
    "duration": 15,
    "start_time": "2023-10-16T06:44:59.700Z"
   },
   {
    "duration": 106,
    "start_time": "2023-10-16T06:45:25.445Z"
   },
   {
    "duration": 52,
    "start_time": "2023-10-16T08:12:13.761Z"
   },
   {
    "duration": 1414,
    "start_time": "2023-10-16T08:12:23.572Z"
   },
   {
    "duration": 85,
    "start_time": "2023-10-16T08:12:24.988Z"
   },
   {
    "duration": 74,
    "start_time": "2023-10-16T08:12:25.074Z"
   },
   {
    "duration": 60,
    "start_time": "2023-10-16T08:12:25.150Z"
   },
   {
    "duration": 33,
    "start_time": "2023-10-16T08:12:25.212Z"
   },
   {
    "duration": 36,
    "start_time": "2023-10-16T08:12:25.247Z"
   },
   {
    "duration": 13,
    "start_time": "2023-10-16T08:12:25.286Z"
   },
   {
    "duration": 20,
    "start_time": "2023-10-16T08:12:25.301Z"
   },
   {
    "duration": 48,
    "start_time": "2023-10-16T08:12:25.324Z"
   },
   {
    "duration": 190,
    "start_time": "2023-10-16T08:12:25.376Z"
   },
   {
    "duration": 129,
    "start_time": "2023-10-16T08:12:25.568Z"
   },
   {
    "duration": 314,
    "start_time": "2023-10-16T08:12:25.699Z"
   },
   {
    "duration": 19,
    "start_time": "2023-10-16T08:12:26.015Z"
   },
   {
    "duration": 230,
    "start_time": "2023-10-16T08:12:26.047Z"
   },
   {
    "duration": 5,
    "start_time": "2023-10-16T08:12:26.279Z"
   },
   {
    "duration": 41,
    "start_time": "2023-10-16T08:12:26.285Z"
   },
   {
    "duration": 214,
    "start_time": "2023-10-16T08:12:26.328Z"
   },
   {
    "duration": 5,
    "start_time": "2023-10-16T08:12:26.546Z"
   },
   {
    "duration": 54,
    "start_time": "2023-10-16T08:12:26.553Z"
   },
   {
    "duration": 10,
    "start_time": "2023-10-16T08:12:26.608Z"
   },
   {
    "duration": 312,
    "start_time": "2023-10-16T08:12:26.619Z"
   },
   {
    "duration": 376,
    "start_time": "2023-10-16T08:12:26.933Z"
   },
   {
    "duration": 288,
    "start_time": "2023-10-16T08:12:27.310Z"
   },
   {
    "duration": 296,
    "start_time": "2023-10-16T08:12:27.600Z"
   },
   {
    "duration": 73,
    "start_time": "2023-10-16T08:12:27.898Z"
   },
   {
    "duration": 17,
    "start_time": "2023-10-16T08:12:27.973Z"
   },
   {
    "duration": 20,
    "start_time": "2023-10-16T08:12:27.992Z"
   },
   {
    "duration": 14,
    "start_time": "2023-10-16T08:12:28.015Z"
   },
   {
    "duration": 308,
    "start_time": "2023-10-16T08:12:28.031Z"
   },
   {
    "duration": 5,
    "start_time": "2023-10-16T08:12:28.346Z"
   },
   {
    "duration": 22,
    "start_time": "2023-10-16T08:12:28.353Z"
   },
   {
    "duration": 284,
    "start_time": "2023-10-16T08:12:28.377Z"
   },
   {
    "duration": 3,
    "start_time": "2023-10-16T08:12:28.662Z"
   },
   {
    "duration": 157,
    "start_time": "2023-10-16T08:12:28.666Z"
   },
   {
    "duration": 2373,
    "start_time": "2023-10-16T08:18:34.600Z"
   },
   {
    "duration": 68,
    "start_time": "2023-10-16T08:18:47.939Z"
   },
   {
    "duration": 1172,
    "start_time": "2023-10-16T08:19:48.303Z"
   },
   {
    "duration": 37,
    "start_time": "2023-10-16T08:19:49.478Z"
   },
   {
    "duration": 34,
    "start_time": "2023-10-16T08:19:49.517Z"
   },
   {
    "duration": 19,
    "start_time": "2023-10-16T08:19:49.553Z"
   },
   {
    "duration": 25,
    "start_time": "2023-10-16T08:19:49.574Z"
   },
   {
    "duration": 30,
    "start_time": "2023-10-16T08:19:49.600Z"
   },
   {
    "duration": 11,
    "start_time": "2023-10-16T08:19:49.647Z"
   },
   {
    "duration": 8,
    "start_time": "2023-10-16T08:19:49.660Z"
   },
   {
    "duration": 26,
    "start_time": "2023-10-16T08:19:49.669Z"
   },
   {
    "duration": 201,
    "start_time": "2023-10-16T08:19:49.697Z"
   },
   {
    "duration": 123,
    "start_time": "2023-10-16T08:19:49.900Z"
   },
   {
    "duration": 302,
    "start_time": "2023-10-16T08:19:50.025Z"
   },
   {
    "duration": 26,
    "start_time": "2023-10-16T08:19:50.329Z"
   },
   {
    "duration": 250,
    "start_time": "2023-10-16T08:19:50.359Z"
   },
   {
    "duration": 6,
    "start_time": "2023-10-16T08:19:50.611Z"
   },
   {
    "duration": 36,
    "start_time": "2023-10-16T08:19:50.618Z"
   },
   {
    "duration": 226,
    "start_time": "2023-10-16T08:19:50.656Z"
   },
   {
    "duration": 6,
    "start_time": "2023-10-16T08:19:50.883Z"
   },
   {
    "duration": 64,
    "start_time": "2023-10-16T08:19:50.890Z"
   },
   {
    "duration": 11,
    "start_time": "2023-10-16T08:19:50.957Z"
   },
   {
    "duration": 310,
    "start_time": "2023-10-16T08:19:50.969Z"
   },
   {
    "duration": 391,
    "start_time": "2023-10-16T08:19:51.281Z"
   },
   {
    "duration": 293,
    "start_time": "2023-10-16T08:19:51.673Z"
   },
   {
    "duration": 311,
    "start_time": "2023-10-16T08:19:51.968Z"
   },
   {
    "duration": 80,
    "start_time": "2023-10-16T08:19:52.281Z"
   },
   {
    "duration": 19,
    "start_time": "2023-10-16T08:19:52.363Z"
   },
   {
    "duration": 41,
    "start_time": "2023-10-16T08:19:52.384Z"
   },
   {
    "duration": 24,
    "start_time": "2023-10-16T08:19:52.427Z"
   },
   {
    "duration": 309,
    "start_time": "2023-10-16T08:19:52.453Z"
   },
   {
    "duration": 6,
    "start_time": "2023-10-16T08:19:52.764Z"
   },
   {
    "duration": 30,
    "start_time": "2023-10-16T08:19:52.772Z"
   },
   {
    "duration": 256,
    "start_time": "2023-10-16T08:19:52.804Z"
   },
   {
    "duration": 2,
    "start_time": "2023-10-16T08:19:53.062Z"
   },
   {
    "duration": 160,
    "start_time": "2023-10-16T08:19:53.066Z"
   },
   {
    "duration": 90,
    "start_time": "2023-10-16T08:34:12.281Z"
   },
   {
    "duration": 132,
    "start_time": "2023-10-16T08:34:15.379Z"
   },
   {
    "duration": 102,
    "start_time": "2023-10-16T08:34:26.880Z"
   },
   {
    "duration": 15,
    "start_time": "2023-10-16T08:42:46.296Z"
   },
   {
    "duration": 124,
    "start_time": "2023-10-16T08:43:01.079Z"
   },
   {
    "duration": 16,
    "start_time": "2023-10-16T08:43:09.714Z"
   },
   {
    "duration": 18,
    "start_time": "2023-10-16T08:50:33.571Z"
   },
   {
    "duration": 18,
    "start_time": "2023-10-16T08:50:57.829Z"
   },
   {
    "duration": 1533,
    "start_time": "2023-10-16T08:55:31.671Z"
   },
   {
    "duration": 1306,
    "start_time": "2023-10-16T08:55:43.799Z"
   },
   {
    "duration": 39,
    "start_time": "2023-10-16T08:55:45.108Z"
   },
   {
    "duration": 34,
    "start_time": "2023-10-16T08:55:45.149Z"
   },
   {
    "duration": 20,
    "start_time": "2023-10-16T08:55:45.185Z"
   },
   {
    "duration": 31,
    "start_time": "2023-10-16T08:55:45.207Z"
   },
   {
    "duration": 40,
    "start_time": "2023-10-16T08:55:45.240Z"
   },
   {
    "duration": 45,
    "start_time": "2023-10-16T08:55:45.282Z"
   },
   {
    "duration": 41,
    "start_time": "2023-10-16T08:55:45.330Z"
   },
   {
    "duration": 42,
    "start_time": "2023-10-16T08:55:45.373Z"
   },
   {
    "duration": 874,
    "start_time": "2023-10-16T08:55:45.418Z"
   },
   {
    "duration": 0,
    "start_time": "2023-10-16T08:55:46.294Z"
   },
   {
    "duration": 0,
    "start_time": "2023-10-16T08:55:46.295Z"
   },
   {
    "duration": 0,
    "start_time": "2023-10-16T08:55:46.297Z"
   },
   {
    "duration": 1,
    "start_time": "2023-10-16T08:55:46.297Z"
   },
   {
    "duration": 0,
    "start_time": "2023-10-16T08:55:46.298Z"
   },
   {
    "duration": 0,
    "start_time": "2023-10-16T08:55:46.299Z"
   },
   {
    "duration": 0,
    "start_time": "2023-10-16T08:55:46.301Z"
   },
   {
    "duration": 0,
    "start_time": "2023-10-16T08:55:46.302Z"
   },
   {
    "duration": 0,
    "start_time": "2023-10-16T08:55:46.303Z"
   },
   {
    "duration": 0,
    "start_time": "2023-10-16T08:55:46.304Z"
   },
   {
    "duration": 0,
    "start_time": "2023-10-16T08:55:46.305Z"
   },
   {
    "duration": 0,
    "start_time": "2023-10-16T08:55:46.306Z"
   },
   {
    "duration": 0,
    "start_time": "2023-10-16T08:55:46.307Z"
   },
   {
    "duration": 0,
    "start_time": "2023-10-16T08:55:46.308Z"
   },
   {
    "duration": 0,
    "start_time": "2023-10-16T08:55:46.309Z"
   },
   {
    "duration": 0,
    "start_time": "2023-10-16T08:55:46.311Z"
   },
   {
    "duration": 0,
    "start_time": "2023-10-16T08:55:46.312Z"
   },
   {
    "duration": 0,
    "start_time": "2023-10-16T08:55:46.313Z"
   },
   {
    "duration": 0,
    "start_time": "2023-10-16T08:55:46.314Z"
   },
   {
    "duration": 0,
    "start_time": "2023-10-16T08:55:46.316Z"
   },
   {
    "duration": 0,
    "start_time": "2023-10-16T08:55:46.317Z"
   },
   {
    "duration": 0,
    "start_time": "2023-10-16T08:55:46.318Z"
   },
   {
    "duration": 0,
    "start_time": "2023-10-16T08:55:46.319Z"
   },
   {
    "duration": 0,
    "start_time": "2023-10-16T08:55:46.321Z"
   },
   {
    "duration": 19,
    "start_time": "2023-10-16T08:56:11.698Z"
   },
   {
    "duration": 17,
    "start_time": "2023-10-16T08:56:21.058Z"
   },
   {
    "duration": 26,
    "start_time": "2023-10-16T08:57:25.356Z"
   },
   {
    "duration": 21,
    "start_time": "2023-10-16T08:57:34.826Z"
   },
   {
    "duration": 23,
    "start_time": "2023-10-16T08:58:33.816Z"
   },
   {
    "duration": 23,
    "start_time": "2023-10-16T08:58:46.855Z"
   },
   {
    "duration": 23,
    "start_time": "2023-10-16T08:59:01.507Z"
   },
   {
    "duration": 17,
    "start_time": "2023-10-16T08:59:06.567Z"
   },
   {
    "duration": 22,
    "start_time": "2023-10-16T08:59:29.463Z"
   },
   {
    "duration": 16,
    "start_time": "2023-10-16T08:59:36.713Z"
   },
   {
    "duration": 22,
    "start_time": "2023-10-16T08:59:56.791Z"
   },
   {
    "duration": 143,
    "start_time": "2023-10-16T09:00:20.065Z"
   },
   {
    "duration": 18,
    "start_time": "2023-10-16T09:00:30.567Z"
   },
   {
    "duration": 16,
    "start_time": "2023-10-16T09:02:02.101Z"
   },
   {
    "duration": 18,
    "start_time": "2023-10-16T09:02:08.623Z"
   },
   {
    "duration": 12,
    "start_time": "2023-10-16T09:02:24.350Z"
   },
   {
    "duration": 14,
    "start_time": "2023-10-16T09:03:05.005Z"
   },
   {
    "duration": 16,
    "start_time": "2023-10-16T09:03:08.837Z"
   },
   {
    "duration": 133,
    "start_time": "2023-10-16T09:03:29.962Z"
   },
   {
    "duration": 170,
    "start_time": "2023-10-16T09:03:48.007Z"
   },
   {
    "duration": 174,
    "start_time": "2023-10-16T09:07:10.718Z"
   },
   {
    "duration": 174,
    "start_time": "2023-10-16T09:07:56.636Z"
   },
   {
    "duration": 198,
    "start_time": "2023-10-16T09:15:37.331Z"
   },
   {
    "duration": 5,
    "start_time": "2023-10-16T09:15:59.426Z"
   },
   {
    "duration": 184,
    "start_time": "2023-10-16T09:16:02.469Z"
   },
   {
    "duration": 191,
    "start_time": "2023-10-16T09:16:18.217Z"
   },
   {
    "duration": 265,
    "start_time": "2023-10-16T09:16:46.679Z"
   },
   {
    "duration": 313,
    "start_time": "2023-10-16T09:18:17.460Z"
   },
   {
    "duration": 164,
    "start_time": "2023-10-16T09:18:49.596Z"
   },
   {
    "duration": 162,
    "start_time": "2023-10-16T09:18:57.178Z"
   },
   {
    "duration": 7,
    "start_time": "2023-10-16T09:19:04.465Z"
   },
   {
    "duration": 1267,
    "start_time": "2023-10-16T09:19:51.229Z"
   },
   {
    "duration": 38,
    "start_time": "2023-10-16T09:19:52.498Z"
   },
   {
    "duration": 36,
    "start_time": "2023-10-16T09:19:52.537Z"
   },
   {
    "duration": 20,
    "start_time": "2023-10-16T09:19:52.575Z"
   },
   {
    "duration": 33,
    "start_time": "2023-10-16T09:19:52.597Z"
   },
   {
    "duration": 32,
    "start_time": "2023-10-16T09:19:52.632Z"
   },
   {
    "duration": 11,
    "start_time": "2023-10-16T09:19:52.666Z"
   },
   {
    "duration": 34,
    "start_time": "2023-10-16T09:19:52.678Z"
   },
   {
    "duration": 47,
    "start_time": "2023-10-16T09:19:52.713Z"
   },
   {
    "duration": 201,
    "start_time": "2023-10-16T09:19:52.763Z"
   },
   {
    "duration": 7,
    "start_time": "2023-10-16T09:19:52.966Z"
   },
   {
    "duration": 149,
    "start_time": "2023-10-16T09:19:52.975Z"
   },
   {
    "duration": 299,
    "start_time": "2023-10-16T09:19:53.126Z"
   },
   {
    "duration": 24,
    "start_time": "2023-10-16T09:19:53.427Z"
   },
   {
    "duration": 244,
    "start_time": "2023-10-16T09:19:53.453Z"
   },
   {
    "duration": 6,
    "start_time": "2023-10-16T09:19:53.699Z"
   },
   {
    "duration": 33,
    "start_time": "2023-10-16T09:19:53.707Z"
   },
   {
    "duration": 239,
    "start_time": "2023-10-16T09:19:53.741Z"
   },
   {
    "duration": 5,
    "start_time": "2023-10-16T09:19:53.982Z"
   },
   {
    "duration": 94,
    "start_time": "2023-10-16T09:19:53.989Z"
   },
   {
    "duration": 19,
    "start_time": "2023-10-16T09:19:54.085Z"
   },
   {
    "duration": 320,
    "start_time": "2023-10-16T09:19:54.106Z"
   },
   {
    "duration": 374,
    "start_time": "2023-10-16T09:19:54.428Z"
   },
   {
    "duration": 292,
    "start_time": "2023-10-16T09:19:54.803Z"
   },
   {
    "duration": 346,
    "start_time": "2023-10-16T09:19:55.097Z"
   },
   {
    "duration": 98,
    "start_time": "2023-10-16T09:19:55.449Z"
   },
   {
    "duration": 24,
    "start_time": "2023-10-16T09:19:55.549Z"
   },
   {
    "duration": 39,
    "start_time": "2023-10-16T09:19:55.577Z"
   },
   {
    "duration": 21,
    "start_time": "2023-10-16T09:19:55.618Z"
   },
   {
    "duration": 354,
    "start_time": "2023-10-16T09:19:55.641Z"
   },
   {
    "duration": 6,
    "start_time": "2023-10-16T09:19:55.997Z"
   },
   {
    "duration": 55,
    "start_time": "2023-10-16T09:19:56.004Z"
   },
   {
    "duration": 267,
    "start_time": "2023-10-16T09:19:56.061Z"
   },
   {
    "duration": 3,
    "start_time": "2023-10-16T09:19:56.330Z"
   },
   {
    "duration": 179,
    "start_time": "2023-10-16T09:19:56.334Z"
   },
   {
    "duration": 7,
    "start_time": "2023-10-16T11:53:19.012Z"
   },
   {
    "duration": 158,
    "start_time": "2023-10-16T11:54:10.871Z"
   },
   {
    "duration": 5,
    "start_time": "2023-10-16T11:54:52.376Z"
   },
   {
    "duration": 5,
    "start_time": "2023-10-16T11:55:08.245Z"
   },
   {
    "duration": 6,
    "start_time": "2023-10-16T11:55:20.317Z"
   },
   {
    "duration": 6,
    "start_time": "2023-10-16T11:55:24.843Z"
   },
   {
    "duration": 172,
    "start_time": "2023-10-16T11:56:09.355Z"
   },
   {
    "duration": 388,
    "start_time": "2023-10-16T11:57:15.540Z"
   },
   {
    "duration": 300,
    "start_time": "2023-10-16T11:58:00.395Z"
   },
   {
    "duration": 257,
    "start_time": "2023-10-16T12:02:44.810Z"
   },
   {
    "duration": 5,
    "start_time": "2023-10-16T14:13:03.794Z"
   },
   {
    "duration": 337,
    "start_time": "2023-10-16T14:24:41.478Z"
   },
   {
    "duration": 417,
    "start_time": "2023-10-16T14:24:54.960Z"
   },
   {
    "duration": 203,
    "start_time": "2023-10-16T14:26:05.315Z"
   },
   {
    "duration": 401,
    "start_time": "2023-10-16T14:28:23.423Z"
   },
   {
    "duration": 296,
    "start_time": "2023-10-16T14:29:13.032Z"
   },
   {
    "duration": 291,
    "start_time": "2023-10-16T14:29:17.765Z"
   },
   {
    "duration": 309,
    "start_time": "2023-10-16T14:29:22.060Z"
   },
   {
    "duration": 308,
    "start_time": "2023-10-16T14:29:26.651Z"
   },
   {
    "duration": 455,
    "start_time": "2023-10-16T14:29:32.128Z"
   },
   {
    "duration": 294,
    "start_time": "2023-10-16T14:31:10.424Z"
   },
   {
    "duration": 187,
    "start_time": "2023-10-16T14:32:04.738Z"
   },
   {
    "duration": 297,
    "start_time": "2023-10-16T14:35:17.019Z"
   },
   {
    "duration": 94,
    "start_time": "2023-10-16T14:36:10.537Z"
   },
   {
    "duration": 321,
    "start_time": "2023-10-16T14:41:17.354Z"
   },
   {
    "duration": 17,
    "start_time": "2023-10-16T15:54:22.582Z"
   },
   {
    "duration": 1236,
    "start_time": "2023-10-16T15:55:42.363Z"
   },
   {
    "duration": 38,
    "start_time": "2023-10-16T15:55:43.601Z"
   },
   {
    "duration": 35,
    "start_time": "2023-10-16T15:55:43.640Z"
   },
   {
    "duration": 20,
    "start_time": "2023-10-16T15:55:43.678Z"
   },
   {
    "duration": 32,
    "start_time": "2023-10-16T15:55:43.700Z"
   },
   {
    "duration": 44,
    "start_time": "2023-10-16T15:55:43.734Z"
   },
   {
    "duration": 11,
    "start_time": "2023-10-16T15:55:43.780Z"
   },
   {
    "duration": 14,
    "start_time": "2023-10-16T15:55:43.793Z"
   },
   {
    "duration": 44,
    "start_time": "2023-10-16T15:55:43.809Z"
   },
   {
    "duration": 204,
    "start_time": "2023-10-16T15:55:43.856Z"
   },
   {
    "duration": 8,
    "start_time": "2023-10-16T15:55:44.062Z"
   },
   {
    "duration": 142,
    "start_time": "2023-10-16T15:55:44.072Z"
   },
   {
    "duration": 300,
    "start_time": "2023-10-16T15:55:44.216Z"
   },
   {
    "duration": 317,
    "start_time": "2023-10-16T15:55:44.518Z"
   },
   {
    "duration": 167,
    "start_time": "2023-10-16T15:55:44.836Z"
   },
   {
    "duration": 398,
    "start_time": "2023-10-16T15:55:45.005Z"
   },
   {
    "duration": 380,
    "start_time": "2023-10-16T15:55:45.405Z"
   },
   {
    "duration": 190,
    "start_time": "2023-10-16T15:55:45.787Z"
   },
   {
    "duration": 323,
    "start_time": "2023-10-16T15:55:45.980Z"
   },
   {
    "duration": 58,
    "start_time": "2023-10-16T15:55:46.305Z"
   },
   {
    "duration": 10,
    "start_time": "2023-10-16T15:55:46.368Z"
   },
   {
    "duration": 308,
    "start_time": "2023-10-16T15:55:46.380Z"
   },
   {
    "duration": 313,
    "start_time": "2023-10-16T15:55:46.690Z"
   },
   {
    "duration": 413,
    "start_time": "2023-10-16T15:55:47.005Z"
   },
   {
    "duration": 311,
    "start_time": "2023-10-16T15:55:47.421Z"
   },
   {
    "duration": 81,
    "start_time": "2023-10-16T15:55:47.734Z"
   },
   {
    "duration": 35,
    "start_time": "2023-10-16T15:55:47.817Z"
   },
   {
    "duration": 26,
    "start_time": "2023-10-16T15:55:47.856Z"
   },
   {
    "duration": 32,
    "start_time": "2023-10-16T15:55:47.884Z"
   },
   {
    "duration": 346,
    "start_time": "2023-10-16T15:55:47.918Z"
   },
   {
    "duration": 7,
    "start_time": "2023-10-16T15:55:48.266Z"
   },
   {
    "duration": 41,
    "start_time": "2023-10-16T15:55:48.274Z"
   },
   {
    "duration": 305,
    "start_time": "2023-10-16T15:55:48.318Z"
   },
   {
    "duration": 3,
    "start_time": "2023-10-16T15:55:48.625Z"
   },
   {
    "duration": 173,
    "start_time": "2023-10-16T15:55:48.630Z"
   },
   {
    "duration": 24,
    "start_time": "2023-10-16T15:56:38.252Z"
   },
   {
    "duration": 41,
    "start_time": "2023-10-16T15:56:49.100Z"
   },
   {
    "duration": 42,
    "start_time": "2023-10-16T15:57:19.550Z"
   },
   {
    "duration": 1291,
    "start_time": "2023-10-16T16:21:15.067Z"
   },
   {
    "duration": 40,
    "start_time": "2023-10-16T16:21:16.360Z"
   },
   {
    "duration": 36,
    "start_time": "2023-10-16T16:21:16.401Z"
   },
   {
    "duration": 21,
    "start_time": "2023-10-16T16:21:16.439Z"
   },
   {
    "duration": 29,
    "start_time": "2023-10-16T16:21:16.463Z"
   },
   {
    "duration": 37,
    "start_time": "2023-10-16T16:21:16.495Z"
   },
   {
    "duration": 17,
    "start_time": "2023-10-16T16:21:16.534Z"
   },
   {
    "duration": 12,
    "start_time": "2023-10-16T16:21:16.552Z"
   },
   {
    "duration": 46,
    "start_time": "2023-10-16T16:21:16.566Z"
   },
   {
    "duration": 193,
    "start_time": "2023-10-16T16:21:16.614Z"
   },
   {
    "duration": 8,
    "start_time": "2023-10-16T16:21:16.809Z"
   },
   {
    "duration": 132,
    "start_time": "2023-10-16T16:21:16.820Z"
   },
   {
    "duration": 317,
    "start_time": "2023-10-16T16:21:16.954Z"
   },
   {
    "duration": 314,
    "start_time": "2023-10-16T16:21:17.276Z"
   },
   {
    "duration": 169,
    "start_time": "2023-10-16T16:21:17.592Z"
   },
   {
    "duration": 376,
    "start_time": "2023-10-16T16:21:17.762Z"
   },
   {
    "duration": 279,
    "start_time": "2023-10-16T16:21:18.140Z"
   },
   {
    "duration": 154,
    "start_time": "2023-10-16T16:21:18.421Z"
   },
   {
    "duration": 298,
    "start_time": "2023-10-16T16:21:18.577Z"
   },
   {
    "duration": 51,
    "start_time": "2023-10-16T16:21:18.877Z"
   },
   {
    "duration": 29,
    "start_time": "2023-10-16T16:21:18.929Z"
   },
   {
    "duration": 306,
    "start_time": "2023-10-16T16:21:18.960Z"
   },
   {
    "duration": 285,
    "start_time": "2023-10-16T16:21:19.268Z"
   },
   {
    "duration": 406,
    "start_time": "2023-10-16T16:21:19.554Z"
   },
   {
    "duration": 270,
    "start_time": "2023-10-16T16:21:19.961Z"
   },
   {
    "duration": 83,
    "start_time": "2023-10-16T16:21:20.232Z"
   },
   {
    "duration": 19,
    "start_time": "2023-10-16T16:21:20.317Z"
   },
   {
    "duration": 37,
    "start_time": "2023-10-16T16:21:20.338Z"
   },
   {
    "duration": 32,
    "start_time": "2023-10-16T16:21:20.377Z"
   },
   {
    "duration": 279,
    "start_time": "2023-10-16T16:21:20.411Z"
   },
   {
    "duration": 16,
    "start_time": "2023-10-16T16:21:20.692Z"
   },
   {
    "duration": 33,
    "start_time": "2023-10-16T16:21:20.709Z"
   },
   {
    "duration": 281,
    "start_time": "2023-10-16T16:21:20.744Z"
   },
   {
    "duration": 3,
    "start_time": "2023-10-16T16:21:21.027Z"
   },
   {
    "duration": 152,
    "start_time": "2023-10-16T16:21:21.032Z"
   },
   {
    "duration": 45,
    "start_time": "2023-10-18T21:11:58.176Z"
   },
   {
    "duration": 1044,
    "start_time": "2023-10-18T21:12:04.176Z"
   },
   {
    "duration": 85,
    "start_time": "2023-10-18T21:12:05.221Z"
   },
   {
    "duration": 79,
    "start_time": "2023-10-18T21:12:05.307Z"
   },
   {
    "duration": 62,
    "start_time": "2023-10-18T21:12:05.388Z"
   },
   {
    "duration": 28,
    "start_time": "2023-10-18T21:12:05.453Z"
   },
   {
    "duration": 36,
    "start_time": "2023-10-18T21:12:05.483Z"
   },
   {
    "duration": 36,
    "start_time": "2023-10-18T21:12:05.520Z"
   },
   {
    "duration": 9,
    "start_time": "2023-10-18T21:12:05.558Z"
   },
   {
    "duration": 28,
    "start_time": "2023-10-18T21:12:05.569Z"
   },
   {
    "duration": 183,
    "start_time": "2023-10-18T21:12:05.600Z"
   },
   {
    "duration": 7,
    "start_time": "2023-10-18T21:12:05.784Z"
   },
   {
    "duration": 132,
    "start_time": "2023-10-18T21:12:05.792Z"
   },
   {
    "duration": 233,
    "start_time": "2023-10-18T21:12:05.925Z"
   },
   {
    "duration": 295,
    "start_time": "2023-10-18T21:12:06.160Z"
   },
   {
    "duration": 141,
    "start_time": "2023-10-18T21:12:06.456Z"
   },
   {
    "duration": 312,
    "start_time": "2023-10-18T21:12:06.598Z"
   },
   {
    "duration": 223,
    "start_time": "2023-10-18T21:12:06.911Z"
   },
   {
    "duration": 130,
    "start_time": "2023-10-18T21:12:07.139Z"
   },
   {
    "duration": 243,
    "start_time": "2023-10-18T21:12:07.271Z"
   },
   {
    "duration": 43,
    "start_time": "2023-10-18T21:12:07.515Z"
   },
   {
    "duration": 35,
    "start_time": "2023-10-18T21:12:07.559Z"
   },
   {
    "duration": 264,
    "start_time": "2023-10-18T21:12:07.596Z"
   },
   {
    "duration": 242,
    "start_time": "2023-10-18T21:12:07.861Z"
   },
   {
    "duration": 311,
    "start_time": "2023-10-18T21:12:08.105Z"
   },
   {
    "duration": 253,
    "start_time": "2023-10-18T21:12:08.417Z"
   },
   {
    "duration": 56,
    "start_time": "2023-10-18T21:12:08.672Z"
   },
   {
    "duration": 19,
    "start_time": "2023-10-18T21:12:08.740Z"
   },
   {
    "duration": 40,
    "start_time": "2023-10-18T21:12:08.762Z"
   },
   {
    "duration": 30,
    "start_time": "2023-10-18T21:12:08.804Z"
   },
   {
    "duration": 334,
    "start_time": "2023-10-18T21:12:08.836Z"
   },
   {
    "duration": 6,
    "start_time": "2023-10-18T21:12:09.171Z"
   },
   {
    "duration": 22,
    "start_time": "2023-10-18T21:12:09.179Z"
   },
   {
    "duration": 225,
    "start_time": "2023-10-18T21:12:09.202Z"
   },
   {
    "duration": 2,
    "start_time": "2023-10-18T21:12:09.428Z"
   },
   {
    "duration": 158,
    "start_time": "2023-10-18T21:12:09.432Z"
   },
   {
    "duration": 9,
    "start_time": "2023-10-18T21:13:20.438Z"
   },
   {
    "duration": 1071,
    "start_time": "2024-02-27T21:42:58.318Z"
   },
   {
    "duration": 93,
    "start_time": "2024-02-27T21:42:59.390Z"
   },
   {
    "duration": 159,
    "start_time": "2024-02-27T21:42:59.484Z"
   },
   {
    "duration": 59,
    "start_time": "2024-02-27T21:42:59.644Z"
   },
   {
    "duration": 21,
    "start_time": "2024-02-27T21:42:59.704Z"
   },
   {
    "duration": 25,
    "start_time": "2024-02-27T21:42:59.726Z"
   },
   {
    "duration": 9,
    "start_time": "2024-02-27T21:42:59.753Z"
   },
   {
    "duration": 23,
    "start_time": "2024-02-27T21:42:59.763Z"
   },
   {
    "duration": 43,
    "start_time": "2024-02-27T21:42:59.787Z"
   },
   {
    "duration": 152,
    "start_time": "2024-02-27T21:42:59.833Z"
   },
   {
    "duration": 6,
    "start_time": "2024-02-27T21:42:59.986Z"
   },
   {
    "duration": 133,
    "start_time": "2024-02-27T21:42:59.993Z"
   },
   {
    "duration": 242,
    "start_time": "2024-02-27T21:43:00.128Z"
   },
   {
    "duration": 260,
    "start_time": "2024-02-27T21:43:00.372Z"
   },
   {
    "duration": 138,
    "start_time": "2024-02-27T21:43:00.633Z"
   },
   {
    "duration": 327,
    "start_time": "2024-02-27T21:43:00.773Z"
   },
   {
    "duration": 244,
    "start_time": "2024-02-27T21:43:01.101Z"
   },
   {
    "duration": 147,
    "start_time": "2024-02-27T21:43:01.347Z"
   },
   {
    "duration": 249,
    "start_time": "2024-02-27T21:43:01.495Z"
   },
   {
    "duration": 36,
    "start_time": "2024-02-27T21:43:01.746Z"
   },
   {
    "duration": 80,
    "start_time": "2024-02-27T21:43:01.783Z"
   },
   {
    "duration": 322,
    "start_time": "2024-02-27T21:43:01.865Z"
   },
   {
    "duration": 261,
    "start_time": "2024-02-27T21:43:02.189Z"
   },
   {
    "duration": 326,
    "start_time": "2024-02-27T21:43:02.451Z"
   },
   {
    "duration": 236,
    "start_time": "2024-02-27T21:43:02.779Z"
   },
   {
    "duration": 56,
    "start_time": "2024-02-27T21:43:03.016Z"
   },
   {
    "duration": 27,
    "start_time": "2024-02-27T21:43:03.073Z"
   },
   {
    "duration": 64,
    "start_time": "2024-02-27T21:43:03.103Z"
   },
   {
    "duration": 82,
    "start_time": "2024-02-27T21:43:03.168Z"
   },
   {
    "duration": 375,
    "start_time": "2024-02-27T21:43:03.251Z"
   },
   {
    "duration": 6,
    "start_time": "2024-02-27T21:43:03.628Z"
   },
   {
    "duration": 34,
    "start_time": "2024-02-27T21:43:03.636Z"
   },
   {
    "duration": 73,
    "start_time": "2024-02-27T21:43:03.672Z"
   },
   {
    "duration": 237,
    "start_time": "2024-02-27T21:43:03.747Z"
   },
   {
    "duration": 2,
    "start_time": "2024-02-27T21:43:03.986Z"
   },
   {
    "duration": 154,
    "start_time": "2024-02-27T21:43:03.993Z"
   },
   {
    "duration": 1167,
    "start_time": "2024-02-27T21:50:09.903Z"
   },
   {
    "duration": 36,
    "start_time": "2024-02-27T21:50:11.072Z"
   },
   {
    "duration": 36,
    "start_time": "2024-02-27T21:50:11.109Z"
   },
   {
    "duration": 19,
    "start_time": "2024-02-27T21:50:11.147Z"
   },
   {
    "duration": 28,
    "start_time": "2024-02-27T21:50:11.168Z"
   },
   {
    "duration": 52,
    "start_time": "2024-02-27T21:50:11.198Z"
   },
   {
    "duration": 10,
    "start_time": "2024-02-27T21:50:11.252Z"
   },
   {
    "duration": 33,
    "start_time": "2024-02-27T21:50:11.264Z"
   },
   {
    "duration": 39,
    "start_time": "2024-02-27T21:50:11.299Z"
   },
   {
    "duration": 185,
    "start_time": "2024-02-27T21:50:11.341Z"
   },
   {
    "duration": 6,
    "start_time": "2024-02-27T21:50:11.528Z"
   },
   {
    "duration": 129,
    "start_time": "2024-02-27T21:50:11.536Z"
   },
   {
    "duration": 243,
    "start_time": "2024-02-27T21:50:11.666Z"
   },
   {
    "duration": 264,
    "start_time": "2024-02-27T21:50:11.911Z"
   },
   {
    "duration": 133,
    "start_time": "2024-02-27T21:50:12.176Z"
   },
   {
    "duration": 326,
    "start_time": "2024-02-27T21:50:12.311Z"
   },
   {
    "duration": 240,
    "start_time": "2024-02-27T21:50:12.638Z"
   },
   {
    "duration": 138,
    "start_time": "2024-02-27T21:50:12.880Z"
   },
   {
    "duration": 247,
    "start_time": "2024-02-27T21:50:13.020Z"
   },
   {
    "duration": 41,
    "start_time": "2024-02-27T21:50:13.269Z"
   },
   {
    "duration": 135,
    "start_time": "2024-02-27T21:50:13.312Z"
   },
   {
    "duration": 260,
    "start_time": "2024-02-27T21:50:13.449Z"
   },
   {
    "duration": 264,
    "start_time": "2024-02-27T21:50:13.711Z"
   },
   {
    "duration": 325,
    "start_time": "2024-02-27T21:50:13.977Z"
   },
   {
    "duration": 242,
    "start_time": "2024-02-27T21:50:14.304Z"
   },
   {
    "duration": 67,
    "start_time": "2024-02-27T21:50:14.547Z"
   },
   {
    "duration": 15,
    "start_time": "2024-02-27T21:50:14.616Z"
   },
   {
    "duration": 31,
    "start_time": "2024-02-27T21:50:14.634Z"
   },
   {
    "duration": 34,
    "start_time": "2024-02-27T21:50:14.666Z"
   },
   {
    "duration": 313,
    "start_time": "2024-02-27T21:50:14.701Z"
   },
   {
    "duration": 5,
    "start_time": "2024-02-27T21:50:15.016Z"
   },
   {
    "duration": 62,
    "start_time": "2024-02-27T21:50:15.023Z"
   },
   {
    "duration": 60,
    "start_time": "2024-02-27T21:50:15.087Z"
   },
   {
    "duration": 244,
    "start_time": "2024-02-27T21:50:15.149Z"
   },
   {
    "duration": 2,
    "start_time": "2024-02-27T21:50:15.395Z"
   },
   {
    "duration": 218,
    "start_time": "2024-02-27T21:50:15.399Z"
   }
  ],
  "kernelspec": {
   "display_name": "Python 3 (ipykernel)",
   "language": "python",
   "name": "python3"
  },
  "language_info": {
   "codemirror_mode": {
    "name": "ipython",
    "version": 3
   },
   "file_extension": ".py",
   "mimetype": "text/x-python",
   "name": "python",
   "nbconvert_exporter": "python",
   "pygments_lexer": "ipython3",
   "version": "3.9.5"
  },
  "toc": {
   "base_numbering": 1,
   "nav_menu": {},
   "number_sections": true,
   "sideBar": true,
   "skip_h1_title": true,
   "title_cell": "Table of Contents",
   "title_sidebar": "Contents",
   "toc_cell": false,
   "toc_position": {},
   "toc_section_display": true,
   "toc_window_display": false
  }
 },
 "nbformat": 4,
 "nbformat_minor": 5
}
